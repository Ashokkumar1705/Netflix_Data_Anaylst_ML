{
 "cells": [
  {
   "cell_type": "markdown",
   "id": "a829c5a7",
   "metadata": {},
   "source": [
    "About this Dataset: Netflix is one of the most popular media and video streaming platforms. They have over 8k+ movies or tv shows available on their platform, as of mid-2024, they have over 282 million Subscribers globally. This tabular dataset consists of listings of all the movies and tv shows available on Netflix, along with details such as - cast, directors, ratings, release year, duration more."
   ]
  },
  {
   "cell_type": "code",
   "execution_count": 5,
   "id": "f8187c6d",
   "metadata": {},
   "outputs": [],
   "source": [
    "import pandas as pd\n",
    "import numpy as np\n",
    "import matplotlib.pyplot as plt\n",
    "import seaborn as sns"
   ]
  },
  {
   "cell_type": "markdown",
   "id": "e2a0b142",
   "metadata": {},
   "source": [
    "# Importing Data"
   ]
  },
  {
   "cell_type": "code",
   "execution_count": 6,
   "id": "2b8206dc",
   "metadata": {},
   "outputs": [],
   "source": [
    "df = pd.read_csv('netflix_titles.csv')"
   ]
  },
  {
   "cell_type": "code",
   "execution_count": 7,
   "id": "52c328a1",
   "metadata": {},
   "outputs": [
    {
     "data": {
      "text/html": [
       "<div>\n",
       "<style scoped>\n",
       "    .dataframe tbody tr th:only-of-type {\n",
       "        vertical-align: middle;\n",
       "    }\n",
       "\n",
       "    .dataframe tbody tr th {\n",
       "        vertical-align: top;\n",
       "    }\n",
       "\n",
       "    .dataframe thead th {\n",
       "        text-align: right;\n",
       "    }\n",
       "</style>\n",
       "<table border=\"1\" class=\"dataframe\">\n",
       "  <thead>\n",
       "    <tr style=\"text-align: right;\">\n",
       "      <th></th>\n",
       "      <th>show_id</th>\n",
       "      <th>type</th>\n",
       "      <th>title</th>\n",
       "      <th>director</th>\n",
       "      <th>cast</th>\n",
       "      <th>country</th>\n",
       "      <th>date_added</th>\n",
       "      <th>release_year</th>\n",
       "      <th>rating</th>\n",
       "      <th>duration</th>\n",
       "      <th>listed_in</th>\n",
       "      <th>description</th>\n",
       "    </tr>\n",
       "  </thead>\n",
       "  <tbody>\n",
       "    <tr>\n",
       "      <th>0</th>\n",
       "      <td>s1</td>\n",
       "      <td>Movie</td>\n",
       "      <td>Dick Johnson Is Dead</td>\n",
       "      <td>Kirsten Johnson</td>\n",
       "      <td>NaN</td>\n",
       "      <td>United States</td>\n",
       "      <td>September 25, 2021</td>\n",
       "      <td>2020</td>\n",
       "      <td>PG-13</td>\n",
       "      <td>90 min</td>\n",
       "      <td>Documentaries</td>\n",
       "      <td>As her father nears the end of his life, filmm...</td>\n",
       "    </tr>\n",
       "    <tr>\n",
       "      <th>1</th>\n",
       "      <td>s2</td>\n",
       "      <td>TV Show</td>\n",
       "      <td>Blood &amp; Water</td>\n",
       "      <td>NaN</td>\n",
       "      <td>Ama Qamata, Khosi Ngema, Gail Mabalane, Thaban...</td>\n",
       "      <td>South Africa</td>\n",
       "      <td>September 24, 2021</td>\n",
       "      <td>2021</td>\n",
       "      <td>TV-MA</td>\n",
       "      <td>2 Seasons</td>\n",
       "      <td>International TV Shows, TV Dramas, TV Mysteries</td>\n",
       "      <td>After crossing paths at a party, a Cape Town t...</td>\n",
       "    </tr>\n",
       "    <tr>\n",
       "      <th>2</th>\n",
       "      <td>s3</td>\n",
       "      <td>TV Show</td>\n",
       "      <td>Ganglands</td>\n",
       "      <td>Julien Leclercq</td>\n",
       "      <td>Sami Bouajila, Tracy Gotoas, Samuel Jouy, Nabi...</td>\n",
       "      <td>NaN</td>\n",
       "      <td>September 24, 2021</td>\n",
       "      <td>2021</td>\n",
       "      <td>TV-MA</td>\n",
       "      <td>1 Season</td>\n",
       "      <td>Crime TV Shows, International TV Shows, TV Act...</td>\n",
       "      <td>To protect his family from a powerful drug lor...</td>\n",
       "    </tr>\n",
       "    <tr>\n",
       "      <th>3</th>\n",
       "      <td>s4</td>\n",
       "      <td>TV Show</td>\n",
       "      <td>Jailbirds New Orleans</td>\n",
       "      <td>NaN</td>\n",
       "      <td>NaN</td>\n",
       "      <td>NaN</td>\n",
       "      <td>September 24, 2021</td>\n",
       "      <td>2021</td>\n",
       "      <td>TV-MA</td>\n",
       "      <td>1 Season</td>\n",
       "      <td>Docuseries, Reality TV</td>\n",
       "      <td>Feuds, flirtations and toilet talk go down amo...</td>\n",
       "    </tr>\n",
       "    <tr>\n",
       "      <th>4</th>\n",
       "      <td>s5</td>\n",
       "      <td>TV Show</td>\n",
       "      <td>Kota Factory</td>\n",
       "      <td>NaN</td>\n",
       "      <td>Mayur More, Jitendra Kumar, Ranjan Raj, Alam K...</td>\n",
       "      <td>India</td>\n",
       "      <td>September 24, 2021</td>\n",
       "      <td>2021</td>\n",
       "      <td>TV-MA</td>\n",
       "      <td>2 Seasons</td>\n",
       "      <td>International TV Shows, Romantic TV Shows, TV ...</td>\n",
       "      <td>In a city of coaching centers known to train I...</td>\n",
       "    </tr>\n",
       "  </tbody>\n",
       "</table>\n",
       "</div>"
      ],
      "text/plain": [
       "  show_id     type                  title         director  \\\n",
       "0      s1    Movie   Dick Johnson Is Dead  Kirsten Johnson   \n",
       "1      s2  TV Show          Blood & Water              NaN   \n",
       "2      s3  TV Show              Ganglands  Julien Leclercq   \n",
       "3      s4  TV Show  Jailbirds New Orleans              NaN   \n",
       "4      s5  TV Show           Kota Factory              NaN   \n",
       "\n",
       "                                                cast        country  \\\n",
       "0                                                NaN  United States   \n",
       "1  Ama Qamata, Khosi Ngema, Gail Mabalane, Thaban...   South Africa   \n",
       "2  Sami Bouajila, Tracy Gotoas, Samuel Jouy, Nabi...            NaN   \n",
       "3                                                NaN            NaN   \n",
       "4  Mayur More, Jitendra Kumar, Ranjan Raj, Alam K...          India   \n",
       "\n",
       "           date_added  release_year rating   duration  \\\n",
       "0  September 25, 2021          2020  PG-13     90 min   \n",
       "1  September 24, 2021          2021  TV-MA  2 Seasons   \n",
       "2  September 24, 2021          2021  TV-MA   1 Season   \n",
       "3  September 24, 2021          2021  TV-MA   1 Season   \n",
       "4  September 24, 2021          2021  TV-MA  2 Seasons   \n",
       "\n",
       "                                           listed_in  \\\n",
       "0                                      Documentaries   \n",
       "1    International TV Shows, TV Dramas, TV Mysteries   \n",
       "2  Crime TV Shows, International TV Shows, TV Act...   \n",
       "3                             Docuseries, Reality TV   \n",
       "4  International TV Shows, Romantic TV Shows, TV ...   \n",
       "\n",
       "                                         description  \n",
       "0  As her father nears the end of his life, filmm...  \n",
       "1  After crossing paths at a party, a Cape Town t...  \n",
       "2  To protect his family from a powerful drug lor...  \n",
       "3  Feuds, flirtations and toilet talk go down amo...  \n",
       "4  In a city of coaching centers known to train I...  "
      ]
     },
     "execution_count": 7,
     "metadata": {},
     "output_type": "execute_result"
    }
   ],
   "source": [
    "df.head()"
   ]
  },
  {
   "cell_type": "code",
   "execution_count": 8,
   "id": "4ebf761e",
   "metadata": {},
   "outputs": [
    {
     "data": {
      "text/html": [
       "<div>\n",
       "<style scoped>\n",
       "    .dataframe tbody tr th:only-of-type {\n",
       "        vertical-align: middle;\n",
       "    }\n",
       "\n",
       "    .dataframe tbody tr th {\n",
       "        vertical-align: top;\n",
       "    }\n",
       "\n",
       "    .dataframe thead th {\n",
       "        text-align: right;\n",
       "    }\n",
       "</style>\n",
       "<table border=\"1\" class=\"dataframe\">\n",
       "  <thead>\n",
       "    <tr style=\"text-align: right;\">\n",
       "      <th></th>\n",
       "      <th>show_id</th>\n",
       "      <th>type</th>\n",
       "      <th>title</th>\n",
       "      <th>director</th>\n",
       "      <th>cast</th>\n",
       "      <th>country</th>\n",
       "      <th>date_added</th>\n",
       "      <th>release_year</th>\n",
       "      <th>rating</th>\n",
       "      <th>duration</th>\n",
       "      <th>listed_in</th>\n",
       "      <th>description</th>\n",
       "    </tr>\n",
       "  </thead>\n",
       "  <tbody>\n",
       "    <tr>\n",
       "      <th>8802</th>\n",
       "      <td>s8803</td>\n",
       "      <td>Movie</td>\n",
       "      <td>Zodiac</td>\n",
       "      <td>David Fincher</td>\n",
       "      <td>Mark Ruffalo, Jake Gyllenhaal, Robert Downey J...</td>\n",
       "      <td>United States</td>\n",
       "      <td>November 20, 2019</td>\n",
       "      <td>2007</td>\n",
       "      <td>R</td>\n",
       "      <td>158 min</td>\n",
       "      <td>Cult Movies, Dramas, Thrillers</td>\n",
       "      <td>A political cartoonist, a crime reporter and a...</td>\n",
       "    </tr>\n",
       "    <tr>\n",
       "      <th>8803</th>\n",
       "      <td>s8804</td>\n",
       "      <td>TV Show</td>\n",
       "      <td>Zombie Dumb</td>\n",
       "      <td>NaN</td>\n",
       "      <td>NaN</td>\n",
       "      <td>NaN</td>\n",
       "      <td>July 1, 2019</td>\n",
       "      <td>2018</td>\n",
       "      <td>TV-Y7</td>\n",
       "      <td>2 Seasons</td>\n",
       "      <td>Kids' TV, Korean TV Shows, TV Comedies</td>\n",
       "      <td>While living alone in a spooky town, a young g...</td>\n",
       "    </tr>\n",
       "    <tr>\n",
       "      <th>8804</th>\n",
       "      <td>s8805</td>\n",
       "      <td>Movie</td>\n",
       "      <td>Zombieland</td>\n",
       "      <td>Ruben Fleischer</td>\n",
       "      <td>Jesse Eisenberg, Woody Harrelson, Emma Stone, ...</td>\n",
       "      <td>United States</td>\n",
       "      <td>November 1, 2019</td>\n",
       "      <td>2009</td>\n",
       "      <td>R</td>\n",
       "      <td>88 min</td>\n",
       "      <td>Comedies, Horror Movies</td>\n",
       "      <td>Looking to survive in a world taken over by zo...</td>\n",
       "    </tr>\n",
       "    <tr>\n",
       "      <th>8805</th>\n",
       "      <td>s8806</td>\n",
       "      <td>Movie</td>\n",
       "      <td>Zoom</td>\n",
       "      <td>Peter Hewitt</td>\n",
       "      <td>Tim Allen, Courteney Cox, Chevy Chase, Kate Ma...</td>\n",
       "      <td>United States</td>\n",
       "      <td>January 11, 2020</td>\n",
       "      <td>2006</td>\n",
       "      <td>PG</td>\n",
       "      <td>88 min</td>\n",
       "      <td>Children &amp; Family Movies, Comedies</td>\n",
       "      <td>Dragged from civilian life, a former superhero...</td>\n",
       "    </tr>\n",
       "    <tr>\n",
       "      <th>8806</th>\n",
       "      <td>s8807</td>\n",
       "      <td>Movie</td>\n",
       "      <td>Zubaan</td>\n",
       "      <td>Mozez Singh</td>\n",
       "      <td>Vicky Kaushal, Sarah-Jane Dias, Raaghav Chanan...</td>\n",
       "      <td>India</td>\n",
       "      <td>March 2, 2019</td>\n",
       "      <td>2015</td>\n",
       "      <td>TV-14</td>\n",
       "      <td>111 min</td>\n",
       "      <td>Dramas, International Movies, Music &amp; Musicals</td>\n",
       "      <td>A scrappy but poor boy worms his way into a ty...</td>\n",
       "    </tr>\n",
       "  </tbody>\n",
       "</table>\n",
       "</div>"
      ],
      "text/plain": [
       "     show_id     type        title         director  \\\n",
       "8802   s8803    Movie       Zodiac    David Fincher   \n",
       "8803   s8804  TV Show  Zombie Dumb              NaN   \n",
       "8804   s8805    Movie   Zombieland  Ruben Fleischer   \n",
       "8805   s8806    Movie         Zoom     Peter Hewitt   \n",
       "8806   s8807    Movie       Zubaan      Mozez Singh   \n",
       "\n",
       "                                                   cast        country  \\\n",
       "8802  Mark Ruffalo, Jake Gyllenhaal, Robert Downey J...  United States   \n",
       "8803                                                NaN            NaN   \n",
       "8804  Jesse Eisenberg, Woody Harrelson, Emma Stone, ...  United States   \n",
       "8805  Tim Allen, Courteney Cox, Chevy Chase, Kate Ma...  United States   \n",
       "8806  Vicky Kaushal, Sarah-Jane Dias, Raaghav Chanan...          India   \n",
       "\n",
       "             date_added  release_year rating   duration  \\\n",
       "8802  November 20, 2019          2007      R    158 min   \n",
       "8803       July 1, 2019          2018  TV-Y7  2 Seasons   \n",
       "8804   November 1, 2019          2009      R     88 min   \n",
       "8805   January 11, 2020          2006     PG     88 min   \n",
       "8806      March 2, 2019          2015  TV-14    111 min   \n",
       "\n",
       "                                           listed_in  \\\n",
       "8802                  Cult Movies, Dramas, Thrillers   \n",
       "8803          Kids' TV, Korean TV Shows, TV Comedies   \n",
       "8804                         Comedies, Horror Movies   \n",
       "8805              Children & Family Movies, Comedies   \n",
       "8806  Dramas, International Movies, Music & Musicals   \n",
       "\n",
       "                                            description  \n",
       "8802  A political cartoonist, a crime reporter and a...  \n",
       "8803  While living alone in a spooky town, a young g...  \n",
       "8804  Looking to survive in a world taken over by zo...  \n",
       "8805  Dragged from civilian life, a former superhero...  \n",
       "8806  A scrappy but poor boy worms his way into a ty...  "
      ]
     },
     "execution_count": 8,
     "metadata": {},
     "output_type": "execute_result"
    }
   ],
   "source": [
    "df.tail()"
   ]
  },
  {
   "cell_type": "code",
   "execution_count": 9,
   "id": "88672861",
   "metadata": {},
   "outputs": [
    {
     "name": "stdout",
     "output_type": "stream",
     "text": [
      "     show_id     type                  title         director  \\\n",
      "0         s1    Movie   Dick Johnson Is Dead  Kirsten Johnson   \n",
      "1         s2  TV Show          Blood & Water              NaN   \n",
      "2         s3  TV Show              Ganglands  Julien Leclercq   \n",
      "3         s4  TV Show  Jailbirds New Orleans              NaN   \n",
      "4         s5  TV Show           Kota Factory              NaN   \n",
      "...      ...      ...                    ...              ...   \n",
      "8802   s8803    Movie                 Zodiac    David Fincher   \n",
      "8803   s8804  TV Show            Zombie Dumb              NaN   \n",
      "8804   s8805    Movie             Zombieland  Ruben Fleischer   \n",
      "8805   s8806    Movie                   Zoom     Peter Hewitt   \n",
      "8806   s8807    Movie                 Zubaan      Mozez Singh   \n",
      "\n",
      "                                                   cast        country  \\\n",
      "0                                                   NaN  United States   \n",
      "1     Ama Qamata, Khosi Ngema, Gail Mabalane, Thaban...   South Africa   \n",
      "2     Sami Bouajila, Tracy Gotoas, Samuel Jouy, Nabi...            NaN   \n",
      "3                                                   NaN            NaN   \n",
      "4     Mayur More, Jitendra Kumar, Ranjan Raj, Alam K...          India   \n",
      "...                                                 ...            ...   \n",
      "8802  Mark Ruffalo, Jake Gyllenhaal, Robert Downey J...  United States   \n",
      "8803                                                NaN            NaN   \n",
      "8804  Jesse Eisenberg, Woody Harrelson, Emma Stone, ...  United States   \n",
      "8805  Tim Allen, Courteney Cox, Chevy Chase, Kate Ma...  United States   \n",
      "8806  Vicky Kaushal, Sarah-Jane Dias, Raaghav Chanan...          India   \n",
      "\n",
      "              date_added  release_year rating   duration  \\\n",
      "0     September 25, 2021          2020  PG-13     90 min   \n",
      "1     September 24, 2021          2021  TV-MA  2 Seasons   \n",
      "2     September 24, 2021          2021  TV-MA   1 Season   \n",
      "3     September 24, 2021          2021  TV-MA   1 Season   \n",
      "4     September 24, 2021          2021  TV-MA  2 Seasons   \n",
      "...                  ...           ...    ...        ...   \n",
      "8802   November 20, 2019          2007      R    158 min   \n",
      "8803        July 1, 2019          2018  TV-Y7  2 Seasons   \n",
      "8804    November 1, 2019          2009      R     88 min   \n",
      "8805    January 11, 2020          2006     PG     88 min   \n",
      "8806       March 2, 2019          2015  TV-14    111 min   \n",
      "\n",
      "                                              listed_in  \\\n",
      "0                                         Documentaries   \n",
      "1       International TV Shows, TV Dramas, TV Mysteries   \n",
      "2     Crime TV Shows, International TV Shows, TV Act...   \n",
      "3                                Docuseries, Reality TV   \n",
      "4     International TV Shows, Romantic TV Shows, TV ...   \n",
      "...                                                 ...   \n",
      "8802                     Cult Movies, Dramas, Thrillers   \n",
      "8803             Kids' TV, Korean TV Shows, TV Comedies   \n",
      "8804                            Comedies, Horror Movies   \n",
      "8805                 Children & Family Movies, Comedies   \n",
      "8806     Dramas, International Movies, Music & Musicals   \n",
      "\n",
      "                                            description  \n",
      "0     As her father nears the end of his life, filmm...  \n",
      "1     After crossing paths at a party, a Cape Town t...  \n",
      "2     To protect his family from a powerful drug lor...  \n",
      "3     Feuds, flirtations and toilet talk go down amo...  \n",
      "4     In a city of coaching centers known to train I...  \n",
      "...                                                 ...  \n",
      "8802  A political cartoonist, a crime reporter and a...  \n",
      "8803  While living alone in a spooky town, a young g...  \n",
      "8804  Looking to survive in a world taken over by zo...  \n",
      "8805  Dragged from civilian life, a former superhero...  \n",
      "8806  A scrappy but poor boy worms his way into a ty...  \n",
      "\n",
      "[8807 rows x 12 columns]\n"
     ]
    }
   ],
   "source": [
    "print(df)"
   ]
  },
  {
   "cell_type": "markdown",
   "id": "15ca734a",
   "metadata": {},
   "source": [
    "# Data Overview"
   ]
  },
  {
   "cell_type": "code",
   "execution_count": 10,
   "id": "4073b363",
   "metadata": {},
   "outputs": [
    {
     "data": {
      "text/plain": [
       "(8807, 12)"
      ]
     },
     "execution_count": 10,
     "metadata": {},
     "output_type": "execute_result"
    }
   ],
   "source": [
    "df.shape"
   ]
  },
  {
   "cell_type": "code",
   "execution_count": 11,
   "id": "fe10e1a0",
   "metadata": {},
   "outputs": [
    {
     "data": {
      "text/plain": [
       "105684"
      ]
     },
     "execution_count": 11,
     "metadata": {},
     "output_type": "execute_result"
    }
   ],
   "source": [
    "df.size"
   ]
  },
  {
   "cell_type": "code",
   "execution_count": 12,
   "id": "2d6632f0",
   "metadata": {},
   "outputs": [
    {
     "data": {
      "text/plain": [
       "show_id         object\n",
       "type            object\n",
       "title           object\n",
       "director        object\n",
       "cast            object\n",
       "country         object\n",
       "date_added      object\n",
       "release_year     int64\n",
       "rating          object\n",
       "duration        object\n",
       "listed_in       object\n",
       "description     object\n",
       "dtype: object"
      ]
     },
     "execution_count": 12,
     "metadata": {},
     "output_type": "execute_result"
    }
   ],
   "source": [
    "df.dtypes"
   ]
  },
  {
   "cell_type": "code",
   "execution_count": 13,
   "id": "1736d413",
   "metadata": {},
   "outputs": [
    {
     "name": "stdout",
     "output_type": "stream",
     "text": [
      "<class 'pandas.core.frame.DataFrame'>\n",
      "RangeIndex: 8807 entries, 0 to 8806\n",
      "Data columns (total 12 columns):\n",
      " #   Column        Non-Null Count  Dtype \n",
      "---  ------        --------------  ----- \n",
      " 0   show_id       8807 non-null   object\n",
      " 1   type          8807 non-null   object\n",
      " 2   title         8807 non-null   object\n",
      " 3   director      6173 non-null   object\n",
      " 4   cast          7982 non-null   object\n",
      " 5   country       7976 non-null   object\n",
      " 6   date_added    8797 non-null   object\n",
      " 7   release_year  8807 non-null   int64 \n",
      " 8   rating        8803 non-null   object\n",
      " 9   duration      8804 non-null   object\n",
      " 10  listed_in     8807 non-null   object\n",
      " 11  description   8807 non-null   object\n",
      "dtypes: int64(1), object(11)\n",
      "memory usage: 825.8+ KB\n"
     ]
    }
   ],
   "source": [
    "df.info()"
   ]
  },
  {
   "cell_type": "markdown",
   "id": "94842b0e",
   "metadata": {},
   "source": [
    "#  Handling Missing Data"
   ]
  },
  {
   "cell_type": "markdown",
   "id": "70dccc89",
   "metadata": {},
   "source": [
    "### There is some varation between number\n",
    "### To Check the Missing Value in Pandas"
   ]
  },
  {
   "cell_type": "code",
   "execution_count": 14,
   "id": "d2fb5fad",
   "metadata": {},
   "outputs": [
    {
     "data": {
      "text/plain": [
       "show_id         False\n",
       "type            False\n",
       "title           False\n",
       "director         True\n",
       "cast             True\n",
       "country          True\n",
       "date_added       True\n",
       "release_year    False\n",
       "rating           True\n",
       "duration         True\n",
       "listed_in       False\n",
       "description     False\n",
       "dtype: bool"
      ]
     },
     "execution_count": 14,
     "metadata": {},
     "output_type": "execute_result"
    }
   ],
   "source": [
    "df.isnull().any()"
   ]
  },
  {
   "cell_type": "markdown",
   "id": "653420bc",
   "metadata": {},
   "source": [
    "### Finding all the Missing Value the of the above specific Coloumn "
   ]
  },
  {
   "cell_type": "code",
   "execution_count": 15,
   "id": "3292866e",
   "metadata": {},
   "outputs": [
    {
     "data": {
      "text/plain": [
       "show_id            0\n",
       "type               0\n",
       "title              0\n",
       "director        2634\n",
       "cast             825\n",
       "country          831\n",
       "date_added        10\n",
       "release_year       0\n",
       "rating             4\n",
       "duration           3\n",
       "listed_in          0\n",
       "description        0\n",
       "dtype: int64"
      ]
     },
     "execution_count": 15,
     "metadata": {},
     "output_type": "execute_result"
    }
   ],
   "source": [
    "df.isnull().sum()"
   ]
  },
  {
   "cell_type": "code",
   "execution_count": 16,
   "id": "2c0a42ab",
   "metadata": {},
   "outputs": [
    {
     "data": {
      "text/html": [
       "<div>\n",
       "<style scoped>\n",
       "    .dataframe tbody tr th:only-of-type {\n",
       "        vertical-align: middle;\n",
       "    }\n",
       "\n",
       "    .dataframe tbody tr th {\n",
       "        vertical-align: top;\n",
       "    }\n",
       "\n",
       "    .dataframe thead th {\n",
       "        text-align: right;\n",
       "    }\n",
       "</style>\n",
       "<table border=\"1\" class=\"dataframe\">\n",
       "  <thead>\n",
       "    <tr style=\"text-align: right;\">\n",
       "      <th></th>\n",
       "      <th>show_id</th>\n",
       "      <th>type</th>\n",
       "      <th>title</th>\n",
       "      <th>director</th>\n",
       "      <th>cast</th>\n",
       "      <th>country</th>\n",
       "      <th>date_added</th>\n",
       "      <th>release_year</th>\n",
       "      <th>rating</th>\n",
       "      <th>duration</th>\n",
       "      <th>listed_in</th>\n",
       "      <th>description</th>\n",
       "    </tr>\n",
       "  </thead>\n",
       "  <tbody>\n",
       "    <tr>\n",
       "      <th>0</th>\n",
       "      <td>False</td>\n",
       "      <td>False</td>\n",
       "      <td>False</td>\n",
       "      <td>False</td>\n",
       "      <td>True</td>\n",
       "      <td>False</td>\n",
       "      <td>False</td>\n",
       "      <td>False</td>\n",
       "      <td>False</td>\n",
       "      <td>False</td>\n",
       "      <td>False</td>\n",
       "      <td>False</td>\n",
       "    </tr>\n",
       "    <tr>\n",
       "      <th>1</th>\n",
       "      <td>False</td>\n",
       "      <td>False</td>\n",
       "      <td>False</td>\n",
       "      <td>True</td>\n",
       "      <td>False</td>\n",
       "      <td>False</td>\n",
       "      <td>False</td>\n",
       "      <td>False</td>\n",
       "      <td>False</td>\n",
       "      <td>False</td>\n",
       "      <td>False</td>\n",
       "      <td>False</td>\n",
       "    </tr>\n",
       "    <tr>\n",
       "      <th>2</th>\n",
       "      <td>False</td>\n",
       "      <td>False</td>\n",
       "      <td>False</td>\n",
       "      <td>False</td>\n",
       "      <td>False</td>\n",
       "      <td>True</td>\n",
       "      <td>False</td>\n",
       "      <td>False</td>\n",
       "      <td>False</td>\n",
       "      <td>False</td>\n",
       "      <td>False</td>\n",
       "      <td>False</td>\n",
       "    </tr>\n",
       "    <tr>\n",
       "      <th>3</th>\n",
       "      <td>False</td>\n",
       "      <td>False</td>\n",
       "      <td>False</td>\n",
       "      <td>True</td>\n",
       "      <td>True</td>\n",
       "      <td>True</td>\n",
       "      <td>False</td>\n",
       "      <td>False</td>\n",
       "      <td>False</td>\n",
       "      <td>False</td>\n",
       "      <td>False</td>\n",
       "      <td>False</td>\n",
       "    </tr>\n",
       "    <tr>\n",
       "      <th>4</th>\n",
       "      <td>False</td>\n",
       "      <td>False</td>\n",
       "      <td>False</td>\n",
       "      <td>True</td>\n",
       "      <td>False</td>\n",
       "      <td>False</td>\n",
       "      <td>False</td>\n",
       "      <td>False</td>\n",
       "      <td>False</td>\n",
       "      <td>False</td>\n",
       "      <td>False</td>\n",
       "      <td>False</td>\n",
       "    </tr>\n",
       "    <tr>\n",
       "      <th>...</th>\n",
       "      <td>...</td>\n",
       "      <td>...</td>\n",
       "      <td>...</td>\n",
       "      <td>...</td>\n",
       "      <td>...</td>\n",
       "      <td>...</td>\n",
       "      <td>...</td>\n",
       "      <td>...</td>\n",
       "      <td>...</td>\n",
       "      <td>...</td>\n",
       "      <td>...</td>\n",
       "      <td>...</td>\n",
       "    </tr>\n",
       "    <tr>\n",
       "      <th>8802</th>\n",
       "      <td>False</td>\n",
       "      <td>False</td>\n",
       "      <td>False</td>\n",
       "      <td>False</td>\n",
       "      <td>False</td>\n",
       "      <td>False</td>\n",
       "      <td>False</td>\n",
       "      <td>False</td>\n",
       "      <td>False</td>\n",
       "      <td>False</td>\n",
       "      <td>False</td>\n",
       "      <td>False</td>\n",
       "    </tr>\n",
       "    <tr>\n",
       "      <th>8803</th>\n",
       "      <td>False</td>\n",
       "      <td>False</td>\n",
       "      <td>False</td>\n",
       "      <td>True</td>\n",
       "      <td>True</td>\n",
       "      <td>True</td>\n",
       "      <td>False</td>\n",
       "      <td>False</td>\n",
       "      <td>False</td>\n",
       "      <td>False</td>\n",
       "      <td>False</td>\n",
       "      <td>False</td>\n",
       "    </tr>\n",
       "    <tr>\n",
       "      <th>8804</th>\n",
       "      <td>False</td>\n",
       "      <td>False</td>\n",
       "      <td>False</td>\n",
       "      <td>False</td>\n",
       "      <td>False</td>\n",
       "      <td>False</td>\n",
       "      <td>False</td>\n",
       "      <td>False</td>\n",
       "      <td>False</td>\n",
       "      <td>False</td>\n",
       "      <td>False</td>\n",
       "      <td>False</td>\n",
       "    </tr>\n",
       "    <tr>\n",
       "      <th>8805</th>\n",
       "      <td>False</td>\n",
       "      <td>False</td>\n",
       "      <td>False</td>\n",
       "      <td>False</td>\n",
       "      <td>False</td>\n",
       "      <td>False</td>\n",
       "      <td>False</td>\n",
       "      <td>False</td>\n",
       "      <td>False</td>\n",
       "      <td>False</td>\n",
       "      <td>False</td>\n",
       "      <td>False</td>\n",
       "    </tr>\n",
       "    <tr>\n",
       "      <th>8806</th>\n",
       "      <td>False</td>\n",
       "      <td>False</td>\n",
       "      <td>False</td>\n",
       "      <td>False</td>\n",
       "      <td>False</td>\n",
       "      <td>False</td>\n",
       "      <td>False</td>\n",
       "      <td>False</td>\n",
       "      <td>False</td>\n",
       "      <td>False</td>\n",
       "      <td>False</td>\n",
       "      <td>False</td>\n",
       "    </tr>\n",
       "  </tbody>\n",
       "</table>\n",
       "<p>8807 rows × 12 columns</p>\n",
       "</div>"
      ],
      "text/plain": [
       "      show_id   type  title  director   cast  country  date_added  \\\n",
       "0       False  False  False     False   True    False       False   \n",
       "1       False  False  False      True  False    False       False   \n",
       "2       False  False  False     False  False     True       False   \n",
       "3       False  False  False      True   True     True       False   \n",
       "4       False  False  False      True  False    False       False   \n",
       "...       ...    ...    ...       ...    ...      ...         ...   \n",
       "8802    False  False  False     False  False    False       False   \n",
       "8803    False  False  False      True   True     True       False   \n",
       "8804    False  False  False     False  False    False       False   \n",
       "8805    False  False  False     False  False    False       False   \n",
       "8806    False  False  False     False  False    False       False   \n",
       "\n",
       "      release_year  rating  duration  listed_in  description  \n",
       "0            False   False     False      False        False  \n",
       "1            False   False     False      False        False  \n",
       "2            False   False     False      False        False  \n",
       "3            False   False     False      False        False  \n",
       "4            False   False     False      False        False  \n",
       "...            ...     ...       ...        ...          ...  \n",
       "8802         False   False     False      False        False  \n",
       "8803         False   False     False      False        False  \n",
       "8804         False   False     False      False        False  \n",
       "8805         False   False     False      False        False  \n",
       "8806         False   False     False      False        False  \n",
       "\n",
       "[8807 rows x 12 columns]"
      ]
     },
     "execution_count": 16,
     "metadata": {},
     "output_type": "execute_result"
    }
   ],
   "source": [
    "df.isnull()"
   ]
  },
  {
   "cell_type": "markdown",
   "id": "93dc5ca5",
   "metadata": {},
   "source": [
    "## Frequency missing (Absolute)\n",
    "\n",
    "## Getting information of dataframe contains how much  total value is missing...."
   ]
  },
  {
   "cell_type": "code",
   "execution_count": 17,
   "id": "bf4bbfc2",
   "metadata": {},
   "outputs": [
    {
     "data": {
      "text/plain": [
       "4307"
      ]
     },
     "execution_count": 17,
     "metadata": {},
     "output_type": "execute_result"
    }
   ],
   "source": [
    "df.isnull().sum().sum()"
   ]
  },
  {
   "cell_type": "markdown",
   "id": "00d4d638",
   "metadata": {},
   "source": [
    "''' Sometimes you may simply want to determine the relative frequency of the missings per column to decide whether to simply drop \n",
    " or substitute the missings\n",
    " Similiar Value Assets Fields  ''' "
   ]
  },
  {
   "cell_type": "code",
   "execution_count": 18,
   "id": "7de5f28b",
   "metadata": {},
   "outputs": [
    {
     "data": {
      "text/plain": [
       "show_id          0.000000\n",
       "type             0.000000\n",
       "title            0.000000\n",
       "director        29.908028\n",
       "cast             9.367549\n",
       "country          9.435676\n",
       "date_added       0.113546\n",
       "release_year     0.000000\n",
       "rating           0.045418\n",
       "duration         0.034064\n",
       "listed_in        0.000000\n",
       "description      0.000000\n",
       "dtype: float64"
      ]
     },
     "execution_count": 18,
     "metadata": {},
     "output_type": "execute_result"
    }
   ],
   "source": [
    "# Frequency missing (Relative)\n",
    "df.isna().sum()/(len(df))*100"
   ]
  },
  {
   "cell_type": "code",
   "execution_count": 19,
   "id": "236d4ecb",
   "metadata": {},
   "outputs": [
    {
     "data": {
      "text/plain": [
       "show_id  type   title                director             cast                                                                                                                                                                           country                                                 date_added          release_year  rating  duration  listed_in                                         description                                                                                                                                             \n",
       "s10      Movie  The Starling         Theodore Melfi       Melissa McCarthy, Chris O'Dowd, Kevin Kline, Timothy Olyphant, Daveed Diggs, Skyler Gisondo, Laura Harrier, Rosalind Chao, Kimberly Quinn, Loretta Devine, Ravi Kapoor         United States                                           September 24, 2021  2021          PG-13   104 min   Comedies, Dramas                                  A woman adjusting to life after a loss contends with a feisty bird that's taken over her garden — and a husband who's struggling to find a way forward.     1\n",
       "s655     Movie  #Selfie              Cristina Jacob       Flavia Hojda, Crina Semciuc, Olimpia Melinte, Sali Levent, Vlad Logigan, Alex Călin, Alina Chivulescu, Răzvan Vasilescu                                                        Romania                                                 June 21, 2021       2014          TV-MA   125 min   Comedies, Dramas, International Movies            Two days before their final exams, three teen girls make a seaside getaway to have the time of their lives.                                                 1\n",
       "s6548    Movie  Dabbe 6: The Return  Hasan Karacadağ      Sema Şimşek, Nilay Gök, Volkan Ünal, Fehmi Karaarslan, Elçin Atamgüç, Ömer Duran, Murat Seviş, Aybike Turan, Burak Çimen                                                       Turkey                                                  April 17, 2019      2015          TV-MA   153 min   Horror Movies, International Movies               A cardiologist tries to pinpoint the cause of her mother's sudden death as her sister, who witnessed it, claims malevolent demons are at play.              1\n",
       "s6547    Movie  Daagdi Chaawl        Chandrakant Kanse    Ankush Chaudhari, Makrand Deshpande, Pooja Sawant, Sanjay Khapre, Yatin Karyekar, Kamlesh Sawant, Sandeep Gaikwad, Digvijay Rohidas                                            India                                                   February 15, 2018   2015          TV-14   118 min   Action & Adventure, Dramas, International Movies  A simple man's peaceful life is complicated when an incident brings him in contact with a gangster and launches his journey into the underworld.            1\n",
       "s6546    Movie  Cutie and the Boxer  Zachary Heinzerling  Noriko Shinohara, Ushio Shinohara                                                                                                                                              United States                                           June 14, 2018       2013          R       82 min    Documentaries                                     A 2014 Oscar nominee for Best Documentary Feature, this film explores the symbiotic relationship of artists Ushio and Noriko Shinohara.                     1\n",
       "                                                                                                                                                                                                                                                                                                                                                                                                                                                                                                                                                                  ..\n",
       "s390     Movie  The Operative        Yuval Adler          Diane Kruger, Martin Freeman, Cas Anvar, Rotem Keinan, Yohanan Herson                                                                                                          France, Israel, Germany, United States, United Kingdom  July 27, 2021       2019          TV-MA   117 min   Dramas, International Movies, Thrillers           Working as a Mossad spy assigned to Tehran, Rachel reaches her breaking point. Now it’s dangerously hard to tell whose side she’s on.                       1\n",
       "s39      Movie  Birth of the Dragon  George Nolfi         Billy Magnussen, Ron Yuan, Qu Jingjing, Terry Chen, Vanness Wu, Jin Xing, Philip Ng, Xia Yu, Yu Xia                                                                            China, Canada, United States                            September 16, 2021  2017          PG-13   96 min    Action & Adventure, Dramas                        A young Bruce Lee angers kung fu traditionalists by teaching outsiders, leading to a showdown with a Shaolin master in this film based on real events.      1\n",
       "s3895    Movie  A Fortunate Man      Bille August         Esben Smed, Katrine Rosenthal, Benjamin Kitter, Julie Christiansen, Tommy Kenter, Tammi Øst, Rasmus Bjerg, Ole Lemmeke, Sarah Viktoria Bjerregaard, Anders Hove, Jens Albinus  Denmark                                                 April 20, 2019      2018          TV-MA   168 min   Dramas, International Movies                      A gifted engineer flees his austere roots to pursue wealth and success among Copenhagen's elite, but the pride propelling him threatens to be his ruin.     1\n",
       "s3891    Movie  Njan Prakashan       Sathyan Anthikad     Fahadh Faasil, Sreenivasan, Nikhila Vimal, Devika Sanjay, Anju Kurian, K.P.A.C. Lalitha                                                                                        India                                                   April 26, 2019      2018          TV-PG   125 min   Comedies, Dramas, International Movies            Yearning for a lavish life abroad, an entitled, lazy sexist crafts a scam to ditch his thankless nursing job and find a wealthy spouse to secure a visa.    1\n",
       "s997     Movie  HOMUNCULUS           Takashi Shimizu      Go Ayano, Ryo Narita, Yukino Kishii, Anna Ishii, Seiyo Uchino                                                                                                                  Japan                                                   April 22, 2021      2021          TV-MA   116 min   Horror Movies, International Movies, Thrillers    Truth and illusion blurs when a homeless amnesiac awakens from an experimental medical procedure with the ability to see people's innermost traumas.        1\n",
       "Name: count, Length: 5332, dtype: int64"
      ]
     },
     "execution_count": 19,
     "metadata": {},
     "output_type": "execute_result"
    }
   ],
   "source": [
    "df.value_counts()"
   ]
  },
  {
   "cell_type": "markdown",
   "id": "095ea376",
   "metadata": {},
   "source": [
    "# To Determined the unique Data in each Coloumn  "
   ]
  },
  {
   "cell_type": "code",
   "execution_count": 20,
   "id": "126e5839",
   "metadata": {},
   "outputs": [
    {
     "data": {
      "text/plain": [
       "array(['s1', 's2', 's3', ..., 's8805', 's8806', 's8807'], dtype=object)"
      ]
     },
     "execution_count": 20,
     "metadata": {},
     "output_type": "execute_result"
    }
   ],
   "source": [
    "pd.unique(df['show_id'])"
   ]
  },
  {
   "cell_type": "code",
   "execution_count": 21,
   "id": "2d72ba11",
   "metadata": {},
   "outputs": [
    {
     "data": {
      "text/plain": [
       "array(['Movie', 'TV Show'], dtype=object)"
      ]
     },
     "execution_count": 21,
     "metadata": {},
     "output_type": "execute_result"
    }
   ],
   "source": [
    "pd.unique(df['type'])"
   ]
  },
  {
   "cell_type": "code",
   "execution_count": 22,
   "id": "d17170a2",
   "metadata": {},
   "outputs": [
    {
     "data": {
      "text/plain": [
       "array(['Dick Johnson Is Dead', 'Blood & Water', 'Ganglands', ...,\n",
       "       'Zombieland', 'Zoom', 'Zubaan'], dtype=object)"
      ]
     },
     "execution_count": 22,
     "metadata": {},
     "output_type": "execute_result"
    }
   ],
   "source": [
    "pd.unique(df['title'])"
   ]
  },
  {
   "cell_type": "code",
   "execution_count": 23,
   "id": "fa198d48",
   "metadata": {},
   "outputs": [
    {
     "data": {
      "text/plain": [
       "array(['Kirsten Johnson', nan, 'Julien Leclercq', ..., 'Majid Al Ansari',\n",
       "       'Peter Hewitt', 'Mozez Singh'], dtype=object)"
      ]
     },
     "execution_count": 23,
     "metadata": {},
     "output_type": "execute_result"
    }
   ],
   "source": [
    "pd.unique(df['director'])"
   ]
  },
  {
   "cell_type": "code",
   "execution_count": 24,
   "id": "183f9a43",
   "metadata": {},
   "outputs": [
    {
     "data": {
      "text/plain": [
       "array([2020, 2021, 1993, 2018, 1996, 1998, 1997, 2010, 2013, 2017, 1975,\n",
       "       1978, 1983, 1987, 2012, 2001, 2014, 2002, 2003, 2004, 2011, 2008,\n",
       "       2009, 2007, 2005, 2006, 1994, 2015, 2019, 2016, 1982, 1989, 1990,\n",
       "       1991, 1999, 1986, 1992, 1984, 1980, 1961, 2000, 1995, 1985, 1976,\n",
       "       1959, 1988, 1981, 1972, 1964, 1945, 1954, 1979, 1958, 1956, 1963,\n",
       "       1970, 1973, 1925, 1974, 1960, 1966, 1971, 1962, 1969, 1977, 1967,\n",
       "       1968, 1965, 1946, 1942, 1955, 1944, 1947, 1943], dtype=int64)"
      ]
     },
     "execution_count": 24,
     "metadata": {},
     "output_type": "execute_result"
    }
   ],
   "source": [
    "pd.unique(df['release_year'])"
   ]
  },
  {
   "cell_type": "code",
   "execution_count": 25,
   "id": "b360cd07",
   "metadata": {},
   "outputs": [
    {
     "data": {
      "text/plain": [
       "array(['PG-13', 'TV-MA', 'PG', 'TV-14', 'TV-PG', 'TV-Y', 'TV-Y7', 'R',\n",
       "       'TV-G', 'G', 'NC-17', '74 min', '84 min', '66 min', 'NR', nan,\n",
       "       'TV-Y7-FV', 'UR'], dtype=object)"
      ]
     },
     "execution_count": 25,
     "metadata": {},
     "output_type": "execute_result"
    }
   ],
   "source": [
    "pd.unique(df['rating'])"
   ]
  },
  {
   "cell_type": "code",
   "execution_count": 26,
   "id": "64fcd99d",
   "metadata": {},
   "outputs": [
    {
     "data": {
      "text/plain": [
       "array(['Documentaries', 'International TV Shows, TV Dramas, TV Mysteries',\n",
       "       'Crime TV Shows, International TV Shows, TV Action & Adventure',\n",
       "       'Docuseries, Reality TV',\n",
       "       'International TV Shows, Romantic TV Shows, TV Comedies',\n",
       "       'TV Dramas, TV Horror, TV Mysteries', 'Children & Family Movies',\n",
       "       'Dramas, Independent Movies, International Movies',\n",
       "       'British TV Shows, Reality TV', 'Comedies, Dramas',\n",
       "       'Crime TV Shows, Docuseries, International TV Shows',\n",
       "       'Dramas, International Movies',\n",
       "       'Children & Family Movies, Comedies',\n",
       "       'British TV Shows, Crime TV Shows, Docuseries',\n",
       "       'TV Comedies, TV Dramas', 'Documentaries, International Movies',\n",
       "       'Crime TV Shows, Spanish-Language TV Shows, TV Dramas',\n",
       "       'Thrillers',\n",
       "       'International TV Shows, Spanish-Language TV Shows, TV Action & Adventure',\n",
       "       'International TV Shows, TV Action & Adventure, TV Dramas',\n",
       "       'Comedies, International Movies',\n",
       "       'Comedies, International Movies, Romantic Movies',\n",
       "       'Docuseries, International TV Shows, Reality TV',\n",
       "       'Comedies, International Movies, Music & Musicals', 'Comedies',\n",
       "       'Horror Movies, Sci-Fi & Fantasy', 'TV Comedies',\n",
       "       'British TV Shows, International TV Shows, TV Comedies',\n",
       "       'International TV Shows, TV Dramas, TV Thrillers', \"Kids' TV\",\n",
       "       'Dramas, International Movies, Thrillers',\n",
       "       'Action & Adventure, Dramas, International Movies',\n",
       "       \"Kids' TV, TV Comedies\", 'Action & Adventure, Dramas',\n",
       "       \"Kids' TV, TV Sci-Fi & Fantasy\",\n",
       "       'Action & Adventure, Classic Movies, Dramas',\n",
       "       'Dramas, Horror Movies, Thrillers',\n",
       "       'Action & Adventure, Horror Movies, Thrillers',\n",
       "       'Action & Adventure', 'Dramas, Thrillers',\n",
       "       'International TV Shows, TV Dramas',\n",
       "       'International TV Shows, TV Dramas, TV Sci-Fi & Fantasy',\n",
       "       'Action & Adventure, Anime Features, International Movies',\n",
       "       'Reality TV', 'Docuseries, International TV Shows',\n",
       "       'Documentaries, International Movies, Sports Movies',\n",
       "       'International TV Shows, Reality TV, Romantic TV Shows',\n",
       "       'British TV Shows, Docuseries, International TV Shows',\n",
       "       'Anime Series, International TV Shows',\n",
       "       'Comedies, Dramas, International Movies',\n",
       "       'Crime TV Shows, TV Comedies, TV Dramas',\n",
       "       'Action & Adventure, Comedies, Dramas', \"Anime Series, Kids' TV\",\n",
       "       'International Movies, Thrillers', \"Kids' TV, Korean TV Shows\",\n",
       "       'Documentaries, Sports Movies', 'Sci-Fi & Fantasy, Thrillers',\n",
       "       'Dramas, International Movies, Romantic Movies',\n",
       "       'Documentaries, Music & Musicals',\n",
       "       \"Kids' TV, TV Comedies, TV Sci-Fi & Fantasy\",\n",
       "       \"British TV Shows, Kids' TV\", 'Docuseries, Science & Nature TV',\n",
       "       'Children & Family Movies, Dramas',\n",
       "       \"Kids' TV, TV Dramas, Teen TV Shows\",\n",
       "       'Crime TV Shows, International TV Shows, Spanish-Language TV Shows',\n",
       "       'Docuseries, International TV Shows, Spanish-Language TV Shows',\n",
       "       'Dramas', 'Comedies, Romantic Movies', 'Dramas, Romantic Movies',\n",
       "       'Comedies, Dramas, Independent Movies',\n",
       "       'Crime TV Shows, TV Action & Adventure, TV Comedies',\n",
       "       'Children & Family Movies, Music & Musicals',\n",
       "       'Action & Adventure, Classic Movies, Cult Movies',\n",
       "       'International TV Shows, TV Action & Adventure, TV Comedies',\n",
       "       'Action & Adventure, Sci-Fi & Fantasy',\n",
       "       'Action & Adventure, Comedies', 'Classic Movies, Comedies, Dramas',\n",
       "       'Comedies, Cult Movies', 'Comedies, Cult Movies, Music & Musicals',\n",
       "       'Comedies, Music & Musicals', 'TV Shows',\n",
       "       'Action & Adventure, International Movies',\n",
       "       'Anime Series, International TV Shows, Teen TV Shows',\n",
       "       'Action & Adventure, Children & Family Movies, Cult Movies',\n",
       "       'Comedies, Dramas, Romantic Movies',\n",
       "       'Comedies, Cult Movies, Sci-Fi & Fantasy',\n",
       "       'Classic Movies, Dramas',\n",
       "       'Action & Adventure, Children & Family Movies, Comedies',\n",
       "       'Dramas, Faith & Spirituality', 'Documentaries, LGBTQ Movies',\n",
       "       'Action & Adventure, Classic Movies', 'Docuseries',\n",
       "       'International TV Shows, TV Comedies',\n",
       "       'Dramas, Independent Movies',\n",
       "       'Action & Adventure, Comedies, International Movies',\n",
       "       'International TV Shows, Spanish-Language TV Shows, TV Dramas',\n",
       "       'Crime TV Shows, International TV Shows, TV Dramas',\n",
       "       'Action & Adventure, Horror Movies, International Movies',\n",
       "       'Comedies, International Movies, Sci-Fi & Fantasy',\n",
       "       'Action & Adventure, International Movies, Music & Musicals',\n",
       "       'Dramas, International Movies, Music & Musicals',\n",
       "       'Horror Movies, International Movies', 'Reality TV, Teen TV Shows',\n",
       "       'Crime TV Shows, TV Dramas, TV Mysteries',\n",
       "       'International TV Shows, Reality TV',\n",
       "       'International TV Shows, TV Comedies, TV Dramas',\n",
       "       'Dramas, Independent Movies, Romantic Movies', 'Horror Movies',\n",
       "       'Documentaries, LGBTQ Movies, Sports Movies',\n",
       "       'Horror Movies, International Movies, Thrillers',\n",
       "       'Action & Adventure, Anime Features',\n",
       "       'TV Dramas, TV Mysteries, TV Sci-Fi & Fantasy',\n",
       "       'International TV Shows, Spanish-Language TV Shows, TV Comedies',\n",
       "       'Children & Family Movies, Comedies, Music & Musicals',\n",
       "       'Comedies, Independent Movies',\n",
       "       'Anime Series, International TV Shows, Romantic TV Shows',\n",
       "       'Classic Movies, Dramas, Independent Movies',\n",
       "       'International TV Shows, Romantic TV Shows, Spanish-Language TV Shows',\n",
       "       'International TV Shows, TV Dramas, Teen TV Shows',\n",
       "       'Stand-Up Comedy',\n",
       "       'Action & Adventure, Anime Features, Children & Family Movies',\n",
       "       'International TV Shows, Romantic TV Shows, TV Dramas',\n",
       "       'International Movies, Music & Musicals',\n",
       "       'TV Action & Adventure, TV Dramas, TV Mysteries',\n",
       "       'Horror Movies, Independent Movies, International Movies',\n",
       "       'Comedies, Cult Movies, International Movies',\n",
       "       'Classic Movies, Dramas, International Movies', 'Movies',\n",
       "       'Crime TV Shows, Docuseries',\n",
       "       'Children & Family Movies, Comedies, Sci-Fi & Fantasy',\n",
       "       'Anime Series, International TV Shows, TV Thrillers',\n",
       "       'Action & Adventure, Horror Movies, Sci-Fi & Fantasy',\n",
       "       'Classic Movies, Comedies, Cult Movies',\n",
       "       'TV Dramas, Teen TV Shows',\n",
       "       'Action & Adventure, Sci-Fi & Fantasy, Thrillers',\n",
       "       'Children & Family Movies, Comedies, Dramas',\n",
       "       'Dramas, Sports Movies',\n",
       "       'Action & Adventure, Dramas, Sci-Fi & Fantasy',\n",
       "       'Action & Adventure, Comedies, Cult Movies',\n",
       "       'Dramas, Independent Movies, Thrillers',\n",
       "       'TV Dramas, TV Sci-Fi & Fantasy',\n",
       "       'Action & Adventure, International Movies, Thrillers',\n",
       "       'British TV Shows, International TV Shows, Reality TV',\n",
       "       'TV Action & Adventure, TV Dramas, Teen TV Shows', 'Anime Series',\n",
       "       'Crime TV Shows, TV Action & Adventure, TV Sci-Fi & Fantasy',\n",
       "       'Crime TV Shows, International TV Shows, TV Comedies',\n",
       "       'Stand-Up Comedy & Talk Shows, TV Comedies',\n",
       "       'Classic & Cult TV, TV Action & Adventure, TV Dramas',\n",
       "       'Children & Family Movies, Sports Movies',\n",
       "       'TV Action & Adventure, TV Sci-Fi & Fantasy',\n",
       "       'Anime Series, Stand-Up Comedy & Talk Shows', 'TV Dramas',\n",
       "       'Anime Features, Children & Family Movies, International Movies',\n",
       "       'Classic & Cult TV, Crime TV Shows, International TV Shows',\n",
       "       'Crime TV Shows, International TV Shows, Romantic TV Shows',\n",
       "       'Horror Movies, LGBTQ Movies',\n",
       "       'Action & Adventure, Dramas, Romantic Movies',\n",
       "       'Documentaries, International Movies, Music & Musicals',\n",
       "       'TV Comedies, TV Dramas, Teen TV Shows',\n",
       "       'Children & Family Movies, Comedies, Sports Movies',\n",
       "       'Children & Family Movies, Dramas, International Movies',\n",
       "       'Comedies, Documentaries, International Movies',\n",
       "       'Romantic TV Shows, TV Dramas',\n",
       "       'Anime Series, TV Horror, TV Thrillers',\n",
       "       'International Movies, Romantic Movies',\n",
       "       'TV Action & Adventure, TV Dramas, TV Sci-Fi & Fantasy',\n",
       "       \"Kids' TV, Korean TV Shows, TV Comedies\",\n",
       "       'British TV Shows, Crime TV Shows, International TV Shows',\n",
       "       'Crime TV Shows, TV Horror, TV Mysteries',\n",
       "       'Docuseries, International TV Shows, Science & Nature TV',\n",
       "       'British TV Shows, International TV Shows, TV Dramas',\n",
       "       \"Kids' TV, TV Action & Adventure, TV Sci-Fi & Fantasy\",\n",
       "       'International Movies, Romantic Movies, Thrillers',\n",
       "       'Action & Adventure, Cult Movies, International Movies',\n",
       "       'Action & Adventure, Comedies, Sci-Fi & Fantasy',\n",
       "       \"International TV Shows, Kids' TV, TV Mysteries\",\n",
       "       'Action & Adventure, Thrillers',\n",
       "       'Dramas, Faith & Spirituality, International Movies',\n",
       "       'Action & Adventure, Classic Movies, Comedies',\n",
       "       'Action & Adventure, Comedies, Sports Movies',\n",
       "       'Action & Adventure, Children & Family Movies, Classic Movies',\n",
       "       'Action & Adventure, Children & Family Movies, Dramas',\n",
       "       'Horror Movies, Thrillers', 'Action & Adventure, Romantic Movies',\n",
       "       'Dramas, Romantic Movies, Sci-Fi & Fantasy',\n",
       "       'Dramas, Music & Musicals, Romantic Movies',\n",
       "       'Anime Series, Crime TV Shows, International TV Shows',\n",
       "       'Reality TV, Romantic TV Shows',\n",
       "       'International Movies, Music & Musicals, Romantic Movies',\n",
       "       'Reality TV, TV Action & Adventure, TV Mysteries',\n",
       "       'Crime TV Shows, TV Dramas',\n",
       "       'International TV Shows, Reality TV, Spanish-Language TV Shows',\n",
       "       'Crime TV Shows, TV Dramas, TV Thrillers',\n",
       "       'British TV Shows, Docuseries',\n",
       "       'International TV Shows, Korean TV Shows, TV Comedies',\n",
       "       'Action & Adventure, Anime Features, Classic Movies',\n",
       "       'TV Action & Adventure, TV Dramas, TV Horror',\n",
       "       'Crime TV Shows, International TV Shows, TV Thrillers',\n",
       "       'Anime Series, Crime TV Shows, TV Horror',\n",
       "       'Anime Features, Documentaries', 'Comedies, Horror Movies',\n",
       "       'International TV Shows, Spanish-Language TV Shows, Stand-Up Comedy & Talk Shows',\n",
       "       'Children & Family Movies, Documentaries, International Movies',\n",
       "       'Romantic TV Shows, TV Comedies, TV Dramas',\n",
       "       'Dramas, Faith & Spirituality, Romantic Movies',\n",
       "       'Dramas, Independent Movies, LGBTQ Movies',\n",
       "       'Comedies, Independent Movies, LGBTQ Movies',\n",
       "       'Action & Adventure, Cult Movies, Sci-Fi & Fantasy',\n",
       "       'Cult Movies, Horror Movies',\n",
       "       'Action & Adventure, Dramas, Sports Movies',\n",
       "       'Anime Series, Romantic TV Shows, Teen TV Shows',\n",
       "       'Dramas, International Movies, LGBTQ Movies',\n",
       "       'Dramas, Romantic Movies, Thrillers',\n",
       "       'Children & Family Movies, Dramas, Faith & Spirituality',\n",
       "       'Dramas, International Movies, Sports Movies',\n",
       "       'Action & Adventure, Horror Movies',\n",
       "       'Documentaries, International Movies, LGBTQ Movies',\n",
       "       'Dramas, Independent Movies, Sci-Fi & Fantasy',\n",
       "       'Comedies, Independent Movies, International Movies',\n",
       "       'Reality TV, TV Horror, TV Thrillers',\n",
       "       'TV Action & Adventure, TV Horror, TV Sci-Fi & Fantasy',\n",
       "       'International TV Shows, TV Horror, TV Sci-Fi & Fantasy',\n",
       "       'Independent Movies, International Movies, Thrillers',\n",
       "       'Independent Movies, Thrillers', 'Documentaries, Dramas',\n",
       "       'Action & Adventure, Sports Movies',\n",
       "       'Dramas, International Movies, Sci-Fi & Fantasy',\n",
       "       'Comedies, Independent Movies, Romantic Movies',\n",
       "       'Horror Movies, Romantic Movies, Sci-Fi & Fantasy',\n",
       "       'International TV Shows, Stand-Up Comedy & Talk Shows',\n",
       "       'Action & Adventure, Anime Features, Horror Movies',\n",
       "       'Cult Movies, Dramas, Music & Musicals', 'TV Dramas, TV Thrillers',\n",
       "       'Crime TV Shows, International TV Shows, Korean TV Shows',\n",
       "       'TV Horror, TV Mysteries, TV Thrillers',\n",
       "       'Comedies, Horror Movies, International Movies',\n",
       "       'Crime TV Shows, Docuseries, TV Mysteries',\n",
       "       'Comedies, International Movies, Sports Movies',\n",
       "       'Classic Movies, Music & Musicals',\n",
       "       'Reality TV, TV Comedies, TV Horror',\n",
       "       'Children & Family Movies, Faith & Spirituality, Music & Musicals',\n",
       "       'International TV Shows, Korean TV Shows, Stand-Up Comedy & Talk Shows',\n",
       "       'Dramas, Music & Musicals',\n",
       "       'Docuseries, Science & Nature TV, TV Action & Adventure',\n",
       "       \"British TV Shows, Kids' TV, TV Dramas\",\n",
       "       'International TV Shows, Korean TV Shows, Romantic TV Shows',\n",
       "       'Horror Movies, Independent Movies',\n",
       "       \"Anime Series, Kids' TV, TV Action & Adventure\",\n",
       "       'Comedies, Dramas, Music & Musicals', 'TV Horror, Teen TV Shows',\n",
       "       'Comedies, LGBTQ Movies, Thrillers',\n",
       "       'Docuseries, Reality TV, Science & Nature TV',\n",
       "       'Crime TV Shows, Spanish-Language TV Shows, TV Action & Adventure',\n",
       "       'Romantic TV Shows, Teen TV Shows', 'TV Comedies, Teen TV Shows',\n",
       "       'Romantic TV Shows, TV Dramas, Teen TV Shows',\n",
       "       'Children & Family Movies, Sci-Fi & Fantasy',\n",
       "       'Romantic TV Shows, TV Action & Adventure, TV Dramas',\n",
       "       'Comedies, International Movies, LGBTQ Movies',\n",
       "       'Dramas, Sci-Fi & Fantasy', \"Kids' TV, TV Thrillers\",\n",
       "       'TV Action & Adventure, TV Comedies, TV Sci-Fi & Fantasy',\n",
       "       'British TV Shows, Romantic TV Shows, TV Dramas',\n",
       "       'Anime Series, International TV Shows, Spanish-Language TV Shows',\n",
       "       'Docuseries, TV Comedies',\n",
       "       'Comedies, Romantic Movies, Sports Movies',\n",
       "       'TV Action & Adventure, TV Comedies, TV Dramas',\n",
       "       'Children & Family Movies, Dramas, Sports Movies',\n",
       "       'Action & Adventure, Dramas, Independent Movies',\n",
       "       'Spanish-Language TV Shows, TV Dramas', 'Dramas, LGBTQ Movies',\n",
       "       'TV Horror, TV Mysteries, TV Sci-Fi & Fantasy',\n",
       "       'Action & Adventure, Dramas, Faith & Spirituality',\n",
       "       'International TV Shows, TV Mysteries, TV Thrillers',\n",
       "       'British TV Shows, Classic & Cult TV, International TV Shows',\n",
       "       'Action & Adventure, Comedies, Independent Movies',\n",
       "       'Music & Musicals', \"British TV Shows, Kids' TV, TV Comedies\",\n",
       "       'Docuseries, Spanish-Language TV Shows',\n",
       "       'Dramas, Independent Movies, Sports Movies',\n",
       "       'TV Dramas, TV Mysteries, TV Thrillers',\n",
       "       'Comedies, LGBTQ Movies, Music & Musicals',\n",
       "       'International TV Shows, TV Action & Adventure, TV Mysteries',\n",
       "       \"Kids' TV, TV Comedies, Teen TV Shows\",\n",
       "       'International TV Shows, TV Dramas, TV Horror',\n",
       "       'Comedies, International Movies, Thrillers',\n",
       "       'Classic & Cult TV, TV Action & Adventure, TV Sci-Fi & Fantasy',\n",
       "       'International TV Shows, TV Horror, TV Mysteries',\n",
       "       'Children & Family Movies, Documentaries',\n",
       "       'Music & Musicals, Romantic Movies', 'Romantic Movies',\n",
       "       'Children & Family Movies, Classic Movies, Comedies',\n",
       "       'TV Action & Adventure, TV Dramas',\n",
       "       'Dramas, LGBTQ Movies, Romantic Movies',\n",
       "       'Children & Family Movies, Comedies, Romantic Movies',\n",
       "       'Comedies, Sports Movies', 'International Movies',\n",
       "       'International TV Shows, Romantic TV Shows, TV Mysteries',\n",
       "       'Stand-Up Comedy & Talk Shows',\n",
       "       'Action & Adventure, International Movies, Romantic Movies',\n",
       "       'Reality TV, TV Comedies',\n",
       "       'Cult Movies, Dramas, International Movies', \"Kids' TV, TV Dramas\",\n",
       "       'Crime TV Shows, International TV Shows, TV Mysteries',\n",
       "       'Action & Adventure, Sci-Fi & Fantasy, Sports Movies',\n",
       "       'TV Dramas, TV Sci-Fi & Fantasy, TV Thrillers',\n",
       "       'Romantic TV Shows, TV Dramas, TV Sci-Fi & Fantasy',\n",
       "       'Docuseries, TV Sci-Fi & Fantasy',\n",
       "       'Anime Features, International Movies',\n",
       "       \"British TV Shows, Classic & Cult TV, Kids' TV\",\n",
       "       'British TV Shows, Reality TV, Romantic TV Shows',\n",
       "       'Documentaries, Faith & Spirituality, International Movies',\n",
       "       \"Kids' TV, Reality TV, TV Dramas\", 'LGBTQ Movies, Thrillers',\n",
       "       'TV Action & Adventure, TV Mysteries, TV Sci-Fi & Fantasy',\n",
       "       'Reality TV, Science & Nature TV',\n",
       "       \"Kids' TV, TV Action & Adventure, TV Comedies\",\n",
       "       'International TV Shows, Romantic TV Shows, TV Action & Adventure',\n",
       "       'Children & Family Movies, Dramas, Independent Movies',\n",
       "       'Comedies, Music & Musicals, Romantic Movies',\n",
       "       'International TV Shows, Korean TV Shows, Reality TV',\n",
       "       'Classic & Cult TV, TV Dramas, TV Sci-Fi & Fantasy',\n",
       "       'Anime Features, Children & Family Movies',\n",
       "       'Action & Adventure, International Movies, Sci-Fi & Fantasy',\n",
       "       'Crime TV Shows, TV Action & Adventure, TV Dramas',\n",
       "       'Classic & Cult TV, TV Action & Adventure, TV Horror',\n",
       "       'International TV Shows, Korean TV Shows, TV Dramas',\n",
       "       'International TV Shows, TV Action & Adventure, TV Horror',\n",
       "       'Action & Adventure, Comedies, Romantic Movies',\n",
       "       'International TV Shows, Korean TV Shows, TV Action & Adventure',\n",
       "       \"Classic & Cult TV, Kids' TV, TV Action & Adventure\",\n",
       "       'Anime Series, International TV Shows, TV Horror',\n",
       "       'International TV Shows, Korean TV Shows, TV Horror',\n",
       "       'Children & Family Movies, Comedies, International Movies',\n",
       "       'International Movies, Sci-Fi & Fantasy',\n",
       "       'International Movies, Sci-Fi & Fantasy, Thrillers',\n",
       "       'Children & Family Movies, Dramas, Romantic Movies',\n",
       "       'Anime Series, Romantic TV Shows',\n",
       "       'Comedies, Dramas, LGBTQ Movies',\n",
       "       'British TV Shows, International TV Shows, TV Action & Adventure',\n",
       "       'Docuseries, Science & Nature TV, TV Comedies',\n",
       "       'International TV Shows, Stand-Up Comedy & Talk Shows, TV Comedies',\n",
       "       'Children & Family Movies, Dramas, Music & Musicals',\n",
       "       'Action & Adventure, Independent Movies, International Movies',\n",
       "       'Action & Adventure, Children & Family Movies, Sci-Fi & Fantasy',\n",
       "       'Horror Movies, Independent Movies, Sci-Fi & Fantasy',\n",
       "       'TV Dramas, TV Sci-Fi & Fantasy, Teen TV Shows',\n",
       "       'Anime Features, International Movies, Sci-Fi & Fantasy',\n",
       "       'Dramas, Independent Movies, Music & Musicals',\n",
       "       \"Kids' TV, TV Comedies, TV Dramas\",\n",
       "       'Children & Family Movies, Documentaries, Sports Movies',\n",
       "       'Independent Movies, Sci-Fi & Fantasy, Thrillers',\n",
       "       'Anime Features, Music & Musicals, Sci-Fi & Fantasy',\n",
       "       'TV Comedies, TV Dramas, TV Sci-Fi & Fantasy',\n",
       "       'Crime TV Shows, TV Action & Adventure',\n",
       "       'Comedies, Faith & Spirituality, Romantic Movies',\n",
       "       \"Kids' TV, TV Action & Adventure\",\n",
       "       'Action & Adventure, Independent Movies',\n",
       "       'International TV Shows, Reality TV, TV Comedies',\n",
       "       'Docuseries, Reality TV, Teen TV Shows',\n",
       "       'Crime TV Shows, International TV Shows, Reality TV',\n",
       "       'Anime Series, Teen TV Shows',\n",
       "       'Crime TV Shows, Romantic TV Shows, TV Dramas',\n",
       "       'Anime Features, Romantic Movies',\n",
       "       'Horror Movies, Sci-Fi & Fantasy, Thrillers',\n",
       "       'International TV Shows, TV Comedies, TV Sci-Fi & Fantasy',\n",
       "       'International TV Shows, Romantic TV Shows',\n",
       "       'Anime Features, Music & Musicals',\n",
       "       'Anime Features, International Movies, Romantic Movies',\n",
       "       'International TV Shows, Romantic TV Shows, Teen TV Shows',\n",
       "       'Docuseries, Stand-Up Comedy & Talk Shows',\n",
       "       'Horror Movies, Independent Movies, Thrillers',\n",
       "       'TV Action & Adventure, TV Comedies, TV Horror',\n",
       "       'Documentaries, Stand-Up Comedy',\n",
       "       \"Kids' TV, Spanish-Language TV Shows\",\n",
       "       \"British TV Shows, Kids' TV, TV Thrillers\",\n",
       "       \"Kids' TV, TV Action & Adventure, TV Dramas\",\n",
       "       'Anime Series, Crime TV Shows',\n",
       "       'Dramas, Sci-Fi & Fantasy, Thrillers',\n",
       "       'TV Comedies, TV Dramas, TV Horror',\n",
       "       'Children & Family Movies, Comedies, LGBTQ Movies',\n",
       "       'International TV Shows, TV Action & Adventure, TV Sci-Fi & Fantasy',\n",
       "       'Docuseries, TV Dramas',\n",
       "       'Horror Movies, International Movies, Romantic Movies',\n",
       "       'Crime TV Shows, Docuseries, Science & Nature TV',\n",
       "       'International Movies, Music & Musicals, Thrillers',\n",
       "       \"Kids' TV, Spanish-Language TV Shows, Teen TV Shows\",\n",
       "       'Comedies, Horror Movies, Independent Movies',\n",
       "       'Action & Adventure, International Movies, Sports Movies',\n",
       "       'Action & Adventure, Independent Movies, Sci-Fi & Fantasy',\n",
       "       'Horror Movies, LGBTQ Movies, Music & Musicals',\n",
       "       'Comedies, Music & Musicals, Sports Movies',\n",
       "       'TV Horror, TV Mysteries, Teen TV Shows',\n",
       "       'Romantic TV Shows, TV Comedies',\n",
       "       \"Kids' TV, Reality TV, Science & Nature TV\",\n",
       "       'International Movies, Romantic Movies, Sci-Fi & Fantasy',\n",
       "       'TV Comedies, TV Horror, TV Thrillers', 'TV Action & Adventure',\n",
       "       'International TV Shows, Spanish-Language TV Shows, TV Horror',\n",
       "       'Crime TV Shows, TV Action & Adventure, TV Thrillers',\n",
       "       'Music & Musicals, Stand-Up Comedy',\n",
       "       'British TV Shows, TV Comedies',\n",
       "       'TV Comedies, TV Sci-Fi & Fantasy, Teen TV Shows',\n",
       "       'TV Comedies, TV Sci-Fi & Fantasy',\n",
       "       'Romantic TV Shows, Spanish-Language TV Shows, TV Comedies',\n",
       "       'Crime TV Shows, International TV Shows, TV Sci-Fi & Fantasy',\n",
       "       'British TV Shows, International TV Shows, Romantic TV Shows',\n",
       "       \"Crime TV Shows, Kids' TV\",\n",
       "       'Horror Movies, International Movies, Sci-Fi & Fantasy',\n",
       "       'TV Comedies, TV Mysteries',\n",
       "       'Cult Movies, Horror Movies, Independent Movies',\n",
       "       'British TV Shows, Docuseries, TV Comedies',\n",
       "       'Comedies, Documentaries',\n",
       "       'Reality TV, Science & Nature TV, TV Action & Adventure',\n",
       "       'TV Comedies, TV Dramas, TV Mysteries',\n",
       "       'Crime TV Shows, TV Comedies, Teen TV Shows',\n",
       "       \"Docuseries, Kids' TV, Science & Nature TV\",\n",
       "       'Reality TV, Spanish-Language TV Shows',\n",
       "       'Action & Adventure, Anime Features, Sci-Fi & Fantasy',\n",
       "       \"Crime TV Shows, Kids' TV, TV Comedies\",\n",
       "       'Dramas, Faith & Spirituality, Independent Movies',\n",
       "       'Documentaries, Faith & Spirituality',\n",
       "       'British TV Shows, International TV Shows, Stand-Up Comedy & Talk Shows',\n",
       "       'Comedies, Dramas, Faith & Spirituality',\n",
       "       'Classic & Cult TV, TV Comedies',\n",
       "       'Dramas, Romantic Movies, Sports Movies',\n",
       "       'Stand-Up Comedy & Talk Shows, TV Mysteries, TV Sci-Fi & Fantasy',\n",
       "       'TV Sci-Fi & Fantasy, TV Thrillers',\n",
       "       'Comedies, Independent Movies, Music & Musicals',\n",
       "       'Comedies, Cult Movies, Independent Movies',\n",
       "       'Documentaries, Dramas, International Movies',\n",
       "       'British TV Shows, TV Horror, TV Thrillers',\n",
       "       'British TV Shows, Docuseries, Science & Nature TV',\n",
       "       'Children & Family Movies, Comedies, Cult Movies', 'Sports Movies',\n",
       "       'Sci-Fi & Fantasy', 'Comedies, LGBTQ Movies',\n",
       "       'Comedies, Independent Movies, Thrillers',\n",
       "       'Classic Movies, Cult Movies, Dramas',\n",
       "       'British TV Shows, TV Comedies, TV Dramas',\n",
       "       'Action & Adventure, Children & Family Movies, Independent Movies',\n",
       "       'Action & Adventure, Documentaries, International Movies',\n",
       "       'Children & Family Movies, Independent Movies',\n",
       "       'Comedies, Cult Movies, Dramas',\n",
       "       'International TV Shows, TV Horror, TV Thrillers',\n",
       "       'Classic Movies, Thrillers',\n",
       "       'Crime TV Shows, TV Dramas, TV Horror',\n",
       "       'British TV Shows, Docuseries, Reality TV',\n",
       "       'Documentaries, LGBTQ Movies, Music & Musicals',\n",
       "       'Classic Movies, Dramas, Romantic Movies',\n",
       "       'Crime TV Shows, Romantic TV Shows, Spanish-Language TV Shows',\n",
       "       'Classic Movies, Cult Movies, Horror Movies',\n",
       "       'Anime Series, Crime TV Shows, TV Thrillers',\n",
       "       'Children & Family Movies, Classic Movies',\n",
       "       'Classic Movies, Comedies, International Movies',\n",
       "       'Comedies, Sci-Fi & Fantasy',\n",
       "       'Action & Adventure, Cult Movies, Dramas',\n",
       "       'Documentaries, Faith & Spirituality, Music & Musicals',\n",
       "       'British TV Shows, Classic & Cult TV, TV Comedies',\n",
       "       'International Movies, Sports Movies', 'International TV Shows',\n",
       "       \"Classic & Cult TV, Kids' TV, Spanish-Language TV Shows\",\n",
       "       'Romantic TV Shows, Spanish-Language TV Shows, TV Dramas',\n",
       "       'Children & Family Movies, Comedies, Faith & Spirituality',\n",
       "       'British TV Shows, Crime TV Shows, TV Dramas',\n",
       "       'Classic Movies, Dramas, Music & Musicals',\n",
       "       'Cult Movies, Horror Movies, Thrillers',\n",
       "       'Action & Adventure, Classic Movies, Sci-Fi & Fantasy',\n",
       "       'TV Action & Adventure, TV Comedies',\n",
       "       'Classic Movies, Comedies, Music & Musicals', 'Independent Movies',\n",
       "       'Documentaries, Horror Movies',\n",
       "       'Classic & Cult TV, TV Horror, TV Mysteries',\n",
       "       'Comedies, Faith & Spirituality, International Movies',\n",
       "       'Dramas, Horror Movies, Sci-Fi & Fantasy',\n",
       "       'British TV Shows, TV Dramas, TV Sci-Fi & Fantasy',\n",
       "       'Comedies, Cult Movies, Horror Movies',\n",
       "       'Comedies, Cult Movies, Sports Movies',\n",
       "       'Classic Movies, Documentaries',\n",
       "       'Action & Adventure, Faith & Spirituality, Sci-Fi & Fantasy',\n",
       "       'Action & Adventure, Children & Family Movies',\n",
       "       'International TV Shows, Reality TV, TV Action & Adventure',\n",
       "       'Docuseries, Science & Nature TV, TV Dramas', 'Anime Features',\n",
       "       'Action & Adventure, Horror Movies, Independent Movies',\n",
       "       'Action & Adventure, Classic Movies, International Movies',\n",
       "       'Cult Movies, Independent Movies, Thrillers',\n",
       "       'Crime TV Shows, TV Comedies',\n",
       "       'Classic Movies, Cult Movies, Documentaries',\n",
       "       \"Classic & Cult TV, Kids' TV, TV Comedies\",\n",
       "       'Classic Movies, Dramas, LGBTQ Movies',\n",
       "       'Classic Movies, Dramas, Sports Movies',\n",
       "       'Action & Adventure, Cult Movies',\n",
       "       'Action & Adventure, Comedies, Music & Musicals',\n",
       "       'Classic Movies, Horror Movies, Thrillers',\n",
       "       'Classic Movies, Comedies, Independent Movies',\n",
       "       'Children & Family Movies, Classic Movies, Dramas',\n",
       "       'Dramas, Faith & Spirituality, Sports Movies',\n",
       "       'Classic Movies, Comedies, Romantic Movies',\n",
       "       'Dramas, Horror Movies, Music & Musicals',\n",
       "       'Classic Movies, Independent Movies, Thrillers',\n",
       "       'Children & Family Movies, Faith & Spirituality',\n",
       "       'Classic Movies, Comedies, Sports Movies',\n",
       "       'Comedies, Dramas, Sports Movies',\n",
       "       'Action & Adventure, Romantic Movies, Sci-Fi & Fantasy',\n",
       "       'Classic & Cult TV, TV Sci-Fi & Fantasy',\n",
       "       'Comedies, Cult Movies, LGBTQ Movies',\n",
       "       'Comedies, Horror Movies, Sci-Fi & Fantasy',\n",
       "       'Action & Adventure, Comedies, Horror Movies',\n",
       "       'Classic & Cult TV, Crime TV Shows, TV Dramas',\n",
       "       'Action & Adventure, Documentaries, Sports Movies',\n",
       "       'International Movies, LGBTQ Movies, Romantic Movies',\n",
       "       'Cult Movies, Dramas, Thrillers'], dtype=object)"
      ]
     },
     "execution_count": 26,
     "metadata": {},
     "output_type": "execute_result"
    }
   ],
   "source": [
    "pd.unique(df['listed_in'])"
   ]
  },
  {
   "cell_type": "code",
   "execution_count": 27,
   "id": "3e1943c9",
   "metadata": {},
   "outputs": [
    {
     "data": {
      "text/plain": [
       "array(['90 min', '2 Seasons', '1 Season', '91 min', '125 min',\n",
       "       '9 Seasons', '104 min', '127 min', '4 Seasons', '67 min', '94 min',\n",
       "       '5 Seasons', '161 min', '61 min', '166 min', '147 min', '103 min',\n",
       "       '97 min', '106 min', '111 min', '3 Seasons', '110 min', '105 min',\n",
       "       '96 min', '124 min', '116 min', '98 min', '23 min', '115 min',\n",
       "       '122 min', '99 min', '88 min', '100 min', '6 Seasons', '102 min',\n",
       "       '93 min', '95 min', '85 min', '83 min', '113 min', '13 min',\n",
       "       '182 min', '48 min', '145 min', '87 min', '92 min', '80 min',\n",
       "       '117 min', '128 min', '119 min', '143 min', '114 min', '118 min',\n",
       "       '108 min', '63 min', '121 min', '142 min', '154 min', '120 min',\n",
       "       '82 min', '109 min', '101 min', '86 min', '229 min', '76 min',\n",
       "       '89 min', '156 min', '112 min', '107 min', '129 min', '135 min',\n",
       "       '136 min', '165 min', '150 min', '133 min', '70 min', '84 min',\n",
       "       '140 min', '78 min', '7 Seasons', '64 min', '59 min', '139 min',\n",
       "       '69 min', '148 min', '189 min', '141 min', '130 min', '138 min',\n",
       "       '81 min', '132 min', '10 Seasons', '123 min', '65 min', '68 min',\n",
       "       '66 min', '62 min', '74 min', '131 min', '39 min', '46 min',\n",
       "       '38 min', '8 Seasons', '17 Seasons', '126 min', '155 min',\n",
       "       '159 min', '137 min', '12 min', '273 min', '36 min', '34 min',\n",
       "       '77 min', '60 min', '49 min', '58 min', '72 min', '204 min',\n",
       "       '212 min', '25 min', '73 min', '29 min', '47 min', '32 min',\n",
       "       '35 min', '71 min', '149 min', '33 min', '15 min', '54 min',\n",
       "       '224 min', '162 min', '37 min', '75 min', '79 min', '55 min',\n",
       "       '158 min', '164 min', '173 min', '181 min', '185 min', '21 min',\n",
       "       '24 min', '51 min', '151 min', '42 min', '22 min', '134 min',\n",
       "       '177 min', '13 Seasons', '52 min', '14 min', '53 min', '8 min',\n",
       "       '57 min', '28 min', '50 min', '9 min', '26 min', '45 min',\n",
       "       '171 min', '27 min', '44 min', '146 min', '20 min', '157 min',\n",
       "       '17 min', '203 min', '41 min', '30 min', '194 min', '15 Seasons',\n",
       "       '233 min', '237 min', '230 min', '195 min', '253 min', '152 min',\n",
       "       '190 min', '160 min', '208 min', '180 min', '144 min', '5 min',\n",
       "       '174 min', '170 min', '192 min', '209 min', '187 min', '172 min',\n",
       "       '16 min', '186 min', '11 min', '193 min', '176 min', '56 min',\n",
       "       '169 min', '40 min', '10 min', '3 min', '168 min', '312 min',\n",
       "       '153 min', '214 min', '31 min', '163 min', '19 min', '12 Seasons',\n",
       "       nan, '179 min', '11 Seasons', '43 min', '200 min', '196 min',\n",
       "       '167 min', '178 min', '228 min', '18 min', '205 min', '201 min',\n",
       "       '191 min'], dtype=object)"
      ]
     },
     "execution_count": 27,
     "metadata": {},
     "output_type": "execute_result"
    }
   ],
   "source": [
    "pd.unique(df['duration'])"
   ]
  },
  {
   "cell_type": "code",
   "execution_count": 28,
   "id": "bdf08467",
   "metadata": {},
   "outputs": [
    {
     "data": {
      "text/plain": [
       "array(['As her father nears the end of his life, filmmaker Kirsten Johnson stages his death in inventive and comical ways to help them both face the inevitable.',\n",
       "       'After crossing paths at a party, a Cape Town teen sets out to prove whether a private-school swimming star is her sister who was abducted at birth.',\n",
       "       'To protect his family from a powerful drug lord, skilled thief Mehdi and his expert team of robbers are pulled into a violent and deadly turf war.',\n",
       "       ...,\n",
       "       'Looking to survive in a world taken over by zombies, a dorky college student teams with an urban roughneck and a pair of grifter sisters.',\n",
       "       'Dragged from civilian life, a former superhero must train a new crop of youthful saviors when the military preps for an attack by a familiar villain.',\n",
       "       \"A scrappy but poor boy worms his way into a tycoon's dysfunctional family, while facing his fear of music and the truth about his past.\"],\n",
       "      dtype=object)"
      ]
     },
     "execution_count": 28,
     "metadata": {},
     "output_type": "execute_result"
    }
   ],
   "source": [
    "pd.unique(df['description'])"
   ]
  },
  {
   "cell_type": "code",
   "execution_count": 29,
   "id": "ffe288ea",
   "metadata": {},
   "outputs": [
    {
     "data": {
      "text/plain": [
       "array(['September 25, 2021', 'September 24, 2021', 'September 23, 2021',\n",
       "       ..., 'December 6, 2018', 'March 9, 2016', 'January 11, 2020'],\n",
       "      dtype=object)"
      ]
     },
     "execution_count": 29,
     "metadata": {},
     "output_type": "execute_result"
    }
   ],
   "source": [
    "pd.unique(df['date_added'])"
   ]
  },
  {
   "cell_type": "code",
   "execution_count": 30,
   "id": "0eeadfd0",
   "metadata": {},
   "outputs": [
    {
     "data": {
      "text/plain": [
       "array(['United States', 'South Africa', nan, 'India',\n",
       "       'United States, Ghana, Burkina Faso, United Kingdom, Germany, Ethiopia',\n",
       "       'United Kingdom', 'Germany, Czech Republic', 'Mexico', 'Turkey',\n",
       "       'Australia', 'United States, India, France', 'Finland',\n",
       "       'China, Canada, United States',\n",
       "       'South Africa, United States, Japan', 'Nigeria', 'Japan',\n",
       "       'Spain, United States', 'France', 'Belgium',\n",
       "       'United Kingdom, United States', 'United States, United Kingdom',\n",
       "       'France, United States', 'South Korea', 'Spain',\n",
       "       'United States, Singapore', 'United Kingdom, Australia, France',\n",
       "       'United Kingdom, Australia, France, United States',\n",
       "       'United States, Canada', 'Germany, United States',\n",
       "       'South Africa, United States', 'United States, Mexico',\n",
       "       'United States, Italy, France, Japan',\n",
       "       'United States, Italy, Romania, United Kingdom',\n",
       "       'Australia, United States', 'Argentina, Venezuela',\n",
       "       'United States, United Kingdom, Canada', 'China, Hong Kong',\n",
       "       'Russia', 'Canada', 'Hong Kong', 'United States, China, Hong Kong',\n",
       "       'Italy, United States', 'United States, Germany',\n",
       "       'United Kingdom, Canada, United States', ', South Korea',\n",
       "       'Ireland', 'India, Nepal',\n",
       "       'New Zealand, Australia, France, United States', 'Italy',\n",
       "       'Italy, Brazil, Greece', 'Argentina', 'Jordan', 'Colombia',\n",
       "       'United States, Japan', 'Belgium, United Kingdom',\n",
       "       'Switzerland, United Kingdom, Australia', 'Israel, United States',\n",
       "       'Canada, United States', 'Brazil', 'Argentina, Spain', 'Taiwan',\n",
       "       'United States, Nigeria', 'Bulgaria, United States',\n",
       "       'Spain, United Kingdom, United States', 'United States, China',\n",
       "       'United States, France',\n",
       "       'Spain, France, United Kingdom, United States',\n",
       "       ', France, Algeria', 'Poland', 'Germany',\n",
       "       'France, Israel, Germany, United States, United Kingdom',\n",
       "       'New Zealand', 'Saudi Arabia', 'Thailand', 'Indonesia',\n",
       "       'Egypt, Denmark, Germany', 'United States, Switzerland',\n",
       "       'Hong Kong, Canada, United States', 'Kuwait, United States',\n",
       "       'France, Canada, United States, Spain',\n",
       "       'France, Netherlands, Singapore', 'France, Belgium',\n",
       "       'Ireland, United States, United Kingdom', 'Egypt', 'Malaysia',\n",
       "       'Israel', 'Australia, New Zealand', 'United Kingdom, Germany',\n",
       "       'Belgium, Netherlands', 'South Korea, Czech Republic',\n",
       "       'Australia, Germany', 'Vietnam', 'United Kingdom, Belgium',\n",
       "       'United Kingdom, Australia, United States',\n",
       "       'France, Japan, United States',\n",
       "       'United Kingdom, Germany, Spain, United States',\n",
       "       'United Kingdom, United States, France, Italy',\n",
       "       'United States, Germany, Canada',\n",
       "       'United States, France, Italy, United Kingdom',\n",
       "       'United States, United Kingdom, Germany, Hungary',\n",
       "       'United States, New Zealand', 'Sweden', 'China', 'Lebanon',\n",
       "       'Romania', 'Finland, Germany', 'Lebanon, Syria', 'Philippines',\n",
       "       'Iceland', 'Denmark', 'United States, India',\n",
       "       'Philippines, Singapore, Indonesia',\n",
       "       'China, United States, Canada', 'Lebanon, United Arab Emirates',\n",
       "       'Canada, United States, Denmark', 'United Arab Emirates',\n",
       "       'Mexico, France, Colombia', 'Netherlands',\n",
       "       'Germany, United States, France', 'United States, Bulgaria',\n",
       "       'United Kingdom, France, Germany, United States',\n",
       "       'Norway, Denmark', 'Syria, France, Lebanon, Qatar',\n",
       "       'United States, Czech Republic', 'Mauritius',\n",
       "       'Canada, South Africa', 'Austria', 'Mexico, Brazil',\n",
       "       'Germany, France', 'Mexico, United States',\n",
       "       'United Kingdom, France, Spain, United States',\n",
       "       'United States, Australia',\n",
       "       'United States, United Kingdom, France', 'United States, Russia',\n",
       "       'United States, United Kingdom, New Zealand',\n",
       "       'Australia, United Kingdom', 'Canada, Nigeria, United States',\n",
       "       'France, United States, United Kingdom, Canada',\n",
       "       'France, United Kingdom', 'India, United Kingdom',\n",
       "       'Canada, United States, Mexico',\n",
       "       'United Kingdom, Germany, United States',\n",
       "       'Czech Republic, United Kingdom, United States',\n",
       "       'China, United Kingdom', 'Italy, United Kingdom', 'China, Taiwan',\n",
       "       'United States, Brazil, Japan, Spain, India',\n",
       "       'United States, China, United Kingdom', 'Cameroon',\n",
       "       'Lebanon, Palestine, Denmark, Qatar', 'Japan, United States',\n",
       "       'Uruguay, Germany', 'Egypt, Saudi Arabia',\n",
       "       'United Kingdom, France, Poland, Germany, United States',\n",
       "       'Ireland, Switzerland, United Kingdom, France, United States',\n",
       "       'United Kingdom, South Africa, France',\n",
       "       'Ireland, United Kingdom, France, Germany',\n",
       "       'Russia, United States', 'United Kingdom, United States, France',\n",
       "       'United Kingdom,', 'United States, India, United Kingdom', 'Kenya',\n",
       "       'Spain, Argentina', 'India, United Kingdom, France, Qatar',\n",
       "       'Belgium, France', 'Argentina, Chile', 'United States, Thailand',\n",
       "       'Chile, Brazil', 'United States, Colombia',\n",
       "       'Canada, United States, United Kingdom', 'Uruguay', 'Luxembourg',\n",
       "       'United States, Cambodia, Romania', 'Bangladesh',\n",
       "       'Spain, Belgium, United States',\n",
       "       'United Kingdom, United States, Australia',\n",
       "       'Canada, United States, France', 'Portugal, United States',\n",
       "       'Portugal, Spain', 'India, United States',\n",
       "       'United Kingdom, Ireland', 'United Kingdom, Spain, United States',\n",
       "       'Hungary, United States', 'United States, South Korea',\n",
       "       'Canada, United States, Cayman Islands', 'India, France',\n",
       "       'France, Canada', 'Canada, Hungary, United States', 'Norway',\n",
       "       'Canada, United Kingdom, United States',\n",
       "       'United Kingdom, Germany, France, United States',\n",
       "       'Denmark, United States', 'Senegal', 'France, Algeria',\n",
       "       'United Kingdom, Finland, Germany, United States, Australia, Japan, France, Ireland',\n",
       "       'Philippines, Canada, United Kingdom, United States',\n",
       "       'Ireland, France, Iceland, United States, Mexico, Belgium, United Kingdom, Hong Kong',\n",
       "       'Singapore', 'Kuwait', 'United States, France, Serbia',\n",
       "       'United States, Italy', 'Spain, Italy',\n",
       "       'United States, Ireland, United Kingdom, India',\n",
       "       'United Kingdom, Singapore', 'Hong Kong, United States',\n",
       "       'United States, Malta, France, United Kingdom',\n",
       "       'United States, China, Canada', 'Canada, United States, Ireland',\n",
       "       'Lebanon, Canada, France', 'Japan, Canada, United States',\n",
       "       'Spain, France, Canada',\n",
       "       'Denmark, Singapore, Canada, United States',\n",
       "       'United States, France, Denmark', 'United States, China, Colombia',\n",
       "       'Spain, Thailand, United States', 'Mexico, Spain',\n",
       "       'Ireland, Luxembourg, Belgium', 'China, United States',\n",
       "       'Canada, Belgium', 'Canada, United Kingdom',\n",
       "       'Lebanon, United Arab Emirates, France, Switzerland, Germany',\n",
       "       'France, Belgium, Italy',\n",
       "       'Lebanon, United States, United Arab Emirates', 'Lebanon, France',\n",
       "       'France, Lebanon', 'France, Lebanon, United Kingdom',\n",
       "       'France, Norway, Lebanon, Belgium',\n",
       "       'Sweden, Czech Republic, United Kingdom, Denmark, Netherlands',\n",
       "       'United States, United Kingdom, India', 'Indonesia, Netherlands',\n",
       "       'Turkey, South Korea', 'Serbia, United States', 'Namibia',\n",
       "       'United Kingdom, Kenya', 'United Kingdom, France, Germany, Spain',\n",
       "       'United Kingdom, France, United States, Belgium, Luxembourg, China, Germany',\n",
       "       'Thailand, United States',\n",
       "       'United States, France, Canada, Belgium', 'United Kingdom, China',\n",
       "       'Germany, China, United Kingdom',\n",
       "       'Australia, New Zealand, United States',\n",
       "       'Hong Kong, Iceland, United States', 'France, Australia, Germany',\n",
       "       'United States, Belgium, Canada, France', 'South Africa, Angola',\n",
       "       'United States, Philippines',\n",
       "       'United States, United Kingdom, Canada, China',\n",
       "       'United States, Canada, United Kingdom', 'Turkey, United States',\n",
       "       'Peru, Germany, Norway', 'Mozambique', 'Brazil, France',\n",
       "       'China, Spain, South Korea, United States', 'Spain, Germany',\n",
       "       'Hong Kong, China', 'France, Belgium, Luxembourg, Cambodia,',\n",
       "       'United Kingdom, Australia', 'Belarus',\n",
       "       'Indonesia, United Kingdom',\n",
       "       'Switzerland, France, Belgium, United States', 'Ghana',\n",
       "       'Spain, France, Canada, United States', 'Chile, Italy',\n",
       "       'United Kingdom, Nigeria', 'Chile', 'France, Egypt',\n",
       "       'Egypt, France', 'France, Brazil, Spain, Belgium',\n",
       "       'Egypt, Algeria', 'Canada, South Korea, United States',\n",
       "       'Nigeria, United Kingdom', 'United States, France, Canada',\n",
       "       'Poland, United States',\n",
       "       'United Arab Emirates, Jordan, Lebanon, Saudi Arabia',\n",
       "       'United States, Mexico, Spain, Malta',\n",
       "       'Saudi Arabia, United Arab Emirates', 'Zimbabwe',\n",
       "       'United Kingdom, Germany, United Arab Emirates, New Zealand',\n",
       "       'Romania, United States', 'Canada, Nigeria',\n",
       "       'Saudi Arabia, Netherlands, Germany, Jordan, United Arab Emirates, United States',\n",
       "       'United Kingdom, Spain', 'Finland, France',\n",
       "       'United Kingdom, Germany, United States, France',\n",
       "       'India, United Kingdom, China, Canada, Japan, South Korea, United States',\n",
       "       'Italy, United Kingdom, France', 'United States, Mexico, Colombia',\n",
       "       'Turkey, India', 'Italy, Turkey',\n",
       "       'United Kingdom, United States, Japan',\n",
       "       'France, Belgium, United States',\n",
       "       'Puerto Rico, United States, Colombia', 'Uruguay, Argentina',\n",
       "       'United States, United Kingdom, Japan', 'United States, Argentina',\n",
       "       'United Kingdom, Italy', 'Ireland, United Kingdom',\n",
       "       'United Kingdom, France, Belgium, Canada, United States',\n",
       "       'Netherlands, Germany, Denmark, United Kingdom', 'Hungary',\n",
       "       'Austria, Germany', 'Taiwan, China',\n",
       "       'United Kingdom, United States, Ireland',\n",
       "       'South Korea, United States', 'Brazil, United Kingdom',\n",
       "       'Pakistan, United States', 'Romania, France, Switzerland, Germany',\n",
       "       'Romania, United Kingdom', 'France, Malta, United States',\n",
       "       'Cyprus',\n",
       "       'United Kingdom, France, Belgium, Ireland, United States',\n",
       "       'United States, Norway, Canada', 'Kenya, United States',\n",
       "       'France, South Korea, Japan, United States', 'Taiwan, Malaysia',\n",
       "       'Uruguay, Argentina, Germany, Spain',\n",
       "       'United States, United Kingdom, France, Germany, Japan',\n",
       "       'United States, France, Japan',\n",
       "       'United Kingdom, France, United States',\n",
       "       'Spain, France, United States',\n",
       "       'Indonesia, South Korea, Singapore', 'United States, Spain',\n",
       "       'Netherlands, Germany, Italy, Canada',\n",
       "       'Spain, Germany, Denmark, United States', 'Norway, Sweden',\n",
       "       'South Korea, Canada, United States, China',\n",
       "       'Argentina, Uruguay, Serbia', 'France, Japan',\n",
       "       'Mauritius, South Africa', 'United States, Poland',\n",
       "       'United Kingdom, United States, Germany, Denmark, Belgium, Japan',\n",
       "       'India, Germany', 'India, United Kingdom, Canada, United States',\n",
       "       'Philippines, United States', 'Romania, Bulgaria, Hungary',\n",
       "       'Uruguay, Guatemala', 'France, Senegal, Belgium',\n",
       "       'United Kingdom, Canada', 'Mexico, United States, Spain, Colombia',\n",
       "       'Canada, Norway', 'Singapore, United States',\n",
       "       'Finland, Germany, Belgium', 'United Kingdom, France',\n",
       "       'United States, Chile', 'United Kingdom, Japan, United States',\n",
       "       'Spain, United Kingdom', 'Argentina, United States, Mexico',\n",
       "       'United States, South Korea, Japan', 'Canada, Australia',\n",
       "       'United Kingdom, Hungary, Australia', 'Italy, Belgium',\n",
       "       'United States, United Kingdom, Germany', 'Switzerland',\n",
       "       'Singapore, Malaysia',\n",
       "       'France, Belgium, Luxembourg, Romania, Canada, United States',\n",
       "       'South Africa, Nigeria', 'Spain, France',\n",
       "       'United Kingdom, Hong Kong', 'Pakistan', 'Brazil, United States',\n",
       "       'Denmark, Brazil, France, Portugal, Sweden', 'India, Turkey',\n",
       "       'Malaysia, Singapore, Hong Kong', 'Philippines, Singapore',\n",
       "       'Australia, Canada', 'Taiwan, China, France, United States',\n",
       "       'Germany, Italy', 'Colombia, Peru, United Kingdom',\n",
       "       'Thailand, China, United States', 'Argentina, United States',\n",
       "       'Sweden, United States', 'Uruguay, Spain, Mexico',\n",
       "       'France, Luxembourg, Canada', 'Denmark, Spain', 'Chile, Argentina',\n",
       "       'United Kingdom, Belgium, Sweden', 'Canada, Brazil',\n",
       "       'Italy, France', 'Canada, Germany',\n",
       "       'Pakistan, United Arab Emirates', 'Ghana, United States',\n",
       "       'Mexico, Finland', 'United Arab Emirates, United Kingdom, India',\n",
       "       'Netherlands, Belgium', 'United States, Taiwan',\n",
       "       'Austria, Iraq, United States', 'United Kingdom, Malawi',\n",
       "       'Paraguay, Argentina', 'United Kingdom, Russia, United States',\n",
       "       'India, Pakistan', 'Indonesia, Singapore', 'Spain, Belgium',\n",
       "       'Iceland, Sweden, Belgium', 'Croatia', 'Uruguay, Argentina, Spain',\n",
       "       'United Kingdom, Ireland, United States',\n",
       "       'Canada, Germany, France, United States', 'United Kingdom, Japan',\n",
       "       'Norway, Denmark, Netherlands, Sweden',\n",
       "       'Hong Kong, China, United States', 'Ireland, Canada',\n",
       "       'Italy, Switzerland, France, Germany', 'Mexico, Netherlands',\n",
       "       'United States, Sweden', 'Germany, France, Russia',\n",
       "       'France, Iran, United States', 'United Kingdom, India',\n",
       "       'Russia, Poland, Serbia', 'Spain, Portugal', 'Peru',\n",
       "       'Mexico, Argentina',\n",
       "       'United Kingdom, Canada, United States, Cayman Islands',\n",
       "       'Indonesia, United States',\n",
       "       'United States, Israel, United Kingdom, Canada',\n",
       "       'Norway, Iceland, United States', 'Czech Republic, United States',\n",
       "       'United Kingdom, India, United States',\n",
       "       'United Kingdom, West Germany', 'India, Australia',\n",
       "       'United States,', 'Belgium, United Kingdom, United States',\n",
       "       'India, Germany, Austria',\n",
       "       'United States, Brazil, South Korea, Mexico, Japan, Germany',\n",
       "       'Spain, Mexico', 'China, Japan', 'Argentina, France',\n",
       "       'China, United States, United Kingdom',\n",
       "       'France, Luxembourg, United States',\n",
       "       'China, United States, Australia', 'Colombia, Mexico',\n",
       "       'United States, Canada, Ireland', 'Chile, Peru',\n",
       "       'Argentina, Italy', 'Canada, Japan, United States',\n",
       "       'United Kingdom, Canada, United States, Germany',\n",
       "       'Italy, Switzerland, Albania, Poland',\n",
       "       'United States, Japan, Canada', 'Cambodia',\n",
       "       'Italy, United States, Argentina',\n",
       "       'Saudi Arabia, Syria, Egypt, Lebanon, Kuwait',\n",
       "       'United States, Canada, Indonesia, United Kingdom, China, Singapore',\n",
       "       'Spain, Colombia',\n",
       "       'United Kingdom, South Africa, Australia, United States',\n",
       "       'Bulgaria', 'Argentina, Brazil, France, Poland, Germany, Denmark',\n",
       "       'United Kingdom, Spain, United States, Germany',\n",
       "       'Philippines, Qatar', 'Netherlands, Belgium, Germany, Jordan',\n",
       "       'United Arab Emirates, United States', 'Norway, Germany, Sweden',\n",
       "       'South Korea, China', 'Georgia', 'Soviet Union, India',\n",
       "       'Australia, United Arab Emirates', 'Canada, Germany, South Africa',\n",
       "       'South Korea, China, United States', 'India, Soviet Union',\n",
       "       'India, Mexico', 'Georgia, Germany, France',\n",
       "       'United Arab Emirates, Romania', 'India, Malaysia',\n",
       "       'Germany, Jordan, Netherlands', 'Turkey, France, Germany, Poland',\n",
       "       'Greece, United States', 'France, United Kingdom, United States',\n",
       "       'Norway, Germany', 'France, Morocco', 'Cambodia, United States',\n",
       "       'United States, Denmark', 'United States, Colombia, Mexico',\n",
       "       'United Kingdom, Italy, Israel, Peru, United States',\n",
       "       'Argentina, Uruguay, Spain, France',\n",
       "       'United Kingdom, France, United States, Belgium',\n",
       "       'France, Canada, China, Cambodia',\n",
       "       'United Kingdom, France, Belgium, United States', 'Chile, France',\n",
       "       'Netherlands, United States', 'France, United Kingdom, India',\n",
       "       'Czech Republic, Slovakia', 'Singapore, France',\n",
       "       'Spain, Switzerland', 'United States, Australia, China',\n",
       "       'South Africa, United States, Germany',\n",
       "       'United States, United Kingdom, Australia',\n",
       "       'Spain, Italy, Argentina', 'Chile, Spain, Argentina, Germany',\n",
       "       'West Germany', 'Austria, Czech Republic', 'Lebanon, Qatar',\n",
       "       'United Kingdom, Jordan, Qatar, Iran',\n",
       "       'France, South Korea, Japan', 'Israel, Germany, France',\n",
       "       'Canada, Japan, Netherlands', 'United States, Hungary',\n",
       "       'France, Germany', 'France, Qatar',\n",
       "       'United Kingdom, Germany, Canada', 'Ireland, South Africa',\n",
       "       'Chile, United States, France', 'Belgium, France, Netherlands',\n",
       "       'United Kingdom, Ukraine, United States',\n",
       "       'Germany, Australia, France, China', 'Norway, United States',\n",
       "       'United States, Bermuda, Ecuador',\n",
       "       'United States, Hungary, Ireland, Canada',\n",
       "       'United Kingdom, Egypt, United States',\n",
       "       'United States, France, United Kingdom', 'Spain, Mexico, France',\n",
       "       'United States, South Africa', 'Hong Kong, China, Singapore',\n",
       "       'South Africa, China, United States', 'Denmark, France, Poland',\n",
       "       'New Zealand, United Kingdom',\n",
       "       'Netherlands, Denmark, South Africa', 'Iran, France',\n",
       "       'United Kingdom, United States, France, Germany',\n",
       "       'Australia, France', 'Ireland, United Kingdom, United States',\n",
       "       'United Kingdom, France, Germany', 'Canada, Luxembourg',\n",
       "       'Brazil, Netherlands, United States, Colombia, Austria, Germany',\n",
       "       'France, Canada, Belgium', 'Canada, France',\n",
       "       'Bulgaria, United States, Spain, Canada', 'Sweden, Netherlands',\n",
       "       'France, United States, Mexico',\n",
       "       'Australia, United Kingdom, United Arab Emirates, Canada',\n",
       "       'Australia, Armenia, Japan, Jordan, Mexico, Mongolia, New Zealand, Philippines, South Africa, Sweden, United States, Uruguay',\n",
       "       'India, Iran', 'France, Belgium, Spain',\n",
       "       'Denmark, Sweden, Israel, United States', 'United States, Iceland',\n",
       "       'United Kingdom, Russia',\n",
       "       'United States, Israel, Italy, South Africa',\n",
       "       'Netherlands, Denmark, France, Germany', 'South Korea, Japan',\n",
       "       'United Kingdom, Pakistan', 'France, New Zealand',\n",
       "       'United Kingdom, Czech Republic, United States, Germany, Bahamas',\n",
       "       'China, Germany, India, United States', 'Germany, Sri Lanka',\n",
       "       'United States, India, Bangladesh',\n",
       "       'United States, Canada, France', 'Brazil, France, Germany',\n",
       "       'Germany, United States, Hong Kong, Singapore',\n",
       "       'France, Germany, Switzerland',\n",
       "       'Germany, France, Luxembourg, United Kingdom, United States',\n",
       "       'United Kingdom, Canada, Italy', 'Czech Republic, France',\n",
       "       'Taiwan, Hong Kong, United States, China', 'Germany, Australia',\n",
       "       'United Kingdom, Poland, United States', 'Denmark, Zimbabwe',\n",
       "       'United Kingdom, South Africa',\n",
       "       'Finland, Sweden, Norway, Latvia, Germany',\n",
       "       'South Africa, United States, New Zealand, Canada',\n",
       "       'United States, Italy, United Kingdom, Liechtenstein',\n",
       "       'Denmark, France, Belgium, Italy, Netherlands, United States, United Kingdom',\n",
       "       'United States, Australia, Mexico',\n",
       "       'United Kingdom, Czech Republic, Germany, United States',\n",
       "       'France, China, Japan, United States',\n",
       "       'United States, South Korea, China', 'Germany, Belgium',\n",
       "       'Pakistan, Norway, United States',\n",
       "       'United States, Canada, Belgium, United Kingdom', 'Venezuela',\n",
       "       'Canada, France, Italy, Morocco, United States',\n",
       "       'Canada, Spain, France', 'United States, Indonesia',\n",
       "       'Spain, France, Italy',\n",
       "       'United Arab Emirates, United States, United Kingdom',\n",
       "       'United Kingdom, Israel, Russia', 'Spain, Cuba',\n",
       "       'United States, Brazil', 'United States, France, Mexico',\n",
       "       'United States, Nicaragua',\n",
       "       'United Kingdom, United States, Spain, Germany, Greece, Canada',\n",
       "       'Italy, Canada, France',\n",
       "       'United Kingdom, Denmark, Canada, Croatia', 'Italy, Germany',\n",
       "       'United States, France, United Kingdom, Japan',\n",
       "       'United States, United Kingdom, Denmark, Sweden',\n",
       "       'United States, United Kingdom, Italy',\n",
       "       'United States, France, Canada, Spain',\n",
       "       'Russia, United States, China', 'United States, Canada, Germany',\n",
       "       'Ireland, United States', 'United States, United Arab Emirates',\n",
       "       'United States, Ireland',\n",
       "       'Ireland, United Kingdom, Italy, United States', 'Poland,',\n",
       "       'Slovenia, Croatia, Germany, Czech Republic, Qatar',\n",
       "       'Canada, United Kingdom, Netherlands',\n",
       "       'United States, Spain, Germany', 'India, Japan',\n",
       "       'China, South Korea, United States',\n",
       "       'United Kingdom, France, Belgium',\n",
       "       'Canada, Ireland, United States',\n",
       "       'United Kingdom, United States, Dominican Republic',\n",
       "       'United States, Senegal', 'Germany, United Kingdom, United States',\n",
       "       'South Africa, Germany, Netherlands, France',\n",
       "       'Canada, United States, United Kingdom, France, Luxembourg',\n",
       "       'Ireland, United States, France', 'Germany, United States, Canada',\n",
       "       'United Kingdom, Germany, Canada, United States',\n",
       "       'United States, France, Canada, Lebanon, Qatar',\n",
       "       'Netherlands, Belgium, United Kingdom, United States',\n",
       "       'France, Belgium, China, United States',\n",
       "       'United States, Chile, Israel',\n",
       "       'United Kingdom, Norway, Denmark, Germany, Sweden',\n",
       "       'Norway, Denmark, Sweden', 'China, India, Nepal',\n",
       "       'Colombia, Mexico, United States', 'United Kingdom, South Korea',\n",
       "       'Denmark, China', 'United States, Greece, Brazil',\n",
       "       'South Korea, France',\n",
       "       'United States, Australia, Samoa, United Kingdom',\n",
       "       'Germany, United Kingdom', 'Argentina, Chile, Peru',\n",
       "       'Turkey, Azerbaijan', 'Poland, West Germany',\n",
       "       'Germany, United States, Sweden', 'Canada, Spain',\n",
       "       'United States, Cambodia', 'United States, Greece',\n",
       "       'Norway, United Kingdom, France, Ireland',\n",
       "       'United Kingdom, Poland', 'Israel, Sweden, Germany, Netherlands',\n",
       "       'Switzerland, France', 'Italy, India', 'United States, Botswana',\n",
       "       'Chile, Argentina, France, Spain, United States',\n",
       "       'United States, India, South Korea, China',\n",
       "       'Denmark, Germany, Belgium, United Kingdom, France',\n",
       "       'Denmark, Germany, Belgium, United Kingdom, France, Sweden',\n",
       "       'France, Switzerland, Spain, United States, United Arab Emirates',\n",
       "       'Brazil, India, China, United States',\n",
       "       'Denmark, France, United States, Sweden', 'Australia, Iraq',\n",
       "       'China, Morocco, Hong Kong', 'Canada, United States, Germany',\n",
       "       'United Kingdom, Thailand', 'Venezuela, Colombia',\n",
       "       'Colombia, United States',\n",
       "       'France, Germany, Czech Republic, Belgium',\n",
       "       'Switzerland, Vatican City, Italy, Germany, France',\n",
       "       'Portugal, France, Poland, United States',\n",
       "       'United States, New Zealand, Japan',\n",
       "       'United States, Netherlands, Japan, France', 'India, Switzerland',\n",
       "       'Canada, India', 'United States, Morocco',\n",
       "       'Singapore, Japan, France',\n",
       "       'Canada, Mexico, Germany, South Africa',\n",
       "       'United Kingdom, United States, Canada',\n",
       "       'Germany, France, United States, Canada, United Kingdom',\n",
       "       'United States, Uruguay', 'India, Canada',\n",
       "       'Ireland, Canada, United Kingdom, United States',\n",
       "       'United States, Germany, Australia', 'Australia, France, Ireland',\n",
       "       'Australia, India', 'United States, United Kingdom, Canada, Japan',\n",
       "       'Sweden, United Kingdom, Finland', 'Hong Kong, Taiwan',\n",
       "       'United States, United Kingdom, Spain, South Korea', 'Guatemala',\n",
       "       'Ukraine',\n",
       "       'Italy, South Africa, West Germany, Australia, United States',\n",
       "       'United States, Germany, United Kingdom, Australia',\n",
       "       'Italy, France, Switzerland', 'Canada, France, United States',\n",
       "       'Switzerland, United States', 'Thailand, Canada, United States',\n",
       "       'China, Hong Kong, United States', 'United Kingdom, New Zealand',\n",
       "       'Czech Republic, United Kingdom, France',\n",
       "       'Australia, United Kingdom, Canada', 'Jamaica, United States',\n",
       "       'Australia, United Kingdom, United States, New Zealand, Italy, France',\n",
       "       'France, United States, Canada',\n",
       "       'United Kingdom, France, Canada, Belgium, United States',\n",
       "       'Denmark, United Kingdom, Sweden', 'United States, Hong Kong',\n",
       "       'United States, Kazakhstan',\n",
       "       'Argentina, France, United States, Germany, Qatar',\n",
       "       'United States, Germany, United Kingdom',\n",
       "       'United States, Germany, United Kingdom, Italy',\n",
       "       'United States, New Zealand, United Kingdom',\n",
       "       'Finland, United States', 'Spain, France, Uruguay',\n",
       "       'France, Canada, United States', 'United States, Canada, China',\n",
       "       'Ireland, Canada, Luxembourg, United States, United Kingdom, Philippines, India',\n",
       "       'United States, Czech Republic, United Kingdom', 'Israel, Germany',\n",
       "       'Mexico, France',\n",
       "       'Israel, Germany, Poland, Luxembourg, Belgium, France, United States',\n",
       "       'Austria, United States', 'United Kingdom, Lithuania',\n",
       "       'United States, Greece, United Kingdom',\n",
       "       'United Kingdom, China, United States, India',\n",
       "       'United States, Sweden, Norway',\n",
       "       'United Kingdom, United States, Morocco',\n",
       "       'United States, United Kingdom, Morocco',\n",
       "       'Spain, Canada, United States',\n",
       "       'United States, India, United Arab Emirates',\n",
       "       'United Kingdom, Canada, France, United States',\n",
       "       'India, Germany, France',\n",
       "       'Belgium, Ireland, Netherlands, Germany, Afghanistan',\n",
       "       'France, Canada, Italy, United States, China',\n",
       "       'Ireland, United Kingdom, Greece, France, Netherlands',\n",
       "       'Denmark, Indonesia, Finland, Norway, United Kingdom, Israel, France, United States, Germany, Netherlands',\n",
       "       'New Zealand, United States',\n",
       "       'United States, Australia, South Africa, United Kingdom',\n",
       "       'United States, Germany, Mexico',\n",
       "       'Somalia, Kenya, Sudan, South Africa, United States',\n",
       "       'United States, Canada, Japan, Panama',\n",
       "       'United Kingdom, Spain, Belgium', 'Serbia, South Korea, Slovenia',\n",
       "       'Denmark, United Kingdom, South Africa, Sweden, Belgium',\n",
       "       'Germany, Canada, United States',\n",
       "       'Ireland, Canada, United States, United Kingdom',\n",
       "       'New Zealand, United Kingdom, Australia',\n",
       "       'United Kingdom, Australia, Canada, United States',\n",
       "       'Germany, United States, Italy', 'United States, Venezuela',\n",
       "       'United Kingdom, Canada, Japan',\n",
       "       'United Kingdom, United States, Czech Republic',\n",
       "       'United Kingdom, China, United States',\n",
       "       'United Kingdom, Brazil, Germany',\n",
       "       'United Kingdom, Namibia, South Africa, Zimbabwe, United States',\n",
       "       'Canada, United States, India, United Kingdom',\n",
       "       'Switzerland, United Kingdom, United States',\n",
       "       'United Kingdom, India, Sweden',\n",
       "       'United States, Brazil, India, Uganda, China',\n",
       "       'Peru, United States, United Kingdom',\n",
       "       'Germany, United States, United Kingdom, Canada',\n",
       "       'Canada, India, Thailand, United States, United Arab Emirates',\n",
       "       'United States, East Germany, West Germany',\n",
       "       'France, Netherlands, South Africa, Finland',\n",
       "       'Egypt, Austria, United States', 'Russia, Spain',\n",
       "       'Croatia, Slovenia, Serbia, Montenegro', 'Japan, Canada',\n",
       "       'United States, France, South Korea, Indonesia',\n",
       "       'United Arab Emirates, Jordan'], dtype=object)"
      ]
     },
     "execution_count": 30,
     "metadata": {},
     "output_type": "execute_result"
    }
   ],
   "source": [
    "pd.unique(df['country'])"
   ]
  },
  {
   "cell_type": "code",
   "execution_count": 31,
   "id": "8ddb1e70",
   "metadata": {},
   "outputs": [
    {
     "data": {
      "text/plain": [
       "array([nan,\n",
       "       'Ama Qamata, Khosi Ngema, Gail Mabalane, Thabang Molaba, Dillon Windvogel, Natasha Thahane, Arno Greeff, Xolile Tshabalala, Getmore Sithole, Cindy Mahlangu, Ryle De Morny, Greteli Fincham, Sello Maake Ka-Ncube, Odwa Gwanya, Mekaila Mathys, Sandi Schultz, Duane Williams, Shamilla Miller, Patrick Mofokeng',\n",
       "       'Sami Bouajila, Tracy Gotoas, Samuel Jouy, Nabiha Akkari, Sofia Lesaffre, Salim Kechiouche, Noureddine Farihi, Geert Van Rampelberg, Bakary Diombera',\n",
       "       ...,\n",
       "       'Jesse Eisenberg, Woody Harrelson, Emma Stone, Abigail Breslin, Amber Heard, Bill Murray, Derek Graf',\n",
       "       'Tim Allen, Courteney Cox, Chevy Chase, Kate Mara, Ryan Newman, Michael Cassidy, Spencer Breslin, Rip Torn, Kevin Zegers',\n",
       "       'Vicky Kaushal, Sarah-Jane Dias, Raaghav Chanana, Manish Chaudhary, Meghna Malik, Malkeet Rauni, Anita Shabdish, Chittaranjan Tripathy'],\n",
       "      dtype=object)"
      ]
     },
     "execution_count": 31,
     "metadata": {},
     "output_type": "execute_result"
    }
   ],
   "source": [
    "pd.unique(df['cast'])"
   ]
  },
  {
   "cell_type": "markdown",
   "id": "5cd4ddb2",
   "metadata": {},
   "source": [
    "## To Determined the Non Uniue Value in Each Coloumn "
   ]
  },
  {
   "cell_type": "code",
   "execution_count": 32,
   "id": "b857c307",
   "metadata": {},
   "outputs": [
    {
     "data": {
      "text/plain": [
       "show_id         8807\n",
       "type               2\n",
       "title           8807\n",
       "director        4528\n",
       "cast            7692\n",
       "country          748\n",
       "date_added      1767\n",
       "release_year      74\n",
       "rating            17\n",
       "duration         220\n",
       "listed_in        514\n",
       "description     8775\n",
       "dtype: int64"
      ]
     },
     "execution_count": 32,
     "metadata": {},
     "output_type": "execute_result"
    }
   ],
   "source": [
    "df.nunique()"
   ]
  },
  {
   "cell_type": "code",
   "execution_count": 33,
   "id": "887ffe36",
   "metadata": {},
   "outputs": [
    {
     "data": {
      "text/plain": [
       "0       False\n",
       "1       False\n",
       "2       False\n",
       "3       False\n",
       "4       False\n",
       "        ...  \n",
       "8802    False\n",
       "8803    False\n",
       "8804    False\n",
       "8805    False\n",
       "8806    False\n",
       "Length: 8807, dtype: bool"
      ]
     },
     "execution_count": 33,
     "metadata": {},
     "output_type": "execute_result"
    }
   ],
   "source": [
    "df.duplicated()"
   ]
  },
  {
   "cell_type": "code",
   "execution_count": 34,
   "id": "7b35a173",
   "metadata": {},
   "outputs": [
    {
     "data": {
      "text/plain": [
       "2014.1801975701146"
      ]
     },
     "execution_count": 34,
     "metadata": {},
     "output_type": "execute_result"
    }
   ],
   "source": [
    "# It Only give an Int value Coloumns\n",
    "df['release_year'].mean()\n"
   ]
  },
  {
   "cell_type": "code",
   "execution_count": 35,
   "id": "ed99d793",
   "metadata": {},
   "outputs": [
    {
     "data": {
      "text/plain": [
       "1925"
      ]
     },
     "execution_count": 35,
     "metadata": {},
     "output_type": "execute_result"
    }
   ],
   "source": [
    "df['release_year'].min()"
   ]
  },
  {
   "cell_type": "code",
   "execution_count": 36,
   "id": "44f67be3",
   "metadata": {},
   "outputs": [
    {
     "data": {
      "text/plain": [
       "2021"
      ]
     },
     "execution_count": 36,
     "metadata": {},
     "output_type": "execute_result"
    }
   ],
   "source": [
    "df['release_year'].max()"
   ]
  },
  {
   "cell_type": "markdown",
   "id": "37e2874a",
   "metadata": {},
   "source": [
    "\n",
    "# data.drop_duplicate()"
   ]
  },
  {
   "cell_type": "code",
   "execution_count": 37,
   "id": "d2d38137",
   "metadata": {},
   "outputs": [
    {
     "name": "stdout",
     "output_type": "stream",
     "text": [
      "4.54 ms ± 58.1 μs per loop (mean ± std. dev. of 7 runs, 100 loops each)\n"
     ]
    }
   ],
   "source": [
    "%timeit df.isnull().any().any()"
   ]
  },
  {
   "cell_type": "code",
   "execution_count": 38,
   "id": "34b75eab",
   "metadata": {},
   "outputs": [
    {
     "name": "stdout",
     "output_type": "stream",
     "text": [
      "4.16 ms ± 47.8 μs per loop (mean ± std. dev. of 7 runs, 100 loops each)\n"
     ]
    }
   ],
   "source": [
    "%timeit df.isna().values.any()"
   ]
  },
  {
   "cell_type": "markdown",
   "id": "1997d91c",
   "metadata": {},
   "source": [
    "## Determining what's Coloumn is Missing"
   ]
  },
  {
   "cell_type": "code",
   "execution_count": 39,
   "id": "d1672488",
   "metadata": {},
   "outputs": [
    {
     "data": {
      "text/plain": [
       "Index(['director', 'cast', 'country', 'date_added', 'rating', 'duration'], dtype='object')"
      ]
     },
     "execution_count": 39,
     "metadata": {},
     "output_type": "execute_result"
    }
   ],
   "source": [
    "df.loc[:,df.isna().any()].columns"
   ]
  },
  {
   "cell_type": "markdown",
   "id": "ead664b0",
   "metadata": {},
   "source": [
    "As we can see, there are a lot of missing values in the director, cast and country columns. I will drop the director column as filling up the values will not be practically possible. Same for the cast column.\n",
    "\n",
    "For the country column, I am going to take the \"mode\" of available countries and assign it to the missing values. I will be doing the same for the date added and ratings column."
   ]
  },
  {
   "cell_type": "markdown",
   "id": "0c29557a",
   "metadata": {},
   "source": [
    "# Handling Missing Values"
   ]
  },
  {
   "cell_type": "code",
   "execution_count": 40,
   "id": "09ffe45a",
   "metadata": {},
   "outputs": [],
   "source": [
    "# HERE ,  We Can fill the Remaining data as what is being repeating(is in ocuring mode)"
   ]
  },
  {
   "cell_type": "code",
   "execution_count": 41,
   "id": "b4bfd893",
   "metadata": {},
   "outputs": [],
   "source": [
    "df['country'] = df['country'].fillna(df['country'].mode()[0])\n",
    "df['date_added'] = df['date_added'].fillna(df['date_added'].mode()[0])\n",
    "df['rating'] = df['rating'].fillna(df['rating'].mode()[0])\n",
    "df['cast'] = df['cast'].fillna(df['cast'].mode()[0])\n",
    "df['director'] =df['director'].fillna(df['director'].mode()[0])\n",
    "df['duration'] =df['duration'].fillna(df['duration'].mode()[0])"
   ]
  },
  {
   "cell_type": "markdown",
   "id": "90134060",
   "metadata": {},
   "source": [
    "### now we again check, each value in each columns is filled or not "
   ]
  },
  {
   "cell_type": "code",
   "execution_count": 42,
   "id": "d780a18a",
   "metadata": {},
   "outputs": [
    {
     "data": {
      "text/plain": [
       "False"
      ]
     },
     "execution_count": 42,
     "metadata": {},
     "output_type": "execute_result"
    }
   ],
   "source": [
    "df.isna().any().any()"
   ]
  },
  {
   "cell_type": "code",
   "execution_count": 43,
   "id": "4ec03b90",
   "metadata": {},
   "outputs": [
    {
     "data": {
      "text/plain": [
       "show_id         0\n",
       "type            0\n",
       "title           0\n",
       "director        0\n",
       "cast            0\n",
       "country         0\n",
       "date_added      0\n",
       "release_year    0\n",
       "rating          0\n",
       "duration        0\n",
       "listed_in       0\n",
       "description     0\n",
       "dtype: int64"
      ]
     },
     "execution_count": 43,
     "metadata": {},
     "output_type": "execute_result"
    }
   ],
   "source": [
    "df.isna().sum()"
   ]
  },
  {
   "cell_type": "markdown",
   "id": "ee659f60",
   "metadata": {},
   "source": [
    "# Conclusion--\n",
    "### All the Missing Value in the DataSet have either been removed or Filled . There are no any missing value left.."
   ]
  },
  {
   "cell_type": "code",
   "execution_count": 44,
   "id": "08af3788",
   "metadata": {},
   "outputs": [
    {
     "data": {
      "text/plain": [
       "0"
      ]
     },
     "execution_count": 44,
     "metadata": {},
     "output_type": "execute_result"
    }
   ],
   "source": [
    "df.duplicated().sum()"
   ]
  },
  {
   "cell_type": "markdown",
   "id": "0763b85a",
   "metadata": {},
   "source": [
    "###   Conclusion-----The DataSets has 0 dupicate Values"
   ]
  },
  {
   "cell_type": "markdown",
   "id": "82cdc6c4",
   "metadata": {},
   "source": [
    "# Data Cleaning and Manipulation\n",
    "### Adding Some new Coloumns:\n",
    "\n",
    "- Year Added - y_add,\n",
    "\n",
    "- Month Added - m_add,\n",
    "\n",
    "- Princial Country - country_main,\n",
    "\n",
    "- Target Age Groups - target_age"
   ]
  },
  {
   "cell_type": "code",
   "execution_count": 45,
   "id": "373f8b12",
   "metadata": {},
   "outputs": [
    {
     "data": {
      "text/plain": [
       "0    2021\n",
       "1    2021\n",
       "2    2021\n",
       "3    2021\n",
       "4    2021\n",
       "Name: y_add, dtype: object"
      ]
     },
     "execution_count": 45,
     "metadata": {},
     "output_type": "execute_result"
    }
   ],
   "source": [
    "df['y_add'] = df['date_added'].apply(lambda x : x.split(\" \")[-1])\n",
    "df['y_add'].head()"
   ]
  },
  {
   "cell_type": "code",
   "execution_count": 46,
   "id": "91847b74",
   "metadata": {},
   "outputs": [
    {
     "data": {
      "text/plain": [
       "8802    2019\n",
       "8803    2019\n",
       "8804    2019\n",
       "8805    2020\n",
       "8806    2019\n",
       "Name: y_add, dtype: object"
      ]
     },
     "execution_count": 46,
     "metadata": {},
     "output_type": "execute_result"
    }
   ],
   "source": [
    "df['y_add'].tail()"
   ]
  },
  {
   "cell_type": "code",
   "execution_count": 47,
   "id": "d5c8540b",
   "metadata": {},
   "outputs": [
    {
     "data": {
      "text/plain": [
       "0    September\n",
       "1    September\n",
       "2    September\n",
       "3    September\n",
       "4    September\n",
       "Name: m_add, dtype: object"
      ]
     },
     "execution_count": 47,
     "metadata": {},
     "output_type": "execute_result"
    }
   ],
   "source": [
    "df['m_add'] = df['date_added'].apply(lambda x: x.split(\" \")[0])\n",
    "df['m_add'].head()"
   ]
  },
  {
   "cell_type": "code",
   "execution_count": 48,
   "id": "5fb3f645",
   "metadata": {},
   "outputs": [
    {
     "data": {
      "text/plain": [
       "8802    November\n",
       "8803        July\n",
       "8804    November\n",
       "8805     January\n",
       "8806       March\n",
       "Name: m_add, dtype: object"
      ]
     },
     "execution_count": 48,
     "metadata": {},
     "output_type": "execute_result"
    }
   ],
   "source": [
    "df['m_add'].tail()"
   ]
  },
  {
   "cell_type": "code",
   "execution_count": 49,
   "id": "3d0b673c",
   "metadata": {},
   "outputs": [],
   "source": [
    "ratings_ages = {\n",
    "    'TV-PG': 'Older Kids',\n",
    "    'TV-MA': 'Adults',\n",
    "    'TV-Y7-FV': 'Older Kids',\n",
    "    'TV-Y7': 'Older Kids',\n",
    "    'TV-14': 'Teens',\n",
    "    'R': 'Adults',\n",
    "    'TV-Y': 'Kids',\n",
    "      'NR': 'Adults',\n",
    "    'PG-13': 'Teens',\n",
    "    'TV-G': 'Kids',\n",
    "      'PG': 'Older Kids',\n",
    "    'G': 'Kids',\n",
    "    'UR': 'Adults',\n",
    "    'NC-17': 'Adults'\n",
    "}\n",
    "df['target_age'] = df['rating'].replace(ratings_ages)"
   ]
  },
  {
   "cell_type": "code",
   "execution_count": 50,
   "id": "a3512350",
   "metadata": {},
   "outputs": [
    {
     "data": {
      "text/plain": [
       "0    United\n",
       "1     South\n",
       "2    United\n",
       "3    United\n",
       "4     India\n",
       "Name: country_main, dtype: object"
      ]
     },
     "execution_count": 50,
     "metadata": {},
     "output_type": "execute_result"
    }
   ],
   "source": [
    "df['country_main'] = df['country'].apply(lambda x : x.split(\" \")[0])\n",
    "df['country_main'].head()"
   ]
  },
  {
   "cell_type": "code",
   "execution_count": 51,
   "id": "bdca8d36",
   "metadata": {},
   "outputs": [],
   "source": [
    "movie_df = df[df['type'] == 'Movie']\n",
    "TV_df = df[df['type'] == 'TV Show']\n"
   ]
  },
  {
   "cell_type": "code",
   "execution_count": 52,
   "id": "8c310006",
   "metadata": {},
   "outputs": [
    {
     "data": {
      "text/html": [
       "<div>\n",
       "<style scoped>\n",
       "    .dataframe tbody tr th:only-of-type {\n",
       "        vertical-align: middle;\n",
       "    }\n",
       "\n",
       "    .dataframe tbody tr th {\n",
       "        vertical-align: top;\n",
       "    }\n",
       "\n",
       "    .dataframe thead th {\n",
       "        text-align: right;\n",
       "    }\n",
       "</style>\n",
       "<table border=\"1\" class=\"dataframe\">\n",
       "  <thead>\n",
       "    <tr style=\"text-align: right;\">\n",
       "      <th></th>\n",
       "      <th>show_id</th>\n",
       "      <th>type</th>\n",
       "      <th>title</th>\n",
       "      <th>director</th>\n",
       "      <th>cast</th>\n",
       "      <th>country</th>\n",
       "      <th>date_added</th>\n",
       "      <th>release_year</th>\n",
       "      <th>rating</th>\n",
       "      <th>duration</th>\n",
       "      <th>listed_in</th>\n",
       "      <th>description</th>\n",
       "      <th>y_add</th>\n",
       "      <th>m_add</th>\n",
       "      <th>target_age</th>\n",
       "      <th>country_main</th>\n",
       "    </tr>\n",
       "  </thead>\n",
       "  <tbody>\n",
       "    <tr>\n",
       "      <th>0</th>\n",
       "      <td>s1</td>\n",
       "      <td>Movie</td>\n",
       "      <td>Dick Johnson Is Dead</td>\n",
       "      <td>Kirsten Johnson</td>\n",
       "      <td>David Attenborough</td>\n",
       "      <td>United States</td>\n",
       "      <td>September 25, 2021</td>\n",
       "      <td>2020</td>\n",
       "      <td>PG-13</td>\n",
       "      <td>90 min</td>\n",
       "      <td>Documentaries</td>\n",
       "      <td>As her father nears the end of his life, filmm...</td>\n",
       "      <td>2021</td>\n",
       "      <td>September</td>\n",
       "      <td>Teens</td>\n",
       "      <td>United</td>\n",
       "    </tr>\n",
       "    <tr>\n",
       "      <th>6</th>\n",
       "      <td>s7</td>\n",
       "      <td>Movie</td>\n",
       "      <td>My Little Pony: A New Generation</td>\n",
       "      <td>Robert Cullen, José Luis Ucha</td>\n",
       "      <td>Vanessa Hudgens, Kimiko Glenn, James Marsden, ...</td>\n",
       "      <td>United States</td>\n",
       "      <td>September 24, 2021</td>\n",
       "      <td>2021</td>\n",
       "      <td>PG</td>\n",
       "      <td>91 min</td>\n",
       "      <td>Children &amp; Family Movies</td>\n",
       "      <td>Equestria's divided. But a bright-eyed hero be...</td>\n",
       "      <td>2021</td>\n",
       "      <td>September</td>\n",
       "      <td>Older Kids</td>\n",
       "      <td>United</td>\n",
       "    </tr>\n",
       "    <tr>\n",
       "      <th>7</th>\n",
       "      <td>s8</td>\n",
       "      <td>Movie</td>\n",
       "      <td>Sankofa</td>\n",
       "      <td>Haile Gerima</td>\n",
       "      <td>Kofi Ghanaba, Oyafunmike Ogunlano, Alexandra D...</td>\n",
       "      <td>United States, Ghana, Burkina Faso, United Kin...</td>\n",
       "      <td>September 24, 2021</td>\n",
       "      <td>1993</td>\n",
       "      <td>TV-MA</td>\n",
       "      <td>125 min</td>\n",
       "      <td>Dramas, Independent Movies, International Movies</td>\n",
       "      <td>On a photo shoot in Ghana, an American model s...</td>\n",
       "      <td>2021</td>\n",
       "      <td>September</td>\n",
       "      <td>Adults</td>\n",
       "      <td>United</td>\n",
       "    </tr>\n",
       "    <tr>\n",
       "      <th>9</th>\n",
       "      <td>s10</td>\n",
       "      <td>Movie</td>\n",
       "      <td>The Starling</td>\n",
       "      <td>Theodore Melfi</td>\n",
       "      <td>Melissa McCarthy, Chris O'Dowd, Kevin Kline, T...</td>\n",
       "      <td>United States</td>\n",
       "      <td>September 24, 2021</td>\n",
       "      <td>2021</td>\n",
       "      <td>PG-13</td>\n",
       "      <td>104 min</td>\n",
       "      <td>Comedies, Dramas</td>\n",
       "      <td>A woman adjusting to life after a loss contend...</td>\n",
       "      <td>2021</td>\n",
       "      <td>September</td>\n",
       "      <td>Teens</td>\n",
       "      <td>United</td>\n",
       "    </tr>\n",
       "    <tr>\n",
       "      <th>12</th>\n",
       "      <td>s13</td>\n",
       "      <td>Movie</td>\n",
       "      <td>Je Suis Karl</td>\n",
       "      <td>Christian Schwochow</td>\n",
       "      <td>Luna Wedler, Jannis Niewöhner, Milan Peschel, ...</td>\n",
       "      <td>Germany, Czech Republic</td>\n",
       "      <td>September 23, 2021</td>\n",
       "      <td>2021</td>\n",
       "      <td>TV-MA</td>\n",
       "      <td>127 min</td>\n",
       "      <td>Dramas, International Movies</td>\n",
       "      <td>After most of her family is murdered in a terr...</td>\n",
       "      <td>2021</td>\n",
       "      <td>September</td>\n",
       "      <td>Adults</td>\n",
       "      <td>Germany,</td>\n",
       "    </tr>\n",
       "  </tbody>\n",
       "</table>\n",
       "</div>"
      ],
      "text/plain": [
       "   show_id   type                             title  \\\n",
       "0       s1  Movie              Dick Johnson Is Dead   \n",
       "6       s7  Movie  My Little Pony: A New Generation   \n",
       "7       s8  Movie                           Sankofa   \n",
       "9      s10  Movie                      The Starling   \n",
       "12     s13  Movie                      Je Suis Karl   \n",
       "\n",
       "                         director  \\\n",
       "0                 Kirsten Johnson   \n",
       "6   Robert Cullen, José Luis Ucha   \n",
       "7                    Haile Gerima   \n",
       "9                  Theodore Melfi   \n",
       "12            Christian Schwochow   \n",
       "\n",
       "                                                 cast  \\\n",
       "0                                  David Attenborough   \n",
       "6   Vanessa Hudgens, Kimiko Glenn, James Marsden, ...   \n",
       "7   Kofi Ghanaba, Oyafunmike Ogunlano, Alexandra D...   \n",
       "9   Melissa McCarthy, Chris O'Dowd, Kevin Kline, T...   \n",
       "12  Luna Wedler, Jannis Niewöhner, Milan Peschel, ...   \n",
       "\n",
       "                                              country          date_added  \\\n",
       "0                                       United States  September 25, 2021   \n",
       "6                                       United States  September 24, 2021   \n",
       "7   United States, Ghana, Burkina Faso, United Kin...  September 24, 2021   \n",
       "9                                       United States  September 24, 2021   \n",
       "12                            Germany, Czech Republic  September 23, 2021   \n",
       "\n",
       "    release_year rating duration  \\\n",
       "0           2020  PG-13   90 min   \n",
       "6           2021     PG   91 min   \n",
       "7           1993  TV-MA  125 min   \n",
       "9           2021  PG-13  104 min   \n",
       "12          2021  TV-MA  127 min   \n",
       "\n",
       "                                           listed_in  \\\n",
       "0                                      Documentaries   \n",
       "6                           Children & Family Movies   \n",
       "7   Dramas, Independent Movies, International Movies   \n",
       "9                                   Comedies, Dramas   \n",
       "12                      Dramas, International Movies   \n",
       "\n",
       "                                          description y_add      m_add  \\\n",
       "0   As her father nears the end of his life, filmm...  2021  September   \n",
       "6   Equestria's divided. But a bright-eyed hero be...  2021  September   \n",
       "7   On a photo shoot in Ghana, an American model s...  2021  September   \n",
       "9   A woman adjusting to life after a loss contend...  2021  September   \n",
       "12  After most of her family is murdered in a terr...  2021  September   \n",
       "\n",
       "    target_age country_main  \n",
       "0        Teens       United  \n",
       "6   Older Kids       United  \n",
       "7       Adults       United  \n",
       "9        Teens       United  \n",
       "12      Adults     Germany,  "
      ]
     },
     "execution_count": 52,
     "metadata": {},
     "output_type": "execute_result"
    }
   ],
   "source": [
    "movie_df.head()"
   ]
  },
  {
   "cell_type": "code",
   "execution_count": 53,
   "id": "1707fe32",
   "metadata": {},
   "outputs": [
    {
     "data": {
      "text/html": [
       "<div>\n",
       "<style scoped>\n",
       "    .dataframe tbody tr th:only-of-type {\n",
       "        vertical-align: middle;\n",
       "    }\n",
       "\n",
       "    .dataframe tbody tr th {\n",
       "        vertical-align: top;\n",
       "    }\n",
       "\n",
       "    .dataframe thead th {\n",
       "        text-align: right;\n",
       "    }\n",
       "</style>\n",
       "<table border=\"1\" class=\"dataframe\">\n",
       "  <thead>\n",
       "    <tr style=\"text-align: right;\">\n",
       "      <th></th>\n",
       "      <th>show_id</th>\n",
       "      <th>type</th>\n",
       "      <th>title</th>\n",
       "      <th>director</th>\n",
       "      <th>cast</th>\n",
       "      <th>country</th>\n",
       "      <th>date_added</th>\n",
       "      <th>release_year</th>\n",
       "      <th>rating</th>\n",
       "      <th>duration</th>\n",
       "      <th>listed_in</th>\n",
       "      <th>description</th>\n",
       "      <th>y_add</th>\n",
       "      <th>m_add</th>\n",
       "      <th>target_age</th>\n",
       "      <th>country_main</th>\n",
       "    </tr>\n",
       "  </thead>\n",
       "  <tbody>\n",
       "    <tr>\n",
       "      <th>1</th>\n",
       "      <td>s2</td>\n",
       "      <td>TV Show</td>\n",
       "      <td>Blood &amp; Water</td>\n",
       "      <td>Rajiv Chilaka</td>\n",
       "      <td>Ama Qamata, Khosi Ngema, Gail Mabalane, Thaban...</td>\n",
       "      <td>South Africa</td>\n",
       "      <td>September 24, 2021</td>\n",
       "      <td>2021</td>\n",
       "      <td>TV-MA</td>\n",
       "      <td>2 Seasons</td>\n",
       "      <td>International TV Shows, TV Dramas, TV Mysteries</td>\n",
       "      <td>After crossing paths at a party, a Cape Town t...</td>\n",
       "      <td>2021</td>\n",
       "      <td>September</td>\n",
       "      <td>Adults</td>\n",
       "      <td>South</td>\n",
       "    </tr>\n",
       "    <tr>\n",
       "      <th>2</th>\n",
       "      <td>s3</td>\n",
       "      <td>TV Show</td>\n",
       "      <td>Ganglands</td>\n",
       "      <td>Julien Leclercq</td>\n",
       "      <td>Sami Bouajila, Tracy Gotoas, Samuel Jouy, Nabi...</td>\n",
       "      <td>United States</td>\n",
       "      <td>September 24, 2021</td>\n",
       "      <td>2021</td>\n",
       "      <td>TV-MA</td>\n",
       "      <td>1 Season</td>\n",
       "      <td>Crime TV Shows, International TV Shows, TV Act...</td>\n",
       "      <td>To protect his family from a powerful drug lor...</td>\n",
       "      <td>2021</td>\n",
       "      <td>September</td>\n",
       "      <td>Adults</td>\n",
       "      <td>United</td>\n",
       "    </tr>\n",
       "    <tr>\n",
       "      <th>3</th>\n",
       "      <td>s4</td>\n",
       "      <td>TV Show</td>\n",
       "      <td>Jailbirds New Orleans</td>\n",
       "      <td>Rajiv Chilaka</td>\n",
       "      <td>David Attenborough</td>\n",
       "      <td>United States</td>\n",
       "      <td>September 24, 2021</td>\n",
       "      <td>2021</td>\n",
       "      <td>TV-MA</td>\n",
       "      <td>1 Season</td>\n",
       "      <td>Docuseries, Reality TV</td>\n",
       "      <td>Feuds, flirtations and toilet talk go down amo...</td>\n",
       "      <td>2021</td>\n",
       "      <td>September</td>\n",
       "      <td>Adults</td>\n",
       "      <td>United</td>\n",
       "    </tr>\n",
       "    <tr>\n",
       "      <th>4</th>\n",
       "      <td>s5</td>\n",
       "      <td>TV Show</td>\n",
       "      <td>Kota Factory</td>\n",
       "      <td>Rajiv Chilaka</td>\n",
       "      <td>Mayur More, Jitendra Kumar, Ranjan Raj, Alam K...</td>\n",
       "      <td>India</td>\n",
       "      <td>September 24, 2021</td>\n",
       "      <td>2021</td>\n",
       "      <td>TV-MA</td>\n",
       "      <td>2 Seasons</td>\n",
       "      <td>International TV Shows, Romantic TV Shows, TV ...</td>\n",
       "      <td>In a city of coaching centers known to train I...</td>\n",
       "      <td>2021</td>\n",
       "      <td>September</td>\n",
       "      <td>Adults</td>\n",
       "      <td>India</td>\n",
       "    </tr>\n",
       "    <tr>\n",
       "      <th>5</th>\n",
       "      <td>s6</td>\n",
       "      <td>TV Show</td>\n",
       "      <td>Midnight Mass</td>\n",
       "      <td>Mike Flanagan</td>\n",
       "      <td>Kate Siegel, Zach Gilford, Hamish Linklater, H...</td>\n",
       "      <td>United States</td>\n",
       "      <td>September 24, 2021</td>\n",
       "      <td>2021</td>\n",
       "      <td>TV-MA</td>\n",
       "      <td>1 Season</td>\n",
       "      <td>TV Dramas, TV Horror, TV Mysteries</td>\n",
       "      <td>The arrival of a charismatic young priest brin...</td>\n",
       "      <td>2021</td>\n",
       "      <td>September</td>\n",
       "      <td>Adults</td>\n",
       "      <td>United</td>\n",
       "    </tr>\n",
       "  </tbody>\n",
       "</table>\n",
       "</div>"
      ],
      "text/plain": [
       "  show_id     type                  title         director  \\\n",
       "1      s2  TV Show          Blood & Water    Rajiv Chilaka   \n",
       "2      s3  TV Show              Ganglands  Julien Leclercq   \n",
       "3      s4  TV Show  Jailbirds New Orleans    Rajiv Chilaka   \n",
       "4      s5  TV Show           Kota Factory    Rajiv Chilaka   \n",
       "5      s6  TV Show          Midnight Mass    Mike Flanagan   \n",
       "\n",
       "                                                cast        country  \\\n",
       "1  Ama Qamata, Khosi Ngema, Gail Mabalane, Thaban...   South Africa   \n",
       "2  Sami Bouajila, Tracy Gotoas, Samuel Jouy, Nabi...  United States   \n",
       "3                                 David Attenborough  United States   \n",
       "4  Mayur More, Jitendra Kumar, Ranjan Raj, Alam K...          India   \n",
       "5  Kate Siegel, Zach Gilford, Hamish Linklater, H...  United States   \n",
       "\n",
       "           date_added  release_year rating   duration  \\\n",
       "1  September 24, 2021          2021  TV-MA  2 Seasons   \n",
       "2  September 24, 2021          2021  TV-MA   1 Season   \n",
       "3  September 24, 2021          2021  TV-MA   1 Season   \n",
       "4  September 24, 2021          2021  TV-MA  2 Seasons   \n",
       "5  September 24, 2021          2021  TV-MA   1 Season   \n",
       "\n",
       "                                           listed_in  \\\n",
       "1    International TV Shows, TV Dramas, TV Mysteries   \n",
       "2  Crime TV Shows, International TV Shows, TV Act...   \n",
       "3                             Docuseries, Reality TV   \n",
       "4  International TV Shows, Romantic TV Shows, TV ...   \n",
       "5                 TV Dramas, TV Horror, TV Mysteries   \n",
       "\n",
       "                                         description y_add      m_add  \\\n",
       "1  After crossing paths at a party, a Cape Town t...  2021  September   \n",
       "2  To protect his family from a powerful drug lor...  2021  September   \n",
       "3  Feuds, flirtations and toilet talk go down amo...  2021  September   \n",
       "4  In a city of coaching centers known to train I...  2021  September   \n",
       "5  The arrival of a charismatic young priest brin...  2021  September   \n",
       "\n",
       "  target_age country_main  \n",
       "1     Adults        South  \n",
       "2     Adults       United  \n",
       "3     Adults       United  \n",
       "4     Adults        India  \n",
       "5     Adults       United  "
      ]
     },
     "execution_count": 53,
     "metadata": {},
     "output_type": "execute_result"
    }
   ],
   "source": [
    "TV_df.head()"
   ]
  },
  {
   "cell_type": "code",
   "execution_count": 54,
   "id": "937bb187",
   "metadata": {},
   "outputs": [
    {
     "name": "stdout",
     "output_type": "stream",
     "text": [
      "0         Movie\n",
      "1       TV Show\n",
      "2       TV Show\n",
      "3       TV Show\n",
      "4       TV Show\n",
      "         ...   \n",
      "8802      Movie\n",
      "8803    TV Show\n",
      "8804      Movie\n",
      "8805      Movie\n",
      "8806      Movie\n",
      "Name: type, Length: 8807, dtype: object\n"
     ]
    }
   ],
   "source": [
    "print(df['type'])"
   ]
  },
  {
   "cell_type": "markdown",
   "id": "e62c578e",
   "metadata": {},
   "source": [
    "# Data Visualization"
   ]
  },
  {
   "cell_type": "markdown",
   "id": "f29a4b81",
   "metadata": {},
   "source": [
    "### Initial Insights "
   ]
  },
  {
   "cell_type": "code",
   "execution_count": 55,
   "id": "17100f34",
   "metadata": {},
   "outputs": [
    {
     "data": {
      "image/png": "[encoded data removed]",
      "text/plain": [
       "<Figure size 640x480 with 1 Axes>"
      ]
     },
     "metadata": {},
     "output_type": "display_data"
    }
   ],
   "source": [
    "type_count =df['type'].value_counts()\n",
    "plt.pie(type_count, labels=type_count.index, autopct='%1.1f%%', colors=['blue','yellow'], startangle=90)\n",
    "plt.title('Distribution Movies vs TV Shows')\n",
    "plt.axis('equal')\n",
    "plt.show()"
   ]
  },
  {
   "cell_type": "markdown",
   "id": "9cfacfe3",
   "metadata": {},
   "source": [
    "- Conclusion:-- As we can see, the content on Netflix dataset has 30.4% TV shows and 69.6% Movies."
   ]
  },
  {
   "cell_type": "code",
   "execution_count": 56,
   "id": "bd16f227",
   "metadata": {},
   "outputs": [
    {
     "data": {
      "application/vnd.plotly.v1+json": {
       "config": {
        "plotlyServerURL": "https://plot.ly"
       },
       "data": [
        {
         "domain": {
          "x": [
           0,
           1
          ],
          "y": [
           0,
           1
          ]
         },
         "hovertemplate": "country_main=%{label}<br>count=%{value}<extra></extra>",
         "labels": [
          "United",
          "India",
          "South",
          "Japan",
          "Canada",
          "Spain",
          "France",
          "Mexico",
          "Egypt",
          "Turkey",
          "Nigeria",
          "Canada,"
         ],
         "legendgroup": "",
         "marker": {
          "line": {
           "color": "white",
           "width": 1
          }
         },
         "name": "",
         "showlegend": true,
         "textinfo": "percent+label",
         "textposition": "inside",
         "type": "pie",
         "values": [
          4691,
          972,
          252,
          245,
          181,
          145,
          124,
          110,
          106,
          105,
          95,
          90
         ]
        }
       ],
       "layout": {
        "legend": {
         "tracegroupgap": 0
        },
        "margin": {
         "t": 60
        },
        "piecolorway": [
         "rgb(103,0,31)",
         "rgb(178,24,43)",
         "rgb(214,96,77)",
         "rgb(244,165,130)",
         "rgb(253,219,199)",
         "rgb(247,247,247)",
         "rgb(209,229,240)",
         "rgb(146,197,222)",
         "rgb(67,147,195)",
         "rgb(33,102,172)",
         "rgb(5,48,97)"
        ],
        "template": {
         "data": {
          "bar": [
           {
            "error_x": {
             "color": "#2a3f5f"
            },
            "error_y": {
             "color": "#2a3f5f"
            },
            "marker": {
             "line": {
              "color": "#E5ECF6",
              "width": 0.5
             },
             "pattern": {
              "fillmode": "overlay",
              "size": 10,
              "solidity": 0.2
             }
            },
            "type": "bar"
           }
          ],
          "barpolar": [
           {
            "marker": {
             "line": {
              "color": "#E5ECF6",
              "width": 0.5
             },
             "pattern": {
              "fillmode": "overlay",
              "size": 10,
              "solidity": 0.2
             }
            },
            "type": "barpolar"
           }
          ],
          "carpet": [
           {
            "aaxis": {
             "endlinecolor": "#2a3f5f",
             "gridcolor": "white",
             "linecolor": "white",
             "minorgridcolor": "white",
             "startlinecolor": "#2a3f5f"
            },
            "baxis": {
             "endlinecolor": "#2a3f5f",
             "gridcolor": "white",
             "linecolor": "white",
             "minorgridcolor": "white",
             "startlinecolor": "#2a3f5f"
            },
            "type": "carpet"
           }
          ],
          "choropleth": [
           {
            "colorbar": {
             "outlinewidth": 0,
             "ticks": ""
            },
            "type": "choropleth"
           }
          ],
          "contour": [
           {
            "colorbar": {
             "outlinewidth": 0,
             "ticks": ""
            },
            "colorscale": [
             [
              0,
              "#0d0887"
             ],
             [
              0.1111111111111111,
              "#46039f"
             ],
             [
              0.2222222222222222,
              "#7201a8"
             ],
             [
              0.3333333333333333,
              "#9c179e"
             ],
             [
              0.4444444444444444,
              "#bd3786"
             ],
             [
              0.5555555555555556,
              "#d8576b"
             ],
             [
              0.6666666666666666,
              "#ed7953"
             ],
             [
              0.7777777777777778,
              "#fb9f3a"
             ],
             [
              0.8888888888888888,
              "#fdca26"
             ],
             [
              1,
              "#f0f921"
             ]
            ],
            "type": "contour"
           }
          ],
          "contourcarpet": [
           {
            "colorbar": {
             "outlinewidth": 0,
             "ticks": ""
            },
            "type": "contourcarpet"
           }
          ],
          "heatmap": [
           {
            "colorbar": {
             "outlinewidth": 0,
             "ticks": ""
            },
            "colorscale": [
             [
              0,
              "#0d0887"
             ],
             [
              0.1111111111111111,
              "#46039f"
             ],
             [
              0.2222222222222222,
              "#7201a8"
             ],
             [
              0.3333333333333333,
              "#9c179e"
             ],
             [
              0.4444444444444444,
              "#bd3786"
             ],
             [
              0.5555555555555556,
              "#d8576b"
             ],
             [
              0.6666666666666666,
              "#ed7953"
             ],
             [
              0.7777777777777778,
              "#fb9f3a"
             ],
             [
              0.8888888888888888,
              "#fdca26"
             ],
             [
              1,
              "#f0f921"
             ]
            ],
            "type": "heatmap"
           }
          ],
          "heatmapgl": [
           {
            "colorbar": {
             "outlinewidth": 0,
             "ticks": ""
            },
            "colorscale": [
             [
              0,
              "#0d0887"
             ],
             [
              0.1111111111111111,
              "#46039f"
             ],
             [
              0.2222222222222222,
              "#7201a8"
             ],
             [
              0.3333333333333333,
              "#9c179e"
             ],
             [
              0.4444444444444444,
              "#bd3786"
             ],
             [
              0.5555555555555556,
              "#d8576b"
             ],
             [
              0.6666666666666666,
              "#ed7953"
             ],
             [
              0.7777777777777778,
              "#fb9f3a"
             ],
             [
              0.8888888888888888,
              "#fdca26"
             ],
             [
              1,
              "#f0f921"
             ]
            ],
            "type": "heatmapgl"
           }
          ],
          "histogram": [
           {
            "marker": {
             "pattern": {
              "fillmode": "overlay",
              "size": 10,
              "solidity": 0.2
             }
            },
            "type": "histogram"
           }
          ],
          "histogram2d": [
           {
            "colorbar": {
             "outlinewidth": 0,
             "ticks": ""
            },
            "colorscale": [
             [
              0,
              "#0d0887"
             ],
             [
              0.1111111111111111,
              "#46039f"
             ],
             [
              0.2222222222222222,
              "#7201a8"
             ],
             [
              0.3333333333333333,
              "#9c179e"
             ],
             [
              0.4444444444444444,
              "#bd3786"
             ],
             [
              0.5555555555555556,
              "#d8576b"
             ],
             [
              0.6666666666666666,
              "#ed7953"
             ],
             [
              0.7777777777777778,
              "#fb9f3a"
             ],
             [
              0.8888888888888888,
              "#fdca26"
             ],
             [
              1,
              "#f0f921"
             ]
            ],
            "type": "histogram2d"
           }
          ],
          "histogram2dcontour": [
           {
            "colorbar": {
             "outlinewidth": 0,
             "ticks": ""
            },
            "colorscale": [
             [
              0,
              "#0d0887"
             ],
             [
              0.1111111111111111,
              "#46039f"
             ],
             [
              0.2222222222222222,
              "#7201a8"
             ],
             [
              0.3333333333333333,
              "#9c179e"
             ],
             [
              0.4444444444444444,
              "#bd3786"
             ],
             [
              0.5555555555555556,
              "#d8576b"
             ],
             [
              0.6666666666666666,
              "#ed7953"
             ],
             [
              0.7777777777777778,
              "#fb9f3a"
             ],
             [
              0.8888888888888888,
              "#fdca26"
             ],
             [
              1,
              "#f0f921"
             ]
            ],
            "type": "histogram2dcontour"
           }
          ],
          "mesh3d": [
           {
            "colorbar": {
             "outlinewidth": 0,
             "ticks": ""
            },
            "type": "mesh3d"
           }
          ],
          "parcoords": [
           {
            "line": {
             "colorbar": {
              "outlinewidth": 0,
              "ticks": ""
             }
            },
            "type": "parcoords"
           }
          ],
          "pie": [
           {
            "automargin": true,
            "type": "pie"
           }
          ],
          "scatter": [
           {
            "fillpattern": {
             "fillmode": "overlay",
             "size": 10,
             "solidity": 0.2
            },
            "type": "scatter"
           }
          ],
          "scatter3d": [
           {
            "line": {
             "colorbar": {
              "outlinewidth": 0,
              "ticks": ""
             }
            },
            "marker": {
             "colorbar": {
              "outlinewidth": 0,
              "ticks": ""
             }
            },
            "type": "scatter3d"
           }
          ],
          "scattercarpet": [
           {
            "marker": {
             "colorbar": {
              "outlinewidth": 0,
              "ticks": ""
             }
            },
            "type": "scattercarpet"
           }
          ],
          "scattergeo": [
           {
            "marker": {
             "colorbar": {
              "outlinewidth": 0,
              "ticks": ""
             }
            },
            "type": "scattergeo"
           }
          ],
          "scattergl": [
           {
            "marker": {
             "colorbar": {
              "outlinewidth": 0,
              "ticks": ""
             }
            },
            "type": "scattergl"
           }
          ],
          "scattermapbox": [
           {
            "marker": {
             "colorbar": {
              "outlinewidth": 0,
              "ticks": ""
             }
            },
            "type": "scattermapbox"
           }
          ],
          "scatterpolar": [
           {
            "marker": {
             "colorbar": {
              "outlinewidth": 0,
              "ticks": ""
             }
            },
            "type": "scatterpolar"
           }
          ],
          "scatterpolargl": [
           {
            "marker": {
             "colorbar": {
              "outlinewidth": 0,
              "ticks": ""
             }
            },
            "type": "scatterpolargl"
           }
          ],
          "scatterternary": [
           {
            "marker": {
             "colorbar": {
              "outlinewidth": 0,
              "ticks": ""
             }
            },
            "type": "scatterternary"
           }
          ],
          "surface": [
           {
            "colorbar": {
             "outlinewidth": 0,
             "ticks": ""
            },
            "colorscale": [
             [
              0,
              "#0d0887"
             ],
             [
              0.1111111111111111,
              "#46039f"
             ],
             [
              0.2222222222222222,
              "#7201a8"
             ],
             [
              0.3333333333333333,
              "#9c179e"
             ],
             [
              0.4444444444444444,
              "#bd3786"
             ],
             [
              0.5555555555555556,
              "#d8576b"
             ],
             [
              0.6666666666666666,
              "#ed7953"
             ],
             [
              0.7777777777777778,
              "#fb9f3a"
             ],
             [
              0.8888888888888888,
              "#fdca26"
             ],
             [
              1,
              "#f0f921"
             ]
            ],
            "type": "surface"
           }
          ],
          "table": [
           {
            "cells": {
             "fill": {
              "color": "#EBF0F8"
             },
             "line": {
              "color": "white"
             }
            },
            "header": {
             "fill": {
              "color": "#C8D4E3"
             },
             "line": {
              "color": "white"
             }
            },
            "type": "table"
           }
          ]
         },
         "layout": {
          "annotationdefaults": {
           "arrowcolor": "#2a3f5f",
           "arrowhead": 0,
           "arrowwidth": 1
          },
          "autotypenumbers": "strict",
          "coloraxis": {
           "colorbar": {
            "outlinewidth": 0,
            "ticks": ""
           }
          },
          "colorscale": {
           "diverging": [
            [
             0,
             "#8e0152"
            ],
            [
             0.1,
             "#c51b7d"
            ],
            [
             0.2,
             "#de77ae"
            ],
            [
             0.3,
             "#f1b6da"
            ],
            [
             0.4,
             "#fde0ef"
            ],
            [
             0.5,
             "#f7f7f7"
            ],
            [
             0.6,
             "#e6f5d0"
            ],
            [
             0.7,
             "#b8e186"
            ],
            [
             0.8,
             "#7fbc41"
            ],
            [
             0.9,
             "#4d9221"
            ],
            [
             1,
             "#276419"
            ]
           ],
           "sequential": [
            [
             0,
             "#0d0887"
            ],
            [
             0.1111111111111111,
             "#46039f"
            ],
            [
             0.2222222222222222,
             "#7201a8"
            ],
            [
             0.3333333333333333,
             "#9c179e"
            ],
            [
             0.4444444444444444,
             "#bd3786"
            ],
            [
             0.5555555555555556,
             "#d8576b"
            ],
            [
             0.6666666666666666,
             "#ed7953"
            ],
            [
             0.7777777777777778,
             "#fb9f3a"
            ],
            [
             0.8888888888888888,
             "#fdca26"
            ],
            [
             1,
             "#f0f921"
            ]
           ],
           "sequentialminus": [
            [
             0,
             "#0d0887"
            ],
            [
             0.1111111111111111,
             "#46039f"
            ],
            [
             0.2222222222222222,
             "#7201a8"
            ],
            [
             0.3333333333333333,
             "#9c179e"
            ],
            [
             0.4444444444444444,
             "#bd3786"
            ],
            [
             0.5555555555555556,
             "#d8576b"
            ],
            [
             0.6666666666666666,
             "#ed7953"
            ],
            [
             0.7777777777777778,
             "#fb9f3a"
            ],
            [
             0.8888888888888888,
             "#fdca26"
            ],
            [
             1,
             "#f0f921"
            ]
           ]
          },
          "colorway": [
           "#636efa",
           "#EF553B",
           "#00cc96",
           "#ab63fa",
           "#FFA15A",
           "#19d3f3",
           "#FF6692",
           "#B6E880",
           "#FF97FF",
           "#FECB52"
          ],
          "font": {
           "color": "#2a3f5f"
          },
          "geo": {
           "bgcolor": "white",
           "lakecolor": "white",
           "landcolor": "#E5ECF6",
           "showlakes": true,
           "showland": true,
           "subunitcolor": "white"
          },
          "hoverlabel": {
           "align": "left"
          },
          "hovermode": "closest",
          "mapbox": {
           "style": "light"
          },
          "paper_bgcolor": "white",
          "plot_bgcolor": "#E5ECF6",
          "polar": {
           "angularaxis": {
            "gridcolor": "white",
            "linecolor": "white",
            "ticks": ""
           },
           "bgcolor": "#E5ECF6",
           "radialaxis": {
            "gridcolor": "white",
            "linecolor": "white",
            "ticks": ""
           }
          },
          "scene": {
           "xaxis": {
            "backgroundcolor": "#E5ECF6",
            "gridcolor": "white",
            "gridwidth": 2,
            "linecolor": "white",
            "showbackground": true,
            "ticks": "",
            "zerolinecolor": "white"
           },
           "yaxis": {
            "backgroundcolor": "#E5ECF6",
            "gridcolor": "white",
            "gridwidth": 2,
            "linecolor": "white",
            "showbackground": true,
            "ticks": "",
            "zerolinecolor": "white"
           },
           "zaxis": {
            "backgroundcolor": "#E5ECF6",
            "gridcolor": "white",
            "gridwidth": 2,
            "linecolor": "white",
            "showbackground": true,
            "ticks": "",
            "zerolinecolor": "white"
           }
          },
          "shapedefaults": {
           "line": {
            "color": "#2a3f5f"
           }
          },
          "ternary": {
           "aaxis": {
            "gridcolor": "white",
            "linecolor": "white",
            "ticks": ""
           },
           "baxis": {
            "gridcolor": "white",
            "linecolor": "white",
            "ticks": ""
           },
           "bgcolor": "#E5ECF6",
           "caxis": {
            "gridcolor": "white",
            "linecolor": "white",
            "ticks": ""
           }
          },
          "title": {
           "x": 0.05
          },
          "xaxis": {
           "automargin": true,
           "gridcolor": "white",
           "linecolor": "white",
           "ticks": "",
           "title": {
            "standoff": 15
           },
           "zerolinecolor": "white",
           "zerolinewidth": 2
          },
          "yaxis": {
           "automargin": true,
           "gridcolor": "white",
           "linecolor": "white",
           "ticks": "",
           "title": {
            "standoff": 15
           },
           "zerolinecolor": "white",
           "zerolinewidth": 2
          }
         }
        }
       }
      }
     },
     "metadata": {},
     "output_type": "display_data"
    }
   ],
   "source": [
    "import plotly.express as px\n",
    "\n",
    "country_df = df['country_main'].value_counts().reset_index()\n",
    "country_df.columns = ['country_main', 'count']\n",
    "\n",
    "# Filter only countries > 1%\n",
    "country_df = country_df[country_df['count'] / country_df['count'].sum() > 0.01]\n",
    "\n",
    "# Plot pie chart\n",
    "fig = px.pie(country_df, values='count', names='country_main', color_discrete_sequence=px.colors.sequential.RdBu)\n",
    "fig.update_traces(textposition='inside', textinfo='percent+label', marker=dict(line=dict(color='white', width=1)))\n",
    "\n",
    "fig.show()\n"
   ]
  },
  {
   "cell_type": "markdown",
   "id": "f17ec93e",
   "metadata": {},
   "source": [
    "- Conclusion :\n",
    "\n",
    "After analyzing the dataset based on the country of production, it's clear that the United States leads by a huge margin, accounting for about 65.9% of the total content. This shows just how dominant the U.S. is when it comes to contributing content to the platform.\n",
    "\n",
    "India comes in second with a 13.7% share, which is still a significant contribution when compared to the other countries.\n",
    "\n",
    "Meanwhile, countries like South Korea, Japan, Canada, Spain, France, Mexico, Egypt, Turkey, and Nigeria contribute much smaller portions, each making up less than 5% of the overall content.\n",
    "\n",
    "Note: We handled the missing (NaN) values in the country_main column using the mean method, which may have slightly boosted the United States' percentage."
   ]
  },
  {
   "cell_type": "code",
   "execution_count": 57,
   "id": "1e00afb6",
   "metadata": {},
   "outputs": [
    {
     "data": {
      "application/vnd.plotly.v1+json": {
       "config": {
        "plotlyServerURL": "https://plot.ly"
       },
       "data": [
        {
         "domain": {
          "x": [
           0,
           1
          ],
          "y": [
           0,
           1
          ]
         },
         "hovertemplate": "y_add=%{label}<br>count=%{value}<extra></extra>",
         "labels": [
          "2019",
          "2020",
          "2018",
          "2021",
          "2017",
          "2016"
         ],
         "legendgroup": "",
         "marker": {
          "line": {
           "color": "white",
           "width": 1
          }
         },
         "name": "",
         "showlegend": true,
         "textinfo": "percent+label",
         "textposition": "inside",
         "type": "pie",
         "values": [
          2016,
          1889,
          1649,
          1498,
          1188,
          429
         ]
        }
       ],
       "layout": {
        "legend": {
         "tracegroupgap": 0
        },
        "margin": {
         "t": 60
        },
        "piecolorway": [
         "rgb(103,0,31)",
         "rgb(178,24,43)",
         "rgb(214,96,77)",
         "rgb(244,165,130)",
         "rgb(253,219,199)",
         "rgb(247,247,247)",
         "rgb(209,229,240)",
         "rgb(146,197,222)",
         "rgb(67,147,195)",
         "rgb(33,102,172)",
         "rgb(5,48,97)"
        ],
        "template": {
         "data": {
          "bar": [
           {
            "error_x": {
             "color": "#2a3f5f"
            },
            "error_y": {
             "color": "#2a3f5f"
            },
            "marker": {
             "line": {
              "color": "#E5ECF6",
              "width": 0.5
             },
             "pattern": {
              "fillmode": "overlay",
              "size": 10,
              "solidity": 0.2
             }
            },
            "type": "bar"
           }
          ],
          "barpolar": [
           {
            "marker": {
             "line": {
              "color": "#E5ECF6",
              "width": 0.5
             },
             "pattern": {
              "fillmode": "overlay",
              "size": 10,
              "solidity": 0.2
             }
            },
            "type": "barpolar"
           }
          ],
          "carpet": [
           {
            "aaxis": {
             "endlinecolor": "#2a3f5f",
             "gridcolor": "white",
             "linecolor": "white",
             "minorgridcolor": "white",
             "startlinecolor": "#2a3f5f"
            },
            "baxis": {
             "endlinecolor": "#2a3f5f",
             "gridcolor": "white",
             "linecolor": "white",
             "minorgridcolor": "white",
             "startlinecolor": "#2a3f5f"
            },
            "type": "carpet"
           }
          ],
          "choropleth": [
           {
            "colorbar": {
             "outlinewidth": 0,
             "ticks": ""
            },
            "type": "choropleth"
           }
          ],
          "contour": [
           {
            "colorbar": {
             "outlinewidth": 0,
             "ticks": ""
            },
            "colorscale": [
             [
              0,
              "#0d0887"
             ],
             [
              0.1111111111111111,
              "#46039f"
             ],
             [
              0.2222222222222222,
              "#7201a8"
             ],
             [
              0.3333333333333333,
              "#9c179e"
             ],
             [
              0.4444444444444444,
              "#bd3786"
             ],
             [
              0.5555555555555556,
              "#d8576b"
             ],
             [
              0.6666666666666666,
              "#ed7953"
             ],
             [
              0.7777777777777778,
              "#fb9f3a"
             ],
             [
              0.8888888888888888,
              "#fdca26"
             ],
             [
              1,
              "#f0f921"
             ]
            ],
            "type": "contour"
           }
          ],
          "contourcarpet": [
           {
            "colorbar": {
             "outlinewidth": 0,
             "ticks": ""
            },
            "type": "contourcarpet"
           }
          ],
          "heatmap": [
           {
            "colorbar": {
             "outlinewidth": 0,
             "ticks": ""
            },
            "colorscale": [
             [
              0,
              "#0d0887"
             ],
             [
              0.1111111111111111,
              "#46039f"
             ],
             [
              0.2222222222222222,
              "#7201a8"
             ],
             [
              0.3333333333333333,
              "#9c179e"
             ],
             [
              0.4444444444444444,
              "#bd3786"
             ],
             [
              0.5555555555555556,
              "#d8576b"
             ],
             [
              0.6666666666666666,
              "#ed7953"
             ],
             [
              0.7777777777777778,
              "#fb9f3a"
             ],
             [
              0.8888888888888888,
              "#fdca26"
             ],
             [
              1,
              "#f0f921"
             ]
            ],
            "type": "heatmap"
           }
          ],
          "heatmapgl": [
           {
            "colorbar": {
             "outlinewidth": 0,
             "ticks": ""
            },
            "colorscale": [
             [
              0,
              "#0d0887"
             ],
             [
              0.1111111111111111,
              "#46039f"
             ],
             [
              0.2222222222222222,
              "#7201a8"
             ],
             [
              0.3333333333333333,
              "#9c179e"
             ],
             [
              0.4444444444444444,
              "#bd3786"
             ],
             [
              0.5555555555555556,
              "#d8576b"
             ],
             [
              0.6666666666666666,
              "#ed7953"
             ],
             [
              0.7777777777777778,
              "#fb9f3a"
             ],
             [
              0.8888888888888888,
              "#fdca26"
             ],
             [
              1,
              "#f0f921"
             ]
            ],
            "type": "heatmapgl"
           }
          ],
          "histogram": [
           {
            "marker": {
             "pattern": {
              "fillmode": "overlay",
              "size": 10,
              "solidity": 0.2
             }
            },
            "type": "histogram"
           }
          ],
          "histogram2d": [
           {
            "colorbar": {
             "outlinewidth": 0,
             "ticks": ""
            },
            "colorscale": [
             [
              0,
              "#0d0887"
             ],
             [
              0.1111111111111111,
              "#46039f"
             ],
             [
              0.2222222222222222,
              "#7201a8"
             ],
             [
              0.3333333333333333,
              "#9c179e"
             ],
             [
              0.4444444444444444,
              "#bd3786"
             ],
             [
              0.5555555555555556,
              "#d8576b"
             ],
             [
              0.6666666666666666,
              "#ed7953"
             ],
             [
              0.7777777777777778,
              "#fb9f3a"
             ],
             [
              0.8888888888888888,
              "#fdca26"
             ],
             [
              1,
              "#f0f921"
             ]
            ],
            "type": "histogram2d"
           }
          ],
          "histogram2dcontour": [
           {
            "colorbar": {
             "outlinewidth": 0,
             "ticks": ""
            },
            "colorscale": [
             [
              0,
              "#0d0887"
             ],
             [
              0.1111111111111111,
              "#46039f"
             ],
             [
              0.2222222222222222,
              "#7201a8"
             ],
             [
              0.3333333333333333,
              "#9c179e"
             ],
             [
              0.4444444444444444,
              "#bd3786"
             ],
             [
              0.5555555555555556,
              "#d8576b"
             ],
             [
              0.6666666666666666,
              "#ed7953"
             ],
             [
              0.7777777777777778,
              "#fb9f3a"
             ],
             [
              0.8888888888888888,
              "#fdca26"
             ],
             [
              1,
              "#f0f921"
             ]
            ],
            "type": "histogram2dcontour"
           }
          ],
          "mesh3d": [
           {
            "colorbar": {
             "outlinewidth": 0,
             "ticks": ""
            },
            "type": "mesh3d"
           }
          ],
          "parcoords": [
           {
            "line": {
             "colorbar": {
              "outlinewidth": 0,
              "ticks": ""
             }
            },
            "type": "parcoords"
           }
          ],
          "pie": [
           {
            "automargin": true,
            "type": "pie"
           }
          ],
          "scatter": [
           {
            "fillpattern": {
             "fillmode": "overlay",
             "size": 10,
             "solidity": 0.2
            },
            "type": "scatter"
           }
          ],
          "scatter3d": [
           {
            "line": {
             "colorbar": {
              "outlinewidth": 0,
              "ticks": ""
             }
            },
            "marker": {
             "colorbar": {
              "outlinewidth": 0,
              "ticks": ""
             }
            },
            "type": "scatter3d"
           }
          ],
          "scattercarpet": [
           {
            "marker": {
             "colorbar": {
              "outlinewidth": 0,
              "ticks": ""
             }
            },
            "type": "scattercarpet"
           }
          ],
          "scattergeo": [
           {
            "marker": {
             "colorbar": {
              "outlinewidth": 0,
              "ticks": ""
             }
            },
            "type": "scattergeo"
           }
          ],
          "scattergl": [
           {
            "marker": {
             "colorbar": {
              "outlinewidth": 0,
              "ticks": ""
             }
            },
            "type": "scattergl"
           }
          ],
          "scattermapbox": [
           {
            "marker": {
             "colorbar": {
              "outlinewidth": 0,
              "ticks": ""
             }
            },
            "type": "scattermapbox"
           }
          ],
          "scatterpolar": [
           {
            "marker": {
             "colorbar": {
              "outlinewidth": 0,
              "ticks": ""
             }
            },
            "type": "scatterpolar"
           }
          ],
          "scatterpolargl": [
           {
            "marker": {
             "colorbar": {
              "outlinewidth": 0,
              "ticks": ""
             }
            },
            "type": "scatterpolargl"
           }
          ],
          "scatterternary": [
           {
            "marker": {
             "colorbar": {
              "outlinewidth": 0,
              "ticks": ""
             }
            },
            "type": "scatterternary"
           }
          ],
          "surface": [
           {
            "colorbar": {
             "outlinewidth": 0,
             "ticks": ""
            },
            "colorscale": [
             [
              0,
              "#0d0887"
             ],
             [
              0.1111111111111111,
              "#46039f"
             ],
             [
              0.2222222222222222,
              "#7201a8"
             ],
             [
              0.3333333333333333,
              "#9c179e"
             ],
             [
              0.4444444444444444,
              "#bd3786"
             ],
             [
              0.5555555555555556,
              "#d8576b"
             ],
             [
              0.6666666666666666,
              "#ed7953"
             ],
             [
              0.7777777777777778,
              "#fb9f3a"
             ],
             [
              0.8888888888888888,
              "#fdca26"
             ],
             [
              1,
              "#f0f921"
             ]
            ],
            "type": "surface"
           }
          ],
          "table": [
           {
            "cells": {
             "fill": {
              "color": "#EBF0F8"
             },
             "line": {
              "color": "white"
             }
            },
            "header": {
             "fill": {
              "color": "#C8D4E3"
             },
             "line": {
              "color": "white"
             }
            },
            "type": "table"
           }
          ]
         },
         "layout": {
          "annotationdefaults": {
           "arrowcolor": "#2a3f5f",
           "arrowhead": 0,
           "arrowwidth": 1
          },
          "autotypenumbers": "strict",
          "coloraxis": {
           "colorbar": {
            "outlinewidth": 0,
            "ticks": ""
           }
          },
          "colorscale": {
           "diverging": [
            [
             0,
             "#8e0152"
            ],
            [
             0.1,
             "#c51b7d"
            ],
            [
             0.2,
             "#de77ae"
            ],
            [
             0.3,
             "#f1b6da"
            ],
            [
             0.4,
             "#fde0ef"
            ],
            [
             0.5,
             "#f7f7f7"
            ],
            [
             0.6,
             "#e6f5d0"
            ],
            [
             0.7,
             "#b8e186"
            ],
            [
             0.8,
             "#7fbc41"
            ],
            [
             0.9,
             "#4d9221"
            ],
            [
             1,
             "#276419"
            ]
           ],
           "sequential": [
            [
             0,
             "#0d0887"
            ],
            [
             0.1111111111111111,
             "#46039f"
            ],
            [
             0.2222222222222222,
             "#7201a8"
            ],
            [
             0.3333333333333333,
             "#9c179e"
            ],
            [
             0.4444444444444444,
             "#bd3786"
            ],
            [
             0.5555555555555556,
             "#d8576b"
            ],
            [
             0.6666666666666666,
             "#ed7953"
            ],
            [
             0.7777777777777778,
             "#fb9f3a"
            ],
            [
             0.8888888888888888,
             "#fdca26"
            ],
            [
             1,
             "#f0f921"
            ]
           ],
           "sequentialminus": [
            [
             0,
             "#0d0887"
            ],
            [
             0.1111111111111111,
             "#46039f"
            ],
            [
             0.2222222222222222,
             "#7201a8"
            ],
            [
             0.3333333333333333,
             "#9c179e"
            ],
            [
             0.4444444444444444,
             "#bd3786"
            ],
            [
             0.5555555555555556,
             "#d8576b"
            ],
            [
             0.6666666666666666,
             "#ed7953"
            ],
            [
             0.7777777777777778,
             "#fb9f3a"
            ],
            [
             0.8888888888888888,
             "#fdca26"
            ],
            [
             1,
             "#f0f921"
            ]
           ]
          },
          "colorway": [
           "#636efa",
           "#EF553B",
           "#00cc96",
           "#ab63fa",
           "#FFA15A",
           "#19d3f3",
           "#FF6692",
           "#B6E880",
           "#FF97FF",
           "#FECB52"
          ],
          "font": {
           "color": "#2a3f5f"
          },
          "geo": {
           "bgcolor": "white",
           "lakecolor": "white",
           "landcolor": "#E5ECF6",
           "showlakes": true,
           "showland": true,
           "subunitcolor": "white"
          },
          "hoverlabel": {
           "align": "left"
          },
          "hovermode": "closest",
          "mapbox": {
           "style": "light"
          },
          "paper_bgcolor": "white",
          "plot_bgcolor": "#E5ECF6",
          "polar": {
           "angularaxis": {
            "gridcolor": "white",
            "linecolor": "white",
            "ticks": ""
           },
           "bgcolor": "#E5ECF6",
           "radialaxis": {
            "gridcolor": "white",
            "linecolor": "white",
            "ticks": ""
           }
          },
          "scene": {
           "xaxis": {
            "backgroundcolor": "#E5ECF6",
            "gridcolor": "white",
            "gridwidth": 2,
            "linecolor": "white",
            "showbackground": true,
            "ticks": "",
            "zerolinecolor": "white"
           },
           "yaxis": {
            "backgroundcolor": "#E5ECF6",
            "gridcolor": "white",
            "gridwidth": 2,
            "linecolor": "white",
            "showbackground": true,
            "ticks": "",
            "zerolinecolor": "white"
           },
           "zaxis": {
            "backgroundcolor": "#E5ECF6",
            "gridcolor": "white",
            "gridwidth": 2,
            "linecolor": "white",
            "showbackground": true,
            "ticks": "",
            "zerolinecolor": "white"
           }
          },
          "shapedefaults": {
           "line": {
            "color": "#2a3f5f"
           }
          },
          "ternary": {
           "aaxis": {
            "gridcolor": "white",
            "linecolor": "white",
            "ticks": ""
           },
           "baxis": {
            "gridcolor": "white",
            "linecolor": "white",
            "ticks": ""
           },
           "bgcolor": "#E5ECF6",
           "caxis": {
            "gridcolor": "white",
            "linecolor": "white",
            "ticks": ""
           }
          },
          "title": {
           "x": 0.05
          },
          "xaxis": {
           "automargin": true,
           "gridcolor": "white",
           "linecolor": "white",
           "ticks": "",
           "title": {
            "standoff": 15
           },
           "zerolinecolor": "white",
           "zerolinewidth": 2
          },
          "yaxis": {
           "automargin": true,
           "gridcolor": "white",
           "linecolor": "white",
           "ticks": "",
           "title": {
            "standoff": 15
           },
           "zerolinecolor": "white",
           "zerolinewidth": 2
          }
         }
        }
       }
      }
     },
     "metadata": {},
     "output_type": "display_data"
    }
   ],
   "source": [
    "country_df = df['y_add'].value_counts().reset_index()\n",
    "country_df.columns = ['y_add', 'count']\n",
    "\n",
    "# Filter only countries > 1%\n",
    "country_df = country_df[country_df['count'] / country_df['count'].sum() > 0.01]\n",
    "\n",
    "# Plot pie chart\n",
    "fig = px.pie(country_df, values='count', names='y_add', color_discrete_sequence=px.colors.sequential.RdBu)\n",
    "fig.update_traces(textposition='inside', textinfo='percent+label', marker=dict(line=dict(color='white', width=1)))\n",
    "\n",
    "\n",
    "fig.show()"
   ]
  },
  {
   "cell_type": "markdown",
   "id": "4087f04b",
   "metadata": {},
   "source": [
    "- Conclusion\n",
    "\n",
    "After analyzing the dataset based on the number of titles added on Netflix per year, we observe the following trends:\n",
    "\n",
    "2019 stands out as the peak year, contributing the highest share at 23.3% of the total content additions.\n",
    "\n",
    "2020 follows closely with 21.8%, reflecting the platform’s continued strong growth even during the pandemic.\n",
    "\n",
    "2018 also showed significant activity with 19% of the titles added.\n",
    "\n",
    "In 2021, the contribution slightly decreased to 17.3%, possibly reflecting shifts in production and strategy post-pandemic.\n",
    "\n",
    "2017 accounted for 13.7%, showing steady growth compared to the earlier years.\n",
    "\n",
    "2016 contributed the least, with just 4.95% of the total content.\n",
    "\n",
    "Insight:\n",
    "The data clearly shows Netflix aggressively expanded its content library between 2018 and 2020, with 2019 being the most active year. Post-2020, there’s a slight decline, which may be influenced by market saturation or strategic changes in content acquisition"
   ]
  },
  {
   "cell_type": "code",
   "execution_count": 58,
   "id": "ea1edfd7",
   "metadata": {},
   "outputs": [],
   "source": [
    "def generate_df(df):\n",
    "    new_df = df.groupby(['y_add', 'm_add']).agg({'show_id': 'count'}).reset_index()\n",
    "    new_df = new_df[new_df['show_id'] != 0]\n",
    "    new_df.columns = ['y_add', 'm_add', 'counts']\n",
    "    new_df = new_df.sort_values('y_add')\n",
    "    return new_df"
   ]
  },
  {
   "cell_type": "code",
   "execution_count": 59,
   "id": "61691896",
   "metadata": {},
   "outputs": [
    {
     "data": {
      "application/vnd.plotly.v1+json": {
       "config": {
        "plotlyServerURL": "https://plot.ly"
       },
       "data": [
        {
         "domain": {
          "x": [
           0,
           0.45
          ],
          "y": [
           0,
           1
          ]
         },
         "hole": 0.4,
         "hoverinfo": "label+percent+name",
         "labels": [
          "2008",
          "2009",
          "2009",
          "2010",
          "2011",
          "2011",
          "2011",
          "2012",
          "2012",
          "2012",
          "2013",
          "2013",
          "2013",
          "2013",
          "2014",
          "2014",
          "2014",
          "2014",
          "2014",
          "2014",
          "2014",
          "2014",
          "2014",
          "2014",
          "2015",
          "2015",
          "2015",
          "2015",
          "2015",
          "2015",
          "2015",
          "2015",
          "2015",
          "2015",
          "2015",
          "2015",
          "2016",
          "2016",
          "2016",
          "2016",
          "2016",
          "2016",
          "2016",
          "2016",
          "2016",
          "2016",
          "2016",
          "2016",
          "2017",
          "2017",
          "2017",
          "2017",
          "2017",
          "2017",
          "2017",
          "2017",
          "2017",
          "2017",
          "2017",
          "2017",
          "2018",
          "2018",
          "2018",
          "2018",
          "2018",
          "2018",
          "2018",
          "2018",
          "2018",
          "2018",
          "2018",
          "2018",
          "2019",
          "2019",
          "2019",
          "2019",
          "2019",
          "2019",
          "2019",
          "2019",
          "2019",
          "2019",
          "2019",
          "2019",
          "2020",
          "2020",
          "2020",
          "2020",
          "2020",
          "2020",
          "2020",
          "2020",
          "2020",
          "2020",
          "2020",
          "2020",
          "2021",
          "2021",
          "2021",
          "2021",
          "2021",
          "2021",
          "2021",
          "2021",
          "2021"
         ],
         "marker": {
          "line": {
           "color": "white",
           "width": 2
          }
         },
         "textposition": "inside",
         "type": "pie",
         "values": [
          1,
          1,
          1,
          1,
          1,
          11,
          1,
          1,
          1,
          1,
          2,
          2,
          1,
          1,
          1,
          1,
          4,
          2,
          1,
          1,
          1,
          5,
          1,
          2,
          3,
          6,
          10,
          2,
          5,
          4,
          14,
          1,
          3,
          2,
          1,
          5,
          29,
          32,
          26,
          9,
          14,
          11,
          15,
          9,
          52,
          23,
          14,
          19,
          87,
          81,
          97,
          55,
          63,
          65,
          58,
          65,
          80,
          77,
          66,
          45,
          50,
          81,
          146,
          118,
          70,
          138,
          105,
          63,
          124,
          130,
          87,
          125,
          91,
          187,
          119,
          86,
          128,
          122,
          116,
          103,
          168,
          87,
          119,
          98,
          152,
          103,
          105,
          93,
          115,
          72,
          116,
          101,
          82,
          127,
          103,
          115,
          124,
          75,
          169,
          94,
          65,
          117,
          135,
          96,
          118
         ]
        },
        {
         "domain": {
          "x": [
           0.55,
           1
          ],
          "y": [
           0,
           1
          ]
         },
         "hole": 0.4,
         "hoverinfo": "label+percent+name",
         "labels": [
          "2008",
          "2013",
          "2013",
          "2013",
          "2013",
          "2013",
          "2014",
          "2014",
          "2014",
          "2014",
          "2015",
          "2015",
          "2015",
          "2015",
          "2015",
          "2015",
          "2015",
          "2015",
          "2016",
          "2016",
          "2016",
          "2016",
          "2016",
          "2016",
          "2016",
          "2016",
          "2016",
          "2016",
          "2016",
          "2016",
          "2016",
          "2017",
          "2017",
          "2017",
          "2017",
          "2017",
          "2017",
          "2017",
          "2017",
          "2017",
          "2017",
          "2017",
          "2017",
          "2017",
          "2018",
          "2018",
          "2018",
          "2018",
          "2018",
          "2018",
          "2018",
          "2018",
          "2018",
          "2018",
          "2018",
          "2018",
          "2018",
          "2019",
          "2019",
          "2019",
          "2019",
          "2019",
          "2019",
          "2019",
          "2019",
          "2019",
          "2019",
          "2019",
          "2019",
          "2019",
          "2020",
          "2020",
          "2020",
          "2020",
          "2020",
          "2020",
          "2020",
          "2020",
          "2020",
          "2020",
          "2020",
          "2020",
          "2020",
          "2021",
          "2021",
          "2021",
          "2021",
          "2021",
          "2021",
          "2021",
          "2021",
          "2021"
         ],
         "marker": {
          "line": {
           "color": "white",
           "width": 2
          }
         },
         "textposition": "inside",
         "type": "pie",
         "values": [
          1,
          1,
          1,
          1,
          1,
          1,
          1,
          1,
          1,
          2,
          4,
          1,
          1,
          1,
          4,
          4,
          9,
          2,
          2,
          17,
          19,
          16,
          2,
          7,
          9,
          26,
          6,
          43,
          11,
          7,
          11,
          32,
          28,
          27,
          22,
          36,
          27,
          30,
          14,
          16,
          35,
          33,
          25,
          24,
          42,
          44,
          36,
          25,
          32,
          27,
          27,
          18,
          23,
          56,
          33,
          25,
          24,
          36,
          63,
          66,
          48,
          52,
          46,
          57,
          35,
          42,
          44,
          44,
          42,
          17,
          51,
          53,
          51,
          52,
          44,
          41,
          50,
          62,
          42,
          68,
          47,
          1,
          43,
          38,
          53,
          61,
          44,
          36,
          88,
          83,
          37,
          65
         ]
        }
       ],
       "layout": {
        "annotations": [
         {
          "font": {
           "color": "black",
           "size": 17
          },
          "showarrow": false,
          "text": "Movies",
          "x": 0.18,
          "y": 0.5
         },
         {
          "font": {
           "color": "black",
           "size": 17
          },
          "showarrow": false,
          "text": "TV Shows",
          "x": 0.83,
          "y": 0.5
         }
        ],
        "template": {
         "data": {
          "bar": [
           {
            "error_x": {
             "color": "#2a3f5f"
            },
            "error_y": {
             "color": "#2a3f5f"
            },
            "marker": {
             "line": {
              "color": "#E5ECF6",
              "width": 0.5
             },
             "pattern": {
              "fillmode": "overlay",
              "size": 10,
              "solidity": 0.2
             }
            },
            "type": "bar"
           }
          ],
          "barpolar": [
           {
            "marker": {
             "line": {
              "color": "#E5ECF6",
              "width": 0.5
             },
             "pattern": {
              "fillmode": "overlay",
              "size": 10,
              "solidity": 0.2
             }
            },
            "type": "barpolar"
           }
          ],
          "carpet": [
           {
            "aaxis": {
             "endlinecolor": "#2a3f5f",
             "gridcolor": "white",
             "linecolor": "white",
             "minorgridcolor": "white",
             "startlinecolor": "#2a3f5f"
            },
            "baxis": {
             "endlinecolor": "#2a3f5f",
             "gridcolor": "white",
             "linecolor": "white",
             "minorgridcolor": "white",
             "startlinecolor": "#2a3f5f"
            },
            "type": "carpet"
           }
          ],
          "choropleth": [
           {
            "colorbar": {
             "outlinewidth": 0,
             "ticks": ""
            },
            "type": "choropleth"
           }
          ],
          "contour": [
           {
            "colorbar": {
             "outlinewidth": 0,
             "ticks": ""
            },
            "colorscale": [
             [
              0,
              "#0d0887"
             ],
             [
              0.1111111111111111,
              "#46039f"
             ],
             [
              0.2222222222222222,
              "#7201a8"
             ],
             [
              0.3333333333333333,
              "#9c179e"
             ],
             [
              0.4444444444444444,
              "#bd3786"
             ],
             [
              0.5555555555555556,
              "#d8576b"
             ],
             [
              0.6666666666666666,
              "#ed7953"
             ],
             [
              0.7777777777777778,
              "#fb9f3a"
             ],
             [
              0.8888888888888888,
              "#fdca26"
             ],
             [
              1,
              "#f0f921"
             ]
            ],
            "type": "contour"
           }
          ],
          "contourcarpet": [
           {
            "colorbar": {
             "outlinewidth": 0,
             "ticks": ""
            },
            "type": "contourcarpet"
           }
          ],
          "heatmap": [
           {
            "colorbar": {
             "outlinewidth": 0,
             "ticks": ""
            },
            "colorscale": [
             [
              0,
              "#0d0887"
             ],
             [
              0.1111111111111111,
              "#46039f"
             ],
             [
              0.2222222222222222,
              "#7201a8"
             ],
             [
              0.3333333333333333,
              "#9c179e"
             ],
             [
              0.4444444444444444,
              "#bd3786"
             ],
             [
              0.5555555555555556,
              "#d8576b"
             ],
             [
              0.6666666666666666,
              "#ed7953"
             ],
             [
              0.7777777777777778,
              "#fb9f3a"
             ],
             [
              0.8888888888888888,
              "#fdca26"
             ],
             [
              1,
              "#f0f921"
             ]
            ],
            "type": "heatmap"
           }
          ],
          "heatmapgl": [
           {
            "colorbar": {
             "outlinewidth": 0,
             "ticks": ""
            },
            "colorscale": [
             [
              0,
              "#0d0887"
             ],
             [
              0.1111111111111111,
              "#46039f"
             ],
             [
              0.2222222222222222,
              "#7201a8"
             ],
             [
              0.3333333333333333,
              "#9c179e"
             ],
             [
              0.4444444444444444,
              "#bd3786"
             ],
             [
              0.5555555555555556,
              "#d8576b"
             ],
             [
              0.6666666666666666,
              "#ed7953"
             ],
             [
              0.7777777777777778,
              "#fb9f3a"
             ],
             [
              0.8888888888888888,
              "#fdca26"
             ],
             [
              1,
              "#f0f921"
             ]
            ],
            "type": "heatmapgl"
           }
          ],
          "histogram": [
           {
            "marker": {
             "pattern": {
              "fillmode": "overlay",
              "size": 10,
              "solidity": 0.2
             }
            },
            "type": "histogram"
           }
          ],
          "histogram2d": [
           {
            "colorbar": {
             "outlinewidth": 0,
             "ticks": ""
            },
            "colorscale": [
             [
              0,
              "#0d0887"
             ],
             [
              0.1111111111111111,
              "#46039f"
             ],
             [
              0.2222222222222222,
              "#7201a8"
             ],
             [
              0.3333333333333333,
              "#9c179e"
             ],
             [
              0.4444444444444444,
              "#bd3786"
             ],
             [
              0.5555555555555556,
              "#d8576b"
             ],
             [
              0.6666666666666666,
              "#ed7953"
             ],
             [
              0.7777777777777778,
              "#fb9f3a"
             ],
             [
              0.8888888888888888,
              "#fdca26"
             ],
             [
              1,
              "#f0f921"
             ]
            ],
            "type": "histogram2d"
           }
          ],
          "histogram2dcontour": [
           {
            "colorbar": {
             "outlinewidth": 0,
             "ticks": ""
            },
            "colorscale": [
             [
              0,
              "#0d0887"
             ],
             [
              0.1111111111111111,
              "#46039f"
             ],
             [
              0.2222222222222222,
              "#7201a8"
             ],
             [
              0.3333333333333333,
              "#9c179e"
             ],
             [
              0.4444444444444444,
              "#bd3786"
             ],
             [
              0.5555555555555556,
              "#d8576b"
             ],
             [
              0.6666666666666666,
              "#ed7953"
             ],
             [
              0.7777777777777778,
              "#fb9f3a"
             ],
             [
              0.8888888888888888,
              "#fdca26"
             ],
             [
              1,
              "#f0f921"
             ]
            ],
            "type": "histogram2dcontour"
           }
          ],
          "mesh3d": [
           {
            "colorbar": {
             "outlinewidth": 0,
             "ticks": ""
            },
            "type": "mesh3d"
           }
          ],
          "parcoords": [
           {
            "line": {
             "colorbar": {
              "outlinewidth": 0,
              "ticks": ""
             }
            },
            "type": "parcoords"
           }
          ],
          "pie": [
           {
            "automargin": true,
            "type": "pie"
           }
          ],
          "scatter": [
           {
            "fillpattern": {
             "fillmode": "overlay",
             "size": 10,
             "solidity": 0.2
            },
            "type": "scatter"
           }
          ],
          "scatter3d": [
           {
            "line": {
             "colorbar": {
              "outlinewidth": 0,
              "ticks": ""
             }
            },
            "marker": {
             "colorbar": {
              "outlinewidth": 0,
              "ticks": ""
             }
            },
            "type": "scatter3d"
           }
          ],
          "scattercarpet": [
           {
            "marker": {
             "colorbar": {
              "outlinewidth": 0,
              "ticks": ""
             }
            },
            "type": "scattercarpet"
           }
          ],
          "scattergeo": [
           {
            "marker": {
             "colorbar": {
              "outlinewidth": 0,
              "ticks": ""
             }
            },
            "type": "scattergeo"
           }
          ],
          "scattergl": [
           {
            "marker": {
             "colorbar": {
              "outlinewidth": 0,
              "ticks": ""
             }
            },
            "type": "scattergl"
           }
          ],
          "scattermapbox": [
           {
            "marker": {
             "colorbar": {
              "outlinewidth": 0,
              "ticks": ""
             }
            },
            "type": "scattermapbox"
           }
          ],
          "scatterpolar": [
           {
            "marker": {
             "colorbar": {
              "outlinewidth": 0,
              "ticks": ""
             }
            },
            "type": "scatterpolar"
           }
          ],
          "scatterpolargl": [
           {
            "marker": {
             "colorbar": {
              "outlinewidth": 0,
              "ticks": ""
             }
            },
            "type": "scatterpolargl"
           }
          ],
          "scatterternary": [
           {
            "marker": {
             "colorbar": {
              "outlinewidth": 0,
              "ticks": ""
             }
            },
            "type": "scatterternary"
           }
          ],
          "surface": [
           {
            "colorbar": {
             "outlinewidth": 0,
             "ticks": ""
            },
            "colorscale": [
             [
              0,
              "#0d0887"
             ],
             [
              0.1111111111111111,
              "#46039f"
             ],
             [
              0.2222222222222222,
              "#7201a8"
             ],
             [
              0.3333333333333333,
              "#9c179e"
             ],
             [
              0.4444444444444444,
              "#bd3786"
             ],
             [
              0.5555555555555556,
              "#d8576b"
             ],
             [
              0.6666666666666666,
              "#ed7953"
             ],
             [
              0.7777777777777778,
              "#fb9f3a"
             ],
             [
              0.8888888888888888,
              "#fdca26"
             ],
             [
              1,
              "#f0f921"
             ]
            ],
            "type": "surface"
           }
          ],
          "table": [
           {
            "cells": {
             "fill": {
              "color": "#EBF0F8"
             },
             "line": {
              "color": "white"
             }
            },
            "header": {
             "fill": {
              "color": "#C8D4E3"
             },
             "line": {
              "color": "white"
             }
            },
            "type": "table"
           }
          ]
         },
         "layout": {
          "annotationdefaults": {
           "arrowcolor": "#2a3f5f",
           "arrowhead": 0,
           "arrowwidth": 1
          },
          "autotypenumbers": "strict",
          "coloraxis": {
           "colorbar": {
            "outlinewidth": 0,
            "ticks": ""
           }
          },
          "colorscale": {
           "diverging": [
            [
             0,
             "#8e0152"
            ],
            [
             0.1,
             "#c51b7d"
            ],
            [
             0.2,
             "#de77ae"
            ],
            [
             0.3,
             "#f1b6da"
            ],
            [
             0.4,
             "#fde0ef"
            ],
            [
             0.5,
             "#f7f7f7"
            ],
            [
             0.6,
             "#e6f5d0"
            ],
            [
             0.7,
             "#b8e186"
            ],
            [
             0.8,
             "#7fbc41"
            ],
            [
             0.9,
             "#4d9221"
            ],
            [
             1,
             "#276419"
            ]
           ],
           "sequential": [
            [
             0,
             "#0d0887"
            ],
            [
             0.1111111111111111,
             "#46039f"
            ],
            [
             0.2222222222222222,
             "#7201a8"
            ],
            [
             0.3333333333333333,
             "#9c179e"
            ],
            [
             0.4444444444444444,
             "#bd3786"
            ],
            [
             0.5555555555555556,
             "#d8576b"
            ],
            [
             0.6666666666666666,
             "#ed7953"
            ],
            [
             0.7777777777777778,
             "#fb9f3a"
            ],
            [
             0.8888888888888888,
             "#fdca26"
            ],
            [
             1,
             "#f0f921"
            ]
           ],
           "sequentialminus": [
            [
             0,
             "#0d0887"
            ],
            [
             0.1111111111111111,
             "#46039f"
            ],
            [
             0.2222222222222222,
             "#7201a8"
            ],
            [
             0.3333333333333333,
             "#9c179e"
            ],
            [
             0.4444444444444444,
             "#bd3786"
            ],
            [
             0.5555555555555556,
             "#d8576b"
            ],
            [
             0.6666666666666666,
             "#ed7953"
            ],
            [
             0.7777777777777778,
             "#fb9f3a"
            ],
            [
             0.8888888888888888,
             "#fdca26"
            ],
            [
             1,
             "#f0f921"
            ]
           ]
          },
          "colorway": [
           "#636efa",
           "#EF553B",
           "#00cc96",
           "#ab63fa",
           "#FFA15A",
           "#19d3f3",
           "#FF6692",
           "#B6E880",
           "#FF97FF",
           "#FECB52"
          ],
          "font": {
           "color": "#2a3f5f"
          },
          "geo": {
           "bgcolor": "white",
           "lakecolor": "white",
           "landcolor": "#E5ECF6",
           "showlakes": true,
           "showland": true,
           "subunitcolor": "white"
          },
          "hoverlabel": {
           "align": "left"
          },
          "hovermode": "closest",
          "mapbox": {
           "style": "light"
          },
          "paper_bgcolor": "white",
          "plot_bgcolor": "#E5ECF6",
          "polar": {
           "angularaxis": {
            "gridcolor": "white",
            "linecolor": "white",
            "ticks": ""
           },
           "bgcolor": "#E5ECF6",
           "radialaxis": {
            "gridcolor": "white",
            "linecolor": "white",
            "ticks": ""
           }
          },
          "scene": {
           "xaxis": {
            "backgroundcolor": "#E5ECF6",
            "gridcolor": "white",
            "gridwidth": 2,
            "linecolor": "white",
            "showbackground": true,
            "ticks": "",
            "zerolinecolor": "white"
           },
           "yaxis": {
            "backgroundcolor": "#E5ECF6",
            "gridcolor": "white",
            "gridwidth": 2,
            "linecolor": "white",
            "showbackground": true,
            "ticks": "",
            "zerolinecolor": "white"
           },
           "zaxis": {
            "backgroundcolor": "#E5ECF6",
            "gridcolor": "white",
            "gridwidth": 2,
            "linecolor": "white",
            "showbackground": true,
            "ticks": "",
            "zerolinecolor": "white"
           }
          },
          "shapedefaults": {
           "line": {
            "color": "#2a3f5f"
           }
          },
          "ternary": {
           "aaxis": {
            "gridcolor": "white",
            "linecolor": "white",
            "ticks": ""
           },
           "baxis": {
            "gridcolor": "white",
            "linecolor": "white",
            "ticks": ""
           },
           "bgcolor": "#E5ECF6",
           "caxis": {
            "gridcolor": "white",
            "linecolor": "white",
            "ticks": ""
           }
          },
          "title": {
           "x": 0.05
          },
          "xaxis": {
           "automargin": true,
           "gridcolor": "white",
           "linecolor": "white",
           "ticks": "",
           "title": {
            "standoff": 15
           },
           "zerolinecolor": "white",
           "zerolinewidth": 2
          },
          "yaxis": {
           "automargin": true,
           "gridcolor": "white",
           "linecolor": "white",
           "ticks": "",
           "title": {
            "standoff": 15
           },
           "zerolinecolor": "white",
           "zerolinewidth": 2
          }
         }
        },
        "title": {
         "text": "Content distribution by Year of Adding"
        }
       }
      }
     },
     "metadata": {},
     "output_type": "display_data"
    }
   ],
   "source": [
    "\n",
    "import plotly.graph_objects as go\n",
    "from plotly.subplots import make_subplots\n",
    "\n",
    "movie_new_df = generate_df(movie_df)\n",
    "tv_new_df = generate_df(TV_df)\n",
    "\n",
    "fig = make_subplots(rows=1, cols=2, specs=[[{\"type\": \"pie\"}, {\"type\": \"pie\"}]])\n",
    "fig.add_trace(\n",
    "    go.Pie(labels=movie_new_df['y_add'], values=movie_new_df['counts']),\n",
    "    row=1, col=1\n",
    ")\n",
    "\n",
    "fig.add_trace(\n",
    "    go.Pie(labels=tv_new_df['y_add'], values=tv_new_df['counts']),\n",
    "    row=1, col=2\n",
    ")\n",
    "\n",
    "fig.update_traces(textposition='inside', hole=.4, hoverinfo=\"label+percent+name\",\n",
    "                  marker = dict(line = dict(color = 'white', width = 2)))\n",
    "\n",
    "fig.update_layout(\n",
    "    title_text=\"Content distribution by Year of Adding\",\n",
    "    \n",
    "    # Add annotations in the center of the donut pies.\n",
    "    annotations=[dict(text='Movies', x=0.18, y=0.5, font_size=17, showarrow=False, font_color='black'),\n",
    "                 dict(text='TV Shows', x=0.83, y=0.5, font_size=17, showarrow=False, font_color='black')])\n",
    "fig.show()"
   ]
  },
  {
   "cell_type": "markdown",
   "id": "c466af1b",
   "metadata": {},
   "source": [
    "- Conclusion:-\n",
    "\n",
    "The above plot shows the distribution of Movies and TV Shows separately based upon the year of adding. There is a noticable increase in the number of shows added throughout the years. For movies 2019 records the maximum number while for TV shows the year 2020 records the maximum number of addition of shows.\n"
   ]
  },
  {
   "cell_type": "code",
   "execution_count": 69,
   "id": "5a112ad5",
   "metadata": {},
   "outputs": [
    {
     "data": {
      "application/vnd.plotly.v1+json": {
       "config": {
        "plotlyServerURL": "https://plot.ly"
       },
       "data": [
        {
         "alignmentgroup": "True",
         "bingroup": "x",
         "hovertemplate": "country_main=%{x}<br>count=%{y}<extra></extra>",
         "legendgroup": "",
         "marker": {
          "color": "indianred",
          "pattern": {
           "shape": ""
          }
         },
         "name": "",
         "offsetgroup": "",
         "orientation": "v",
         "showlegend": false,
         "type": "histogram",
         "x": [
          "United",
          "South",
          "United",
          "United",
          "India",
          "United",
          "United",
          "United",
          "United",
          "United",
          "United",
          "United",
          "United",
          "United",
          "United",
          "United",
          "Mexico",
          "United",
          "United",
          "United",
          "Turkey",
          "United",
          "United",
          "India",
          "United",
          "United",
          "United",
          "United",
          "United",
          "United",
          "United",
          "United",
          "United",
          "United",
          "United",
          "India",
          "United",
          "United",
          "United",
          "United",
          "United",
          "United",
          "South",
          "United",
          "United",
          "India",
          "Japan",
          "Japan",
          "Japan",
          "Japan",
          "United",
          "Japan",
          "Japan",
          "Japan",
          "Japan",
          "Japan",
          "Japan",
          "Japan",
          "Japan",
          "United",
          "United",
          "India",
          "United",
          "United",
          "India",
          "United",
          "United",
          "United",
          "United",
          "United",
          "Japan",
          "United",
          "United",
          "United",
          "United",
          "United",
          "United",
          "United",
          "United",
          "United",
          "United",
          "United",
          "United",
          "France",
          "United",
          "United",
          "United",
          "United",
          "United",
          "United",
          "United",
          "United",
          "United",
          "United",
          "South",
          "India",
          "United",
          "United",
          "Spain",
          "United",
          "United",
          "United",
          "United",
          "India",
          "United",
          "India",
          "United",
          "India",
          "United",
          "United",
          "United",
          "United",
          "South",
          "United",
          "India",
          "United",
          "United",
          "United",
          "United",
          "United",
          "South",
          "United",
          "United",
          "United",
          "United",
          "United",
          "United",
          "United",
          "United",
          "United",
          "United",
          "United",
          "United",
          "United",
          "United",
          "United",
          "Japan",
          "United",
          "United",
          "Canada",
          "United",
          "United",
          "United",
          "United",
          "United",
          "United",
          "United",
          "United",
          "United",
          "United",
          "United",
          "United",
          "United",
          "United",
          "United",
          "United",
          "United",
          "United",
          "United",
          "United",
          "United",
          "United",
          "United",
          "United",
          "United",
          "United",
          "United",
          "United",
          "France",
          "United",
          "India",
          "United",
          "India",
          "United",
          "India",
          "United",
          "United",
          "India",
          "India",
          "India",
          "India",
          "India",
          "India",
          "India",
          "India",
          "India",
          "India",
          "India",
          "India",
          "India",
          "United",
          "United",
          "India",
          "India",
          "India",
          "United",
          "Japan",
          "United",
          "United",
          "United",
          "United",
          "United",
          "United",
          "United",
          "United",
          "United",
          "United",
          "United",
          "United",
          "United",
          "United",
          "United",
          "United",
          "United",
          "United",
          "United",
          "United",
          "United",
          "United",
          "United",
          "United",
          "United",
          "United",
          "United",
          "United",
          "United",
          "United",
          "United",
          "United",
          "United",
          "India",
          "United",
          "United",
          "United",
          "United",
          "United",
          "United",
          "United",
          "United",
          "United",
          "United",
          "Japan",
          "India",
          "United",
          "United",
          "United",
          "France",
          "United",
          "Spain",
          "United",
          "United",
          "Mexico",
          "United",
          "United",
          "United",
          "South",
          "United",
          "Japan",
          "United",
          "South",
          "United",
          "United",
          "India",
          "France",
          "India",
          "United",
          "United",
          "United",
          "United",
          "United",
          "Mexico",
          "United",
          "United",
          "United",
          "United",
          "United",
          "United",
          "United",
          "United",
          "United",
          "United",
          "United",
          "United",
          "United",
          "United",
          "United",
          "United",
          "United",
          "United",
          "United",
          "Japan",
          "United",
          "United",
          "United",
          "United",
          "United",
          "United",
          "United",
          "United",
          "United",
          "United",
          "United",
          "United",
          "United",
          "United",
          "United",
          "United",
          "United",
          "United",
          "United",
          "United",
          "United",
          "United",
          "United",
          "United",
          "United",
          "United",
          "United",
          "United",
          "United",
          "United",
          "United",
          "United",
          "United",
          "United",
          "United",
          "United",
          "United",
          "United",
          "United",
          "India",
          "United",
          "United",
          "United",
          "United",
          "United",
          "United",
          "United",
          "United",
          "United",
          "United",
          "United",
          "United",
          "United",
          "Spain",
          "United",
          "United",
          "United",
          "United",
          "United",
          "United",
          "United",
          "United",
          "India",
          "United",
          "United",
          "United",
          "United",
          "India",
          "United",
          "United",
          "United",
          "United",
          "United",
          "United",
          "United",
          "United",
          "United",
          "United",
          "United",
          "United",
          "United",
          "United",
          "United",
          "United",
          "United",
          "United",
          "United",
          "United",
          "United",
          "United",
          "United",
          "United",
          "United",
          "United",
          "United",
          "United",
          "United",
          "United",
          "United",
          "Japan",
          "United",
          "United",
          "South",
          "United",
          "United",
          "United",
          "United",
          "United",
          "United",
          "United",
          "United",
          "United",
          "United",
          "United",
          "United",
          "United",
          "United",
          "United",
          "United",
          "United",
          "United",
          "United",
          "United",
          "United",
          "United",
          "United",
          "United",
          "United",
          "United",
          "United",
          "United",
          "United",
          "United",
          "United",
          "United",
          "United",
          "United",
          "United",
          "United",
          "United",
          "United",
          "United",
          "United",
          "United",
          "United",
          "United",
          "Canada",
          "United",
          "United",
          "United",
          "United",
          "Japan",
          "India",
          "United",
          "United",
          "Canada",
          "United",
          "Japan",
          "United",
          "United",
          "India",
          "Egypt",
          "United",
          "United",
          "Canada",
          "Japan",
          "United",
          "United",
          "India",
          "India",
          "Canada",
          "South",
          "United",
          "United",
          "United",
          "United",
          "United",
          "India",
          "United",
          "France",
          "South",
          "South",
          "United",
          "United",
          "United",
          "United",
          "United",
          "United",
          "United",
          "United",
          "United",
          "United",
          "United",
          "United",
          "United",
          "United",
          "United",
          "United",
          "United",
          "United",
          "United",
          "United",
          "United",
          "United",
          "United",
          "United",
          "United",
          "United",
          "United",
          "United",
          "United",
          "United",
          "United",
          "United",
          "United",
          "United",
          "United",
          "United",
          "United",
          "United",
          "United",
          "United",
          "United",
          "United",
          "United",
          "United",
          "United",
          "United",
          "United",
          "United",
          "United",
          "United",
          "United",
          "United",
          "United",
          "United",
          "United",
          "United",
          "United",
          "United",
          "United",
          "United",
          "United",
          "Mexico",
          "United",
          "United",
          "United",
          "United",
          "Japan",
          "United",
          "United",
          "France",
          "United",
          "United",
          "United",
          "United",
          "United",
          "United",
          "Japan",
          "United",
          "United",
          "United",
          "United",
          "United",
          "United",
          "United",
          "United",
          "United",
          "United",
          "United",
          "United",
          "France",
          "United",
          "United",
          "Spain",
          "United",
          "United",
          "United",
          "Spain",
          "United",
          "United",
          "United",
          "United",
          "Japan",
          "United",
          "United",
          "United",
          "United",
          "United",
          "Spain",
          "United",
          "South",
          "United",
          "United",
          "United",
          "United",
          "United",
          "United",
          "United",
          "United",
          "United",
          "Canada",
          "United",
          "Turkey",
          "United",
          "United",
          "United",
          "United",
          "United",
          "United",
          "United",
          "United",
          "United",
          "United",
          "United",
          "United",
          "United",
          "United",
          "United",
          "United",
          "United",
          "United",
          "United",
          "United",
          "United",
          "United",
          "United",
          "United",
          "South",
          "United",
          "India",
          "United",
          "United",
          "United",
          "United",
          "United",
          "United",
          "United",
          "United",
          "United",
          "United",
          "United",
          "United",
          "United",
          "United",
          "United",
          "South",
          "United",
          "South",
          "Spain",
          "Mexico",
          "Japan",
          "United",
          "United",
          "United",
          "United",
          "United",
          "United",
          "Japan",
          "United",
          "United",
          "United",
          "United",
          "United",
          "United",
          "United",
          "United",
          "United",
          "United",
          "United",
          "United",
          "United",
          "United",
          "United",
          "United",
          "United",
          "United",
          "United",
          "United",
          "Japan",
          "United",
          "United",
          "United",
          "United",
          "United",
          "United",
          "United",
          "United",
          "United",
          "United",
          "United",
          "United",
          "United",
          "United",
          "United",
          "United",
          "United",
          "United",
          "United",
          "United",
          "United",
          "United",
          "United",
          "United",
          "United",
          "United",
          "United",
          "United",
          "United",
          "United",
          "United",
          "United",
          "Japan",
          "United",
          "United",
          "United",
          "United",
          "United",
          "United",
          "India",
          "United",
          "United",
          "United",
          "United",
          "United",
          "United",
          "Spain",
          "United",
          "Egypt",
          "United",
          "United",
          "United",
          "United",
          "United",
          "United",
          "United",
          "Mexico",
          "United",
          "India",
          "United",
          "India",
          "United",
          "United",
          "India",
          "India",
          "United",
          "United",
          "South",
          "United",
          "South",
          "United",
          "United",
          "United",
          "United",
          "United",
          "India",
          "United",
          "United",
          "United",
          "United",
          "Spain",
          "United",
          "United",
          "South",
          "India",
          "United",
          "Turkey",
          "United",
          "United",
          "India",
          "United",
          "India",
          "United",
          "India",
          "United",
          "United",
          "United",
          "India",
          "United",
          "United",
          "United",
          "United",
          "United",
          "United",
          "United",
          "United",
          "United",
          "United",
          "United",
          "United",
          "United",
          "United",
          "United",
          "United",
          "United",
          "United",
          "United",
          "United",
          "United",
          "United",
          "United",
          "United",
          "United",
          "United",
          "United",
          "United",
          "United",
          "United",
          "United",
          "United",
          "United",
          "Canada",
          "United",
          "United",
          "United",
          "India",
          "United",
          "United",
          "United",
          "United",
          "United",
          "United",
          "United",
          "United",
          "United",
          "Spain",
          "Turkey",
          "India",
          "India",
          "United",
          "Turkey",
          "Turkey",
          "Turkey",
          "Turkey",
          "Turkey",
          "Turkey",
          "Turkey",
          "Spain",
          "Turkey",
          "Turkey",
          "Turkey",
          "United",
          "Turkey",
          "Turkey",
          "Egypt",
          "United",
          "United",
          "Turkey",
          "Japan",
          "India",
          "United",
          "Mexico",
          "United",
          "United",
          "United",
          "United",
          "United",
          "United",
          "United",
          "Mexico",
          "United",
          "India",
          "India",
          "India",
          "India",
          "India",
          "India",
          "India",
          "United",
          "United",
          "United",
          "United",
          "United",
          "South",
          "United",
          "United",
          "United",
          "India",
          "United",
          "United",
          "Japan",
          "Japan",
          "United",
          "United",
          "Japan",
          "United",
          "United",
          "United",
          "Japan",
          "Japan",
          "United",
          "United",
          "United",
          "United",
          "United",
          "United",
          "United",
          "United",
          "United",
          "South",
          "United",
          "South",
          "Canada",
          "United",
          "India",
          "United",
          "United",
          "United",
          "United",
          "United",
          "United",
          "United",
          "United",
          "United",
          "United",
          "United",
          "United",
          "South",
          "India",
          "United",
          "United",
          "Japan",
          "United",
          "India",
          "United",
          "United",
          "United",
          "United",
          "India",
          "United",
          "United",
          "United",
          "United",
          "United",
          "United",
          "India",
          "France",
          "United",
          "United",
          "United",
          "India",
          "India",
          "United",
          "United",
          "United",
          "United",
          "India",
          "United",
          "United",
          "United",
          "United",
          "United",
          "United",
          "United",
          "Japan",
          "United",
          "United",
          "United",
          "United",
          "United",
          "United",
          "United",
          "India",
          "United",
          "United",
          "United",
          "United",
          "United",
          "South",
          "Japan",
          "United",
          "United",
          "United",
          "United",
          "United",
          "United",
          "United",
          "United",
          "United",
          "Turkey",
          "Spain",
          "Spain",
          "India",
          "United",
          "United",
          "Japan",
          "United",
          "South",
          "South",
          "South",
          "United",
          "Japan",
          "United",
          "United",
          "United",
          "United",
          "United",
          "United",
          "Japan",
          "United",
          "United",
          "United",
          "United",
          "United",
          "United",
          "United",
          "United",
          "United",
          "United",
          "Egypt",
          "India",
          "United",
          "United",
          "United",
          "United",
          "United",
          "Turkey",
          "South",
          "Turkey",
          "Turkey",
          "United",
          "United",
          "Turkey",
          "Turkey",
          "United",
          "United",
          "Turkey",
          "United",
          "France",
          "United",
          "United",
          "India",
          "Egypt",
          "India",
          "United",
          "Spain",
          "United",
          "France",
          "United",
          "United",
          "United",
          "United",
          "United",
          "United",
          "India",
          "United",
          "United",
          "United",
          "United",
          "United",
          "United",
          "United",
          "United",
          "United",
          "United",
          "United",
          "Japan",
          "United",
          "Spain",
          "United",
          "United",
          "United",
          "India",
          "United",
          "United",
          "United",
          "United",
          "Japan",
          "United",
          "United",
          "United",
          "United",
          "United",
          "Canada",
          "United",
          "India",
          "India",
          "United",
          "South",
          "United",
          "United",
          "United",
          "United",
          "India",
          "India",
          "India",
          "South",
          "United",
          "South",
          "United",
          "United",
          "United",
          "United",
          "United",
          "United",
          "India",
          "United",
          "United",
          "United",
          "United",
          "United",
          "United",
          "United",
          "United",
          "Spain",
          "India",
          "United",
          "United",
          "Mexico",
          "Mexico",
          "Spain",
          "United",
          "United",
          "United",
          "France",
          "United",
          "United",
          "United",
          "United",
          "United",
          "France",
          "Spain",
          "United",
          "South",
          "United",
          "United",
          "United",
          "Mexico",
          "United",
          "United",
          "Canada",
          "United",
          "United",
          "United",
          "United",
          "United",
          "United",
          "United",
          "United",
          "France",
          "United",
          "Spain",
          "United",
          "United",
          "United",
          "Turkey",
          "United",
          "United",
          "India",
          "United",
          "United",
          "United",
          "United",
          "Canada",
          "South",
          "Japan",
          "United",
          "United",
          "United",
          "United",
          "Mexico",
          "United",
          "United",
          "United",
          "United",
          "United",
          "United",
          "United",
          "United",
          "United",
          "United",
          "United",
          "United",
          "United",
          "United",
          "United",
          "India",
          "United",
          "South",
          "United",
          "United",
          "United",
          "United",
          "United",
          "France",
          "India",
          "India",
          "United",
          "India",
          "United",
          "India",
          "United",
          "Turkey",
          "Spain",
          "United",
          "United",
          "France",
          "United",
          "India",
          "United",
          "United",
          "United",
          "United",
          "United",
          "United",
          "United",
          "United",
          "United",
          "United",
          "United",
          "United",
          "United",
          "United",
          "United",
          "United",
          "United",
          "Mexico",
          "United",
          "United",
          "United",
          "United",
          "United",
          "United",
          "South",
          "United",
          "United",
          "United",
          "India",
          "United",
          "United",
          "United",
          "United",
          "United",
          "South",
          "United",
          "United",
          "United",
          "India",
          "Canada",
          "India",
          "United",
          "United",
          "United",
          "United",
          "United",
          "United",
          "South",
          "United",
          "United",
          "United",
          "United",
          "United",
          "United",
          "Egypt",
          "United",
          "United",
          "South",
          "United",
          "United",
          "United",
          "India",
          "Canada",
          "South",
          "United",
          "United",
          "United",
          "South",
          "United",
          "United",
          "United",
          "Japan",
          "United",
          "United",
          "India",
          "United",
          "Canada",
          "United",
          "United",
          "United",
          "United",
          "United",
          "United",
          "United",
          "United",
          "France",
          "United",
          "United",
          "United",
          "Spain",
          "United",
          "India",
          "Japan",
          "United",
          "Egypt",
          "United",
          "United",
          "United",
          "United",
          "United",
          "United",
          "United",
          "United",
          "South",
          "United",
          "United",
          "France",
          "Canada",
          "India",
          "United",
          "United",
          "South",
          "Turkey",
          "United",
          "United",
          "United",
          "United",
          "United",
          "United",
          "United",
          "United",
          "United",
          "United",
          "United",
          "United",
          "United",
          "United",
          "United",
          "United",
          "United",
          "United",
          "United",
          "South",
          "United",
          "United",
          "United",
          "United",
          "United",
          "United",
          "South",
          "United",
          "United",
          "Spain",
          "India",
          "United",
          "South",
          "United",
          "United",
          "United",
          "Japan",
          "United",
          "Canada",
          "United",
          "India",
          "United",
          "United",
          "Egypt",
          "United",
          "United",
          "South",
          "Egypt",
          "United",
          "United",
          "United",
          "United",
          "United",
          "India",
          "United",
          "United",
          "India",
          "India",
          "India",
          "India",
          "India",
          "India",
          "India",
          "United",
          "India",
          "United",
          "United",
          "United",
          "United",
          "United",
          "United",
          "United",
          "United",
          "United",
          "Japan",
          "United",
          "Canada",
          "United",
          "United",
          "United",
          "United",
          "United",
          "India",
          "United",
          "Spain",
          "Turkey",
          "United",
          "South",
          "India",
          "United",
          "United",
          "United",
          "United",
          "United",
          "United",
          "United",
          "United",
          "United",
          "Canada",
          "United",
          "Egypt",
          "Canada",
          "Canada",
          "India",
          "Japan",
          "United",
          "United",
          "Canada",
          "United",
          "United",
          "United",
          "United",
          "United",
          "Canada",
          "United",
          "United",
          "United",
          "United",
          "Canada",
          "United",
          "United",
          "United",
          "United",
          "United",
          "South",
          "United",
          "South",
          "United",
          "United",
          "United",
          "India",
          "United",
          "United",
          "France",
          "United",
          "United",
          "United",
          "United",
          "United",
          "United",
          "United",
          "United",
          "India",
          "United",
          "United",
          "Spain",
          "United",
          "United",
          "United",
          "United",
          "United",
          "United",
          "Canada",
          "United",
          "United",
          "United",
          "South",
          "United",
          "United",
          "United",
          "France",
          "United",
          "United",
          "United",
          "United",
          "United",
          "Egypt",
          "United",
          "United",
          "United",
          "United",
          "India",
          "United",
          "United",
          "Mexico",
          "India",
          "United",
          "United",
          "India",
          "India",
          "India",
          "United",
          "India",
          "India",
          "United",
          "United",
          "India",
          "Canada",
          "United",
          "United",
          "France",
          "South",
          "South",
          "United",
          "United",
          "United",
          "United",
          "Canada",
          "United",
          "India",
          "United",
          "Canada",
          "Turkey",
          "United",
          "United",
          "Turkey",
          "United",
          "United",
          "United",
          "India",
          "Turkey",
          "United",
          "Mexico",
          "United",
          "South",
          "United",
          "South",
          "Japan",
          "United",
          "United",
          "United",
          "United",
          "United",
          "Japan",
          "United",
          "United",
          "United",
          "United",
          "United",
          "Mexico",
          "United",
          "Japan",
          "United",
          "United",
          "United",
          "United",
          "United",
          "United",
          "United",
          "South",
          "India",
          "India",
          "India",
          "India",
          "India",
          "India",
          "India",
          "India",
          "India",
          "United",
          "United",
          "United",
          "India",
          "United",
          "United",
          "United",
          "South",
          "United",
          "United",
          "United",
          "United",
          "United",
          "United",
          "United",
          "Japan",
          "Japan",
          "Japan",
          "Japan",
          "Japan",
          "United",
          "Japan",
          "Egypt",
          "India",
          "India",
          "United",
          "India",
          "India",
          "India",
          "India",
          "United",
          "United",
          "United",
          "India",
          "United",
          "France",
          "United",
          "United",
          "United",
          "United",
          "United",
          "United",
          "United",
          "United",
          "Spain",
          "United",
          "United",
          "United",
          "United",
          "United",
          "United",
          "United",
          "Mexico",
          "France",
          "United",
          "United",
          "Spain",
          "United",
          "United",
          "India",
          "India",
          "India",
          "India",
          "India",
          "India",
          "United",
          "United",
          "India",
          "Turkey",
          "India",
          "India",
          "Egypt",
          "United",
          "India",
          "France",
          "United",
          "Spain",
          "United",
          "South",
          "South",
          "South",
          "Turkey",
          "United",
          "United",
          "United",
          "United",
          "United",
          "South",
          "United",
          "United",
          "United",
          "United",
          "United",
          "Japan",
          "United",
          "Japan",
          "Japan",
          "United",
          "France",
          "United",
          "United",
          "United",
          "India",
          "Spain",
          "United",
          "Japan",
          "United",
          "United",
          "Canada",
          "India",
          "United",
          "United",
          "United",
          "India",
          "South",
          "Spain",
          "Japan",
          "United",
          "United",
          "United",
          "United",
          "United",
          "United",
          "United",
          "United",
          "United",
          "United",
          "India",
          "Mexico",
          "United",
          "Canada",
          "United",
          "South",
          "United",
          "Egypt",
          "United",
          "United",
          "United",
          "United",
          "United",
          "United",
          "United",
          "South",
          "United",
          "India",
          "United",
          "Canada",
          "United",
          "United",
          "United",
          "United",
          "United",
          "Japan",
          "France",
          "United",
          "United",
          "United",
          "India",
          "United",
          "United",
          "United",
          "Japan",
          "United",
          "United",
          "United",
          "Spain",
          "United",
          "United",
          "United",
          "United",
          "United",
          "United",
          "United",
          "Canada",
          "France",
          "United",
          "United",
          "United",
          "United",
          "United",
          "United",
          "United",
          "United",
          "United",
          "Canada",
          "Japan",
          "United",
          "Canada",
          "Canada",
          "Japan",
          "United",
          "United",
          "Canada",
          "United",
          "India",
          "South",
          "United",
          "United",
          "United",
          "United",
          "India",
          "United",
          "United",
          "United",
          "United",
          "United",
          "United",
          "India",
          "India",
          "United",
          "Japan",
          "Spain",
          "United",
          "United",
          "South",
          "South",
          "United",
          "United",
          "United",
          "United",
          "United",
          "France",
          "United",
          "United",
          "United",
          "United",
          "Mexico",
          "United",
          "United",
          "United",
          "France",
          "South",
          "United",
          "Egypt",
          "United",
          "United",
          "United",
          "United",
          "Japan",
          "Turkey",
          "South",
          "United",
          "United",
          "United",
          "United",
          "United",
          "United",
          "India",
          "India",
          "India",
          "India",
          "India",
          "India",
          "India",
          "India",
          "India",
          "India",
          "India",
          "India",
          "India",
          "India",
          "India",
          "India",
          "India",
          "India",
          "United",
          "India",
          "India",
          "India",
          "India",
          "India",
          "India",
          "India",
          "India",
          "India",
          "Spain",
          "United",
          "Japan",
          "United",
          "United",
          "United",
          "United",
          "United",
          "United",
          "Spain",
          "Turkey",
          "Canada",
          "United",
          "Turkey",
          "United",
          "United",
          "United",
          "United",
          "France",
          "Japan",
          "United",
          "United",
          "United",
          "United",
          "United",
          "India",
          "United",
          "India",
          "South",
          "India",
          "India",
          "India",
          "United",
          "India",
          "United",
          "United",
          "United",
          "India",
          "South",
          "United",
          "United",
          "India",
          "United",
          "United",
          "United",
          "France",
          "Turkey",
          "United",
          "Japan",
          "Egypt",
          "Egypt",
          "Egypt",
          "United",
          "Egypt",
          "Egypt",
          "Egypt",
          "United",
          "United",
          "United",
          "United",
          "United",
          "United",
          "United",
          "India",
          "United",
          "India",
          "United",
          "United",
          "United",
          "United",
          "Japan",
          "Japan",
          "Mexico",
          "United",
          "United",
          "United",
          "United",
          "South",
          "South",
          "United",
          "India",
          "India",
          "United",
          "United",
          "United",
          "Egypt",
          "United",
          "India",
          "United",
          "United",
          "United",
          "United",
          "Japan",
          "Turkey",
          "Turkey",
          "Egypt",
          "United",
          "United",
          "United",
          "Egypt",
          "Egypt",
          "Egypt",
          "United",
          "Egypt",
          "Egypt",
          "Egypt",
          "Canada",
          "Egypt",
          "Egypt",
          "Japan",
          "India",
          "South",
          "United",
          "Japan",
          "Japan",
          "South",
          "South",
          "United",
          "United",
          "United",
          "India",
          "United",
          "Japan",
          "United",
          "United",
          "United",
          "United",
          "India",
          "United",
          "United",
          "Japan",
          "United",
          "Canada",
          "United",
          "United",
          "South",
          "Egypt",
          "United",
          "United",
          "Egypt",
          "Egypt",
          "Egypt",
          "United",
          "United",
          "United",
          "United",
          "Mexico",
          "India",
          "Egypt",
          "Egypt",
          "Egypt",
          "Egypt",
          "Egypt",
          "Egypt",
          "United",
          "United",
          "Egypt",
          "Egypt",
          "Egypt",
          "United",
          "United",
          "South",
          "South",
          "United",
          "Spain",
          "France",
          "United",
          "United",
          "Japan",
          "United",
          "South",
          "United",
          "United",
          "India",
          "United",
          "Mexico",
          "India",
          "United",
          "United",
          "Canada",
          "United",
          "India",
          "India",
          "United",
          "United",
          "United",
          "United",
          "Canada",
          "United",
          "Canada",
          "United",
          "United",
          "United",
          "United",
          "India",
          "United",
          "United",
          "United",
          "United",
          "United",
          "United",
          "United",
          "United",
          "United",
          "United",
          "United",
          "United",
          "United",
          "United",
          "United",
          "South",
          "Japan",
          "India",
          "Canada",
          "India",
          "United",
          "United",
          "United",
          "United",
          "United",
          "United",
          "United",
          "Japan",
          "United",
          "United",
          "Japan",
          "United",
          "Turkey",
          "South",
          "United",
          "United",
          "India",
          "South",
          "Turkey",
          "Egypt",
          "Turkey",
          "Turkey",
          "Turkey",
          "United",
          "Turkey",
          "Turkey",
          "United",
          "Egypt",
          "India",
          "India",
          "United",
          "United",
          "India",
          "Egypt",
          "South",
          "United",
          "Egypt",
          "Egypt",
          "Egypt",
          "Egypt",
          "Egypt",
          "United",
          "United",
          "United",
          "India",
          "Turkey",
          "India",
          "Mexico",
          "South",
          "United",
          "United",
          "Spain",
          "United",
          "Japan",
          "United",
          "United",
          "United",
          "India",
          "India",
          "South",
          "United",
          "Turkey",
          "Mexico",
          "India",
          "United",
          "France",
          "United",
          "United",
          "United",
          "Turkey",
          "India",
          "United",
          "India",
          "United",
          "United",
          "Canada",
          "United",
          "United",
          "United",
          "France",
          "United",
          "United",
          "Japan",
          "United",
          "United",
          "United",
          "United",
          "United",
          "United",
          "United",
          "United",
          "United",
          "Spain",
          "United",
          "Japan",
          "Japan",
          "India",
          "India",
          "United",
          "India",
          "India",
          "India",
          "India",
          "India",
          "India",
          "United",
          "India",
          "India",
          "India",
          "India",
          "India",
          "India",
          "India",
          "India",
          "United",
          "India",
          "India",
          "United",
          "Japan",
          "India",
          "United",
          "United",
          "United",
          "United",
          "India",
          "United",
          "India",
          "India",
          "United",
          "United",
          "United",
          "Canada",
          "India",
          "United",
          "United",
          "India",
          "South",
          "United",
          "United",
          "United",
          "India",
          "India",
          "United",
          "Canada",
          "Canada",
          "Canada",
          "United",
          "United",
          "United",
          "United",
          "United",
          "Spain",
          "United",
          "United",
          "United",
          "United",
          "Mexico",
          "United",
          "United",
          "India",
          "United",
          "United",
          "United",
          "France",
          "United",
          "United",
          "Japan",
          "United",
          "United",
          "United",
          "United",
          "United",
          "India",
          "United",
          "United",
          "United",
          "United",
          "India",
          "United",
          "South",
          "United",
          "South",
          "United",
          "Turkey",
          "United",
          "United",
          "United",
          "United",
          "South",
          "India",
          "France",
          "United",
          "United",
          "Spain",
          "United",
          "United",
          "India",
          "United",
          "Spain",
          "United",
          "United",
          "India",
          "South",
          "United",
          "United",
          "Japan",
          "India",
          "United",
          "United",
          "United",
          "United",
          "United",
          "South",
          "United",
          "United",
          "France",
          "United",
          "United",
          "India",
          "South",
          "Spain",
          "Mexico",
          "India",
          "United",
          "Japan",
          "Japan",
          "United",
          "United",
          "United",
          "United",
          "United",
          "South",
          "United",
          "Canada",
          "United",
          "South",
          "United",
          "India",
          "United",
          "India",
          "South",
          "United",
          "United",
          "United",
          "United",
          "United",
          "United",
          "United",
          "South",
          "India",
          "India",
          "Japan",
          "United",
          "United",
          "South",
          "United",
          "United",
          "United",
          "United",
          "Mexico",
          "United",
          "United",
          "United",
          "India",
          "United",
          "United",
          "India",
          "United",
          "United",
          "United",
          "Japan",
          "United",
          "United",
          "United",
          "United",
          "United",
          "United",
          "United",
          "India",
          "Spain",
          "United",
          "India",
          "Japan",
          "South",
          "United",
          "United",
          "Japan",
          "Japan",
          "United",
          "United",
          "India",
          "Japan",
          "Mexico",
          "France",
          "United",
          "Spain",
          "Japan",
          "United",
          "United",
          "United",
          "United",
          "United",
          "India",
          "India",
          "India",
          "United",
          "South",
          "United",
          "United",
          "United",
          "United",
          "Mexico",
          "United",
          "Japan",
          "United",
          "United",
          "United",
          "India",
          "United",
          "India",
          "United",
          "United",
          "United",
          "Canada",
          "United",
          "United",
          "United",
          "United",
          "United",
          "Japan",
          "Japan",
          "United",
          "India",
          "United",
          "United",
          "United",
          "France",
          "United",
          "United",
          "India",
          "United",
          "United",
          "United",
          "India",
          "United",
          "United",
          "France",
          "United",
          "United",
          "United",
          "Spain",
          "United",
          "Mexico",
          "Canada",
          "India",
          "United",
          "South",
          "Canada",
          "United",
          "Japan",
          "United",
          "United",
          "United",
          "South",
          "India",
          "United",
          "United",
          "South",
          "United",
          "United",
          "Japan",
          "South",
          "United",
          "United",
          "South",
          "United",
          "South",
          "India",
          "India",
          "Japan",
          "United",
          "United",
          "United",
          "South",
          "South",
          "United",
          "Japan",
          "Japan",
          "South",
          "United",
          "United",
          "France",
          "United",
          "United",
          "Japan",
          "United",
          "United",
          "Japan",
          "Mexico",
          "United",
          "United",
          "United",
          "United",
          "United",
          "United",
          "United",
          "United",
          "United",
          "France",
          "United",
          "United",
          "United",
          "United",
          "India",
          "South",
          "United",
          "South",
          "India",
          "India",
          "India",
          "India",
          "India",
          "Japan",
          "United",
          "India",
          "India",
          "India",
          "India",
          "India",
          "United",
          "India",
          "United",
          "India",
          "United",
          "South",
          "United",
          "United",
          "United",
          "Egypt",
          "United",
          "United",
          "United",
          "India",
          "United",
          "United",
          "United",
          "United",
          "Japan",
          "United",
          "Japan",
          "United",
          "Spain",
          "United",
          "United",
          "United",
          "United",
          "United",
          "United",
          "United",
          "United",
          "United",
          "India",
          "United",
          "United",
          "India",
          "India",
          "India",
          "United",
          "India",
          "United",
          "India",
          "France",
          "South",
          "India",
          "United",
          "France",
          "South",
          "United",
          "United",
          "United",
          "Japan",
          "United",
          "France",
          "United",
          "India",
          "United",
          "United",
          "United",
          "United",
          "United",
          "Mexico",
          "India",
          "Spain",
          "United",
          "France",
          "United",
          "Japan",
          "United",
          "United",
          "United",
          "United",
          "United",
          "United",
          "United",
          "United",
          "India",
          "Mexico",
          "India",
          "France",
          "United",
          "United",
          "United",
          "United",
          "United",
          "United",
          "India",
          "India",
          "United",
          "South",
          "Japan",
          "Japan",
          "United",
          "South",
          "Mexico",
          "Japan",
          "United",
          "Turkey",
          "United",
          "France",
          "South",
          "United",
          "United",
          "United",
          "India",
          "United",
          "United",
          "United",
          "France",
          "India",
          "United",
          "Japan",
          "United",
          "United",
          "United",
          "United",
          "South",
          "United",
          "United",
          "United",
          "India",
          "United",
          "United",
          "United",
          "United",
          "United",
          "United",
          "United",
          "United",
          "United",
          "United",
          "United",
          "United",
          "United",
          "Spain",
          "United",
          "France",
          "United",
          "United",
          "United",
          "United",
          "Japan",
          "India",
          "United",
          "Japan",
          "United",
          "United",
          "Japan",
          "Japan",
          "Japan",
          "United",
          "United",
          "United",
          "United",
          "United",
          "Mexico",
          "Canada",
          "Mexico",
          "United",
          "United",
          "South",
          "India",
          "South",
          "United",
          "United",
          "United",
          "United",
          "United",
          "United",
          "Turkey",
          "United",
          "Spain",
          "United",
          "United",
          "France",
          "Spain",
          "United",
          "United",
          "United",
          "United",
          "United",
          "United",
          "United",
          "United",
          "South",
          "United",
          "United",
          "United",
          "United",
          "United",
          "United",
          "United",
          "United",
          "United",
          "Turkey",
          "India",
          "United",
          "Spain",
          "United",
          "United",
          "United",
          "India",
          "South",
          "United",
          "United",
          "South",
          "South",
          "United",
          "United",
          "Turkey",
          "Canada",
          "France",
          "South",
          "Turkey",
          "United",
          "United",
          "United",
          "Japan",
          "France",
          "United",
          "United",
          "Japan",
          "United",
          "United",
          "United",
          "United",
          "United",
          "Mexico",
          "South",
          "India",
          "United",
          "Turkey",
          "United",
          "Turkey",
          "United",
          "United",
          "United",
          "United",
          "United",
          "United",
          "United",
          "Mexico",
          "United",
          "South",
          "South",
          "India",
          "India",
          "India",
          "India",
          "India",
          "United",
          "South",
          "United",
          "South",
          "South",
          "United",
          "United",
          "United",
          "United",
          "United",
          "Japan",
          "India",
          "Turkey",
          "United",
          "United",
          "India",
          "Mexico",
          "United",
          "United",
          "United",
          "United",
          "United",
          "United",
          "India",
          "United",
          "India",
          "South",
          "United",
          "United",
          "Spain",
          "United",
          "United",
          "Spain",
          "Turkey",
          "Canada",
          "India",
          "South",
          "United",
          "United",
          "United",
          "United",
          "United",
          "India",
          "United",
          "United",
          "Japan",
          "Turkey",
          "France",
          "United",
          "United",
          "United",
          "United",
          "United",
          "United",
          "United",
          "India",
          "India",
          "India",
          "Turkey",
          "France",
          "United",
          "India",
          "United",
          "United",
          "Japan",
          "United",
          "United",
          "United",
          "United",
          "United",
          "United",
          "United",
          "Spain",
          "United",
          "United",
          "United",
          "United",
          "United",
          "United",
          "India",
          "India",
          "India",
          "United",
          "United",
          "United",
          "United",
          "United",
          "United",
          "Spain",
          "United",
          "South",
          "United",
          "United",
          "United",
          "Canada",
          "Spain",
          "Spain",
          "United",
          "United",
          "India",
          "India",
          "United",
          "Mexico",
          "United",
          "United",
          "United",
          "United",
          "United",
          "India",
          "United",
          "United",
          "South",
          "United",
          "South",
          "South",
          "South",
          "South",
          "South",
          "United",
          "India",
          "United",
          "United",
          "United",
          "United",
          "United",
          "United",
          "United",
          "Mexico",
          "United",
          "United",
          "United",
          "India",
          "India",
          "Canada",
          "United",
          "United",
          "Spain",
          "South",
          "United",
          "United",
          "United",
          "United",
          "Spain",
          "United",
          "United",
          "India",
          "South",
          "United",
          "India",
          "United",
          "India",
          "United",
          "Japan",
          "Japan",
          "Japan",
          "Japan",
          "United",
          "Spain",
          "United",
          "South",
          "United",
          "United",
          "Spain",
          "United",
          "United",
          "United",
          "United",
          "United",
          "United",
          "South",
          "United",
          "United",
          "United",
          "France",
          "France",
          "Japan",
          "United",
          "India",
          "United",
          "India",
          "United",
          "United",
          "Mexico",
          "Spain",
          "United",
          "United",
          "Mexico",
          "Japan",
          "India",
          "India",
          "United",
          "Japan",
          "Japan",
          "United",
          "Japan",
          "Japan",
          "United",
          "United",
          "Japan",
          "India",
          "France",
          "United",
          "United",
          "United",
          "Japan",
          "Japan",
          "India",
          "India",
          "Japan",
          "Spain",
          "United",
          "United",
          "United",
          "India",
          "United",
          "United",
          "United",
          "Mexico",
          "United",
          "United",
          "United",
          "United",
          "Spain",
          "India",
          "India",
          "United",
          "United",
          "United",
          "Japan",
          "United",
          "United",
          "United",
          "United",
          "United",
          "South",
          "India",
          "India",
          "Japan",
          "Canada",
          "India",
          "United",
          "India",
          "United",
          "South",
          "United",
          "United",
          "United",
          "United",
          "United",
          "United",
          "United",
          "United",
          "United",
          "India",
          "United",
          "United",
          "Mexico",
          "Mexico",
          "Spain",
          "Spain",
          "United",
          "United",
          "United",
          "United",
          "United",
          "India",
          "United",
          "United",
          "India",
          "United",
          "United",
          "Japan",
          "United",
          "United",
          "United",
          "France",
          "United",
          "Spain",
          "United",
          "United",
          "United",
          "United",
          "United",
          "United",
          "United",
          "United",
          "United",
          "United",
          "United",
          "United",
          "South",
          "United",
          "United",
          "United",
          "United",
          "Mexico",
          "Spain",
          "United",
          "United",
          "South",
          "United",
          "United",
          "India",
          "United",
          "Japan",
          "United",
          "United",
          "India",
          "United",
          "Japan",
          "United",
          "United",
          "United",
          "India",
          "United",
          "Turkey",
          "India",
          "United",
          "United",
          "United",
          "United",
          "United",
          "India",
          "United",
          "United",
          "Mexico",
          "United",
          "United",
          "United",
          "India",
          "India",
          "United",
          "India",
          "India",
          "India",
          "India",
          "India",
          "United",
          "United",
          "Spain",
          "Turkey",
          "Turkey",
          "United",
          "United",
          "United",
          "South",
          "United",
          "India",
          "United",
          "United",
          "United",
          "United",
          "United",
          "United",
          "India",
          "United",
          "Mexico",
          "United",
          "South",
          "United",
          "India",
          "United",
          "United",
          "South",
          "United",
          "United",
          "United",
          "United",
          "India",
          "France",
          "United",
          "United",
          "United",
          "United",
          "United",
          "Japan",
          "United",
          "India",
          "United",
          "Spain",
          "United",
          "Mexico",
          "India",
          "Spain",
          "United",
          "United",
          "United",
          "United",
          "United",
          "Canada",
          "Japan",
          "United",
          "India",
          "Japan",
          "United",
          "United",
          "United",
          "Spain",
          "United",
          "United",
          "United",
          "United",
          "United",
          "United",
          "United",
          "United",
          "United",
          "Egypt",
          "Egypt",
          "United",
          "United",
          "Egypt",
          "Egypt",
          "United",
          "United",
          "Egypt",
          "United",
          "Turkey",
          "United",
          "France",
          "United",
          "United",
          "United",
          "United",
          "South",
          "United",
          "Japan",
          "United",
          "India",
          "United",
          "United",
          "Canada",
          "Canada",
          "United",
          "United",
          "United",
          "United",
          "Japan",
          "United",
          "India",
          "United",
          "United",
          "India",
          "Spain",
          "United",
          "United",
          "India",
          "United",
          "France",
          "India",
          "United",
          "South",
          "United",
          "Canada",
          "India",
          "United",
          "United",
          "India",
          "India",
          "United",
          "India",
          "India",
          "India",
          "United",
          "India",
          "India",
          "India",
          "United",
          "India",
          "Spain",
          "United",
          "United",
          "Spain",
          "United",
          "United",
          "United",
          "United",
          "United",
          "Spain",
          "Egypt",
          "Egypt",
          "South",
          "United",
          "United",
          "Egypt",
          "Japan",
          "South",
          "United",
          "India",
          "United",
          "United",
          "United",
          "United",
          "United",
          "United",
          "United",
          "Japan",
          "United",
          "United",
          "United",
          "United",
          "India",
          "United",
          "South",
          "Spain",
          "United",
          "India",
          "United",
          "United",
          "Mexico",
          "Spain",
          "United",
          "United",
          "United",
          "Turkey",
          "United",
          "United",
          "United",
          "United",
          "United",
          "Mexico",
          "India",
          "United",
          "United",
          "United",
          "India",
          "India",
          "India",
          "South",
          "United",
          "India",
          "United",
          "United",
          "United",
          "United",
          "Spain",
          "United",
          "Japan",
          "India",
          "United",
          "United",
          "United",
          "United",
          "United",
          "United",
          "India",
          "United",
          "Japan",
          "India",
          "India",
          "United",
          "United",
          "United",
          "United",
          "United",
          "United",
          "United",
          "United",
          "United",
          "Mexico",
          "United",
          "United",
          "United",
          "United",
          "United",
          "Japan",
          "United",
          "United",
          "United",
          "United",
          "United",
          "United",
          "United",
          "United",
          "India",
          "United",
          "India",
          "United",
          "Spain",
          "United",
          "United",
          "United",
          "United",
          "United",
          "United",
          "United",
          "Japan",
          "Japan",
          "Turkey",
          "Japan",
          "Japan",
          "India",
          "United",
          "India",
          "United",
          "India",
          "United",
          "United",
          "United",
          "United",
          "United",
          "United",
          "United",
          "United",
          "United",
          "United",
          "United",
          "Spain",
          "India",
          "South",
          "United",
          "United",
          "United",
          "United",
          "Japan",
          "United",
          "United",
          "United",
          "United",
          "United",
          "United",
          "United",
          "United",
          "United",
          "United",
          "South",
          "South",
          "Mexico",
          "India",
          "United",
          "United",
          "India",
          "United",
          "United",
          "United",
          "Mexico",
          "Japan",
          "India",
          "India",
          "United",
          "France",
          "United",
          "United",
          "United",
          "Canada",
          "Spain",
          "United",
          "United",
          "United",
          "Spain",
          "United",
          "United",
          "United",
          "United",
          "United",
          "United",
          "United",
          "United",
          "United",
          "Canada",
          "United",
          "United",
          "India",
          "United",
          "Canada",
          "India",
          "India",
          "India",
          "India",
          "Spain",
          "United",
          "United",
          "United",
          "South",
          "United",
          "United",
          "India",
          "United",
          "United",
          "United",
          "United",
          "United",
          "India",
          "India",
          "India",
          "India",
          "India",
          "India",
          "India",
          "India",
          "Canada",
          "India",
          "United",
          "India",
          "India",
          "United",
          "United",
          "India",
          "India",
          "India",
          "India",
          "India",
          "India",
          "India",
          "India",
          "India",
          "India",
          "United",
          "India",
          "India",
          "United",
          "India",
          "India",
          "India",
          "India",
          "India",
          "India",
          "India",
          "India",
          "India",
          "United",
          "United",
          "United",
          "South",
          "India",
          "India",
          "India",
          "Japan",
          "United",
          "United",
          "United",
          "India",
          "United",
          "United",
          "United",
          "United",
          "United",
          "United",
          "United",
          "United",
          "United",
          "United",
          "South",
          "United",
          "United",
          "India",
          "United",
          "United",
          "India",
          "Canada",
          "United",
          "India",
          "India",
          "United",
          "India",
          "United",
          "United",
          "United",
          "United",
          "United",
          "United",
          "United",
          "United",
          "United",
          "United",
          "United",
          "United",
          "United",
          "United",
          "United",
          "Japan",
          "United",
          "United",
          "United",
          "South",
          "United",
          "United",
          "United",
          "United",
          "United",
          "United",
          "United",
          "United",
          "United",
          "United",
          "United",
          "United",
          "United",
          "United",
          "United",
          "United",
          "United",
          "United",
          "United",
          "United",
          "India",
          "Canada",
          "India",
          "India",
          "India",
          "India",
          "India",
          "India",
          "United",
          "India",
          "United",
          "India",
          "India",
          "India",
          "United",
          "India",
          "India",
          "India",
          "India",
          "India",
          "India",
          "India",
          "India",
          "India",
          "India",
          "India",
          "India",
          "India",
          "India",
          "India",
          "India",
          "India",
          "India",
          "United",
          "United",
          "United",
          "India",
          "India",
          "India",
          "India",
          "India",
          "India",
          "India",
          "India",
          "India",
          "India",
          "India",
          "United",
          "India",
          "United",
          "India",
          "United",
          "India",
          "India",
          "India",
          "India",
          "India",
          "United",
          "United",
          "United",
          "United",
          "Canada",
          "South",
          "Spain",
          "United",
          "United",
          "Japan",
          "United",
          "United",
          "United",
          "Japan",
          "United",
          "United",
          "Mexico",
          "United",
          "United",
          "United",
          "United",
          "South",
          "United",
          "United",
          "United",
          "United",
          "United",
          "United",
          "United",
          "United",
          "United",
          "United",
          "India",
          "United",
          "United",
          "India",
          "India",
          "India",
          "France",
          "Spain",
          "United",
          "United",
          "Spain",
          "United",
          "United",
          "India",
          "India",
          "India",
          "United",
          "United",
          "United",
          "India",
          "Canada",
          "United",
          "United",
          "India",
          "India",
          "India",
          "India",
          "India",
          "United",
          "United",
          "United",
          "South",
          "India",
          "United",
          "United",
          "United",
          "United",
          "United",
          "United",
          "United",
          "United",
          "India",
          "India",
          "India",
          "Spain",
          "United",
          "United",
          "India",
          "India",
          "India",
          "India",
          "India",
          "India",
          "India",
          "India",
          "India",
          "India",
          "India",
          "India",
          "India",
          "India",
          "India",
          "India",
          "India",
          "India",
          "India",
          "Mexico",
          "United",
          "Japan",
          "Japan",
          "France",
          "Japan",
          "Mexico",
          "United",
          "Japan",
          "Spain",
          "India",
          "United",
          "Spain",
          "United",
          "United",
          "United",
          "Japan",
          "Spain",
          "United",
          "Spain",
          "Japan",
          "United",
          "United",
          "United",
          "Mexico",
          "United",
          "United",
          "South",
          "United",
          "United",
          "Spain",
          "United",
          "United",
          "United",
          "United",
          "India",
          "United",
          "India",
          "India",
          "United",
          "India",
          "India",
          "India",
          "United",
          "Mexico",
          "India",
          "United",
          "India",
          "United",
          "United",
          "Spain",
          "United",
          "United",
          "United",
          "United",
          "United",
          "United",
          "United",
          "Japan",
          "France",
          "United",
          "United",
          "United",
          "United",
          "United",
          "India",
          "United",
          "Spain",
          "United",
          "United",
          "United",
          "Mexico",
          "France",
          "United",
          "Japan",
          "India",
          "France",
          "United",
          "United",
          "United",
          "United",
          "Spain",
          "South",
          "United",
          "United",
          "United",
          "Japan",
          "United",
          "South",
          "United",
          "United",
          "India",
          "Japan",
          "Japan",
          "United",
          "United",
          "United",
          "Mexico",
          "United",
          "United",
          "United",
          "United",
          "United",
          "United",
          "United",
          "France",
          "United",
          "United",
          "Mexico",
          "Spain",
          "India",
          "India",
          "United",
          "United",
          "Canada",
          "United",
          "Spain",
          "United",
          "United",
          "United",
          "United",
          "France",
          "India",
          "United",
          "United",
          "Spain",
          "India",
          "France",
          "United",
          "United",
          "United",
          "Spain",
          "United",
          "United",
          "United",
          "United",
          "United",
          "United",
          "South",
          "United",
          "United",
          "United",
          "France",
          "United",
          "United",
          "United",
          "France",
          "United",
          "United",
          "United",
          "United",
          "United",
          "United",
          "United",
          "France",
          "France",
          "India",
          "United",
          "India",
          "United",
          "United",
          "India",
          "India",
          "India",
          "India",
          "India",
          "United",
          "United",
          "United",
          "United",
          "United",
          "Mexico",
          "United",
          "Canada",
          "Canada",
          "Canada",
          "United",
          "United",
          "United",
          "United",
          "United",
          "United",
          "India",
          "United",
          "United",
          "United",
          "United",
          "United",
          "Japan",
          "Egypt",
          "South",
          "Japan",
          "United",
          "United",
          "Japan",
          "United",
          "United",
          "South",
          "India",
          "United",
          "United",
          "United",
          "Canada",
          "Canada",
          "United",
          "United",
          "India",
          "India",
          "India",
          "United",
          "India",
          "Spain",
          "India",
          "Canada",
          "Canada",
          "Canada",
          "Canada",
          "Canada",
          "India",
          "India",
          "South",
          "United",
          "United",
          "Spain",
          "South",
          "France",
          "United",
          "United",
          "United",
          "South",
          "United",
          "Japan",
          "United",
          "United",
          "United",
          "Japan",
          "United",
          "India",
          "United",
          "United",
          "United",
          "United",
          "United",
          "United",
          "United",
          "United",
          "South",
          "United",
          "United",
          "United",
          "United",
          "United",
          "Spain",
          "United",
          "Mexico",
          "United",
          "South",
          "United",
          "United",
          "United",
          "Japan",
          "United",
          "United",
          "United",
          "Spain",
          "Japan",
          "United",
          "India",
          "United",
          "United",
          "South",
          "United",
          "India",
          "United",
          "United",
          "United",
          "Japan",
          "United",
          "Spain",
          "Japan",
          "Japan",
          "United",
          "Japan",
          "France",
          "United",
          "United",
          "Canada",
          "France",
          "France",
          "United",
          "United",
          "United",
          "United",
          "United",
          "United",
          "United",
          "Canada",
          "United",
          "South",
          "United",
          "United",
          "India",
          "United",
          "South",
          "United",
          "United",
          "United",
          "United",
          "United",
          "India",
          "United",
          "United",
          "India",
          "United",
          "United",
          "United",
          "Japan",
          "France",
          "United",
          "United",
          "United",
          "United",
          "United",
          "United",
          "India",
          "United",
          "Spain",
          "Japan",
          "United",
          "United",
          "South",
          "United",
          "United",
          "United",
          "United",
          "United",
          "United",
          "United",
          "United",
          "United",
          "Japan",
          "United",
          "Canada",
          "Japan",
          "Japan",
          "United",
          "Mexico",
          "Japan",
          "United",
          "United",
          "United",
          "United",
          "India",
          "United",
          "Canada",
          "India",
          "Spain",
          "United",
          "United",
          "United",
          "United",
          "United",
          "United",
          "United",
          "United",
          "Canada",
          "United",
          "United",
          "United",
          "United",
          "United",
          "United",
          "United",
          "United",
          "United",
          "United",
          "United",
          "France",
          "United",
          "India",
          "United",
          "United",
          "India",
          "France",
          "United",
          "Mexico",
          "United",
          "United",
          "United",
          "Spain",
          "United",
          "Japan",
          "United",
          "South",
          "Japan",
          "United",
          "Spain",
          "United",
          "United",
          "Canada",
          "United",
          "United",
          "United",
          "Mexico",
          "United",
          "United",
          "United",
          "United",
          "United",
          "United",
          "United",
          "United",
          "United",
          "United",
          "United",
          "Canada",
          "Canada",
          "United",
          "United",
          "United",
          "United",
          "United",
          "United",
          "United",
          "United",
          "United",
          "United",
          "Spain",
          "United",
          "United",
          "United",
          "United",
          "United",
          "United",
          "United",
          "United",
          "India",
          "United",
          "Japan",
          "Japan",
          "United",
          "India",
          "India",
          "Japan",
          "Japan",
          "United",
          "India",
          "United",
          "United",
          "India",
          "India",
          "United",
          "United",
          "France",
          "United",
          "United",
          "United",
          "United",
          "United",
          "United",
          "United",
          "United",
          "United",
          "Turkey",
          "United",
          "United",
          "Japan",
          "United",
          "United",
          "Mexico",
          "United",
          "United",
          "United",
          "India",
          "United",
          "United",
          "India",
          "United",
          "United",
          "United",
          "Mexico",
          "United",
          "United",
          "United",
          "South",
          "United",
          "United",
          "United",
          "United",
          "United",
          "United",
          "United",
          "France",
          "United",
          "United",
          "United",
          "United",
          "United",
          "India",
          "United",
          "Spain",
          "Spain",
          "United",
          "United",
          "United",
          "United",
          "United",
          "United",
          "Canada",
          "United",
          "France",
          "Turkey",
          "India",
          "United",
          "United",
          "Turkey",
          "India",
          "United",
          "India",
          "India",
          "United",
          "Spain",
          "India",
          "Spain",
          "United",
          "United",
          "Japan",
          "South",
          "United",
          "United",
          "United",
          "India",
          "United",
          "United",
          "United",
          "United",
          "United",
          "United",
          "United",
          "India",
          "United",
          "United",
          "South",
          "South",
          "South",
          "South",
          "South",
          "South",
          "India",
          "Spain",
          "United",
          "United",
          "South",
          "India",
          "United",
          "United",
          "United",
          "United",
          "India",
          "United",
          "United",
          "United",
          "India",
          "India",
          "India",
          "Spain",
          "United",
          "United",
          "United",
          "India",
          "United",
          "United",
          "India",
          "United",
          "France",
          "United",
          "Japan",
          "United",
          "United",
          "India",
          "India",
          "United",
          "United",
          "India",
          "United",
          "United",
          "United",
          "United",
          "United",
          "Mexico",
          "United",
          "United",
          "India",
          "India",
          "United",
          "Canada",
          "India",
          "Canada",
          "United",
          "South",
          "South",
          "United",
          "South",
          "Spain",
          "India",
          "South",
          "United",
          "Canada",
          "United",
          "United",
          "United",
          "United",
          "United",
          "United",
          "Spain",
          "United",
          "Mexico",
          "United",
          "United",
          "South",
          "United",
          "United",
          "United",
          "Turkey",
          "United",
          "India",
          "United",
          "India",
          "United",
          "India",
          "Spain",
          "Spain",
          "United",
          "United",
          "United",
          "United",
          "United",
          "United",
          "United",
          "United",
          "United",
          "Japan",
          "United",
          "United",
          "United",
          "South",
          "Japan",
          "United",
          "India",
          "Canada",
          "United",
          "India",
          "United",
          "United",
          "United",
          "United",
          "South",
          "Turkey",
          "United",
          "United",
          "India",
          "South",
          "United",
          "India",
          "United",
          "Mexico",
          "South",
          "Turkey",
          "United",
          "Spain",
          "United",
          "South",
          "India",
          "South",
          "Canada",
          "South",
          "Spain",
          "United",
          "United",
          "South",
          "Japan",
          "United",
          "United",
          "Mexico",
          "United",
          "India",
          "India",
          "India",
          "Spain",
          "Spain",
          "United",
          "Mexico",
          "France",
          "United",
          "United",
          "France",
          "India",
          "United",
          "United",
          "France",
          "United",
          "United",
          "United",
          "United",
          "United",
          "United",
          "Canada",
          "United",
          "United",
          "India",
          "United",
          "United",
          "India",
          "Mexico",
          "South",
          "Japan",
          "United",
          "Mexico",
          "United",
          "United",
          "United",
          "United",
          "United",
          "United",
          "South",
          "United",
          "South",
          "South",
          "South",
          "South",
          "Japan",
          "South",
          "United",
          "South",
          "Mexico",
          "United",
          "United",
          "United",
          "United",
          "United",
          "United",
          "United",
          "United",
          "United",
          "United",
          "France",
          "Canada",
          "United",
          "United",
          "India",
          "United",
          "India",
          "United",
          "United",
          "India",
          "Mexico",
          "United",
          "United",
          "United",
          "India",
          "Mexico",
          "United",
          "United",
          "United",
          "India",
          "United",
          "France",
          "United",
          "United",
          "United",
          "United",
          "United",
          "United",
          "Spain",
          "Canada",
          "United",
          "France",
          "Canada",
          "France",
          "Spain",
          "United",
          "United",
          "France",
          "Japan",
          "Japan",
          "Japan",
          "France",
          "Japan",
          "United",
          "Japan",
          "United",
          "United",
          "United",
          "United",
          "United",
          "United",
          "United",
          "India",
          "United",
          "Spain",
          "United",
          "United",
          "United",
          "India",
          "United",
          "United",
          "United",
          "United",
          "United",
          "United",
          "United",
          "United",
          "United",
          "United",
          "United",
          "United",
          "United",
          "United",
          "United",
          "United",
          "United",
          "United",
          "United",
          "United",
          "United",
          "United",
          "United",
          "Japan",
          "United",
          "United",
          "United",
          "United",
          "United",
          "United",
          "United",
          "United",
          "United",
          "United",
          "United",
          "United",
          "United",
          "United",
          "United",
          "United",
          "United",
          "United",
          "United",
          "United",
          "United",
          "United",
          "United",
          "Canada",
          "Japan",
          "United",
          "United",
          "India",
          "United",
          "Mexico",
          "United",
          "United",
          "Japan",
          "United",
          "United",
          "United",
          "United",
          "United",
          "United",
          "Canada",
          "Japan",
          "United",
          "Canada",
          "United",
          "United",
          "United",
          "United",
          "Japan",
          "United",
          "United",
          "United",
          "United",
          "United",
          "United",
          "United",
          "Mexico",
          "United",
          "United",
          "France",
          "United",
          "United",
          "Canada",
          "United",
          "Japan",
          "United",
          "United",
          "United",
          "United",
          "United",
          "United",
          "United",
          "United",
          "United",
          "United",
          "United",
          "United",
          "United",
          "United",
          "United",
          "United",
          "United",
          "United",
          "United",
          "United",
          "United",
          "United",
          "United",
          "United",
          "United",
          "Mexico",
          "United",
          "United",
          "United",
          "United",
          "France",
          "United",
          "United",
          "United",
          "United",
          "United",
          "United",
          "United",
          "Canada",
          "United",
          "United",
          "United",
          "United",
          "United",
          "United",
          "United",
          "United",
          "United",
          "United",
          "United",
          "United",
          "United",
          "United",
          "United",
          "United",
          "United",
          "United",
          "United",
          "United",
          "United",
          "United",
          "United",
          "United",
          "United",
          "United",
          "United",
          "United",
          "United",
          "United",
          "United",
          "United",
          "United",
          "United",
          "United",
          "India",
          "India",
          "United",
          "India",
          "United",
          "India",
          "India",
          "India",
          "United",
          "Canada",
          "Canada",
          "United",
          "Turkey",
          "United",
          "Turkey",
          "United",
          "United",
          "United",
          "Spain",
          "United",
          "United",
          "United",
          "South",
          "United",
          "United",
          "United",
          "United",
          "United",
          "United",
          "United",
          "United",
          "United",
          "South",
          "United",
          "United",
          "United",
          "India",
          "United",
          "South",
          "United",
          "United",
          "United",
          "United",
          "Canada",
          "Egypt",
          "United",
          "United",
          "United",
          "United",
          "United",
          "United",
          "United",
          "India",
          "United",
          "India",
          "United",
          "United",
          "India",
          "United",
          "United",
          "United",
          "United",
          "India",
          "United",
          "United",
          "United",
          "United",
          "United",
          "United",
          "United",
          "South",
          "United",
          "United",
          "United",
          "United",
          "United",
          "United",
          "United",
          "Canada",
          "India",
          "United",
          "United",
          "United",
          "United",
          "United",
          "India",
          "United",
          "United",
          "United",
          "United",
          "Canada",
          "United",
          "Turkey",
          "India",
          "India",
          "India",
          "India",
          "India",
          "India",
          "Egypt",
          "India",
          "South",
          "United",
          "United",
          "Mexico",
          "Canada",
          "United",
          "United",
          "Canada",
          "United",
          "France",
          "India",
          "United",
          "United",
          "United",
          "United",
          "United",
          "United",
          "United",
          "United",
          "India",
          "India",
          "United",
          "United",
          "India",
          "India",
          "Egypt",
          "United",
          "Spain",
          "United",
          "United",
          "United",
          "United",
          "United",
          "United",
          "United",
          "United",
          "United",
          "United",
          "United",
          "United",
          "United",
          "United",
          "United",
          "United",
          "India",
          "Egypt",
          "United",
          "United",
          "United",
          "United",
          "United",
          "United",
          "United",
          "United",
          "United",
          "Canada",
          "United",
          "United",
          "United",
          "United",
          "United",
          "United",
          "United",
          "India",
          "United",
          "United",
          "United",
          "United",
          "Egypt",
          "United",
          "Egypt",
          "India",
          "Spain",
          "United",
          "United",
          "United",
          "United",
          "India",
          "India",
          "India",
          "United",
          "United",
          "Egypt",
          "United",
          "United",
          "United",
          "India",
          "Japan",
          "United",
          "United",
          "United",
          "United",
          "Egypt",
          "United",
          "United",
          "United",
          "United",
          "United",
          "South",
          "United",
          "Canada",
          "United",
          "United",
          "United",
          "United",
          "India",
          "India",
          "Turkey",
          "India",
          "Canada",
          "United",
          "United",
          "United",
          "United",
          "United",
          "India",
          "India",
          "United",
          "United",
          "United",
          "United",
          "Turkey",
          "United",
          "United",
          "United",
          "Spain",
          "India",
          "United",
          "United",
          "United",
          "United",
          "United",
          "United",
          "United",
          "United",
          "United",
          "United",
          "United",
          "India",
          "United",
          "United",
          "United",
          "United",
          "United",
          "United",
          "India",
          "India",
          "United",
          "United",
          "United",
          "United",
          "Canada",
          "South",
          "Canada",
          "United",
          "United",
          "United",
          "Egypt",
          "United",
          "United",
          "United",
          "United",
          "United",
          "Turkey",
          "India",
          "United",
          "United",
          "Canada",
          "United",
          "United",
          "United",
          "United",
          "Turkey",
          "United",
          "United",
          "India",
          "Egypt",
          "Japan",
          "United",
          "India",
          "India",
          "India",
          "United",
          "India",
          "India",
          "India",
          "United",
          "United",
          "United",
          "United",
          "United",
          "United",
          "United",
          "United",
          "United",
          "United",
          "United",
          "India",
          "India",
          "Canada",
          "United",
          "Canada",
          "Spain",
          "India",
          "United",
          "United",
          "Turkey",
          "Spain",
          "United",
          "United",
          "United",
          "United",
          "United",
          "United",
          "United",
          "France",
          "France",
          "United",
          "United",
          "United",
          "United",
          "United",
          "United",
          "Canada",
          "United",
          "United",
          "Canada",
          "India",
          "United",
          "United",
          "United",
          "United",
          "United",
          "India",
          "United",
          "United",
          "United",
          "United",
          "United",
          "United",
          "United",
          "United",
          "United",
          "United",
          "United",
          "United",
          "India",
          "United",
          "United",
          "United",
          "United",
          "United",
          "Canada",
          "Canada",
          "Canada",
          "United",
          "United",
          "United",
          "United",
          "United",
          "South",
          "United",
          "United",
          "United",
          "United",
          "United",
          "South",
          "United",
          "India",
          "United",
          "United",
          "United",
          "United",
          "United",
          "Canada",
          "United",
          "South",
          "United",
          "United",
          "France",
          "India",
          "United",
          "United",
          "United",
          "United",
          "United",
          "Japan",
          "United",
          "United",
          "United",
          "United",
          "Canada",
          "India",
          "United",
          "India",
          "India",
          "India",
          "United",
          "United",
          "United",
          "United",
          "United",
          "India",
          "United",
          "Canada",
          "United",
          "United",
          "South",
          "United",
          "United",
          "United",
          "United",
          "United",
          "United",
          "India",
          "India",
          "United",
          "United",
          "United",
          "United",
          "United",
          "United",
          "United",
          "United",
          "United",
          "United",
          "United",
          "United",
          "United",
          "India",
          "United",
          "United",
          "United",
          "United",
          "United",
          "United",
          "United",
          "United",
          "India",
          "United",
          "United",
          "United",
          "United",
          "United",
          "United",
          "United",
          "United",
          "United",
          "United",
          "United",
          "United",
          "United",
          "United",
          "India",
          "United",
          "United",
          "India",
          "India",
          "United",
          "United",
          "United",
          "India",
          "United",
          "United",
          "United",
          "Turkey",
          "India",
          "United",
          "United",
          "United",
          "Canada",
          "United",
          "United",
          "Canada",
          "United",
          "United",
          "India",
          "France",
          "United",
          "United",
          "India",
          "Turkey",
          "United",
          "United",
          "United",
          "United",
          "India",
          "United",
          "United",
          "Mexico",
          "United",
          "United",
          "United",
          "India",
          "United",
          "United",
          "India",
          "India",
          "India",
          "United",
          "United",
          "United",
          "United",
          "India",
          "United",
          "United",
          "India",
          "United",
          "Canada",
          "United",
          "United",
          "United",
          "United",
          "India",
          "United",
          "United",
          "United",
          "United",
          "United",
          "United",
          "Egypt",
          "United",
          "United",
          "Canada",
          "India",
          "India",
          "United",
          "India",
          "United",
          "United",
          "United",
          "India",
          "United",
          "United",
          "Canada",
          "United",
          "United",
          "South",
          "United",
          "United",
          "United",
          "United",
          "United",
          "United",
          "United",
          "United",
          "France",
          "France",
          "France",
          "United",
          "United",
          "United",
          "United",
          "United",
          "United",
          "United",
          "United",
          "United",
          "United",
          "United",
          "United",
          "United",
          "United",
          "United",
          "United",
          "United",
          "United",
          "United",
          "India",
          "United",
          "United",
          "United",
          "United",
          "United",
          "United",
          "United",
          "United",
          "United",
          "India",
          "India",
          "India",
          "India",
          "United",
          "Spain",
          "Mexico",
          "United",
          "Spain",
          "United",
          "United",
          "United",
          "United",
          "France",
          "United",
          "United",
          "United",
          "United",
          "United",
          "United",
          "United",
          "India",
          "United",
          "United",
          "United",
          "United",
          "Canada",
          "United",
          "United",
          "Mexico",
          "India",
          "United",
          "United",
          "United",
          "United",
          "United",
          "United",
          "United",
          "United",
          "United",
          "United",
          "United",
          "United",
          "United",
          "Turkey",
          "Turkey",
          "Turkey",
          "Turkey",
          "United",
          "United",
          "Japan",
          "United",
          "India",
          "United",
          "United",
          "India",
          "United",
          "India",
          "Egypt",
          "United",
          "United",
          "United",
          "India",
          "United",
          "United",
          "United",
          "United",
          "Turkey",
          "United",
          "United",
          "United",
          "United",
          "India",
          "United",
          "United",
          "United",
          "United",
          "United",
          "United",
          "United",
          "United",
          "Egypt",
          "United",
          "South",
          "United",
          "United",
          "United",
          "Spain",
          "United",
          "United",
          "Mexico",
          "United",
          "United",
          "United",
          "United",
          "United",
          "United",
          "United",
          "United",
          "United",
          "United",
          "United",
          "United",
          "United",
          "United",
          "United",
          "United",
          "United",
          "United",
          "Egypt",
          "United",
          "United",
          "United",
          "United",
          "United",
          "Egypt",
          "United",
          "United",
          "United",
          "United",
          "United",
          "United",
          "United",
          "United",
          "India",
          "United",
          "India",
          "United",
          "Japan",
          "India",
          "India",
          "United",
          "United",
          "United",
          "United",
          "United",
          "United",
          "United",
          "United",
          "United",
          "India",
          "Japan",
          "United",
          "Japan",
          "United",
          "Japan",
          "India",
          "United",
          "United",
          "United",
          "United",
          "United",
          "United",
          "United",
          "United",
          "United",
          "India",
          "Japan",
          "United",
          "United",
          "United",
          "India",
          "United",
          "Turkey",
          "United",
          "United",
          "United",
          "Egypt",
          "United",
          "United",
          "United",
          "United",
          "United",
          "United",
          "United",
          "United",
          "United",
          "India",
          "United",
          "Spain",
          "India",
          "United",
          "United",
          "United",
          "United",
          "United",
          "United",
          "United",
          "Canada",
          "Japan",
          "United",
          "Turkey",
          "Turkey",
          "United",
          "India",
          "Turkey",
          "United",
          "United",
          "United",
          "India",
          "United",
          "Egypt",
          "United",
          "United",
          "United",
          "United",
          "United",
          "Mexico",
          "United",
          "United",
          "United",
          "United",
          "United",
          "United",
          "United",
          "United",
          "United",
          "United",
          "United",
          "United",
          "India",
          "United",
          "United",
          "United",
          "United",
          "United",
          "United",
          "United",
          "United",
          "United",
          "Canada",
          "United",
          "United",
          "United",
          "United",
          "United",
          "United",
          "United",
          "India",
          "United",
          "United",
          "South",
          "India",
          "Canada",
          "United",
          "United",
          "United",
          "India",
          "United",
          "United",
          "France",
          "United",
          "Turkey",
          "United",
          "United",
          "India",
          "United",
          "United",
          "United",
          "United",
          "India",
          "United",
          "United",
          "United",
          "United",
          "India",
          "United",
          "United",
          "United",
          "United",
          "United",
          "United",
          "United",
          "United",
          "United",
          "United",
          "United",
          "United",
          "United",
          "United",
          "India",
          "United",
          "India",
          "India",
          "United",
          "Canada",
          "United",
          "United",
          "United",
          "United",
          "United",
          "United",
          "United",
          "United",
          "United",
          "United",
          "Mexico",
          "United",
          "United",
          "United",
          "United",
          "United",
          "United",
          "United",
          "United",
          "India",
          "United",
          "United",
          "United",
          "United",
          "France",
          "United",
          "United",
          "Turkey",
          "India",
          "United",
          "United",
          "United",
          "India",
          "United",
          "United",
          "United",
          "United",
          "United",
          "United",
          "United",
          "United",
          "India",
          "United",
          "United",
          "United",
          "Mexico",
          "Canada",
          "United",
          "Canada",
          "Japan",
          "Japan",
          "Japan",
          "United",
          "Canada",
          "South",
          "India",
          "India",
          "United",
          "United",
          "India",
          "United",
          "South",
          "India",
          "United",
          "United",
          "Spain",
          "Egypt",
          "United",
          "United",
          "India",
          "Canada",
          "United",
          "United",
          "India",
          "United",
          "India",
          "India",
          "Japan",
          "United",
          "United",
          "United",
          "United",
          "United",
          "United",
          "India",
          "United",
          "United",
          "United",
          "United",
          "India",
          "United",
          "India",
          "United",
          "United",
          "United",
          "India",
          "Mexico",
          "India",
          "United",
          "United",
          "United",
          "United",
          "United",
          "United",
          "United",
          "United",
          "Japan",
          "United",
          "Turkey",
          "India",
          "India",
          "India",
          "India",
          "India",
          "India",
          "United",
          "India",
          "United",
          "India",
          "India",
          "India",
          "United",
          "India",
          "United",
          "India",
          "India",
          "United",
          "United",
          "United",
          "United",
          "United",
          "United",
          "United",
          "India",
          "India",
          "India",
          "India",
          "India",
          "India",
          "India",
          "India",
          "United",
          "United",
          "United",
          "United",
          "United",
          "United",
          "United",
          "France",
          "United",
          "United",
          "United",
          "United",
          "United",
          "United",
          "United",
          "United",
          "United",
          "India",
          "United",
          "United",
          "United",
          "Japan",
          "United",
          "United",
          "United",
          "United",
          "United",
          "United",
          "India",
          "United",
          "United",
          "United",
          "United",
          "India",
          "United",
          "United",
          "United",
          "United",
          "United",
          "United",
          "United",
          "India",
          "United",
          "United",
          "United",
          "Turkey",
          "Turkey",
          "India",
          "United",
          "India",
          "United",
          "United",
          "United",
          "United",
          "Mexico",
          "Mexico",
          "India",
          "United",
          "United",
          "India",
          "United",
          "United",
          "South",
          "United",
          "United",
          "United",
          "France",
          "France",
          "United",
          "United",
          "United",
          "United",
          "United",
          "United",
          "India",
          "United",
          "United",
          "United",
          "United",
          "United",
          "United",
          "United",
          "United",
          "France",
          "United",
          "Turkey",
          "United",
          "Canada",
          "United",
          "United",
          "United",
          "United",
          "Canada",
          "United",
          "Mexico",
          "United",
          "United",
          "United",
          "Egypt",
          "United",
          "United",
          "United",
          "United",
          "United",
          "United",
          "United",
          "United",
          "United",
          "United",
          "Spain",
          "Mexico",
          "United",
          "United",
          "Mexico",
          "United",
          "South",
          "United",
          "United",
          "Canada",
          "India",
          "United",
          "United",
          "United",
          "Canada",
          "United",
          "India",
          "South",
          "United",
          "United",
          "Egypt",
          "United",
          "United",
          "United",
          "India",
          "India",
          "India",
          "United",
          "India",
          "United",
          "United",
          "United",
          "India",
          "United",
          "Japan",
          "France",
          "India",
          "India",
          "India",
          "India",
          "India",
          "India",
          "India",
          "United",
          "United",
          "United",
          "United",
          "India",
          "India",
          "United",
          "United",
          "United",
          "United",
          "United",
          "India",
          "India",
          "United",
          "United",
          "United",
          "United",
          "India",
          "United",
          "United",
          "United",
          "United",
          "India",
          "United",
          "United",
          "Japan",
          "United",
          "United",
          "India",
          "South",
          "India",
          "United",
          "Egypt",
          "United",
          "United",
          "India",
          "Mexico",
          "Canada",
          "United",
          "Canada",
          "United",
          "United",
          "India",
          "United",
          "United",
          "South",
          "United",
          "United",
          "United",
          "Spain",
          "United",
          "India",
          "United",
          "United",
          "India",
          "United",
          "United",
          "United",
          "France",
          "India",
          "United",
          "United",
          "India",
          "Mexico",
          "Japan",
          "United",
          "United",
          "United",
          "United",
          "United",
          "United",
          "United",
          "India",
          "United",
          "United",
          "South",
          "United",
          "United",
          "United",
          "United",
          "United",
          "Canada",
          "Egypt",
          "United",
          "United",
          "United",
          "United",
          "United",
          "United",
          "United",
          "United",
          "United",
          "United",
          "United",
          "United",
          "United",
          "Canada",
          "United",
          "United",
          "United",
          "United",
          "United",
          "United",
          "India",
          "India",
          "United",
          "United",
          "United",
          "United",
          "Canada",
          "Egypt",
          "United",
          "India",
          "France",
          "United",
          "United",
          "United",
          "Spain",
          "United",
          "Canada",
          "India",
          "United",
          "Egypt",
          "United",
          "Canada",
          "United",
          "United",
          "United",
          "United",
          "United",
          "United",
          "United",
          "United",
          "United",
          "United",
          "United",
          "India",
          "United",
          "United",
          "India",
          "United",
          "Japan",
          "United",
          "United",
          "United",
          "United",
          "United",
          "India",
          "United",
          "United",
          "United",
          "United",
          "United",
          "United",
          "United",
          "United",
          "United",
          "United",
          "United",
          "United",
          "United",
          "United",
          "United",
          "India",
          "United",
          "United",
          "United",
          "United",
          "United",
          "Japan",
          "India",
          "United",
          "United",
          "United",
          "United",
          "United",
          "United",
          "United",
          "United",
          "United",
          "United",
          "United",
          "United",
          "United",
          "United",
          "United",
          "United",
          "United",
          "United",
          "United",
          "United",
          "United",
          "United",
          "United",
          "United",
          "United",
          "United",
          "United",
          "United",
          "United",
          "United",
          "Japan",
          "United",
          "United",
          "United",
          "United",
          "United",
          "United",
          "United",
          "United",
          "Spain",
          "United",
          "United",
          "Canada",
          "United",
          "United",
          "France",
          "Egypt",
          "India",
          "United",
          "United",
          "United",
          "United",
          "United",
          "United",
          "India",
          "United",
          "United",
          "India",
          "United",
          "United",
          "South",
          "United",
          "United",
          "United",
          "South",
          "United",
          "United",
          "India",
          "India",
          "United",
          "United",
          "United",
          "India",
          "United",
          "United",
          "India",
          "United",
          "United",
          "United",
          "United",
          "Spain",
          "United",
          "India",
          "Canada",
          "United",
          "Canada",
          "India",
          "India",
          "United",
          "United",
          "United",
          "India",
          "United",
          "United",
          "Turkey",
          "United",
          "India",
          "United",
          "India",
          "United",
          "United",
          "United",
          "United",
          "Canada",
          "United",
          "United",
          "United",
          "United",
          "United",
          "United",
          "India",
          "India",
          "United",
          "United",
          "India",
          "United",
          "India",
          "France",
          "United",
          "United",
          "United",
          "United",
          "United",
          "United",
          "United",
          "United",
          "India",
          "United",
          "United",
          "United",
          "United",
          "United",
          "United",
          "United",
          "United",
          "United",
          "United",
          "United",
          "United",
          "United",
          "United",
          "United",
          "United",
          "United",
          "United",
          "United",
          "United",
          "United",
          "United",
          "United",
          "United",
          "United",
          "United",
          "United",
          "United",
          "United",
          "India",
          "United",
          "United",
          "United",
          "United",
          "United",
          "United",
          "Canada",
          "India",
          "United",
          "United",
          "India",
          "India",
          "United",
          "United",
          "United",
          "United",
          "United",
          "United",
          "United",
          "United",
          "United",
          "United",
          "India",
          "United",
          "India",
          "United",
          "India",
          "India",
          "United",
          "India",
          "India",
          "India",
          "South",
          "India",
          "United",
          "India",
          "Egypt",
          "India",
          "United",
          "United",
          "Mexico",
          "Canada",
          "United",
          "United",
          "India",
          "United",
          "United",
          "United",
          "Egypt",
          "United",
          "United",
          "United",
          "United",
          "Canada",
          "United",
          "United",
          "India",
          "United",
          "United",
          "United",
          "Mexico",
          "United",
          "United",
          "India",
          "United",
          "India",
          "India",
          "India",
          "India",
          "United",
          "United",
          "United",
          "United",
          "United",
          "United",
          "United",
          "United",
          "Egypt",
          "United",
          "United",
          "Canada",
          "United",
          "United",
          "United",
          "United",
          "United",
          "Mexico",
          "India",
          "Mexico",
          "United",
          "India",
          "United",
          "United",
          "United",
          "Japan",
          "United",
          "United",
          "United",
          "India",
          "United",
          "India",
          "Turkey",
          "Canada",
          "India",
          "India",
          "United",
          "India",
          "India",
          "India",
          "Egypt",
          "India",
          "India",
          "Egypt",
          "South",
          "United",
          "United",
          "India",
          "India",
          "United",
          "France",
          "Canada",
          "India",
          "India",
          "India",
          "United",
          "United",
          "India",
          "India",
          "United",
          "United",
          "Egypt",
          "United",
          "United",
          "United",
          "United",
          "United",
          "United",
          "United",
          "United",
          "United",
          "United",
          "United",
          "United",
          "United",
          "United",
          "United",
          "United",
          "United",
          "South",
          "United",
          "United",
          "United",
          "United",
          "United",
          "United",
          "United",
          "United",
          "United",
          "United",
          "United",
          "Turkey",
          "United",
          "Canada",
          "United",
          "United",
          "United",
          "United",
          "Mexico",
          "United",
          "India",
          "India",
          "India",
          "India",
          "United",
          "India",
          "United",
          "United",
          "United",
          "United",
          "India",
          "United",
          "India",
          "United",
          "United",
          "United",
          "United",
          "India",
          "United",
          "United",
          "United",
          "India",
          "United",
          "United",
          "United",
          "United",
          "United",
          "United",
          "United",
          "United",
          "United",
          "United",
          "United",
          "United",
          "United",
          "United",
          "United",
          "United",
          "United",
          "India",
          "United",
          "Mexico",
          "United",
          "United",
          "United",
          "United",
          "United",
          "United",
          "United",
          "United",
          "United",
          "United",
          "United",
          "United",
          "United",
          "United",
          "United",
          "United",
          "United",
          "United",
          "United",
          "United",
          "United",
          "United",
          "Spain",
          "United",
          "United",
          "Canada",
          "United",
          "United",
          "United",
          "United",
          "United",
          "Egypt",
          "United",
          "India",
          "United",
          "United",
          "South",
          "United",
          "United",
          "India",
          "United",
          "Canada",
          "United",
          "United",
          "United",
          "South",
          "United",
          "United",
          "United",
          "India",
          "United",
          "South",
          "United",
          "India",
          "India",
          "United",
          "India",
          "United",
          "United",
          "United",
          "United",
          "United",
          "United",
          "United",
          "United",
          "United",
          "United",
          "India",
          "United",
          "United",
          "United",
          "United",
          "United",
          "India",
          "India",
          "United",
          "United",
          "India",
          "France",
          "United",
          "United",
          "Egypt",
          "United",
          "United",
          "India",
          "United",
          "United",
          "United",
          "India",
          "United",
          "Mexico",
          "United",
          "United",
          "France",
          "United",
          "India",
          "United",
          "India",
          "India",
          "United",
          "United",
          "United",
          "Canada",
          "United",
          "United",
          "Canada",
          "United",
          "United",
          "South",
          "United",
          "United",
          "United",
          "United",
          "Egypt",
          "United",
          "United",
          "United",
          "United",
          "United",
          "United",
          "United",
          "United",
          "United",
          "United",
          "United",
          "United",
          "United",
          "United",
          "United",
          "United",
          "United",
          "United",
          "France",
          "United",
          "United",
          "United",
          "United",
          "United",
          "United",
          "United",
          "United",
          "United",
          "United",
          "United",
          "United",
          "India",
          "Canada",
          "United",
          "United",
          "United",
          "Egypt",
          "United",
          "Egypt",
          "United",
          "United",
          "United",
          "United",
          "United",
          "United",
          "Canada",
          "Egypt",
          "United",
          "South",
          "United",
          "United",
          "United",
          "United",
          "United",
          "India",
          "United",
          "India",
          "United",
          "United",
          "United",
          "United",
          "Japan",
          "United",
          "United",
          "United",
          "Canada",
          "United",
          "United",
          "United",
          "United",
          "United",
          "United",
          "United",
          "United",
          "United",
          "United",
          "United",
          "United",
          "United",
          "United",
          "United",
          "United",
          "United",
          "United",
          "United",
          "United",
          "United",
          "United",
          "United",
          "United",
          "United",
          "United",
          "United",
          "United",
          "United",
          "United",
          "United",
          "India",
          "United",
          "United",
          "United",
          "United",
          "United",
          "United",
          "United",
          "South",
          "United",
          "India",
          "United",
          "United",
          "United",
          "United",
          "United",
          "United",
          "Canada",
          "United",
          "Canada",
          "Spain",
          "United",
          "United",
          "United",
          "United",
          "India",
          "India",
          "Canada",
          "United",
          "United",
          "United",
          "United",
          "United",
          "United",
          "Mexico",
          "United",
          "United",
          "United",
          "United",
          "United",
          "United",
          "United",
          "United",
          "United",
          "United",
          "France",
          "United",
          "United",
          "United",
          "United",
          "United",
          "South",
          "United",
          "United",
          "United",
          "United",
          "United",
          "United",
          "United",
          "India",
          "United",
          "United",
          "United",
          "United",
          "United",
          "United",
          "United",
          "United",
          "United",
          "United",
          "United",
          "United",
          "United",
          "United",
          "United",
          "United",
          "South",
          "United",
          "United",
          "United",
          "United",
          "France",
          "Spain",
          "United",
          "United",
          "United",
          "United",
          "United",
          "United",
          "United",
          "United",
          "United",
          "Canada",
          "United",
          "United",
          "United",
          "United",
          "United",
          "United",
          "United",
          "United",
          "United",
          "United",
          "United",
          "United",
          "United",
          "United",
          "United",
          "United",
          "India",
          "Egypt",
          "United",
          "South",
          "United",
          "United",
          "United",
          "South",
          "United",
          "United",
          "United",
          "Canada",
          "United",
          "United",
          "India",
          "United",
          "United",
          "United",
          "United",
          "United",
          "France",
          "United",
          "Egypt",
          "United",
          "United",
          "United",
          "United",
          "United",
          "United",
          "United",
          "United",
          "United",
          "United",
          "United",
          "United",
          "United",
          "India",
          "United",
          "United",
          "Mexico",
          "United",
          "United",
          "United",
          "United",
          "United",
          "United",
          "United",
          "United",
          "United",
          "United",
          "United",
          "United",
          "United",
          "United",
          "United",
          "United",
          "Egypt",
          "United",
          "United",
          "United",
          "United",
          "United",
          "United",
          "United",
          "United",
          "United",
          "United",
          "United",
          "United",
          "United",
          "United",
          "United",
          "United",
          "United",
          "United",
          "Egypt",
          "United",
          "United",
          "United",
          "United",
          "United",
          "United",
          "France",
          "United",
          "United",
          "Canada",
          "Canada",
          "India",
          "United",
          "United",
          "South",
          "United",
          "United",
          "United",
          "United",
          "United",
          "United",
          "United",
          "India",
          "India",
          "United",
          "United",
          "United",
          "United",
          "United",
          "United",
          "United",
          "Canada",
          "United",
          "United",
          "United",
          "United",
          "United",
          "India",
          "United",
          "United",
          "United",
          "United",
          "India",
          "South",
          "United",
          "United",
          "United",
          "United",
          "United",
          "United",
          "Canada",
          "United",
          "United",
          "United",
          "United",
          "South",
          "United",
          "United",
          "India",
          "India",
          "India",
          "United",
          "United",
          "United",
          "United",
          "United",
          "United",
          "India",
          "United",
          "United",
          "United",
          "United",
          "United",
          "United",
          "India",
          "United",
          "Canada",
          "United",
          "India",
          "United",
          "United",
          "United",
          "United",
          "Canada",
          "United",
          "United",
          "Egypt",
          "United",
          "India",
          "Egypt",
          "United",
          "United",
          "United",
          "United",
          "India",
          "India",
          "United",
          "United",
          "United",
          "United",
          "United",
          "United",
          "United",
          "India",
          "India",
          "Turkey",
          "India",
          "South",
          "United",
          "India",
          "India",
          "United",
          "United",
          "United",
          "United",
          "United",
          "United",
          "India",
          "United",
          "United",
          "Egypt",
          "Mexico",
          "United",
          "United",
          "United",
          "United",
          "Spain",
          "United",
          "United",
          "United",
          "United",
          "United",
          "India",
          "United",
          "United",
          "United",
          "United",
          "Turkey",
          "United",
          "United",
          "United",
          "United",
          "United",
          "United",
          "United",
          "United",
          "United",
          "United",
          "United",
          "United",
          "United",
          "United",
          "United",
          "United",
          "United",
          "United",
          "United",
          "United",
          "Turkey",
          "United",
          "United",
          "United",
          "Canada",
          "United",
          "United",
          "United",
          "United",
          "United",
          "United",
          "United",
          "India",
          "United",
          "United",
          "United",
          "United",
          "Mexico",
          "India",
          "India",
          "India",
          "India",
          "India",
          "India",
          "United",
          "United",
          "United",
          "United",
          "United",
          "United",
          "United",
          "United",
          "United",
          "Turkey",
          "United",
          "India",
          "India",
          "United",
          "United",
          "United",
          "United",
          "United",
          "India"
         ],
         "xaxis": "x",
         "yaxis": "y"
        }
       ],
       "layout": {
        "barmode": "relative",
        "legend": {
         "tracegroupgap": 0
        },
        "margin": {
         "t": 60
        },
        "template": {
         "data": {
          "bar": [
           {
            "error_x": {
             "color": "#2a3f5f"
            },
            "error_y": {
             "color": "#2a3f5f"
            },
            "marker": {
             "line": {
              "color": "#E5ECF6",
              "width": 0.5
             },
             "pattern": {
              "fillmode": "overlay",
              "size": 10,
              "solidity": 0.2
             }
            },
            "type": "bar"
           }
          ],
          "barpolar": [
           {
            "marker": {
             "line": {
              "color": "#E5ECF6",
              "width": 0.5
             },
             "pattern": {
              "fillmode": "overlay",
              "size": 10,
              "solidity": 0.2
             }
            },
            "type": "barpolar"
           }
          ],
          "carpet": [
           {
            "aaxis": {
             "endlinecolor": "#2a3f5f",
             "gridcolor": "white",
             "linecolor": "white",
             "minorgridcolor": "white",
             "startlinecolor": "#2a3f5f"
            },
            "baxis": {
             "endlinecolor": "#2a3f5f",
             "gridcolor": "white",
             "linecolor": "white",
             "minorgridcolor": "white",
             "startlinecolor": "#2a3f5f"
            },
            "type": "carpet"
           }
          ],
          "choropleth": [
           {
            "colorbar": {
             "outlinewidth": 0,
             "ticks": ""
            },
            "type": "choropleth"
           }
          ],
          "contour": [
           {
            "colorbar": {
             "outlinewidth": 0,
             "ticks": ""
            },
            "colorscale": [
             [
              0,
              "#0d0887"
             ],
             [
              0.1111111111111111,
              "#46039f"
             ],
             [
              0.2222222222222222,
              "#7201a8"
             ],
             [
              0.3333333333333333,
              "#9c179e"
             ],
             [
              0.4444444444444444,
              "#bd3786"
             ],
             [
              0.5555555555555556,
              "#d8576b"
             ],
             [
              0.6666666666666666,
              "#ed7953"
             ],
             [
              0.7777777777777778,
              "#fb9f3a"
             ],
             [
              0.8888888888888888,
              "#fdca26"
             ],
             [
              1,
              "#f0f921"
             ]
            ],
            "type": "contour"
           }
          ],
          "contourcarpet": [
           {
            "colorbar": {
             "outlinewidth": 0,
             "ticks": ""
            },
            "type": "contourcarpet"
           }
          ],
          "heatmap": [
           {
            "colorbar": {
             "outlinewidth": 0,
             "ticks": ""
            },
            "colorscale": [
             [
              0,
              "#0d0887"
             ],
             [
              0.1111111111111111,
              "#46039f"
             ],
             [
              0.2222222222222222,
              "#7201a8"
             ],
             [
              0.3333333333333333,
              "#9c179e"
             ],
             [
              0.4444444444444444,
              "#bd3786"
             ],
             [
              0.5555555555555556,
              "#d8576b"
             ],
             [
              0.6666666666666666,
              "#ed7953"
             ],
             [
              0.7777777777777778,
              "#fb9f3a"
             ],
             [
              0.8888888888888888,
              "#fdca26"
             ],
             [
              1,
              "#f0f921"
             ]
            ],
            "type": "heatmap"
           }
          ],
          "heatmapgl": [
           {
            "colorbar": {
             "outlinewidth": 0,
             "ticks": ""
            },
            "colorscale": [
             [
              0,
              "#0d0887"
             ],
             [
              0.1111111111111111,
              "#46039f"
             ],
             [
              0.2222222222222222,
              "#7201a8"
             ],
             [
              0.3333333333333333,
              "#9c179e"
             ],
             [
              0.4444444444444444,
              "#bd3786"
             ],
             [
              0.5555555555555556,
              "#d8576b"
             ],
             [
              0.6666666666666666,
              "#ed7953"
             ],
             [
              0.7777777777777778,
              "#fb9f3a"
             ],
             [
              0.8888888888888888,
              "#fdca26"
             ],
             [
              1,
              "#f0f921"
             ]
            ],
            "type": "heatmapgl"
           }
          ],
          "histogram": [
           {
            "marker": {
             "pattern": {
              "fillmode": "overlay",
              "size": 10,
              "solidity": 0.2
             }
            },
            "type": "histogram"
           }
          ],
          "histogram2d": [
           {
            "colorbar": {
             "outlinewidth": 0,
             "ticks": ""
            },
            "colorscale": [
             [
              0,
              "#0d0887"
             ],
             [
              0.1111111111111111,
              "#46039f"
             ],
             [
              0.2222222222222222,
              "#7201a8"
             ],
             [
              0.3333333333333333,
              "#9c179e"
             ],
             [
              0.4444444444444444,
              "#bd3786"
             ],
             [
              0.5555555555555556,
              "#d8576b"
             ],
             [
              0.6666666666666666,
              "#ed7953"
             ],
             [
              0.7777777777777778,
              "#fb9f3a"
             ],
             [
              0.8888888888888888,
              "#fdca26"
             ],
             [
              1,
              "#f0f921"
             ]
            ],
            "type": "histogram2d"
           }
          ],
          "histogram2dcontour": [
           {
            "colorbar": {
             "outlinewidth": 0,
             "ticks": ""
            },
            "colorscale": [
             [
              0,
              "#0d0887"
             ],
             [
              0.1111111111111111,
              "#46039f"
             ],
             [
              0.2222222222222222,
              "#7201a8"
             ],
             [
              0.3333333333333333,
              "#9c179e"
             ],
             [
              0.4444444444444444,
              "#bd3786"
             ],
             [
              0.5555555555555556,
              "#d8576b"
             ],
             [
              0.6666666666666666,
              "#ed7953"
             ],
             [
              0.7777777777777778,
              "#fb9f3a"
             ],
             [
              0.8888888888888888,
              "#fdca26"
             ],
             [
              1,
              "#f0f921"
             ]
            ],
            "type": "histogram2dcontour"
           }
          ],
          "mesh3d": [
           {
            "colorbar": {
             "outlinewidth": 0,
             "ticks": ""
            },
            "type": "mesh3d"
           }
          ],
          "parcoords": [
           {
            "line": {
             "colorbar": {
              "outlinewidth": 0,
              "ticks": ""
             }
            },
            "type": "parcoords"
           }
          ],
          "pie": [
           {
            "automargin": true,
            "type": "pie"
           }
          ],
          "scatter": [
           {
            "fillpattern": {
             "fillmode": "overlay",
             "size": 10,
             "solidity": 0.2
            },
            "type": "scatter"
           }
          ],
          "scatter3d": [
           {
            "line": {
             "colorbar": {
              "outlinewidth": 0,
              "ticks": ""
             }
            },
            "marker": {
             "colorbar": {
              "outlinewidth": 0,
              "ticks": ""
             }
            },
            "type": "scatter3d"
           }
          ],
          "scattercarpet": [
           {
            "marker": {
             "colorbar": {
              "outlinewidth": 0,
              "ticks": ""
             }
            },
            "type": "scattercarpet"
           }
          ],
          "scattergeo": [
           {
            "marker": {
             "colorbar": {
              "outlinewidth": 0,
              "ticks": ""
             }
            },
            "type": "scattergeo"
           }
          ],
          "scattergl": [
           {
            "marker": {
             "colorbar": {
              "outlinewidth": 0,
              "ticks": ""
             }
            },
            "type": "scattergl"
           }
          ],
          "scattermapbox": [
           {
            "marker": {
             "colorbar": {
              "outlinewidth": 0,
              "ticks": ""
             }
            },
            "type": "scattermapbox"
           }
          ],
          "scatterpolar": [
           {
            "marker": {
             "colorbar": {
              "outlinewidth": 0,
              "ticks": ""
             }
            },
            "type": "scatterpolar"
           }
          ],
          "scatterpolargl": [
           {
            "marker": {
             "colorbar": {
              "outlinewidth": 0,
              "ticks": ""
             }
            },
            "type": "scatterpolargl"
           }
          ],
          "scatterternary": [
           {
            "marker": {
             "colorbar": {
              "outlinewidth": 0,
              "ticks": ""
             }
            },
            "type": "scatterternary"
           }
          ],
          "surface": [
           {
            "colorbar": {
             "outlinewidth": 0,
             "ticks": ""
            },
            "colorscale": [
             [
              0,
              "#0d0887"
             ],
             [
              0.1111111111111111,
              "#46039f"
             ],
             [
              0.2222222222222222,
              "#7201a8"
             ],
             [
              0.3333333333333333,
              "#9c179e"
             ],
             [
              0.4444444444444444,
              "#bd3786"
             ],
             [
              0.5555555555555556,
              "#d8576b"
             ],
             [
              0.6666666666666666,
              "#ed7953"
             ],
             [
              0.7777777777777778,
              "#fb9f3a"
             ],
             [
              0.8888888888888888,
              "#fdca26"
             ],
             [
              1,
              "#f0f921"
             ]
            ],
            "type": "surface"
           }
          ],
          "table": [
           {
            "cells": {
             "fill": {
              "color": "#EBF0F8"
             },
             "line": {
              "color": "white"
             }
            },
            "header": {
             "fill": {
              "color": "#C8D4E3"
             },
             "line": {
              "color": "white"
             }
            },
            "type": "table"
           }
          ]
         },
         "layout": {
          "annotationdefaults": {
           "arrowcolor": "#2a3f5f",
           "arrowhead": 0,
           "arrowwidth": 1
          },
          "autotypenumbers": "strict",
          "coloraxis": {
           "colorbar": {
            "outlinewidth": 0,
            "ticks": ""
           }
          },
          "colorscale": {
           "diverging": [
            [
             0,
             "#8e0152"
            ],
            [
             0.1,
             "#c51b7d"
            ],
            [
             0.2,
             "#de77ae"
            ],
            [
             0.3,
             "#f1b6da"
            ],
            [
             0.4,
             "#fde0ef"
            ],
            [
             0.5,
             "#f7f7f7"
            ],
            [
             0.6,
             "#e6f5d0"
            ],
            [
             0.7,
             "#b8e186"
            ],
            [
             0.8,
             "#7fbc41"
            ],
            [
             0.9,
             "#4d9221"
            ],
            [
             1,
             "#276419"
            ]
           ],
           "sequential": [
            [
             0,
             "#0d0887"
            ],
            [
             0.1111111111111111,
             "#46039f"
            ],
            [
             0.2222222222222222,
             "#7201a8"
            ],
            [
             0.3333333333333333,
             "#9c179e"
            ],
            [
             0.4444444444444444,
             "#bd3786"
            ],
            [
             0.5555555555555556,
             "#d8576b"
            ],
            [
             0.6666666666666666,
             "#ed7953"
            ],
            [
             0.7777777777777778,
             "#fb9f3a"
            ],
            [
             0.8888888888888888,
             "#fdca26"
            ],
            [
             1,
             "#f0f921"
            ]
           ],
           "sequentialminus": [
            [
             0,
             "#0d0887"
            ],
            [
             0.1111111111111111,
             "#46039f"
            ],
            [
             0.2222222222222222,
             "#7201a8"
            ],
            [
             0.3333333333333333,
             "#9c179e"
            ],
            [
             0.4444444444444444,
             "#bd3786"
            ],
            [
             0.5555555555555556,
             "#d8576b"
            ],
            [
             0.6666666666666666,
             "#ed7953"
            ],
            [
             0.7777777777777778,
             "#fb9f3a"
            ],
            [
             0.8888888888888888,
             "#fdca26"
            ],
            [
             1,
             "#f0f921"
            ]
           ]
          },
          "colorway": [
           "#636efa",
           "#EF553B",
           "#00cc96",
           "#ab63fa",
           "#FFA15A",
           "#19d3f3",
           "#FF6692",
           "#B6E880",
           "#FF97FF",
           "#FECB52"
          ],
          "font": {
           "color": "#2a3f5f"
          },
          "geo": {
           "bgcolor": "white",
           "lakecolor": "white",
           "landcolor": "#E5ECF6",
           "showlakes": true,
           "showland": true,
           "subunitcolor": "white"
          },
          "hoverlabel": {
           "align": "left"
          },
          "hovermode": "closest",
          "mapbox": {
           "style": "light"
          },
          "paper_bgcolor": "white",
          "plot_bgcolor": "#E5ECF6",
          "polar": {
           "angularaxis": {
            "gridcolor": "white",
            "linecolor": "white",
            "ticks": ""
           },
           "bgcolor": "#E5ECF6",
           "radialaxis": {
            "gridcolor": "white",
            "linecolor": "white",
            "ticks": ""
           }
          },
          "scene": {
           "xaxis": {
            "backgroundcolor": "#E5ECF6",
            "gridcolor": "white",
            "gridwidth": 2,
            "linecolor": "white",
            "showbackground": true,
            "ticks": "",
            "zerolinecolor": "white"
           },
           "yaxis": {
            "backgroundcolor": "#E5ECF6",
            "gridcolor": "white",
            "gridwidth": 2,
            "linecolor": "white",
            "showbackground": true,
            "ticks": "",
            "zerolinecolor": "white"
           },
           "zaxis": {
            "backgroundcolor": "#E5ECF6",
            "gridcolor": "white",
            "gridwidth": 2,
            "linecolor": "white",
            "showbackground": true,
            "ticks": "",
            "zerolinecolor": "white"
           }
          },
          "shapedefaults": {
           "line": {
            "color": "#2a3f5f"
           }
          },
          "ternary": {
           "aaxis": {
            "gridcolor": "white",
            "linecolor": "white",
            "ticks": ""
           },
           "baxis": {
            "gridcolor": "white",
            "linecolor": "white",
            "ticks": ""
           },
           "bgcolor": "#E5ECF6",
           "caxis": {
            "gridcolor": "white",
            "linecolor": "white",
            "ticks": ""
           }
          },
          "title": {
           "x": 0.05
          },
          "xaxis": {
           "automargin": true,
           "gridcolor": "white",
           "linecolor": "white",
           "ticks": "",
           "title": {
            "standoff": 15
           },
           "zerolinecolor": "white",
           "zerolinewidth": 2
          },
          "yaxis": {
           "automargin": true,
           "gridcolor": "white",
           "linecolor": "white",
           "ticks": "",
           "title": {
            "standoff": 15
           },
           "zerolinecolor": "white",
           "zerolinewidth": 2
          }
         }
        },
        "xaxis": {
         "anchor": "y",
         "categoryorder": "total ascending",
         "domain": [
          0,
          1
         ],
         "title": {
          "text": "country_main"
         }
        },
        "yaxis": {
         "anchor": "x",
         "domain": [
          0,
          1
         ],
         "title": {
          "text": "count"
         }
        }
       }
      }
     },
     "metadata": {},
     "output_type": "display_data"
    }
   ],
   "source": [
    "#  Get top 10 countries by count\n",
    "top_10 = df['country_main'].value_counts().nlargest(10).index.tolist()\n",
    "# filter\n",
    "top_10_df = df[df['country_main'].isin(top_10)]\n",
    "fig = px.histogram(top_10_df, x= 'country_main', color_discrete_sequence=['indianred'])\n",
    "fig.update_xaxes(categoryorder = 'total ascending')\n",
    "fig.show()"
   ]
  },
  {
   "cell_type": "markdown",
   "id": "b6df0f78",
   "metadata": {},
   "source": [
    "- Conclusion:\n",
    "\n",
    "The above histogram represents the content added with respect to the country_main column. 1st: united and 2nd : India"
   ]
  },
  {
   "cell_type": "code",
   "execution_count": 70,
   "id": "a3bc1ade",
   "metadata": {},
   "outputs": [],
   "source": [
    "def gen_age_df(df):\n",
    "    new_df = df.groupby(['target_age']).agg({'show_id' : 'count'}).reset_index()\n",
    "    new_df = new_df[new_df['show_id'] !=0]\n",
    "    new_df.columns = ['target_age', 'counts']\n",
    "    new_df = new_df.sort_values('target_age')\n",
    "    return new_df"
   ]
  },
  {
   "cell_type": "code",
   "execution_count": 72,
   "id": "17a87385",
   "metadata": {},
   "outputs": [
    {
     "data": {
      "application/vnd.plotly.v1+json": {
       "config": {
        "plotlyServerURL": "https://plot.ly"
       },
       "data": [
        {
         "domain": {
          "x": [
           0,
           1
          ],
          "y": [
           0,
           1
          ]
         },
         "hole": 0.75,
         "hovertemplate": "label=%{label}<br>value=%{value}<extra></extra>",
         "labels": [
          "66 min",
          "74 min",
          "84 min",
          "Adults",
          "Kids",
          "Older Kids",
          "Teens"
         ],
         "legendgroup": "",
         "marker": {
          "colors": [
           "#3D0C02",
           "#800000",
           "#C11B17",
           "#C0C0C0"
          ],
          "line": {
           "color": "white",
           "width": 2
          }
         },
         "name": "",
         "showlegend": true,
         "textinfo": "percent+label",
         "textposition": "inside",
         "type": "pie",
         "values": [
          1,
          1,
          1,
          2942,
          298,
          971,
          1917
         ]
        }
       ],
       "layout": {
        "annotations": [
         {
          "font": {
           "color": "black",
           "size": 40
          },
          "showarrow": false,
          "text": "Movies",
          "x": 0.5,
          "y": 0.5
         }
        ],
        "height": 550,
        "legend": {
         "tracegroupgap": 0
        },
        "margin": {
         "t": 60
        },
        "showlegend": false,
        "template": {
         "data": {
          "bar": [
           {
            "error_x": {
             "color": "#2a3f5f"
            },
            "error_y": {
             "color": "#2a3f5f"
            },
            "marker": {
             "line": {
              "color": "#E5ECF6",
              "width": 0.5
             },
             "pattern": {
              "fillmode": "overlay",
              "size": 10,
              "solidity": 0.2
             }
            },
            "type": "bar"
           }
          ],
          "barpolar": [
           {
            "marker": {
             "line": {
              "color": "#E5ECF6",
              "width": 0.5
             },
             "pattern": {
              "fillmode": "overlay",
              "size": 10,
              "solidity": 0.2
             }
            },
            "type": "barpolar"
           }
          ],
          "carpet": [
           {
            "aaxis": {
             "endlinecolor": "#2a3f5f",
             "gridcolor": "white",
             "linecolor": "white",
             "minorgridcolor": "white",
             "startlinecolor": "#2a3f5f"
            },
            "baxis": {
             "endlinecolor": "#2a3f5f",
             "gridcolor": "white",
             "linecolor": "white",
             "minorgridcolor": "white",
             "startlinecolor": "#2a3f5f"
            },
            "type": "carpet"
           }
          ],
          "choropleth": [
           {
            "colorbar": {
             "outlinewidth": 0,
             "ticks": ""
            },
            "type": "choropleth"
           }
          ],
          "contour": [
           {
            "colorbar": {
             "outlinewidth": 0,
             "ticks": ""
            },
            "colorscale": [
             [
              0,
              "#0d0887"
             ],
             [
              0.1111111111111111,
              "#46039f"
             ],
             [
              0.2222222222222222,
              "#7201a8"
             ],
             [
              0.3333333333333333,
              "#9c179e"
             ],
             [
              0.4444444444444444,
              "#bd3786"
             ],
             [
              0.5555555555555556,
              "#d8576b"
             ],
             [
              0.6666666666666666,
              "#ed7953"
             ],
             [
              0.7777777777777778,
              "#fb9f3a"
             ],
             [
              0.8888888888888888,
              "#fdca26"
             ],
             [
              1,
              "#f0f921"
             ]
            ],
            "type": "contour"
           }
          ],
          "contourcarpet": [
           {
            "colorbar": {
             "outlinewidth": 0,
             "ticks": ""
            },
            "type": "contourcarpet"
           }
          ],
          "heatmap": [
           {
            "colorbar": {
             "outlinewidth": 0,
             "ticks": ""
            },
            "colorscale": [
             [
              0,
              "#0d0887"
             ],
             [
              0.1111111111111111,
              "#46039f"
             ],
             [
              0.2222222222222222,
              "#7201a8"
             ],
             [
              0.3333333333333333,
              "#9c179e"
             ],
             [
              0.4444444444444444,
              "#bd3786"
             ],
             [
              0.5555555555555556,
              "#d8576b"
             ],
             [
              0.6666666666666666,
              "#ed7953"
             ],
             [
              0.7777777777777778,
              "#fb9f3a"
             ],
             [
              0.8888888888888888,
              "#fdca26"
             ],
             [
              1,
              "#f0f921"
             ]
            ],
            "type": "heatmap"
           }
          ],
          "heatmapgl": [
           {
            "colorbar": {
             "outlinewidth": 0,
             "ticks": ""
            },
            "colorscale": [
             [
              0,
              "#0d0887"
             ],
             [
              0.1111111111111111,
              "#46039f"
             ],
             [
              0.2222222222222222,
              "#7201a8"
             ],
             [
              0.3333333333333333,
              "#9c179e"
             ],
             [
              0.4444444444444444,
              "#bd3786"
             ],
             [
              0.5555555555555556,
              "#d8576b"
             ],
             [
              0.6666666666666666,
              "#ed7953"
             ],
             [
              0.7777777777777778,
              "#fb9f3a"
             ],
             [
              0.8888888888888888,
              "#fdca26"
             ],
             [
              1,
              "#f0f921"
             ]
            ],
            "type": "heatmapgl"
           }
          ],
          "histogram": [
           {
            "marker": {
             "pattern": {
              "fillmode": "overlay",
              "size": 10,
              "solidity": 0.2
             }
            },
            "type": "histogram"
           }
          ],
          "histogram2d": [
           {
            "colorbar": {
             "outlinewidth": 0,
             "ticks": ""
            },
            "colorscale": [
             [
              0,
              "#0d0887"
             ],
             [
              0.1111111111111111,
              "#46039f"
             ],
             [
              0.2222222222222222,
              "#7201a8"
             ],
             [
              0.3333333333333333,
              "#9c179e"
             ],
             [
              0.4444444444444444,
              "#bd3786"
             ],
             [
              0.5555555555555556,
              "#d8576b"
             ],
             [
              0.6666666666666666,
              "#ed7953"
             ],
             [
              0.7777777777777778,
              "#fb9f3a"
             ],
             [
              0.8888888888888888,
              "#fdca26"
             ],
             [
              1,
              "#f0f921"
             ]
            ],
            "type": "histogram2d"
           }
          ],
          "histogram2dcontour": [
           {
            "colorbar": {
             "outlinewidth": 0,
             "ticks": ""
            },
            "colorscale": [
             [
              0,
              "#0d0887"
             ],
             [
              0.1111111111111111,
              "#46039f"
             ],
             [
              0.2222222222222222,
              "#7201a8"
             ],
             [
              0.3333333333333333,
              "#9c179e"
             ],
             [
              0.4444444444444444,
              "#bd3786"
             ],
             [
              0.5555555555555556,
              "#d8576b"
             ],
             [
              0.6666666666666666,
              "#ed7953"
             ],
             [
              0.7777777777777778,
              "#fb9f3a"
             ],
             [
              0.8888888888888888,
              "#fdca26"
             ],
             [
              1,
              "#f0f921"
             ]
            ],
            "type": "histogram2dcontour"
           }
          ],
          "mesh3d": [
           {
            "colorbar": {
             "outlinewidth": 0,
             "ticks": ""
            },
            "type": "mesh3d"
           }
          ],
          "parcoords": [
           {
            "line": {
             "colorbar": {
              "outlinewidth": 0,
              "ticks": ""
             }
            },
            "type": "parcoords"
           }
          ],
          "pie": [
           {
            "automargin": true,
            "type": "pie"
           }
          ],
          "scatter": [
           {
            "fillpattern": {
             "fillmode": "overlay",
             "size": 10,
             "solidity": 0.2
            },
            "type": "scatter"
           }
          ],
          "scatter3d": [
           {
            "line": {
             "colorbar": {
              "outlinewidth": 0,
              "ticks": ""
             }
            },
            "marker": {
             "colorbar": {
              "outlinewidth": 0,
              "ticks": ""
             }
            },
            "type": "scatter3d"
           }
          ],
          "scattercarpet": [
           {
            "marker": {
             "colorbar": {
              "outlinewidth": 0,
              "ticks": ""
             }
            },
            "type": "scattercarpet"
           }
          ],
          "scattergeo": [
           {
            "marker": {
             "colorbar": {
              "outlinewidth": 0,
              "ticks": ""
             }
            },
            "type": "scattergeo"
           }
          ],
          "scattergl": [
           {
            "marker": {
             "colorbar": {
              "outlinewidth": 0,
              "ticks": ""
             }
            },
            "type": "scattergl"
           }
          ],
          "scattermapbox": [
           {
            "marker": {
             "colorbar": {
              "outlinewidth": 0,
              "ticks": ""
             }
            },
            "type": "scattermapbox"
           }
          ],
          "scatterpolar": [
           {
            "marker": {
             "colorbar": {
              "outlinewidth": 0,
              "ticks": ""
             }
            },
            "type": "scatterpolar"
           }
          ],
          "scatterpolargl": [
           {
            "marker": {
             "colorbar": {
              "outlinewidth": 0,
              "ticks": ""
             }
            },
            "type": "scatterpolargl"
           }
          ],
          "scatterternary": [
           {
            "marker": {
             "colorbar": {
              "outlinewidth": 0,
              "ticks": ""
             }
            },
            "type": "scatterternary"
           }
          ],
          "surface": [
           {
            "colorbar": {
             "outlinewidth": 0,
             "ticks": ""
            },
            "colorscale": [
             [
              0,
              "#0d0887"
             ],
             [
              0.1111111111111111,
              "#46039f"
             ],
             [
              0.2222222222222222,
              "#7201a8"
             ],
             [
              0.3333333333333333,
              "#9c179e"
             ],
             [
              0.4444444444444444,
              "#bd3786"
             ],
             [
              0.5555555555555556,
              "#d8576b"
             ],
             [
              0.6666666666666666,
              "#ed7953"
             ],
             [
              0.7777777777777778,
              "#fb9f3a"
             ],
             [
              0.8888888888888888,
              "#fdca26"
             ],
             [
              1,
              "#f0f921"
             ]
            ],
            "type": "surface"
           }
          ],
          "table": [
           {
            "cells": {
             "fill": {
              "color": "#EBF0F8"
             },
             "line": {
              "color": "white"
             }
            },
            "header": {
             "fill": {
              "color": "#C8D4E3"
             },
             "line": {
              "color": "white"
             }
            },
            "type": "table"
           }
          ]
         },
         "layout": {
          "annotationdefaults": {
           "arrowcolor": "#2a3f5f",
           "arrowhead": 0,
           "arrowwidth": 1
          },
          "autotypenumbers": "strict",
          "coloraxis": {
           "colorbar": {
            "outlinewidth": 0,
            "ticks": ""
           }
          },
          "colorscale": {
           "diverging": [
            [
             0,
             "#8e0152"
            ],
            [
             0.1,
             "#c51b7d"
            ],
            [
             0.2,
             "#de77ae"
            ],
            [
             0.3,
             "#f1b6da"
            ],
            [
             0.4,
             "#fde0ef"
            ],
            [
             0.5,
             "#f7f7f7"
            ],
            [
             0.6,
             "#e6f5d0"
            ],
            [
             0.7,
             "#b8e186"
            ],
            [
             0.8,
             "#7fbc41"
            ],
            [
             0.9,
             "#4d9221"
            ],
            [
             1,
             "#276419"
            ]
           ],
           "sequential": [
            [
             0,
             "#0d0887"
            ],
            [
             0.1111111111111111,
             "#46039f"
            ],
            [
             0.2222222222222222,
             "#7201a8"
            ],
            [
             0.3333333333333333,
             "#9c179e"
            ],
            [
             0.4444444444444444,
             "#bd3786"
            ],
            [
             0.5555555555555556,
             "#d8576b"
            ],
            [
             0.6666666666666666,
             "#ed7953"
            ],
            [
             0.7777777777777778,
             "#fb9f3a"
            ],
            [
             0.8888888888888888,
             "#fdca26"
            ],
            [
             1,
             "#f0f921"
            ]
           ],
           "sequentialminus": [
            [
             0,
             "#0d0887"
            ],
            [
             0.1111111111111111,
             "#46039f"
            ],
            [
             0.2222222222222222,
             "#7201a8"
            ],
            [
             0.3333333333333333,
             "#9c179e"
            ],
            [
             0.4444444444444444,
             "#bd3786"
            ],
            [
             0.5555555555555556,
             "#d8576b"
            ],
            [
             0.6666666666666666,
             "#ed7953"
            ],
            [
             0.7777777777777778,
             "#fb9f3a"
            ],
            [
             0.8888888888888888,
             "#fdca26"
            ],
            [
             1,
             "#f0f921"
            ]
           ]
          },
          "colorway": [
           "#636efa",
           "#EF553B",
           "#00cc96",
           "#ab63fa",
           "#FFA15A",
           "#19d3f3",
           "#FF6692",
           "#B6E880",
           "#FF97FF",
           "#FECB52"
          ],
          "font": {
           "color": "#2a3f5f"
          },
          "geo": {
           "bgcolor": "white",
           "lakecolor": "white",
           "landcolor": "#E5ECF6",
           "showlakes": true,
           "showland": true,
           "subunitcolor": "white"
          },
          "hoverlabel": {
           "align": "left"
          },
          "hovermode": "closest",
          "mapbox": {
           "style": "light"
          },
          "paper_bgcolor": "white",
          "plot_bgcolor": "#E5ECF6",
          "polar": {
           "angularaxis": {
            "gridcolor": "white",
            "linecolor": "white",
            "ticks": ""
           },
           "bgcolor": "#E5ECF6",
           "radialaxis": {
            "gridcolor": "white",
            "linecolor": "white",
            "ticks": ""
           }
          },
          "scene": {
           "xaxis": {
            "backgroundcolor": "#E5ECF6",
            "gridcolor": "white",
            "gridwidth": 2,
            "linecolor": "white",
            "showbackground": true,
            "ticks": "",
            "zerolinecolor": "white"
           },
           "yaxis": {
            "backgroundcolor": "#E5ECF6",
            "gridcolor": "white",
            "gridwidth": 2,
            "linecolor": "white",
            "showbackground": true,
            "ticks": "",
            "zerolinecolor": "white"
           },
           "zaxis": {
            "backgroundcolor": "#E5ECF6",
            "gridcolor": "white",
            "gridwidth": 2,
            "linecolor": "white",
            "showbackground": true,
            "ticks": "",
            "zerolinecolor": "white"
           }
          },
          "shapedefaults": {
           "line": {
            "color": "#2a3f5f"
           }
          },
          "ternary": {
           "aaxis": {
            "gridcolor": "white",
            "linecolor": "white",
            "ticks": ""
           },
           "baxis": {
            "gridcolor": "white",
            "linecolor": "white",
            "ticks": ""
           },
           "bgcolor": "#E5ECF6",
           "caxis": {
            "gridcolor": "white",
            "linecolor": "white",
            "ticks": ""
           }
          },
          "title": {
           "x": 0.05
          },
          "xaxis": {
           "automargin": true,
           "gridcolor": "white",
           "linecolor": "white",
           "ticks": "",
           "title": {
            "standoff": 15
           },
           "zerolinecolor": "white",
           "zerolinewidth": 2
          },
          "yaxis": {
           "automargin": true,
           "gridcolor": "white",
           "linecolor": "white",
           "ticks": "",
           "title": {
            "standoff": 15
           },
           "zerolinecolor": "white",
           "zerolinewidth": 2
          }
         }
        },
        "width": 550
       }
      }
     },
     "metadata": {},
     "output_type": "display_data"
    }
   ],
   "source": [
    "movie_age_df = gen_age_df(movie_df)\n",
    "fig = px.pie(labels=movie_age_df['target_age'], values=movie_age_df['counts'], names=movie_age_df['target_age'], width=550, height=550)\n",
    "fig.update_traces(textposition = 'inside', textinfo = 'percent + label', hole = 0.75, marker = dict(colors = ['#3D0C02', '#800000'  , '#C11B17','#C0C0C0'],  line = dict(color = 'white', width = 2)))\n",
    "fig.update_layout(annotations = [dict(text = 'Movies', x=0.5, y=0.5, font_size =40, showarrow = False, font_color = 'black')], showlegend = False)\n",
    "fig.show()"
   ]
  },
  {
   "cell_type": "markdown",
   "id": "9ea1e808",
   "metadata": {},
   "source": [
    "- Conclusion:-\n",
    "\n",
    "This Plot shows the Percentage of the Movies added based upon the target age. As one can see, the Adults section scores the highest number with 48%."
   ]
  },
  {
   "cell_type": "code",
   "execution_count": 73,
   "id": "4b078aab",
   "metadata": {},
   "outputs": [],
   "source": [
    "from scipy.stats import norm\n"
   ]
  },
  {
   "cell_type": "code",
   "execution_count": 81,
   "id": "20225014",
   "metadata": {},
   "outputs": [
    {
     "data": {
      "image/png": "[encoded data removed]",
      "text/plain": [
       "<Figure size 640x480 with 1 Axes>"
      ]
     },
     "metadata": {},
     "output_type": "display_data"
    }
   ],
   "source": [
    "\n",
    "\n",
    "data = df.loc[df['release_year'] > 2000, 'release_year']\n",
    "\n",
    "# Plot histogram\n",
    "sns.histplot(data, kde=False, color='#827839', stat='density')\n",
    "\n",
    "# Fit a normal distribution\n",
    "mu, std = norm.fit(data)\n",
    "\n",
    "# Plot normal distribution\n",
    "xmin, xmax = plt.xlim()\n",
    "x = np.linspace(xmin, xmax, 100)\n",
    "p = norm.pdf(x, mu, std)\n",
    "plt.plot(x, p, 'k', linewidth=2, label='Normal Fit')\n",
    "\n",
    "plt.legend()\n",
    "plt.show()\n"
   ]
  },
  {
   "cell_type": "markdown",
   "id": "fb3a5038",
   "metadata": {},
   "source": [
    "- Conclusion: The above distplot is based upon the release_year of the movies/shows.\n"
   ]
  },
  {
   "cell_type": "code",
   "execution_count": 82,
   "id": "03ffc377",
   "metadata": {},
   "outputs": [
    {
     "data": {
      "text/html": [
       "<div>\n",
       "<style scoped>\n",
       "    .dataframe tbody tr th:only-of-type {\n",
       "        vertical-align: middle;\n",
       "    }\n",
       "\n",
       "    .dataframe tbody tr th {\n",
       "        vertical-align: top;\n",
       "    }\n",
       "\n",
       "    .dataframe thead th {\n",
       "        text-align: right;\n",
       "    }\n",
       "</style>\n",
       "<table border=\"1\" class=\"dataframe\">\n",
       "  <thead>\n",
       "    <tr style=\"text-align: right;\">\n",
       "      <th></th>\n",
       "      <th>show_id</th>\n",
       "      <th>type</th>\n",
       "      <th>title</th>\n",
       "      <th>director</th>\n",
       "      <th>cast</th>\n",
       "      <th>country</th>\n",
       "      <th>date_added</th>\n",
       "      <th>release_year</th>\n",
       "      <th>rating</th>\n",
       "      <th>duration</th>\n",
       "      <th>listed_in</th>\n",
       "      <th>description</th>\n",
       "      <th>y_add</th>\n",
       "      <th>m_add</th>\n",
       "      <th>target_age</th>\n",
       "      <th>country_main</th>\n",
       "    </tr>\n",
       "  </thead>\n",
       "  <tbody>\n",
       "    <tr>\n",
       "      <th>0</th>\n",
       "      <td>s1</td>\n",
       "      <td>Movie</td>\n",
       "      <td>Dick Johnson Is Dead</td>\n",
       "      <td>Kirsten Johnson</td>\n",
       "      <td>David Attenborough</td>\n",
       "      <td>United States</td>\n",
       "      <td>September 25, 2021</td>\n",
       "      <td>2020</td>\n",
       "      <td>PG-13</td>\n",
       "      <td>90 min</td>\n",
       "      <td>Documentaries</td>\n",
       "      <td>As her father nears the end of his life, filmm...</td>\n",
       "      <td>2021</td>\n",
       "      <td>September</td>\n",
       "      <td>Teens</td>\n",
       "      <td>United</td>\n",
       "    </tr>\n",
       "    <tr>\n",
       "      <th>1</th>\n",
       "      <td>s2</td>\n",
       "      <td>TV Show</td>\n",
       "      <td>Blood &amp; Water</td>\n",
       "      <td>Rajiv Chilaka</td>\n",
       "      <td>Ama Qamata, Khosi Ngema, Gail Mabalane, Thaban...</td>\n",
       "      <td>South Africa</td>\n",
       "      <td>September 24, 2021</td>\n",
       "      <td>2021</td>\n",
       "      <td>TV-MA</td>\n",
       "      <td>2 Seasons</td>\n",
       "      <td>International TV Shows, TV Dramas, TV Mysteries</td>\n",
       "      <td>After crossing paths at a party, a Cape Town t...</td>\n",
       "      <td>2021</td>\n",
       "      <td>September</td>\n",
       "      <td>Adults</td>\n",
       "      <td>South</td>\n",
       "    </tr>\n",
       "    <tr>\n",
       "      <th>2</th>\n",
       "      <td>s3</td>\n",
       "      <td>TV Show</td>\n",
       "      <td>Ganglands</td>\n",
       "      <td>Julien Leclercq</td>\n",
       "      <td>Sami Bouajila, Tracy Gotoas, Samuel Jouy, Nabi...</td>\n",
       "      <td>United States</td>\n",
       "      <td>September 24, 2021</td>\n",
       "      <td>2021</td>\n",
       "      <td>TV-MA</td>\n",
       "      <td>1 Season</td>\n",
       "      <td>Crime TV Shows, International TV Shows, TV Act...</td>\n",
       "      <td>To protect his family from a powerful drug lor...</td>\n",
       "      <td>2021</td>\n",
       "      <td>September</td>\n",
       "      <td>Adults</td>\n",
       "      <td>United</td>\n",
       "    </tr>\n",
       "    <tr>\n",
       "      <th>3</th>\n",
       "      <td>s4</td>\n",
       "      <td>TV Show</td>\n",
       "      <td>Jailbirds New Orleans</td>\n",
       "      <td>Rajiv Chilaka</td>\n",
       "      <td>David Attenborough</td>\n",
       "      <td>United States</td>\n",
       "      <td>September 24, 2021</td>\n",
       "      <td>2021</td>\n",
       "      <td>TV-MA</td>\n",
       "      <td>1 Season</td>\n",
       "      <td>Docuseries, Reality TV</td>\n",
       "      <td>Feuds, flirtations and toilet talk go down amo...</td>\n",
       "      <td>2021</td>\n",
       "      <td>September</td>\n",
       "      <td>Adults</td>\n",
       "      <td>United</td>\n",
       "    </tr>\n",
       "    <tr>\n",
       "      <th>4</th>\n",
       "      <td>s5</td>\n",
       "      <td>TV Show</td>\n",
       "      <td>Kota Factory</td>\n",
       "      <td>Rajiv Chilaka</td>\n",
       "      <td>Mayur More, Jitendra Kumar, Ranjan Raj, Alam K...</td>\n",
       "      <td>India</td>\n",
       "      <td>September 24, 2021</td>\n",
       "      <td>2021</td>\n",
       "      <td>TV-MA</td>\n",
       "      <td>2 Seasons</td>\n",
       "      <td>International TV Shows, Romantic TV Shows, TV ...</td>\n",
       "      <td>In a city of coaching centers known to train I...</td>\n",
       "      <td>2021</td>\n",
       "      <td>September</td>\n",
       "      <td>Adults</td>\n",
       "      <td>India</td>\n",
       "    </tr>\n",
       "  </tbody>\n",
       "</table>\n",
       "</div>"
      ],
      "text/plain": [
       "  show_id     type                  title         director  \\\n",
       "0      s1    Movie   Dick Johnson Is Dead  Kirsten Johnson   \n",
       "1      s2  TV Show          Blood & Water    Rajiv Chilaka   \n",
       "2      s3  TV Show              Ganglands  Julien Leclercq   \n",
       "3      s4  TV Show  Jailbirds New Orleans    Rajiv Chilaka   \n",
       "4      s5  TV Show           Kota Factory    Rajiv Chilaka   \n",
       "\n",
       "                                                cast        country  \\\n",
       "0                                 David Attenborough  United States   \n",
       "1  Ama Qamata, Khosi Ngema, Gail Mabalane, Thaban...   South Africa   \n",
       "2  Sami Bouajila, Tracy Gotoas, Samuel Jouy, Nabi...  United States   \n",
       "3                                 David Attenborough  United States   \n",
       "4  Mayur More, Jitendra Kumar, Ranjan Raj, Alam K...          India   \n",
       "\n",
       "           date_added  release_year rating   duration  \\\n",
       "0  September 25, 2021          2020  PG-13     90 min   \n",
       "1  September 24, 2021          2021  TV-MA  2 Seasons   \n",
       "2  September 24, 2021          2021  TV-MA   1 Season   \n",
       "3  September 24, 2021          2021  TV-MA   1 Season   \n",
       "4  September 24, 2021          2021  TV-MA  2 Seasons   \n",
       "\n",
       "                                           listed_in  \\\n",
       "0                                      Documentaries   \n",
       "1    International TV Shows, TV Dramas, TV Mysteries   \n",
       "2  Crime TV Shows, International TV Shows, TV Act...   \n",
       "3                             Docuseries, Reality TV   \n",
       "4  International TV Shows, Romantic TV Shows, TV ...   \n",
       "\n",
       "                                         description y_add      m_add  \\\n",
       "0  As her father nears the end of his life, filmm...  2021  September   \n",
       "1  After crossing paths at a party, a Cape Town t...  2021  September   \n",
       "2  To protect his family from a powerful drug lor...  2021  September   \n",
       "3  Feuds, flirtations and toilet talk go down amo...  2021  September   \n",
       "4  In a city of coaching centers known to train I...  2021  September   \n",
       "\n",
       "  target_age country_main  \n",
       "0      Teens       United  \n",
       "1     Adults        South  \n",
       "2     Adults       United  \n",
       "3     Adults       United  \n",
       "4     Adults        India  "
      ]
     },
     "execution_count": 82,
     "metadata": {},
     "output_type": "execute_result"
    }
   ],
   "source": [
    "df.head()"
   ]
  },
  {
   "cell_type": "code",
   "execution_count": 83,
   "id": "3e5f787e",
   "metadata": {},
   "outputs": [],
   "source": [
    "def gen_duration_df(df):\n",
    "    new_df = df.groupby(['duration']).agg({'show_id':'count'}).reset_index()\n",
    "    new_df =new_df[new_df['show_id'] !=0]\n",
    "    new_df.columns = ['duration', 'counts']\n",
    "    new_df = new_df.sort_values('duration')\n",
    "    return new_df"
   ]
  },
  {
   "cell_type": "code",
   "execution_count": 86,
   "id": "0fd0828a",
   "metadata": {},
   "outputs": [
    {
     "data": {
      "application/vnd.plotly.v1+json": {
       "config": {
        "plotlyServerURL": "https://plot.ly"
       },
       "data": [
        {
         "alignmentgroup": "True",
         "hovertemplate": "x=%{x}<br>y=%{y}<extra></extra>",
         "legendgroup": "",
         "marker": {
          "color": "#FFA62F",
          "pattern": {
           "shape": ""
          }
         },
         "name": "",
         "offsetgroup": "",
         "orientation": "v",
         "showlegend": false,
         "textposition": "auto",
         "type": "bar",
         "x": [
          "1 Season",
          "10 min",
          "100 min",
          "101 min",
          "102 min",
          "103 min",
          "104 min",
          "105 min",
          "106 min",
          "107 min",
          "108 min",
          "109 min",
          "11 min",
          "110 min",
          "111 min",
          "112 min",
          "113 min",
          "114 min",
          "115 min",
          "116 min",
          "117 min",
          "118 min",
          "119 min",
          "12 min",
          "120 min",
          "121 min",
          "122 min",
          "123 min",
          "124 min",
          "125 min",
          "126 min",
          "127 min",
          "128 min",
          "129 min",
          "13 min",
          "130 min",
          "131 min",
          "132 min",
          "133 min",
          "134 min",
          "135 min",
          "136 min",
          "137 min",
          "138 min",
          "139 min",
          "14 min",
          "140 min",
          "141 min",
          "142 min",
          "143 min",
          "144 min",
          "145 min",
          "146 min",
          "147 min",
          "148 min",
          "149 min",
          "15 min",
          "150 min",
          "151 min",
          "152 min",
          "153 min",
          "154 min",
          "155 min",
          "156 min",
          "157 min",
          "158 min",
          "159 min",
          "16 min",
          "160 min",
          "161 min",
          "162 min",
          "163 min",
          "164 min",
          "165 min",
          "166 min",
          "167 min",
          "168 min",
          "169 min",
          "17 min",
          "170 min",
          "171 min",
          "172 min",
          "173 min",
          "174 min",
          "176 min",
          "177 min",
          "178 min",
          "179 min",
          "18 min",
          "180 min",
          "181 min",
          "182 min",
          "185 min",
          "186 min",
          "187 min",
          "189 min",
          "19 min",
          "190 min",
          "191 min",
          "192 min",
          "193 min",
          "194 min",
          "195 min",
          "196 min",
          "20 min",
          "200 min",
          "201 min",
          "203 min",
          "204 min",
          "205 min",
          "208 min",
          "209 min",
          "21 min",
          "212 min",
          "214 min",
          "22 min",
          "224 min",
          "228 min",
          "229 min",
          "23 min",
          "230 min",
          "233 min",
          "237 min",
          "24 min",
          "25 min",
          "253 min",
          "26 min",
          "27 min",
          "273 min",
          "28 min",
          "29 min",
          "3 min",
          "30 min",
          "31 min",
          "312 min",
          "32 min",
          "33 min",
          "34 min",
          "35 min",
          "36 min",
          "37 min",
          "38 min",
          "39 min",
          "40 min",
          "41 min",
          "42 min",
          "43 min",
          "44 min",
          "45 min",
          "46 min",
          "47 min",
          "48 min",
          "49 min",
          "5 min",
          "50 min",
          "51 min",
          "52 min",
          "53 min",
          "54 min",
          "55 min",
          "56 min",
          "57 min",
          "58 min",
          "59 min",
          "60 min",
          "61 min",
          "62 min",
          "63 min",
          "64 min",
          "65 min",
          "66 min",
          "67 min",
          "68 min",
          "69 min",
          "70 min",
          "71 min",
          "72 min",
          "73 min",
          "74 min",
          "75 min",
          "76 min",
          "77 min",
          "78 min",
          "79 min",
          "8 min",
          "80 min",
          "81 min",
          "82 min",
          "83 min",
          "84 min",
          "85 min",
          "86 min",
          "87 min",
          "88 min",
          "89 min",
          "9 min",
          "90 min",
          "91 min",
          "92 min",
          "93 min",
          "94 min",
          "95 min",
          "96 min",
          "97 min",
          "98 min",
          "99 min"
         ],
         "xaxis": "x",
         "y": [
          3,
          1,
          108,
          116,
          122,
          114,
          104,
          101,
          111,
          98,
          87,
          69,
          2,
          97,
          68,
          74,
          69,
          56,
          61,
          80,
          61,
          65,
          63,
          3,
          56,
          54,
          45,
          44,
          52,
          36,
          44,
          48,
          41,
          32,
          3,
          40,
          34,
          37,
          42,
          22,
          39,
          23,
          38,
          21,
          22,
          3,
          25,
          19,
          13,
          23,
          9,
          18,
          13,
          12,
          19,
          15,
          3,
          17,
          15,
          5,
          11,
          13,
          10,
          10,
          6,
          12,
          6,
          1,
          6,
          10,
          14,
          11,
          4,
          8,
          8,
          1,
          7,
          2,
          3,
          5,
          7,
          4,
          6,
          2,
          5,
          5,
          1,
          2,
          1,
          2,
          4,
          3,
          6,
          1,
          2,
          1,
          2,
          2,
          1,
          2,
          1,
          1,
          2,
          1,
          2,
          1,
          1,
          1,
          2,
          1,
          1,
          2,
          3,
          1,
          1,
          16,
          1,
          1,
          1,
          13,
          1,
          1,
          1,
          23,
          11,
          1,
          6,
          3,
          1,
          10,
          11,
          1,
          6,
          2,
          1,
          9,
          6,
          3,
          5,
          5,
          3,
          5,
          2,
          13,
          3,
          9,
          1,
          19,
          10,
          24,
          11,
          8,
          9,
          1,
          10,
          11,
          20,
          24,
          24,
          16,
          12,
          14,
          25,
          25,
          29,
          31,
          24,
          32,
          23,
          25,
          28,
          21,
          25,
          28,
          28,
          28,
          33,
          30,
          31,
          35,
          31,
          30,
          45,
          35,
          1,
          43,
          62,
          52,
          65,
          67,
          73,
          103,
          101,
          116,
          106,
          1,
          152,
          144,
          129,
          146,
          146,
          137,
          130,
          146,
          120,
          118
         ],
         "yaxis": "y"
        }
       ],
       "layout": {
        "barmode": "relative",
        "legend": {
         "tracegroupgap": 0
        },
        "margin": {
         "t": 60
        },
        "template": {
         "data": {
          "bar": [
           {
            "error_x": {
             "color": "#2a3f5f"
            },
            "error_y": {
             "color": "#2a3f5f"
            },
            "marker": {
             "line": {
              "color": "#E5ECF6",
              "width": 0.5
             },
             "pattern": {
              "fillmode": "overlay",
              "size": 10,
              "solidity": 0.2
             }
            },
            "type": "bar"
           }
          ],
          "barpolar": [
           {
            "marker": {
             "line": {
              "color": "#E5ECF6",
              "width": 0.5
             },
             "pattern": {
              "fillmode": "overlay",
              "size": 10,
              "solidity": 0.2
             }
            },
            "type": "barpolar"
           }
          ],
          "carpet": [
           {
            "aaxis": {
             "endlinecolor": "#2a3f5f",
             "gridcolor": "white",
             "linecolor": "white",
             "minorgridcolor": "white",
             "startlinecolor": "#2a3f5f"
            },
            "baxis": {
             "endlinecolor": "#2a3f5f",
             "gridcolor": "white",
             "linecolor": "white",
             "minorgridcolor": "white",
             "startlinecolor": "#2a3f5f"
            },
            "type": "carpet"
           }
          ],
          "choropleth": [
           {
            "colorbar": {
             "outlinewidth": 0,
             "ticks": ""
            },
            "type": "choropleth"
           }
          ],
          "contour": [
           {
            "colorbar": {
             "outlinewidth": 0,
             "ticks": ""
            },
            "colorscale": [
             [
              0,
              "#0d0887"
             ],
             [
              0.1111111111111111,
              "#46039f"
             ],
             [
              0.2222222222222222,
              "#7201a8"
             ],
             [
              0.3333333333333333,
              "#9c179e"
             ],
             [
              0.4444444444444444,
              "#bd3786"
             ],
             [
              0.5555555555555556,
              "#d8576b"
             ],
             [
              0.6666666666666666,
              "#ed7953"
             ],
             [
              0.7777777777777778,
              "#fb9f3a"
             ],
             [
              0.8888888888888888,
              "#fdca26"
             ],
             [
              1,
              "#f0f921"
             ]
            ],
            "type": "contour"
           }
          ],
          "contourcarpet": [
           {
            "colorbar": {
             "outlinewidth": 0,
             "ticks": ""
            },
            "type": "contourcarpet"
           }
          ],
          "heatmap": [
           {
            "colorbar": {
             "outlinewidth": 0,
             "ticks": ""
            },
            "colorscale": [
             [
              0,
              "#0d0887"
             ],
             [
              0.1111111111111111,
              "#46039f"
             ],
             [
              0.2222222222222222,
              "#7201a8"
             ],
             [
              0.3333333333333333,
              "#9c179e"
             ],
             [
              0.4444444444444444,
              "#bd3786"
             ],
             [
              0.5555555555555556,
              "#d8576b"
             ],
             [
              0.6666666666666666,
              "#ed7953"
             ],
             [
              0.7777777777777778,
              "#fb9f3a"
             ],
             [
              0.8888888888888888,
              "#fdca26"
             ],
             [
              1,
              "#f0f921"
             ]
            ],
            "type": "heatmap"
           }
          ],
          "heatmapgl": [
           {
            "colorbar": {
             "outlinewidth": 0,
             "ticks": ""
            },
            "colorscale": [
             [
              0,
              "#0d0887"
             ],
             [
              0.1111111111111111,
              "#46039f"
             ],
             [
              0.2222222222222222,
              "#7201a8"
             ],
             [
              0.3333333333333333,
              "#9c179e"
             ],
             [
              0.4444444444444444,
              "#bd3786"
             ],
             [
              0.5555555555555556,
              "#d8576b"
             ],
             [
              0.6666666666666666,
              "#ed7953"
             ],
             [
              0.7777777777777778,
              "#fb9f3a"
             ],
             [
              0.8888888888888888,
              "#fdca26"
             ],
             [
              1,
              "#f0f921"
             ]
            ],
            "type": "heatmapgl"
           }
          ],
          "histogram": [
           {
            "marker": {
             "pattern": {
              "fillmode": "overlay",
              "size": 10,
              "solidity": 0.2
             }
            },
            "type": "histogram"
           }
          ],
          "histogram2d": [
           {
            "colorbar": {
             "outlinewidth": 0,
             "ticks": ""
            },
            "colorscale": [
             [
              0,
              "#0d0887"
             ],
             [
              0.1111111111111111,
              "#46039f"
             ],
             [
              0.2222222222222222,
              "#7201a8"
             ],
             [
              0.3333333333333333,
              "#9c179e"
             ],
             [
              0.4444444444444444,
              "#bd3786"
             ],
             [
              0.5555555555555556,
              "#d8576b"
             ],
             [
              0.6666666666666666,
              "#ed7953"
             ],
             [
              0.7777777777777778,
              "#fb9f3a"
             ],
             [
              0.8888888888888888,
              "#fdca26"
             ],
             [
              1,
              "#f0f921"
             ]
            ],
            "type": "histogram2d"
           }
          ],
          "histogram2dcontour": [
           {
            "colorbar": {
             "outlinewidth": 0,
             "ticks": ""
            },
            "colorscale": [
             [
              0,
              "#0d0887"
             ],
             [
              0.1111111111111111,
              "#46039f"
             ],
             [
              0.2222222222222222,
              "#7201a8"
             ],
             [
              0.3333333333333333,
              "#9c179e"
             ],
             [
              0.4444444444444444,
              "#bd3786"
             ],
             [
              0.5555555555555556,
              "#d8576b"
             ],
             [
              0.6666666666666666,
              "#ed7953"
             ],
             [
              0.7777777777777778,
              "#fb9f3a"
             ],
             [
              0.8888888888888888,
              "#fdca26"
             ],
             [
              1,
              "#f0f921"
             ]
            ],
            "type": "histogram2dcontour"
           }
          ],
          "mesh3d": [
           {
            "colorbar": {
             "outlinewidth": 0,
             "ticks": ""
            },
            "type": "mesh3d"
           }
          ],
          "parcoords": [
           {
            "line": {
             "colorbar": {
              "outlinewidth": 0,
              "ticks": ""
             }
            },
            "type": "parcoords"
           }
          ],
          "pie": [
           {
            "automargin": true,
            "type": "pie"
           }
          ],
          "scatter": [
           {
            "fillpattern": {
             "fillmode": "overlay",
             "size": 10,
             "solidity": 0.2
            },
            "type": "scatter"
           }
          ],
          "scatter3d": [
           {
            "line": {
             "colorbar": {
              "outlinewidth": 0,
              "ticks": ""
             }
            },
            "marker": {
             "colorbar": {
              "outlinewidth": 0,
              "ticks": ""
             }
            },
            "type": "scatter3d"
           }
          ],
          "scattercarpet": [
           {
            "marker": {
             "colorbar": {
              "outlinewidth": 0,
              "ticks": ""
             }
            },
            "type": "scattercarpet"
           }
          ],
          "scattergeo": [
           {
            "marker": {
             "colorbar": {
              "outlinewidth": 0,
              "ticks": ""
             }
            },
            "type": "scattergeo"
           }
          ],
          "scattergl": [
           {
            "marker": {
             "colorbar": {
              "outlinewidth": 0,
              "ticks": ""
             }
            },
            "type": "scattergl"
           }
          ],
          "scattermapbox": [
           {
            "marker": {
             "colorbar": {
              "outlinewidth": 0,
              "ticks": ""
             }
            },
            "type": "scattermapbox"
           }
          ],
          "scatterpolar": [
           {
            "marker": {
             "colorbar": {
              "outlinewidth": 0,
              "ticks": ""
             }
            },
            "type": "scatterpolar"
           }
          ],
          "scatterpolargl": [
           {
            "marker": {
             "colorbar": {
              "outlinewidth": 0,
              "ticks": ""
             }
            },
            "type": "scatterpolargl"
           }
          ],
          "scatterternary": [
           {
            "marker": {
             "colorbar": {
              "outlinewidth": 0,
              "ticks": ""
             }
            },
            "type": "scatterternary"
           }
          ],
          "surface": [
           {
            "colorbar": {
             "outlinewidth": 0,
             "ticks": ""
            },
            "colorscale": [
             [
              0,
              "#0d0887"
             ],
             [
              0.1111111111111111,
              "#46039f"
             ],
             [
              0.2222222222222222,
              "#7201a8"
             ],
             [
              0.3333333333333333,
              "#9c179e"
             ],
             [
              0.4444444444444444,
              "#bd3786"
             ],
             [
              0.5555555555555556,
              "#d8576b"
             ],
             [
              0.6666666666666666,
              "#ed7953"
             ],
             [
              0.7777777777777778,
              "#fb9f3a"
             ],
             [
              0.8888888888888888,
              "#fdca26"
             ],
             [
              1,
              "#f0f921"
             ]
            ],
            "type": "surface"
           }
          ],
          "table": [
           {
            "cells": {
             "fill": {
              "color": "#EBF0F8"
             },
             "line": {
              "color": "white"
             }
            },
            "header": {
             "fill": {
              "color": "#C8D4E3"
             },
             "line": {
              "color": "white"
             }
            },
            "type": "table"
           }
          ]
         },
         "layout": {
          "annotationdefaults": {
           "arrowcolor": "#2a3f5f",
           "arrowhead": 0,
           "arrowwidth": 1
          },
          "autotypenumbers": "strict",
          "coloraxis": {
           "colorbar": {
            "outlinewidth": 0,
            "ticks": ""
           }
          },
          "colorscale": {
           "diverging": [
            [
             0,
             "#8e0152"
            ],
            [
             0.1,
             "#c51b7d"
            ],
            [
             0.2,
             "#de77ae"
            ],
            [
             0.3,
             "#f1b6da"
            ],
            [
             0.4,
             "#fde0ef"
            ],
            [
             0.5,
             "#f7f7f7"
            ],
            [
             0.6,
             "#e6f5d0"
            ],
            [
             0.7,
             "#b8e186"
            ],
            [
             0.8,
             "#7fbc41"
            ],
            [
             0.9,
             "#4d9221"
            ],
            [
             1,
             "#276419"
            ]
           ],
           "sequential": [
            [
             0,
             "#0d0887"
            ],
            [
             0.1111111111111111,
             "#46039f"
            ],
            [
             0.2222222222222222,
             "#7201a8"
            ],
            [
             0.3333333333333333,
             "#9c179e"
            ],
            [
             0.4444444444444444,
             "#bd3786"
            ],
            [
             0.5555555555555556,
             "#d8576b"
            ],
            [
             0.6666666666666666,
             "#ed7953"
            ],
            [
             0.7777777777777778,
             "#fb9f3a"
            ],
            [
             0.8888888888888888,
             "#fdca26"
            ],
            [
             1,
             "#f0f921"
            ]
           ],
           "sequentialminus": [
            [
             0,
             "#0d0887"
            ],
            [
             0.1111111111111111,
             "#46039f"
            ],
            [
             0.2222222222222222,
             "#7201a8"
            ],
            [
             0.3333333333333333,
             "#9c179e"
            ],
            [
             0.4444444444444444,
             "#bd3786"
            ],
            [
             0.5555555555555556,
             "#d8576b"
            ],
            [
             0.6666666666666666,
             "#ed7953"
            ],
            [
             0.7777777777777778,
             "#fb9f3a"
            ],
            [
             0.8888888888888888,
             "#fdca26"
            ],
            [
             1,
             "#f0f921"
            ]
           ]
          },
          "colorway": [
           "#636efa",
           "#EF553B",
           "#00cc96",
           "#ab63fa",
           "#FFA15A",
           "#19d3f3",
           "#FF6692",
           "#B6E880",
           "#FF97FF",
           "#FECB52"
          ],
          "font": {
           "color": "#2a3f5f"
          },
          "geo": {
           "bgcolor": "white",
           "lakecolor": "white",
           "landcolor": "#E5ECF6",
           "showlakes": true,
           "showland": true,
           "subunitcolor": "white"
          },
          "hoverlabel": {
           "align": "left"
          },
          "hovermode": "closest",
          "mapbox": {
           "style": "light"
          },
          "paper_bgcolor": "white",
          "plot_bgcolor": "#E5ECF6",
          "polar": {
           "angularaxis": {
            "gridcolor": "white",
            "linecolor": "white",
            "ticks": ""
           },
           "bgcolor": "#E5ECF6",
           "radialaxis": {
            "gridcolor": "white",
            "linecolor": "white",
            "ticks": ""
           }
          },
          "scene": {
           "xaxis": {
            "backgroundcolor": "#E5ECF6",
            "gridcolor": "white",
            "gridwidth": 2,
            "linecolor": "white",
            "showbackground": true,
            "ticks": "",
            "zerolinecolor": "white"
           },
           "yaxis": {
            "backgroundcolor": "#E5ECF6",
            "gridcolor": "white",
            "gridwidth": 2,
            "linecolor": "white",
            "showbackground": true,
            "ticks": "",
            "zerolinecolor": "white"
           },
           "zaxis": {
            "backgroundcolor": "#E5ECF6",
            "gridcolor": "white",
            "gridwidth": 2,
            "linecolor": "white",
            "showbackground": true,
            "ticks": "",
            "zerolinecolor": "white"
           }
          },
          "shapedefaults": {
           "line": {
            "color": "#2a3f5f"
           }
          },
          "ternary": {
           "aaxis": {
            "gridcolor": "white",
            "linecolor": "white",
            "ticks": ""
           },
           "baxis": {
            "gridcolor": "white",
            "linecolor": "white",
            "ticks": ""
           },
           "bgcolor": "#E5ECF6",
           "caxis": {
            "gridcolor": "white",
            "linecolor": "white",
            "ticks": ""
           }
          },
          "title": {
           "x": 0.05
          },
          "xaxis": {
           "automargin": true,
           "gridcolor": "white",
           "linecolor": "white",
           "ticks": "",
           "title": {
            "standoff": 15
           },
           "zerolinecolor": "white",
           "zerolinewidth": 2
          },
          "yaxis": {
           "automargin": true,
           "gridcolor": "white",
           "linecolor": "white",
           "ticks": "",
           "title": {
            "standoff": 15
           },
           "zerolinecolor": "white",
           "zerolinewidth": 2
          }
         }
        },
        "xaxis": {
         "anchor": "y",
         "categoryorder": "total ascending",
         "domain": [
          0,
          1
         ],
         "title": {
          "text": "x"
         },
         "type": "category"
        },
        "yaxis": {
         "anchor": "x",
         "domain": [
          0,
          1
         ],
         "title": {
          "text": "y"
         }
        }
       }
      }
     },
     "metadata": {},
     "output_type": "display_data"
    }
   ],
   "source": [
    "new_movie_df = gen_duration_df(movie_df)\n",
    "fig = px.bar(x = new_movie_df['duration'], y = new_movie_df['counts'])\n",
    "fig.update_traces(marker= dict(color = '#FFA62F'))\n",
    "\n",
    "fig.update_xaxes(type= 'category', categoryorder = 'total ascending')\n",
    "\n",
    "fig.show()"
   ]
  },
  {
   "cell_type": "markdown",
   "id": "7c691b59",
   "metadata": {},
   "source": [
    " - Conclusion:-\n",
    "\n",
    "The above plot is based upon the duration of Movies. As we can see, the duration of 97  minutes records the highest number of movies."
   ]
  },
  {
   "cell_type": "code",
   "execution_count": 88,
   "id": "d3b009c5",
   "metadata": {},
   "outputs": [
    {
     "data": {
      "application/vnd.plotly.v1+json": {
       "config": {
        "plotlyServerURL": "https://plot.ly"
       },
       "data": [
        {
         "alignmentgroup": "True",
         "hovertemplate": "x=%{x}<br>y=%{y}<extra></extra>",
         "legendgroup": "",
         "marker": {
          "color": "#E55451",
          "pattern": {
           "shape": ""
          }
         },
         "name": "",
         "offsetgroup": "",
         "orientation": "v",
         "showlegend": false,
         "textposition": "auto",
         "type": "bar",
         "x": [
          "1 Season",
          "10 Seasons",
          "11 Seasons",
          "12 Seasons",
          "13 Seasons",
          "15 Seasons",
          "17 Seasons",
          "2 Seasons",
          "3 Seasons",
          "4 Seasons",
          "5 Seasons",
          "6 Seasons",
          "7 Seasons",
          "8 Seasons",
          "9 Seasons"
         ],
         "xaxis": "x",
         "y": [
          1793,
          7,
          2,
          2,
          3,
          2,
          1,
          425,
          199,
          95,
          65,
          33,
          23,
          17,
          9
         ],
         "yaxis": "y"
        }
       ],
       "layout": {
        "barmode": "relative",
        "legend": {
         "tracegroupgap": 0
        },
        "margin": {
         "t": 60
        },
        "template": {
         "data": {
          "bar": [
           {
            "error_x": {
             "color": "#2a3f5f"
            },
            "error_y": {
             "color": "#2a3f5f"
            },
            "marker": {
             "line": {
              "color": "#E5ECF6",
              "width": 0.5
             },
             "pattern": {
              "fillmode": "overlay",
              "size": 10,
              "solidity": 0.2
             }
            },
            "type": "bar"
           }
          ],
          "barpolar": [
           {
            "marker": {
             "line": {
              "color": "#E5ECF6",
              "width": 0.5
             },
             "pattern": {
              "fillmode": "overlay",
              "size": 10,
              "solidity": 0.2
             }
            },
            "type": "barpolar"
           }
          ],
          "carpet": [
           {
            "aaxis": {
             "endlinecolor": "#2a3f5f",
             "gridcolor": "white",
             "linecolor": "white",
             "minorgridcolor": "white",
             "startlinecolor": "#2a3f5f"
            },
            "baxis": {
             "endlinecolor": "#2a3f5f",
             "gridcolor": "white",
             "linecolor": "white",
             "minorgridcolor": "white",
             "startlinecolor": "#2a3f5f"
            },
            "type": "carpet"
           }
          ],
          "choropleth": [
           {
            "colorbar": {
             "outlinewidth": 0,
             "ticks": ""
            },
            "type": "choropleth"
           }
          ],
          "contour": [
           {
            "colorbar": {
             "outlinewidth": 0,
             "ticks": ""
            },
            "colorscale": [
             [
              0,
              "#0d0887"
             ],
             [
              0.1111111111111111,
              "#46039f"
             ],
             [
              0.2222222222222222,
              "#7201a8"
             ],
             [
              0.3333333333333333,
              "#9c179e"
             ],
             [
              0.4444444444444444,
              "#bd3786"
             ],
             [
              0.5555555555555556,
              "#d8576b"
             ],
             [
              0.6666666666666666,
              "#ed7953"
             ],
             [
              0.7777777777777778,
              "#fb9f3a"
             ],
             [
              0.8888888888888888,
              "#fdca26"
             ],
             [
              1,
              "#f0f921"
             ]
            ],
            "type": "contour"
           }
          ],
          "contourcarpet": [
           {
            "colorbar": {
             "outlinewidth": 0,
             "ticks": ""
            },
            "type": "contourcarpet"
           }
          ],
          "heatmap": [
           {
            "colorbar": {
             "outlinewidth": 0,
             "ticks": ""
            },
            "colorscale": [
             [
              0,
              "#0d0887"
             ],
             [
              0.1111111111111111,
              "#46039f"
             ],
             [
              0.2222222222222222,
              "#7201a8"
             ],
             [
              0.3333333333333333,
              "#9c179e"
             ],
             [
              0.4444444444444444,
              "#bd3786"
             ],
             [
              0.5555555555555556,
              "#d8576b"
             ],
             [
              0.6666666666666666,
              "#ed7953"
             ],
             [
              0.7777777777777778,
              "#fb9f3a"
             ],
             [
              0.8888888888888888,
              "#fdca26"
             ],
             [
              1,
              "#f0f921"
             ]
            ],
            "type": "heatmap"
           }
          ],
          "heatmapgl": [
           {
            "colorbar": {
             "outlinewidth": 0,
             "ticks": ""
            },
            "colorscale": [
             [
              0,
              "#0d0887"
             ],
             [
              0.1111111111111111,
              "#46039f"
             ],
             [
              0.2222222222222222,
              "#7201a8"
             ],
             [
              0.3333333333333333,
              "#9c179e"
             ],
             [
              0.4444444444444444,
              "#bd3786"
             ],
             [
              0.5555555555555556,
              "#d8576b"
             ],
             [
              0.6666666666666666,
              "#ed7953"
             ],
             [
              0.7777777777777778,
              "#fb9f3a"
             ],
             [
              0.8888888888888888,
              "#fdca26"
             ],
             [
              1,
              "#f0f921"
             ]
            ],
            "type": "heatmapgl"
           }
          ],
          "histogram": [
           {
            "marker": {
             "pattern": {
              "fillmode": "overlay",
              "size": 10,
              "solidity": 0.2
             }
            },
            "type": "histogram"
           }
          ],
          "histogram2d": [
           {
            "colorbar": {
             "outlinewidth": 0,
             "ticks": ""
            },
            "colorscale": [
             [
              0,
              "#0d0887"
             ],
             [
              0.1111111111111111,
              "#46039f"
             ],
             [
              0.2222222222222222,
              "#7201a8"
             ],
             [
              0.3333333333333333,
              "#9c179e"
             ],
             [
              0.4444444444444444,
              "#bd3786"
             ],
             [
              0.5555555555555556,
              "#d8576b"
             ],
             [
              0.6666666666666666,
              "#ed7953"
             ],
             [
              0.7777777777777778,
              "#fb9f3a"
             ],
             [
              0.8888888888888888,
              "#fdca26"
             ],
             [
              1,
              "#f0f921"
             ]
            ],
            "type": "histogram2d"
           }
          ],
          "histogram2dcontour": [
           {
            "colorbar": {
             "outlinewidth": 0,
             "ticks": ""
            },
            "colorscale": [
             [
              0,
              "#0d0887"
             ],
             [
              0.1111111111111111,
              "#46039f"
             ],
             [
              0.2222222222222222,
              "#7201a8"
             ],
             [
              0.3333333333333333,
              "#9c179e"
             ],
             [
              0.4444444444444444,
              "#bd3786"
             ],
             [
              0.5555555555555556,
              "#d8576b"
             ],
             [
              0.6666666666666666,
              "#ed7953"
             ],
             [
              0.7777777777777778,
              "#fb9f3a"
             ],
             [
              0.8888888888888888,
              "#fdca26"
             ],
             [
              1,
              "#f0f921"
             ]
            ],
            "type": "histogram2dcontour"
           }
          ],
          "mesh3d": [
           {
            "colorbar": {
             "outlinewidth": 0,
             "ticks": ""
            },
            "type": "mesh3d"
           }
          ],
          "parcoords": [
           {
            "line": {
             "colorbar": {
              "outlinewidth": 0,
              "ticks": ""
             }
            },
            "type": "parcoords"
           }
          ],
          "pie": [
           {
            "automargin": true,
            "type": "pie"
           }
          ],
          "scatter": [
           {
            "fillpattern": {
             "fillmode": "overlay",
             "size": 10,
             "solidity": 0.2
            },
            "type": "scatter"
           }
          ],
          "scatter3d": [
           {
            "line": {
             "colorbar": {
              "outlinewidth": 0,
              "ticks": ""
             }
            },
            "marker": {
             "colorbar": {
              "outlinewidth": 0,
              "ticks": ""
             }
            },
            "type": "scatter3d"
           }
          ],
          "scattercarpet": [
           {
            "marker": {
             "colorbar": {
              "outlinewidth": 0,
              "ticks": ""
             }
            },
            "type": "scattercarpet"
           }
          ],
          "scattergeo": [
           {
            "marker": {
             "colorbar": {
              "outlinewidth": 0,
              "ticks": ""
             }
            },
            "type": "scattergeo"
           }
          ],
          "scattergl": [
           {
            "marker": {
             "colorbar": {
              "outlinewidth": 0,
              "ticks": ""
             }
            },
            "type": "scattergl"
           }
          ],
          "scattermapbox": [
           {
            "marker": {
             "colorbar": {
              "outlinewidth": 0,
              "ticks": ""
             }
            },
            "type": "scattermapbox"
           }
          ],
          "scatterpolar": [
           {
            "marker": {
             "colorbar": {
              "outlinewidth": 0,
              "ticks": ""
             }
            },
            "type": "scatterpolar"
           }
          ],
          "scatterpolargl": [
           {
            "marker": {
             "colorbar": {
              "outlinewidth": 0,
              "ticks": ""
             }
            },
            "type": "scatterpolargl"
           }
          ],
          "scatterternary": [
           {
            "marker": {
             "colorbar": {
              "outlinewidth": 0,
              "ticks": ""
             }
            },
            "type": "scatterternary"
           }
          ],
          "surface": [
           {
            "colorbar": {
             "outlinewidth": 0,
             "ticks": ""
            },
            "colorscale": [
             [
              0,
              "#0d0887"
             ],
             [
              0.1111111111111111,
              "#46039f"
             ],
             [
              0.2222222222222222,
              "#7201a8"
             ],
             [
              0.3333333333333333,
              "#9c179e"
             ],
             [
              0.4444444444444444,
              "#bd3786"
             ],
             [
              0.5555555555555556,
              "#d8576b"
             ],
             [
              0.6666666666666666,
              "#ed7953"
             ],
             [
              0.7777777777777778,
              "#fb9f3a"
             ],
             [
              0.8888888888888888,
              "#fdca26"
             ],
             [
              1,
              "#f0f921"
             ]
            ],
            "type": "surface"
           }
          ],
          "table": [
           {
            "cells": {
             "fill": {
              "color": "#EBF0F8"
             },
             "line": {
              "color": "white"
             }
            },
            "header": {
             "fill": {
              "color": "#C8D4E3"
             },
             "line": {
              "color": "white"
             }
            },
            "type": "table"
           }
          ]
         },
         "layout": {
          "annotationdefaults": {
           "arrowcolor": "#2a3f5f",
           "arrowhead": 0,
           "arrowwidth": 1
          },
          "autotypenumbers": "strict",
          "coloraxis": {
           "colorbar": {
            "outlinewidth": 0,
            "ticks": ""
           }
          },
          "colorscale": {
           "diverging": [
            [
             0,
             "#8e0152"
            ],
            [
             0.1,
             "#c51b7d"
            ],
            [
             0.2,
             "#de77ae"
            ],
            [
             0.3,
             "#f1b6da"
            ],
            [
             0.4,
             "#fde0ef"
            ],
            [
             0.5,
             "#f7f7f7"
            ],
            [
             0.6,
             "#e6f5d0"
            ],
            [
             0.7,
             "#b8e186"
            ],
            [
             0.8,
             "#7fbc41"
            ],
            [
             0.9,
             "#4d9221"
            ],
            [
             1,
             "#276419"
            ]
           ],
           "sequential": [
            [
             0,
             "#0d0887"
            ],
            [
             0.1111111111111111,
             "#46039f"
            ],
            [
             0.2222222222222222,
             "#7201a8"
            ],
            [
             0.3333333333333333,
             "#9c179e"
            ],
            [
             0.4444444444444444,
             "#bd3786"
            ],
            [
             0.5555555555555556,
             "#d8576b"
            ],
            [
             0.6666666666666666,
             "#ed7953"
            ],
            [
             0.7777777777777778,
             "#fb9f3a"
            ],
            [
             0.8888888888888888,
             "#fdca26"
            ],
            [
             1,
             "#f0f921"
            ]
           ],
           "sequentialminus": [
            [
             0,
             "#0d0887"
            ],
            [
             0.1111111111111111,
             "#46039f"
            ],
            [
             0.2222222222222222,
             "#7201a8"
            ],
            [
             0.3333333333333333,
             "#9c179e"
            ],
            [
             0.4444444444444444,
             "#bd3786"
            ],
            [
             0.5555555555555556,
             "#d8576b"
            ],
            [
             0.6666666666666666,
             "#ed7953"
            ],
            [
             0.7777777777777778,
             "#fb9f3a"
            ],
            [
             0.8888888888888888,
             "#fdca26"
            ],
            [
             1,
             "#f0f921"
            ]
           ]
          },
          "colorway": [
           "#636efa",
           "#EF553B",
           "#00cc96",
           "#ab63fa",
           "#FFA15A",
           "#19d3f3",
           "#FF6692",
           "#B6E880",
           "#FF97FF",
           "#FECB52"
          ],
          "font": {
           "color": "#2a3f5f"
          },
          "geo": {
           "bgcolor": "white",
           "lakecolor": "white",
           "landcolor": "#E5ECF6",
           "showlakes": true,
           "showland": true,
           "subunitcolor": "white"
          },
          "hoverlabel": {
           "align": "left"
          },
          "hovermode": "closest",
          "mapbox": {
           "style": "light"
          },
          "paper_bgcolor": "white",
          "plot_bgcolor": "#E5ECF6",
          "polar": {
           "angularaxis": {
            "gridcolor": "white",
            "linecolor": "white",
            "ticks": ""
           },
           "bgcolor": "#E5ECF6",
           "radialaxis": {
            "gridcolor": "white",
            "linecolor": "white",
            "ticks": ""
           }
          },
          "scene": {
           "xaxis": {
            "backgroundcolor": "#E5ECF6",
            "gridcolor": "white",
            "gridwidth": 2,
            "linecolor": "white",
            "showbackground": true,
            "ticks": "",
            "zerolinecolor": "white"
           },
           "yaxis": {
            "backgroundcolor": "#E5ECF6",
            "gridcolor": "white",
            "gridwidth": 2,
            "linecolor": "white",
            "showbackground": true,
            "ticks": "",
            "zerolinecolor": "white"
           },
           "zaxis": {
            "backgroundcolor": "#E5ECF6",
            "gridcolor": "white",
            "gridwidth": 2,
            "linecolor": "white",
            "showbackground": true,
            "ticks": "",
            "zerolinecolor": "white"
           }
          },
          "shapedefaults": {
           "line": {
            "color": "#2a3f5f"
           }
          },
          "ternary": {
           "aaxis": {
            "gridcolor": "white",
            "linecolor": "white",
            "ticks": ""
           },
           "baxis": {
            "gridcolor": "white",
            "linecolor": "white",
            "ticks": ""
           },
           "bgcolor": "#E5ECF6",
           "caxis": {
            "gridcolor": "white",
            "linecolor": "white",
            "ticks": ""
           }
          },
          "title": {
           "x": 0.05
          },
          "xaxis": {
           "automargin": true,
           "gridcolor": "white",
           "linecolor": "white",
           "ticks": "",
           "title": {
            "standoff": 15
           },
           "zerolinecolor": "white",
           "zerolinewidth": 2
          },
          "yaxis": {
           "automargin": true,
           "gridcolor": "white",
           "linecolor": "white",
           "ticks": "",
           "title": {
            "standoff": 15
           },
           "zerolinecolor": "white",
           "zerolinewidth": 2
          }
         }
        },
        "xaxis": {
         "anchor": "y",
         "categoryorder": "total ascending",
         "domain": [
          0,
          1
         ],
         "title": {
          "text": "x"
         },
         "type": "category"
        },
        "yaxis": {
         "anchor": "x",
         "domain": [
          0,
          1
         ],
         "title": {
          "text": "y"
         }
        }
       }
      }
     },
     "metadata": {},
     "output_type": "display_data"
    }
   ],
   "source": [
    "new_tv_df = gen_duration_df(TV_df)\n",
    "fig = px.bar(x=new_tv_df['duration'], y = new_tv_df['counts'])\n",
    "fig.update_traces(marker = dict(color= '#E55451'))\n",
    "fig.update_xaxes(type='category',categoryorder='total ascending')\n",
    "fig.show()"
   ]
  },
  {
   "cell_type": "markdown",
   "id": "c024c19b",
   "metadata": {},
   "source": [
    "- Conclusion:--\n",
    "\n",
    "The above plot is based upon the seasons of TV series. As we can see, only 1 season records the highest number of Tv series. Discontinuation of shows due to less popularity or pending release of next season might be a contributing factor.|"
   ]
  },
  {
   "cell_type": "code",
   "execution_count": 89,
   "id": "62629894",
   "metadata": {},
   "outputs": [],
   "source": [
    "def gen_country_df(df):\n",
    "    new_df = df.groupby(['country_main']).agg({'show_id': 'count'}).reset_index()\n",
    "    new_df = new_df[new_df['show_id'] != 0]\n",
    "    new_df.columns = ['country_main', 'counts']\n",
    "    new_df = new_df.sort_values('country_main')\n",
    "    return new_df"
   ]
  },
  {
   "cell_type": "code",
   "execution_count": 90,
   "id": "d6e776c9",
   "metadata": {},
   "outputs": [
    {
     "data": {
      "application/vnd.plotly.v1+json": {
       "config": {
        "plotlyServerURL": "https://plot.ly"
       },
       "data": [
        {
         "domain": {
          "x": [
           0,
           1
          ],
          "y": [
           0,
           1
          ]
         },
         "hole": 0.75,
         "hovertemplate": "label=%{label}<br>value=%{value}<extra></extra>",
         "labels": [
          ",",
          "Argentina",
          "Argentina,",
          "Australia",
          "Australia,",
          "Austria,",
          "Belarus",
          "Belgium",
          "Belgium,",
          "Brazil",
          "Brazil,",
          "Canada",
          "Canada,",
          "Chile",
          "Chile,",
          "China",
          "China,",
          "Colombia",
          "Colombia,",
          "Croatia",
          "Cyprus",
          "Czech",
          "Denmark",
          "Denmark,",
          "Egypt",
          "Finland",
          "Finland,",
          "France",
          "France,",
          "Germany",
          "Germany,",
          "Hong",
          "Iceland",
          "India",
          "India,",
          "Indonesia",
          "Ireland",
          "Ireland,",
          "Israel",
          "Israel,",
          "Italy",
          "Italy,",
          "Japan",
          "Japan,",
          "Jordan",
          "Kuwait",
          "Lebanon",
          "Luxembourg",
          "Malaysia",
          "Malaysia,",
          "Mauritius,",
          "Mexico",
          "Mexico,",
          "Netherlands",
          "Netherlands,",
          "New",
          "Nigeria",
          "Norway",
          "Norway,",
          "Pakistan",
          "Philippines",
          "Philippines,",
          "Poland",
          "Poland,",
          "Puerto",
          "Russia",
          "Saudi",
          "Senegal",
          "Singapore",
          "Singapore,",
          "South",
          "Spain",
          "Spain,",
          "Sweden",
          "Switzerland",
          "Taiwan",
          "Taiwan,",
          "Thailand",
          "Turkey",
          "Turkey,",
          "Ukraine",
          "United",
          "Uruguay,"
         ],
         "legendgroup": "",
         "marker": {
          "line": {
           "color": "white",
           "width": 2
          }
         },
         "name": "",
         "showlegend": true,
         "textinfo": "percent+label",
         "textposition": "inside",
         "type": "pie",
         "values": [
          1,
          18,
          2,
          48,
          8,
          1,
          1,
          8,
          1,
          27,
          1,
          59,
          25,
          3,
          1,
          38,
          3,
          22,
          3,
          1,
          1,
          1,
          8,
          3,
          14,
          1,
          2,
          49,
          15,
          20,
          5,
          3,
          3,
          79,
          2,
          2,
          3,
          3,
          8,
          2,
          13,
          6,
          169,
          5,
          2,
          2,
          6,
          1,
          6,
          1,
          1,
          40,
          8,
          4,
          1,
          2,
          9,
          5,
          4,
          4,
          2,
          1,
          6,
          2,
          1,
          14,
          4,
          1,
          17,
          1,
          170,
          48,
          4,
          8,
          1,
          68,
          2,
          24,
          29,
          1,
          2,
          1485,
          1
         ]
        }
       ],
       "layout": {
        "annotations": [
         {
          "font": {
           "color": "black",
           "size": 40
          },
          "showarrow": false,
          "text": "TV Series",
          "x": 0.5,
          "y": 0.5
         }
        ],
        "height": 550,
        "legend": {
         "tracegroupgap": 0
        },
        "margin": {
         "t": 60
        },
        "showlegend": false,
        "template": {
         "data": {
          "bar": [
           {
            "error_x": {
             "color": "#2a3f5f"
            },
            "error_y": {
             "color": "#2a3f5f"
            },
            "marker": {
             "line": {
              "color": "#E5ECF6",
              "width": 0.5
             },
             "pattern": {
              "fillmode": "overlay",
              "size": 10,
              "solidity": 0.2
             }
            },
            "type": "bar"
           }
          ],
          "barpolar": [
           {
            "marker": {
             "line": {
              "color": "#E5ECF6",
              "width": 0.5
             },
             "pattern": {
              "fillmode": "overlay",
              "size": 10,
              "solidity": 0.2
             }
            },
            "type": "barpolar"
           }
          ],
          "carpet": [
           {
            "aaxis": {
             "endlinecolor": "#2a3f5f",
             "gridcolor": "white",
             "linecolor": "white",
             "minorgridcolor": "white",
             "startlinecolor": "#2a3f5f"
            },
            "baxis": {
             "endlinecolor": "#2a3f5f",
             "gridcolor": "white",
             "linecolor": "white",
             "minorgridcolor": "white",
             "startlinecolor": "#2a3f5f"
            },
            "type": "carpet"
           }
          ],
          "choropleth": [
           {
            "colorbar": {
             "outlinewidth": 0,
             "ticks": ""
            },
            "type": "choropleth"
           }
          ],
          "contour": [
           {
            "colorbar": {
             "outlinewidth": 0,
             "ticks": ""
            },
            "colorscale": [
             [
              0,
              "#0d0887"
             ],
             [
              0.1111111111111111,
              "#46039f"
             ],
             [
              0.2222222222222222,
              "#7201a8"
             ],
             [
              0.3333333333333333,
              "#9c179e"
             ],
             [
              0.4444444444444444,
              "#bd3786"
             ],
             [
              0.5555555555555556,
              "#d8576b"
             ],
             [
              0.6666666666666666,
              "#ed7953"
             ],
             [
              0.7777777777777778,
              "#fb9f3a"
             ],
             [
              0.8888888888888888,
              "#fdca26"
             ],
             [
              1,
              "#f0f921"
             ]
            ],
            "type": "contour"
           }
          ],
          "contourcarpet": [
           {
            "colorbar": {
             "outlinewidth": 0,
             "ticks": ""
            },
            "type": "contourcarpet"
           }
          ],
          "heatmap": [
           {
            "colorbar": {
             "outlinewidth": 0,
             "ticks": ""
            },
            "colorscale": [
             [
              0,
              "#0d0887"
             ],
             [
              0.1111111111111111,
              "#46039f"
             ],
             [
              0.2222222222222222,
              "#7201a8"
             ],
             [
              0.3333333333333333,
              "#9c179e"
             ],
             [
              0.4444444444444444,
              "#bd3786"
             ],
             [
              0.5555555555555556,
              "#d8576b"
             ],
             [
              0.6666666666666666,
              "#ed7953"
             ],
             [
              0.7777777777777778,
              "#fb9f3a"
             ],
             [
              0.8888888888888888,
              "#fdca26"
             ],
             [
              1,
              "#f0f921"
             ]
            ],
            "type": "heatmap"
           }
          ],
          "heatmapgl": [
           {
            "colorbar": {
             "outlinewidth": 0,
             "ticks": ""
            },
            "colorscale": [
             [
              0,
              "#0d0887"
             ],
             [
              0.1111111111111111,
              "#46039f"
             ],
             [
              0.2222222222222222,
              "#7201a8"
             ],
             [
              0.3333333333333333,
              "#9c179e"
             ],
             [
              0.4444444444444444,
              "#bd3786"
             ],
             [
              0.5555555555555556,
              "#d8576b"
             ],
             [
              0.6666666666666666,
              "#ed7953"
             ],
             [
              0.7777777777777778,
              "#fb9f3a"
             ],
             [
              0.8888888888888888,
              "#fdca26"
             ],
             [
              1,
              "#f0f921"
             ]
            ],
            "type": "heatmapgl"
           }
          ],
          "histogram": [
           {
            "marker": {
             "pattern": {
              "fillmode": "overlay",
              "size": 10,
              "solidity": 0.2
             }
            },
            "type": "histogram"
           }
          ],
          "histogram2d": [
           {
            "colorbar": {
             "outlinewidth": 0,
             "ticks": ""
            },
            "colorscale": [
             [
              0,
              "#0d0887"
             ],
             [
              0.1111111111111111,
              "#46039f"
             ],
             [
              0.2222222222222222,
              "#7201a8"
             ],
             [
              0.3333333333333333,
              "#9c179e"
             ],
             [
              0.4444444444444444,
              "#bd3786"
             ],
             [
              0.5555555555555556,
              "#d8576b"
             ],
             [
              0.6666666666666666,
              "#ed7953"
             ],
             [
              0.7777777777777778,
              "#fb9f3a"
             ],
             [
              0.8888888888888888,
              "#fdca26"
             ],
             [
              1,
              "#f0f921"
             ]
            ],
            "type": "histogram2d"
           }
          ],
          "histogram2dcontour": [
           {
            "colorbar": {
             "outlinewidth": 0,
             "ticks": ""
            },
            "colorscale": [
             [
              0,
              "#0d0887"
             ],
             [
              0.1111111111111111,
              "#46039f"
             ],
             [
              0.2222222222222222,
              "#7201a8"
             ],
             [
              0.3333333333333333,
              "#9c179e"
             ],
             [
              0.4444444444444444,
              "#bd3786"
             ],
             [
              0.5555555555555556,
              "#d8576b"
             ],
             [
              0.6666666666666666,
              "#ed7953"
             ],
             [
              0.7777777777777778,
              "#fb9f3a"
             ],
             [
              0.8888888888888888,
              "#fdca26"
             ],
             [
              1,
              "#f0f921"
             ]
            ],
            "type": "histogram2dcontour"
           }
          ],
          "mesh3d": [
           {
            "colorbar": {
             "outlinewidth": 0,
             "ticks": ""
            },
            "type": "mesh3d"
           }
          ],
          "parcoords": [
           {
            "line": {
             "colorbar": {
              "outlinewidth": 0,
              "ticks": ""
             }
            },
            "type": "parcoords"
           }
          ],
          "pie": [
           {
            "automargin": true,
            "type": "pie"
           }
          ],
          "scatter": [
           {
            "fillpattern": {
             "fillmode": "overlay",
             "size": 10,
             "solidity": 0.2
            },
            "type": "scatter"
           }
          ],
          "scatter3d": [
           {
            "line": {
             "colorbar": {
              "outlinewidth": 0,
              "ticks": ""
             }
            },
            "marker": {
             "colorbar": {
              "outlinewidth": 0,
              "ticks": ""
             }
            },
            "type": "scatter3d"
           }
          ],
          "scattercarpet": [
           {
            "marker": {
             "colorbar": {
              "outlinewidth": 0,
              "ticks": ""
             }
            },
            "type": "scattercarpet"
           }
          ],
          "scattergeo": [
           {
            "marker": {
             "colorbar": {
              "outlinewidth": 0,
              "ticks": ""
             }
            },
            "type": "scattergeo"
           }
          ],
          "scattergl": [
           {
            "marker": {
             "colorbar": {
              "outlinewidth": 0,
              "ticks": ""
             }
            },
            "type": "scattergl"
           }
          ],
          "scattermapbox": [
           {
            "marker": {
             "colorbar": {
              "outlinewidth": 0,
              "ticks": ""
             }
            },
            "type": "scattermapbox"
           }
          ],
          "scatterpolar": [
           {
            "marker": {
             "colorbar": {
              "outlinewidth": 0,
              "ticks": ""
             }
            },
            "type": "scatterpolar"
           }
          ],
          "scatterpolargl": [
           {
            "marker": {
             "colorbar": {
              "outlinewidth": 0,
              "ticks": ""
             }
            },
            "type": "scatterpolargl"
           }
          ],
          "scatterternary": [
           {
            "marker": {
             "colorbar": {
              "outlinewidth": 0,
              "ticks": ""
             }
            },
            "type": "scatterternary"
           }
          ],
          "surface": [
           {
            "colorbar": {
             "outlinewidth": 0,
             "ticks": ""
            },
            "colorscale": [
             [
              0,
              "#0d0887"
             ],
             [
              0.1111111111111111,
              "#46039f"
             ],
             [
              0.2222222222222222,
              "#7201a8"
             ],
             [
              0.3333333333333333,
              "#9c179e"
             ],
             [
              0.4444444444444444,
              "#bd3786"
             ],
             [
              0.5555555555555556,
              "#d8576b"
             ],
             [
              0.6666666666666666,
              "#ed7953"
             ],
             [
              0.7777777777777778,
              "#fb9f3a"
             ],
             [
              0.8888888888888888,
              "#fdca26"
             ],
             [
              1,
              "#f0f921"
             ]
            ],
            "type": "surface"
           }
          ],
          "table": [
           {
            "cells": {
             "fill": {
              "color": "#EBF0F8"
             },
             "line": {
              "color": "white"
             }
            },
            "header": {
             "fill": {
              "color": "#C8D4E3"
             },
             "line": {
              "color": "white"
             }
            },
            "type": "table"
           }
          ]
         },
         "layout": {
          "annotationdefaults": {
           "arrowcolor": "#2a3f5f",
           "arrowhead": 0,
           "arrowwidth": 1
          },
          "autotypenumbers": "strict",
          "coloraxis": {
           "colorbar": {
            "outlinewidth": 0,
            "ticks": ""
           }
          },
          "colorscale": {
           "diverging": [
            [
             0,
             "#8e0152"
            ],
            [
             0.1,
             "#c51b7d"
            ],
            [
             0.2,
             "#de77ae"
            ],
            [
             0.3,
             "#f1b6da"
            ],
            [
             0.4,
             "#fde0ef"
            ],
            [
             0.5,
             "#f7f7f7"
            ],
            [
             0.6,
             "#e6f5d0"
            ],
            [
             0.7,
             "#b8e186"
            ],
            [
             0.8,
             "#7fbc41"
            ],
            [
             0.9,
             "#4d9221"
            ],
            [
             1,
             "#276419"
            ]
           ],
           "sequential": [
            [
             0,
             "#0d0887"
            ],
            [
             0.1111111111111111,
             "#46039f"
            ],
            [
             0.2222222222222222,
             "#7201a8"
            ],
            [
             0.3333333333333333,
             "#9c179e"
            ],
            [
             0.4444444444444444,
             "#bd3786"
            ],
            [
             0.5555555555555556,
             "#d8576b"
            ],
            [
             0.6666666666666666,
             "#ed7953"
            ],
            [
             0.7777777777777778,
             "#fb9f3a"
            ],
            [
             0.8888888888888888,
             "#fdca26"
            ],
            [
             1,
             "#f0f921"
            ]
           ],
           "sequentialminus": [
            [
             0,
             "#0d0887"
            ],
            [
             0.1111111111111111,
             "#46039f"
            ],
            [
             0.2222222222222222,
             "#7201a8"
            ],
            [
             0.3333333333333333,
             "#9c179e"
            ],
            [
             0.4444444444444444,
             "#bd3786"
            ],
            [
             0.5555555555555556,
             "#d8576b"
            ],
            [
             0.6666666666666666,
             "#ed7953"
            ],
            [
             0.7777777777777778,
             "#fb9f3a"
            ],
            [
             0.8888888888888888,
             "#fdca26"
            ],
            [
             1,
             "#f0f921"
            ]
           ]
          },
          "colorway": [
           "#636efa",
           "#EF553B",
           "#00cc96",
           "#ab63fa",
           "#FFA15A",
           "#19d3f3",
           "#FF6692",
           "#B6E880",
           "#FF97FF",
           "#FECB52"
          ],
          "font": {
           "color": "#2a3f5f"
          },
          "geo": {
           "bgcolor": "white",
           "lakecolor": "white",
           "landcolor": "#E5ECF6",
           "showlakes": true,
           "showland": true,
           "subunitcolor": "white"
          },
          "hoverlabel": {
           "align": "left"
          },
          "hovermode": "closest",
          "mapbox": {
           "style": "light"
          },
          "paper_bgcolor": "white",
          "plot_bgcolor": "#E5ECF6",
          "polar": {
           "angularaxis": {
            "gridcolor": "white",
            "linecolor": "white",
            "ticks": ""
           },
           "bgcolor": "#E5ECF6",
           "radialaxis": {
            "gridcolor": "white",
            "linecolor": "white",
            "ticks": ""
           }
          },
          "scene": {
           "xaxis": {
            "backgroundcolor": "#E5ECF6",
            "gridcolor": "white",
            "gridwidth": 2,
            "linecolor": "white",
            "showbackground": true,
            "ticks": "",
            "zerolinecolor": "white"
           },
           "yaxis": {
            "backgroundcolor": "#E5ECF6",
            "gridcolor": "white",
            "gridwidth": 2,
            "linecolor": "white",
            "showbackground": true,
            "ticks": "",
            "zerolinecolor": "white"
           },
           "zaxis": {
            "backgroundcolor": "#E5ECF6",
            "gridcolor": "white",
            "gridwidth": 2,
            "linecolor": "white",
            "showbackground": true,
            "ticks": "",
            "zerolinecolor": "white"
           }
          },
          "shapedefaults": {
           "line": {
            "color": "#2a3f5f"
           }
          },
          "ternary": {
           "aaxis": {
            "gridcolor": "white",
            "linecolor": "white",
            "ticks": ""
           },
           "baxis": {
            "gridcolor": "white",
            "linecolor": "white",
            "ticks": ""
           },
           "bgcolor": "#E5ECF6",
           "caxis": {
            "gridcolor": "white",
            "linecolor": "white",
            "ticks": ""
           }
          },
          "title": {
           "x": 0.05
          },
          "xaxis": {
           "automargin": true,
           "gridcolor": "white",
           "linecolor": "white",
           "ticks": "",
           "title": {
            "standoff": 15
           },
           "zerolinecolor": "white",
           "zerolinewidth": 2
          },
          "yaxis": {
           "automargin": true,
           "gridcolor": "white",
           "linecolor": "white",
           "ticks": "",
           "title": {
            "standoff": 15
           },
           "zerolinecolor": "white",
           "zerolinewidth": 2
          }
         }
        },
        "width": 550
       }
      }
     },
     "metadata": {},
     "output_type": "display_data"
    }
   ],
   "source": [
    "tv_country_df = gen_country_df(TV_df)\n",
    "fig = px.pie(labels = tv_country_df['country_main'], values = tv_country_df['counts'], names = tv_country_df['country_main'], width = 550, height = 550)\n",
    "\n",
    "fig.update_traces(textposition = 'inside', \n",
    "                  textinfo = 'percent + label', \n",
    "                  hole = 0.75, \n",
    "                  marker = dict(line = dict(color = 'white', width = 2)))\n",
    "\n",
    "fig.update_layout(annotations = [dict(text = 'TV Series', \n",
    "                                      x = 0.5, y = 0.5, font_size = 40, showarrow = False,                                       \n",
    "                                      font_color = 'black')],\n",
    "                  showlegend = False)\n",
    "\n",
    "fig.show()"
   ]
  },
  {
   "cell_type": "markdown",
   "id": "1bf746f5",
   "metadata": {},
   "source": [
    "- Conclusion:--\n",
    "\n",
    "Here is another pie plot depicting the percentage of TV series originating from a country. As noticed from the above, United States holds the highest percentage, i.e approx.55.5%."
   ]
  },
  {
   "cell_type": "code",
   "execution_count": 91,
   "id": "bd9f759b",
   "metadata": {},
   "outputs": [
    {
     "data": {
      "application/vnd.plotly.v1+json": {
       "config": {
        "plotlyServerURL": "https://plot.ly"
       },
       "data": [
        {
         "domain": {
          "x": [
           0,
           1
          ],
          "y": [
           0,
           1
          ]
         },
         "hole": 0.75,
         "hovertemplate": "label=%{label}<br>value=%{value}<extra></extra>",
         "labels": [
          ",",
          "Argentina",
          "Argentina,",
          "Australia",
          "Australia,",
          "Austria",
          "Austria,",
          "Bangladesh",
          "Belgium",
          "Belgium,",
          "Brazil",
          "Brazil,",
          "Bulgaria",
          "Bulgaria,",
          "Cambodia",
          "Cambodia,",
          "Cameroon",
          "Canada",
          "Canada,",
          "Chile",
          "Chile,",
          "China",
          "China,",
          "Colombia",
          "Colombia,",
          "Croatia,",
          "Czech",
          "Denmark",
          "Denmark,",
          "Egypt",
          "Egypt,",
          "Finland,",
          "France",
          "France,",
          "Georgia",
          "Georgia,",
          "Germany",
          "Germany,",
          "Ghana",
          "Ghana,",
          "Greece,",
          "Guatemala",
          "Hong",
          "Hungary",
          "Hungary,",
          "Iceland",
          "Iceland,",
          "India",
          "India,",
          "Indonesia",
          "Indonesia,",
          "Iran,",
          "Ireland",
          "Ireland,",
          "Israel",
          "Israel,",
          "Italy",
          "Italy,",
          "Jamaica,",
          "Japan",
          "Japan,",
          "Kenya",
          "Kenya,",
          "Kuwait",
          "Kuwait,",
          "Lebanon",
          "Lebanon,",
          "Malaysia",
          "Mauritius",
          "Mexico",
          "Mexico,",
          "Mozambique",
          "Namibia",
          "Netherlands",
          "Netherlands,",
          "New",
          "Nigeria",
          "Nigeria,",
          "Norway",
          "Norway,",
          "Pakistan",
          "Pakistan,",
          "Paraguay,",
          "Peru",
          "Peru,",
          "Philippines",
          "Philippines,",
          "Poland",
          "Poland,",
          "Portugal,",
          "Romania",
          "Romania,",
          "Russia",
          "Russia,",
          "Saudi",
          "Serbia,",
          "Singapore",
          "Singapore,",
          "Slovenia,",
          "Somalia,",
          "South",
          "Soviet",
          "Spain",
          "Spain,",
          "Sweden",
          "Sweden,",
          "Switzerland",
          "Switzerland,",
          "Syria,",
          "Taiwan",
          "Taiwan,",
          "Thailand",
          "Thailand,",
          "Turkey",
          "Turkey,",
          "United",
          "Uruguay",
          "Uruguay,",
          "Venezuela",
          "Venezuela,",
          "Vietnam",
          "West",
          "Zimbabwe"
         ],
         "legendgroup": "",
         "marker": {
          "line": {
           "color": "white",
           "width": 2
          }
         },
         "name": "",
         "showlegend": true,
         "textinfo": "percent+label",
         "textposition": "inside",
         "type": "pie",
         "values": [
          1,
          38,
          18,
          39,
          22,
          5,
          3,
          3,
          1,
          8,
          50,
          6,
          1,
          4,
          1,
          1,
          1,
          122,
          65,
          11,
          7,
          28,
          31,
          13,
          2,
          1,
          5,
          5,
          14,
          92,
          6,
          3,
          75,
          73,
          1,
          1,
          47,
          31,
          3,
          1,
          1,
          1,
          76,
          4,
          1,
          2,
          1,
          893,
          34,
          77,
          6,
          1,
          7,
          15,
          5,
          7,
          32,
          16,
          1,
          76,
          9,
          3,
          1,
          4,
          1,
          9,
          9,
          16,
          1,
          70,
          16,
          1,
          1,
          15,
          8,
          15,
          86,
          1,
          6,
          6,
          14,
          4,
          1,
          4,
          2,
          73,
          4,
          18,
          4,
          4,
          6,
          4,
          1,
          4,
          7,
          3,
          6,
          4,
          1,
          1,
          82,
          1,
          97,
          32,
          5,
          6,
          1,
          6,
          1,
          13,
          2,
          37,
          4,
          76,
          5,
          3206,
          3,
          5,
          1,
          1,
          7,
          1,
          1
         ]
        }
       ],
       "layout": {
        "annotations": [
         {
          "font": {
           "color": "black",
           "size": 32
          },
          "showarrow": false,
          "text": "Movies",
          "x": 0.5,
          "y": 0.5
         }
        ],
        "height": 550,
        "legend": {
         "tracegroupgap": 0
        },
        "margin": {
         "t": 60
        },
        "showlegend": false,
        "template": {
         "data": {
          "bar": [
           {
            "error_x": {
             "color": "#2a3f5f"
            },
            "error_y": {
             "color": "#2a3f5f"
            },
            "marker": {
             "line": {
              "color": "#E5ECF6",
              "width": 0.5
             },
             "pattern": {
              "fillmode": "overlay",
              "size": 10,
              "solidity": 0.2
             }
            },
            "type": "bar"
           }
          ],
          "barpolar": [
           {
            "marker": {
             "line": {
              "color": "#E5ECF6",
              "width": 0.5
             },
             "pattern": {
              "fillmode": "overlay",
              "size": 10,
              "solidity": 0.2
             }
            },
            "type": "barpolar"
           }
          ],
          "carpet": [
           {
            "aaxis": {
             "endlinecolor": "#2a3f5f",
             "gridcolor": "white",
             "linecolor": "white",
             "minorgridcolor": "white",
             "startlinecolor": "#2a3f5f"
            },
            "baxis": {
             "endlinecolor": "#2a3f5f",
             "gridcolor": "white",
             "linecolor": "white",
             "minorgridcolor": "white",
             "startlinecolor": "#2a3f5f"
            },
            "type": "carpet"
           }
          ],
          "choropleth": [
           {
            "colorbar": {
             "outlinewidth": 0,
             "ticks": ""
            },
            "type": "choropleth"
           }
          ],
          "contour": [
           {
            "colorbar": {
             "outlinewidth": 0,
             "ticks": ""
            },
            "colorscale": [
             [
              0,
              "#0d0887"
             ],
             [
              0.1111111111111111,
              "#46039f"
             ],
             [
              0.2222222222222222,
              "#7201a8"
             ],
             [
              0.3333333333333333,
              "#9c179e"
             ],
             [
              0.4444444444444444,
              "#bd3786"
             ],
             [
              0.5555555555555556,
              "#d8576b"
             ],
             [
              0.6666666666666666,
              "#ed7953"
             ],
             [
              0.7777777777777778,
              "#fb9f3a"
             ],
             [
              0.8888888888888888,
              "#fdca26"
             ],
             [
              1,
              "#f0f921"
             ]
            ],
            "type": "contour"
           }
          ],
          "contourcarpet": [
           {
            "colorbar": {
             "outlinewidth": 0,
             "ticks": ""
            },
            "type": "contourcarpet"
           }
          ],
          "heatmap": [
           {
            "colorbar": {
             "outlinewidth": 0,
             "ticks": ""
            },
            "colorscale": [
             [
              0,
              "#0d0887"
             ],
             [
              0.1111111111111111,
              "#46039f"
             ],
             [
              0.2222222222222222,
              "#7201a8"
             ],
             [
              0.3333333333333333,
              "#9c179e"
             ],
             [
              0.4444444444444444,
              "#bd3786"
             ],
             [
              0.5555555555555556,
              "#d8576b"
             ],
             [
              0.6666666666666666,
              "#ed7953"
             ],
             [
              0.7777777777777778,
              "#fb9f3a"
             ],
             [
              0.8888888888888888,
              "#fdca26"
             ],
             [
              1,
              "#f0f921"
             ]
            ],
            "type": "heatmap"
           }
          ],
          "heatmapgl": [
           {
            "colorbar": {
             "outlinewidth": 0,
             "ticks": ""
            },
            "colorscale": [
             [
              0,
              "#0d0887"
             ],
             [
              0.1111111111111111,
              "#46039f"
             ],
             [
              0.2222222222222222,
              "#7201a8"
             ],
             [
              0.3333333333333333,
              "#9c179e"
             ],
             [
              0.4444444444444444,
              "#bd3786"
             ],
             [
              0.5555555555555556,
              "#d8576b"
             ],
             [
              0.6666666666666666,
              "#ed7953"
             ],
             [
              0.7777777777777778,
              "#fb9f3a"
             ],
             [
              0.8888888888888888,
              "#fdca26"
             ],
             [
              1,
              "#f0f921"
             ]
            ],
            "type": "heatmapgl"
           }
          ],
          "histogram": [
           {
            "marker": {
             "pattern": {
              "fillmode": "overlay",
              "size": 10,
              "solidity": 0.2
             }
            },
            "type": "histogram"
           }
          ],
          "histogram2d": [
           {
            "colorbar": {
             "outlinewidth": 0,
             "ticks": ""
            },
            "colorscale": [
             [
              0,
              "#0d0887"
             ],
             [
              0.1111111111111111,
              "#46039f"
             ],
             [
              0.2222222222222222,
              "#7201a8"
             ],
             [
              0.3333333333333333,
              "#9c179e"
             ],
             [
              0.4444444444444444,
              "#bd3786"
             ],
             [
              0.5555555555555556,
              "#d8576b"
             ],
             [
              0.6666666666666666,
              "#ed7953"
             ],
             [
              0.7777777777777778,
              "#fb9f3a"
             ],
             [
              0.8888888888888888,
              "#fdca26"
             ],
             [
              1,
              "#f0f921"
             ]
            ],
            "type": "histogram2d"
           }
          ],
          "histogram2dcontour": [
           {
            "colorbar": {
             "outlinewidth": 0,
             "ticks": ""
            },
            "colorscale": [
             [
              0,
              "#0d0887"
             ],
             [
              0.1111111111111111,
              "#46039f"
             ],
             [
              0.2222222222222222,
              "#7201a8"
             ],
             [
              0.3333333333333333,
              "#9c179e"
             ],
             [
              0.4444444444444444,
              "#bd3786"
             ],
             [
              0.5555555555555556,
              "#d8576b"
             ],
             [
              0.6666666666666666,
              "#ed7953"
             ],
             [
              0.7777777777777778,
              "#fb9f3a"
             ],
             [
              0.8888888888888888,
              "#fdca26"
             ],
             [
              1,
              "#f0f921"
             ]
            ],
            "type": "histogram2dcontour"
           }
          ],
          "mesh3d": [
           {
            "colorbar": {
             "outlinewidth": 0,
             "ticks": ""
            },
            "type": "mesh3d"
           }
          ],
          "parcoords": [
           {
            "line": {
             "colorbar": {
              "outlinewidth": 0,
              "ticks": ""
             }
            },
            "type": "parcoords"
           }
          ],
          "pie": [
           {
            "automargin": true,
            "type": "pie"
           }
          ],
          "scatter": [
           {
            "fillpattern": {
             "fillmode": "overlay",
             "size": 10,
             "solidity": 0.2
            },
            "type": "scatter"
           }
          ],
          "scatter3d": [
           {
            "line": {
             "colorbar": {
              "outlinewidth": 0,
              "ticks": ""
             }
            },
            "marker": {
             "colorbar": {
              "outlinewidth": 0,
              "ticks": ""
             }
            },
            "type": "scatter3d"
           }
          ],
          "scattercarpet": [
           {
            "marker": {
             "colorbar": {
              "outlinewidth": 0,
              "ticks": ""
             }
            },
            "type": "scattercarpet"
           }
          ],
          "scattergeo": [
           {
            "marker": {
             "colorbar": {
              "outlinewidth": 0,
              "ticks": ""
             }
            },
            "type": "scattergeo"
           }
          ],
          "scattergl": [
           {
            "marker": {
             "colorbar": {
              "outlinewidth": 0,
              "ticks": ""
             }
            },
            "type": "scattergl"
           }
          ],
          "scattermapbox": [
           {
            "marker": {
             "colorbar": {
              "outlinewidth": 0,
              "ticks": ""
             }
            },
            "type": "scattermapbox"
           }
          ],
          "scatterpolar": [
           {
            "marker": {
             "colorbar": {
              "outlinewidth": 0,
              "ticks": ""
             }
            },
            "type": "scatterpolar"
           }
          ],
          "scatterpolargl": [
           {
            "marker": {
             "colorbar": {
              "outlinewidth": 0,
              "ticks": ""
             }
            },
            "type": "scatterpolargl"
           }
          ],
          "scatterternary": [
           {
            "marker": {
             "colorbar": {
              "outlinewidth": 0,
              "ticks": ""
             }
            },
            "type": "scatterternary"
           }
          ],
          "surface": [
           {
            "colorbar": {
             "outlinewidth": 0,
             "ticks": ""
            },
            "colorscale": [
             [
              0,
              "#0d0887"
             ],
             [
              0.1111111111111111,
              "#46039f"
             ],
             [
              0.2222222222222222,
              "#7201a8"
             ],
             [
              0.3333333333333333,
              "#9c179e"
             ],
             [
              0.4444444444444444,
              "#bd3786"
             ],
             [
              0.5555555555555556,
              "#d8576b"
             ],
             [
              0.6666666666666666,
              "#ed7953"
             ],
             [
              0.7777777777777778,
              "#fb9f3a"
             ],
             [
              0.8888888888888888,
              "#fdca26"
             ],
             [
              1,
              "#f0f921"
             ]
            ],
            "type": "surface"
           }
          ],
          "table": [
           {
            "cells": {
             "fill": {
              "color": "#EBF0F8"
             },
             "line": {
              "color": "white"
             }
            },
            "header": {
             "fill": {
              "color": "#C8D4E3"
             },
             "line": {
              "color": "white"
             }
            },
            "type": "table"
           }
          ]
         },
         "layout": {
          "annotationdefaults": {
           "arrowcolor": "#2a3f5f",
           "arrowhead": 0,
           "arrowwidth": 1
          },
          "autotypenumbers": "strict",
          "coloraxis": {
           "colorbar": {
            "outlinewidth": 0,
            "ticks": ""
           }
          },
          "colorscale": {
           "diverging": [
            [
             0,
             "#8e0152"
            ],
            [
             0.1,
             "#c51b7d"
            ],
            [
             0.2,
             "#de77ae"
            ],
            [
             0.3,
             "#f1b6da"
            ],
            [
             0.4,
             "#fde0ef"
            ],
            [
             0.5,
             "#f7f7f7"
            ],
            [
             0.6,
             "#e6f5d0"
            ],
            [
             0.7,
             "#b8e186"
            ],
            [
             0.8,
             "#7fbc41"
            ],
            [
             0.9,
             "#4d9221"
            ],
            [
             1,
             "#276419"
            ]
           ],
           "sequential": [
            [
             0,
             "#0d0887"
            ],
            [
             0.1111111111111111,
             "#46039f"
            ],
            [
             0.2222222222222222,
             "#7201a8"
            ],
            [
             0.3333333333333333,
             "#9c179e"
            ],
            [
             0.4444444444444444,
             "#bd3786"
            ],
            [
             0.5555555555555556,
             "#d8576b"
            ],
            [
             0.6666666666666666,
             "#ed7953"
            ],
            [
             0.7777777777777778,
             "#fb9f3a"
            ],
            [
             0.8888888888888888,
             "#fdca26"
            ],
            [
             1,
             "#f0f921"
            ]
           ],
           "sequentialminus": [
            [
             0,
             "#0d0887"
            ],
            [
             0.1111111111111111,
             "#46039f"
            ],
            [
             0.2222222222222222,
             "#7201a8"
            ],
            [
             0.3333333333333333,
             "#9c179e"
            ],
            [
             0.4444444444444444,
             "#bd3786"
            ],
            [
             0.5555555555555556,
             "#d8576b"
            ],
            [
             0.6666666666666666,
             "#ed7953"
            ],
            [
             0.7777777777777778,
             "#fb9f3a"
            ],
            [
             0.8888888888888888,
             "#fdca26"
            ],
            [
             1,
             "#f0f921"
            ]
           ]
          },
          "colorway": [
           "#636efa",
           "#EF553B",
           "#00cc96",
           "#ab63fa",
           "#FFA15A",
           "#19d3f3",
           "#FF6692",
           "#B6E880",
           "#FF97FF",
           "#FECB52"
          ],
          "font": {
           "color": "#2a3f5f"
          },
          "geo": {
           "bgcolor": "white",
           "lakecolor": "white",
           "landcolor": "#E5ECF6",
           "showlakes": true,
           "showland": true,
           "subunitcolor": "white"
          },
          "hoverlabel": {
           "align": "left"
          },
          "hovermode": "closest",
          "mapbox": {
           "style": "light"
          },
          "paper_bgcolor": "white",
          "plot_bgcolor": "#E5ECF6",
          "polar": {
           "angularaxis": {
            "gridcolor": "white",
            "linecolor": "white",
            "ticks": ""
           },
           "bgcolor": "#E5ECF6",
           "radialaxis": {
            "gridcolor": "white",
            "linecolor": "white",
            "ticks": ""
           }
          },
          "scene": {
           "xaxis": {
            "backgroundcolor": "#E5ECF6",
            "gridcolor": "white",
            "gridwidth": 2,
            "linecolor": "white",
            "showbackground": true,
            "ticks": "",
            "zerolinecolor": "white"
           },
           "yaxis": {
            "backgroundcolor": "#E5ECF6",
            "gridcolor": "white",
            "gridwidth": 2,
            "linecolor": "white",
            "showbackground": true,
            "ticks": "",
            "zerolinecolor": "white"
           },
           "zaxis": {
            "backgroundcolor": "#E5ECF6",
            "gridcolor": "white",
            "gridwidth": 2,
            "linecolor": "white",
            "showbackground": true,
            "ticks": "",
            "zerolinecolor": "white"
           }
          },
          "shapedefaults": {
           "line": {
            "color": "#2a3f5f"
           }
          },
          "ternary": {
           "aaxis": {
            "gridcolor": "white",
            "linecolor": "white",
            "ticks": ""
           },
           "baxis": {
            "gridcolor": "white",
            "linecolor": "white",
            "ticks": ""
           },
           "bgcolor": "#E5ECF6",
           "caxis": {
            "gridcolor": "white",
            "linecolor": "white",
            "ticks": ""
           }
          },
          "title": {
           "x": 0.05
          },
          "xaxis": {
           "automargin": true,
           "gridcolor": "white",
           "linecolor": "white",
           "ticks": "",
           "title": {
            "standoff": 15
           },
           "zerolinecolor": "white",
           "zerolinewidth": 2
          },
          "yaxis": {
           "automargin": true,
           "gridcolor": "white",
           "linecolor": "white",
           "ticks": "",
           "title": {
            "standoff": 15
           },
           "zerolinecolor": "white",
           "zerolinewidth": 2
          }
         }
        },
        "width": 550
       }
      }
     },
     "metadata": {},
     "output_type": "display_data"
    }
   ],
   "source": [
    "movie_country_df = gen_country_df(movie_df)\n",
    "fig = px.pie(labels = movie_country_df['country_main'], values = movie_country_df['counts'], names = movie_country_df['country_main'], width = 550, height = 550)\n",
    "\n",
    "fig.update_traces(textposition = 'inside', \n",
    "                  textinfo = 'percent + label', \n",
    "                  hole = 0.75, \n",
    "                  marker = dict(line = dict(color = 'white', width = 2)))\n",
    "                                \n",
    "\n",
    "fig.update_layout(annotations = [dict(text = 'Movies', \n",
    "                                      x = 0.5, y = 0.5, font_size = 32, showarrow = False,                                       \n",
    "                                      font_color = 'black')],\n",
    "                  showlegend = False)\n",
    "\n",
    "fig.show()"
   ]
  },
  {
   "cell_type": "markdown",
   "id": "b2364bab",
   "metadata": {},
   "source": [
    "- Conclusion:--\n",
    "\n",
    "Here is another pie plot depicting the percentage of Movies originating from a country. As noticed from the above, United States holds the highest percentage, i.e approx.52.3%."
   ]
  },
  {
   "cell_type": "markdown",
   "id": "1e8883bf",
   "metadata": {},
   "source": [
    "#  Top Genres (Listed_in Column)"
   ]
  },
  {
   "cell_type": "code",
   "execution_count": 92,
   "id": "7e7ccc62",
   "metadata": {},
   "outputs": [],
   "source": [
    "from collections import Counter\n",
    "from wordcloud import WordCloud"
   ]
  },
  {
   "cell_type": "code",
   "execution_count": 93,
   "id": "52e9296c",
   "metadata": {},
   "outputs": [],
   "source": [
    "# plit 'listes_in' by ', '  and flatten the list\n",
    "all_genres =df['listed_in'].dropna().str.split(', ')\n",
    "all_genres = [genre for sublist in all_genres for genre in sublist]\n",
    "genre_counts = Counter(all_genres)"
   ]
  },
  {
   "cell_type": "code",
   "execution_count": 100,
   "id": "5e21c48c",
   "metadata": {},
   "outputs": [
    {
     "data": {
      "text/plain": [
       "[('International Movies', 2752),\n",
       " ('Dramas', 2427),\n",
       " ('Comedies', 1674),\n",
       " ('International TV Shows', 1351),\n",
       " ('Documentaries', 869),\n",
       " ('Action & Adventure', 859),\n",
       " ('TV Dramas', 763),\n",
       " ('Independent Movies', 756),\n",
       " ('Children & Family Movies', 641),\n",
       " ('Romantic Movies', 616)]"
      ]
     },
     "execution_count": 100,
     "metadata": {},
     "output_type": "execute_result"
    }
   ],
   "source": [
    "# top 10 genres\n",
    "genre_counts.most_common(10)"
   ]
  },
  {
   "cell_type": "code",
   "execution_count": null,
   "id": "936d75ed",
   "metadata": {},
   "outputs": [],
   "source": [
    "# Visualization: Word Cloud\n",
    "wordcloud = WordCloud(width=800, height=400, background_color='white').generate_from_frequencies(genre_counts)\n",
    "\n",
    "plt.figure(figsize=(12, 6))\n",
    "plt.imshow(wordcloud, interpolation='bilinear')\n",
    "plt.axis('off')\n",
    "plt.title('Most Frequent Genres on Netflix')\n",
    "plt.show()"
   ]
  },
  {
   "cell_type": "code",
   "execution_count": 98,
   "id": "542cc155",
   "metadata": {},
   "outputs": [
    {
     "data": {
      "image/png": "[encoded data removed]",
      "text/plain": [
       "<Figure size 1200x600 with 1 Axes>"
      ]
     },
     "metadata": {},
     "output_type": "display_data"
    }
   ],
   "source": [
    "# Visua: Word Cloud\n",
    "wordcloud = WordCloud(width=800, height=400,background_color='white' ).generate_from_frequencies(genre_counts)\n",
    "plt.figure(figsize=(12,6))\n",
    "plt.imshow(wordcloud, interpolation='bilinear')\n",
    "plt.axis('off')\n",
    "plt.title('most Frequent Genres on Netflix')\n",
    "plt.show()"
   ]
  },
  {
   "cell_type": "markdown",
   "id": "542291c8",
   "metadata": {},
   "source": [
    " - Insights\n",
    "\n",
    "Global content dominates: The highest 2 categories, International Movies and International TV Shows, clearly highlight Netflix focus on global reach and cultural variety.\n",
    "\n",
    "Dramas and Comedies indicate strong demand for emotionally engaging and entertaining storylines.\n",
    "\n",
    "The presence of Documentaries, Kids & Family, and Romantic Movies shows efforts to serve a wide range of audience preferences, including informative, family-friendly, and emotionally-driven content.\n",
    "\n",
    "- Conclusion\n",
    "\n",
    "The data shows that Netflix content library is heavily skewed toward international and dramatic storytelling, reflecting the platform’s commitment to serving a global and diverse audience. By prioritizing these genres, Netflix ensures it appeals to viewers across different cultures and tastes."
   ]
  },
  {
   "cell_type": "code",
   "execution_count": 104,
   "id": "33f4607f",
   "metadata": {},
   "outputs": [
    {
     "data": {
      "image/png": "[encoded data removed]",
      "text/plain": [
       "<Figure size 1000x600 with 1 Axes>"
      ]
     },
     "metadata": {},
     "output_type": "display_data"
    }
   ],
   "source": [
    "# Titles Added to Netflix Over Time\n",
    "plt.figure(figsize=(10, 6))\n",
    "df['y_add'].value_counts().sort_index().plot(kind='line', color='green')\n",
    "plt.title('Number of Titles Added to Netflix per Year')\n",
    "plt.xlabel('Year Added')\n",
    "plt.ylabel('Number of Titles')\n",
    "plt.show()"
   ]
  },
  {
   "cell_type": "markdown",
   "id": "d335eb5b",
   "metadata": {},
   "source": [
    "- # Insights\n",
    "\n",
    "Sharp Growth Phase (2015-2019): The number of new titles added to Netflix remained low and fairly stable until around 2015. After this, there was a dramatic increase each year, peaking in 2019 with over 2,000 titles added.\n",
    "\n",
    "COVID Impact and Slowdown: After 2019, the number of newly added titles started to decline. This dip likely reflects the impact of the COVID-19 pandemic, which disrupted film and TV productions worldwide.\n",
    "\n",
    "Plateau and Downward Trend: The data shows a peak followed by a noticeable yearly decrease from 2020 to 2021, indicating Netflix’s shift towards selective content addition or impacts from increased competition and changing strategy.\n",
    "\n",
    "- # Conclusion\n",
    "\n",
    "Netflix’s annual content additions surged dramatically after 2015, peaking in 2019, which bolstered its global subscriber growth and reinforced its leadership in streaming. The subsequent drop in new titles after 2019 highlights a strategic adjustment, pandemic-related challenges, or industry shifts toward higher-quality, original, or locally-relevant content. This pattern underscores Netflix’s ongoing evolution from rapid expansion toward sustainable, audience-focused programming."
   ]
  },
  {
   "cell_type": "markdown",
   "id": "eaa0e201",
   "metadata": {},
   "source": [
    "#  Machine Learning Model (Classification)"
   ]
  },
  {
   "cell_type": "code",
   "execution_count": 131,
   "id": "146db27e",
   "metadata": {},
   "outputs": [],
   "source": [
    "# Separate Movies and TV Shows using 'type' column\n",
    "df_movie = df[df['type'] == 'Movie'].copy()\n",
    "df_TV = df[df['type'] == 'TV Show'].copy()\n",
    "\n",
    "# Remove ' min' and convert to integer only where valid\n",
    "df_movie['duration'] = df_movie['duration'].str.replace(' min', '', regex=False)\n",
    "df_movie['duration'] = pd.to_numeric(df_movie['duration'], errors='coerce')  # convert to numeric, invalid turned to NaN\n",
    "\n",
    "# Remove ' Season' & ' Seasons' using regex to handle both variations\n",
    "df_TV['duration'] = df_TV['duration'].str.replace(r' Seasons?', '', regex=True)\n",
    "df_TV['duration'] = pd.to_numeric(df_TV['duration'], errors='coerce')  # convert to numeric, invalid turned to NaN\n",
    "\n",
    "# Combine both cleaned DataFrames\n",
    "df_clean = pd.concat([df_movie, df_TV]).reset_index(drop=True)\n"
   ]
  },
  {
   "cell_type": "code",
   "execution_count": 132,
   "id": "7639d2b1",
   "metadata": {},
   "outputs": [
    {
     "data": {
      "text/html": [
       "<div>\n",
       "<style scoped>\n",
       "    .dataframe tbody tr th:only-of-type {\n",
       "        vertical-align: middle;\n",
       "    }\n",
       "\n",
       "    .dataframe tbody tr th {\n",
       "        vertical-align: top;\n",
       "    }\n",
       "\n",
       "    .dataframe thead th {\n",
       "        text-align: right;\n",
       "    }\n",
       "</style>\n",
       "<table border=\"1\" class=\"dataframe\">\n",
       "  <thead>\n",
       "    <tr style=\"text-align: right;\">\n",
       "      <th></th>\n",
       "      <th>show_id</th>\n",
       "      <th>type</th>\n",
       "      <th>title</th>\n",
       "      <th>director</th>\n",
       "      <th>cast</th>\n",
       "      <th>country</th>\n",
       "      <th>date_added</th>\n",
       "      <th>release_year</th>\n",
       "      <th>rating</th>\n",
       "      <th>duration</th>\n",
       "      <th>listed_in</th>\n",
       "      <th>description</th>\n",
       "      <th>y_add</th>\n",
       "      <th>m_add</th>\n",
       "      <th>target_age</th>\n",
       "      <th>country_main</th>\n",
       "      <th>combined</th>\n",
       "    </tr>\n",
       "  </thead>\n",
       "  <tbody>\n",
       "    <tr>\n",
       "      <th>0</th>\n",
       "      <td>s1</td>\n",
       "      <td>Movie</td>\n",
       "      <td>Dick Johnson Is Dead</td>\n",
       "      <td>Kirsten Johnson</td>\n",
       "      <td>David Attenborough</td>\n",
       "      <td>United States</td>\n",
       "      <td>September 25, 2021</td>\n",
       "      <td>2020</td>\n",
       "      <td>PG-13</td>\n",
       "      <td>90.0</td>\n",
       "      <td>Documentaries</td>\n",
       "      <td>As her father nears the end of his life, filmm...</td>\n",
       "      <td>2021</td>\n",
       "      <td>September</td>\n",
       "      <td>Teens</td>\n",
       "      <td>United</td>\n",
       "      <td>dick johnson is dead documentaries as her fath...</td>\n",
       "    </tr>\n",
       "    <tr>\n",
       "      <th>1</th>\n",
       "      <td>s7</td>\n",
       "      <td>Movie</td>\n",
       "      <td>My Little Pony: A New Generation</td>\n",
       "      <td>Robert Cullen, José Luis Ucha</td>\n",
       "      <td>Vanessa Hudgens, Kimiko Glenn, James Marsden, ...</td>\n",
       "      <td>United States</td>\n",
       "      <td>September 24, 2021</td>\n",
       "      <td>2021</td>\n",
       "      <td>PG</td>\n",
       "      <td>91.0</td>\n",
       "      <td>Children &amp; Family Movies</td>\n",
       "      <td>Equestria's divided. But a bright-eyed hero be...</td>\n",
       "      <td>2021</td>\n",
       "      <td>September</td>\n",
       "      <td>Older Kids</td>\n",
       "      <td>United</td>\n",
       "      <td>my little pony: a new generation children &amp; fa...</td>\n",
       "    </tr>\n",
       "    <tr>\n",
       "      <th>2</th>\n",
       "      <td>s8</td>\n",
       "      <td>Movie</td>\n",
       "      <td>Sankofa</td>\n",
       "      <td>Haile Gerima</td>\n",
       "      <td>Kofi Ghanaba, Oyafunmike Ogunlano, Alexandra D...</td>\n",
       "      <td>United States, Ghana, Burkina Faso, United Kin...</td>\n",
       "      <td>September 24, 2021</td>\n",
       "      <td>1993</td>\n",
       "      <td>TV-MA</td>\n",
       "      <td>125.0</td>\n",
       "      <td>Dramas, Independent Movies, International Movies</td>\n",
       "      <td>On a photo shoot in Ghana, an American model s...</td>\n",
       "      <td>2021</td>\n",
       "      <td>September</td>\n",
       "      <td>Adults</td>\n",
       "      <td>United</td>\n",
       "      <td>sankofa dramas, independent movies, internatio...</td>\n",
       "    </tr>\n",
       "    <tr>\n",
       "      <th>3</th>\n",
       "      <td>s10</td>\n",
       "      <td>Movie</td>\n",
       "      <td>The Starling</td>\n",
       "      <td>Theodore Melfi</td>\n",
       "      <td>Melissa McCarthy, Chris O'Dowd, Kevin Kline, T...</td>\n",
       "      <td>United States</td>\n",
       "      <td>September 24, 2021</td>\n",
       "      <td>2021</td>\n",
       "      <td>PG-13</td>\n",
       "      <td>104.0</td>\n",
       "      <td>Comedies, Dramas</td>\n",
       "      <td>A woman adjusting to life after a loss contend...</td>\n",
       "      <td>2021</td>\n",
       "      <td>September</td>\n",
       "      <td>Teens</td>\n",
       "      <td>United</td>\n",
       "      <td>the starling comedies, dramas a woman adjustin...</td>\n",
       "    </tr>\n",
       "    <tr>\n",
       "      <th>4</th>\n",
       "      <td>s13</td>\n",
       "      <td>Movie</td>\n",
       "      <td>Je Suis Karl</td>\n",
       "      <td>Christian Schwochow</td>\n",
       "      <td>Luna Wedler, Jannis Niewöhner, Milan Peschel, ...</td>\n",
       "      <td>Germany, Czech Republic</td>\n",
       "      <td>September 23, 2021</td>\n",
       "      <td>2021</td>\n",
       "      <td>TV-MA</td>\n",
       "      <td>127.0</td>\n",
       "      <td>Dramas, International Movies</td>\n",
       "      <td>After most of her family is murdered in a terr...</td>\n",
       "      <td>2021</td>\n",
       "      <td>September</td>\n",
       "      <td>Adults</td>\n",
       "      <td>Germany,</td>\n",
       "      <td>je suis karl dramas, international movies afte...</td>\n",
       "    </tr>\n",
       "    <tr>\n",
       "      <th>...</th>\n",
       "      <td>...</td>\n",
       "      <td>...</td>\n",
       "      <td>...</td>\n",
       "      <td>...</td>\n",
       "      <td>...</td>\n",
       "      <td>...</td>\n",
       "      <td>...</td>\n",
       "      <td>...</td>\n",
       "      <td>...</td>\n",
       "      <td>...</td>\n",
       "      <td>...</td>\n",
       "      <td>...</td>\n",
       "      <td>...</td>\n",
       "      <td>...</td>\n",
       "      <td>...</td>\n",
       "      <td>...</td>\n",
       "      <td>...</td>\n",
       "    </tr>\n",
       "    <tr>\n",
       "      <th>8802</th>\n",
       "      <td>s8796</td>\n",
       "      <td>TV Show</td>\n",
       "      <td>Yu-Gi-Oh! Arc-V</td>\n",
       "      <td>Rajiv Chilaka</td>\n",
       "      <td>Mike Liscio, Emily Bauer, Billy Bob Thompson, ...</td>\n",
       "      <td>Japan, Canada</td>\n",
       "      <td>May 1, 2018</td>\n",
       "      <td>2015</td>\n",
       "      <td>TV-Y7</td>\n",
       "      <td>2.0</td>\n",
       "      <td>Anime Series, Kids' TV</td>\n",
       "      <td>Now that he's discovered the Pendulum Summonin...</td>\n",
       "      <td>2018</td>\n",
       "      <td>May</td>\n",
       "      <td>Older Kids</td>\n",
       "      <td>Japan,</td>\n",
       "      <td>yu-gi-oh! arc-v anime series, kids' tv now tha...</td>\n",
       "    </tr>\n",
       "    <tr>\n",
       "      <th>8803</th>\n",
       "      <td>s8797</td>\n",
       "      <td>TV Show</td>\n",
       "      <td>Yunus Emre</td>\n",
       "      <td>Rajiv Chilaka</td>\n",
       "      <td>Gökhan Atalay, Payidar Tüfekçioglu, Baran Akbu...</td>\n",
       "      <td>Turkey</td>\n",
       "      <td>January 17, 2017</td>\n",
       "      <td>2016</td>\n",
       "      <td>TV-PG</td>\n",
       "      <td>2.0</td>\n",
       "      <td>International TV Shows, TV Dramas</td>\n",
       "      <td>During the Mongol invasions, Yunus Emre leaves...</td>\n",
       "      <td>2017</td>\n",
       "      <td>January</td>\n",
       "      <td>Older Kids</td>\n",
       "      <td>Turkey</td>\n",
       "      <td>yunus emre international tv shows, tv dramas d...</td>\n",
       "    </tr>\n",
       "    <tr>\n",
       "      <th>8804</th>\n",
       "      <td>s8798</td>\n",
       "      <td>TV Show</td>\n",
       "      <td>Zak Storm</td>\n",
       "      <td>Rajiv Chilaka</td>\n",
       "      <td>Michael Johnston, Jessica Gee-George, Christin...</td>\n",
       "      <td>United States, France, South Korea, Indonesia</td>\n",
       "      <td>September 13, 2018</td>\n",
       "      <td>2016</td>\n",
       "      <td>TV-Y7</td>\n",
       "      <td>3.0</td>\n",
       "      <td>Kids' TV</td>\n",
       "      <td>Teen surfer Zak Storm is mysteriously transpor...</td>\n",
       "      <td>2018</td>\n",
       "      <td>September</td>\n",
       "      <td>Older Kids</td>\n",
       "      <td>United</td>\n",
       "      <td>zak storm kids' tv teen surfer zak storm is my...</td>\n",
       "    </tr>\n",
       "    <tr>\n",
       "      <th>8805</th>\n",
       "      <td>s8801</td>\n",
       "      <td>TV Show</td>\n",
       "      <td>Zindagi Gulzar Hai</td>\n",
       "      <td>Rajiv Chilaka</td>\n",
       "      <td>Sanam Saeed, Fawad Khan, Ayesha Omer, Mehreen ...</td>\n",
       "      <td>Pakistan</td>\n",
       "      <td>December 15, 2016</td>\n",
       "      <td>2012</td>\n",
       "      <td>TV-PG</td>\n",
       "      <td>1.0</td>\n",
       "      <td>International TV Shows, Romantic TV Shows, TV ...</td>\n",
       "      <td>Strong-willed, middle-class Kashaf and carefre...</td>\n",
       "      <td>2016</td>\n",
       "      <td>December</td>\n",
       "      <td>Older Kids</td>\n",
       "      <td>Pakistan</td>\n",
       "      <td>zindagi gulzar hai international tv shows, rom...</td>\n",
       "    </tr>\n",
       "    <tr>\n",
       "      <th>8806</th>\n",
       "      <td>s8804</td>\n",
       "      <td>TV Show</td>\n",
       "      <td>Zombie Dumb</td>\n",
       "      <td>Rajiv Chilaka</td>\n",
       "      <td>David Attenborough</td>\n",
       "      <td>United States</td>\n",
       "      <td>July 1, 2019</td>\n",
       "      <td>2018</td>\n",
       "      <td>TV-Y7</td>\n",
       "      <td>2.0</td>\n",
       "      <td>Kids' TV, Korean TV Shows, TV Comedies</td>\n",
       "      <td>While living alone in a spooky town, a young g...</td>\n",
       "      <td>2019</td>\n",
       "      <td>July</td>\n",
       "      <td>Older Kids</td>\n",
       "      <td>United</td>\n",
       "      <td>zombie dumb kids' tv, korean tv shows, tv come...</td>\n",
       "    </tr>\n",
       "  </tbody>\n",
       "</table>\n",
       "<p>8807 rows × 17 columns</p>\n",
       "</div>"
      ],
      "text/plain": [
       "     show_id     type                             title  \\\n",
       "0         s1    Movie              Dick Johnson Is Dead   \n",
       "1         s7    Movie  My Little Pony: A New Generation   \n",
       "2         s8    Movie                           Sankofa   \n",
       "3        s10    Movie                      The Starling   \n",
       "4        s13    Movie                      Je Suis Karl   \n",
       "...      ...      ...                               ...   \n",
       "8802   s8796  TV Show                   Yu-Gi-Oh! Arc-V   \n",
       "8803   s8797  TV Show                        Yunus Emre   \n",
       "8804   s8798  TV Show                         Zak Storm   \n",
       "8805   s8801  TV Show                Zindagi Gulzar Hai   \n",
       "8806   s8804  TV Show                       Zombie Dumb   \n",
       "\n",
       "                           director  \\\n",
       "0                   Kirsten Johnson   \n",
       "1     Robert Cullen, José Luis Ucha   \n",
       "2                      Haile Gerima   \n",
       "3                    Theodore Melfi   \n",
       "4               Christian Schwochow   \n",
       "...                             ...   \n",
       "8802                  Rajiv Chilaka   \n",
       "8803                  Rajiv Chilaka   \n",
       "8804                  Rajiv Chilaka   \n",
       "8805                  Rajiv Chilaka   \n",
       "8806                  Rajiv Chilaka   \n",
       "\n",
       "                                                   cast  \\\n",
       "0                                    David Attenborough   \n",
       "1     Vanessa Hudgens, Kimiko Glenn, James Marsden, ...   \n",
       "2     Kofi Ghanaba, Oyafunmike Ogunlano, Alexandra D...   \n",
       "3     Melissa McCarthy, Chris O'Dowd, Kevin Kline, T...   \n",
       "4     Luna Wedler, Jannis Niewöhner, Milan Peschel, ...   \n",
       "...                                                 ...   \n",
       "8802  Mike Liscio, Emily Bauer, Billy Bob Thompson, ...   \n",
       "8803  Gökhan Atalay, Payidar Tüfekçioglu, Baran Akbu...   \n",
       "8804  Michael Johnston, Jessica Gee-George, Christin...   \n",
       "8805  Sanam Saeed, Fawad Khan, Ayesha Omer, Mehreen ...   \n",
       "8806                                 David Attenborough   \n",
       "\n",
       "                                                country          date_added  \\\n",
       "0                                         United States  September 25, 2021   \n",
       "1                                         United States  September 24, 2021   \n",
       "2     United States, Ghana, Burkina Faso, United Kin...  September 24, 2021   \n",
       "3                                         United States  September 24, 2021   \n",
       "4                               Germany, Czech Republic  September 23, 2021   \n",
       "...                                                 ...                 ...   \n",
       "8802                                      Japan, Canada         May 1, 2018   \n",
       "8803                                             Turkey    January 17, 2017   \n",
       "8804      United States, France, South Korea, Indonesia  September 13, 2018   \n",
       "8805                                           Pakistan   December 15, 2016   \n",
       "8806                                      United States        July 1, 2019   \n",
       "\n",
       "      release_year rating  duration  \\\n",
       "0             2020  PG-13      90.0   \n",
       "1             2021     PG      91.0   \n",
       "2             1993  TV-MA     125.0   \n",
       "3             2021  PG-13     104.0   \n",
       "4             2021  TV-MA     127.0   \n",
       "...            ...    ...       ...   \n",
       "8802          2015  TV-Y7       2.0   \n",
       "8803          2016  TV-PG       2.0   \n",
       "8804          2016  TV-Y7       3.0   \n",
       "8805          2012  TV-PG       1.0   \n",
       "8806          2018  TV-Y7       2.0   \n",
       "\n",
       "                                              listed_in  \\\n",
       "0                                         Documentaries   \n",
       "1                              Children & Family Movies   \n",
       "2      Dramas, Independent Movies, International Movies   \n",
       "3                                      Comedies, Dramas   \n",
       "4                          Dramas, International Movies   \n",
       "...                                                 ...   \n",
       "8802                             Anime Series, Kids' TV   \n",
       "8803                  International TV Shows, TV Dramas   \n",
       "8804                                           Kids' TV   \n",
       "8805  International TV Shows, Romantic TV Shows, TV ...   \n",
       "8806             Kids' TV, Korean TV Shows, TV Comedies   \n",
       "\n",
       "                                            description y_add      m_add  \\\n",
       "0     As her father nears the end of his life, filmm...  2021  September   \n",
       "1     Equestria's divided. But a bright-eyed hero be...  2021  September   \n",
       "2     On a photo shoot in Ghana, an American model s...  2021  September   \n",
       "3     A woman adjusting to life after a loss contend...  2021  September   \n",
       "4     After most of her family is murdered in a terr...  2021  September   \n",
       "...                                                 ...   ...        ...   \n",
       "8802  Now that he's discovered the Pendulum Summonin...  2018        May   \n",
       "8803  During the Mongol invasions, Yunus Emre leaves...  2017    January   \n",
       "8804  Teen surfer Zak Storm is mysteriously transpor...  2018  September   \n",
       "8805  Strong-willed, middle-class Kashaf and carefre...  2016   December   \n",
       "8806  While living alone in a spooky town, a young g...  2019       July   \n",
       "\n",
       "      target_age country_main  \\\n",
       "0          Teens       United   \n",
       "1     Older Kids       United   \n",
       "2         Adults       United   \n",
       "3          Teens       United   \n",
       "4         Adults     Germany,   \n",
       "...          ...          ...   \n",
       "8802  Older Kids       Japan,   \n",
       "8803  Older Kids       Turkey   \n",
       "8804  Older Kids       United   \n",
       "8805  Older Kids     Pakistan   \n",
       "8806  Older Kids       United   \n",
       "\n",
       "                                               combined  \n",
       "0     dick johnson is dead documentaries as her fath...  \n",
       "1     my little pony: a new generation children & fa...  \n",
       "2     sankofa dramas, independent movies, internatio...  \n",
       "3     the starling comedies, dramas a woman adjustin...  \n",
       "4     je suis karl dramas, international movies afte...  \n",
       "...                                                 ...  \n",
       "8802  yu-gi-oh! arc-v anime series, kids' tv now tha...  \n",
       "8803  yunus emre international tv shows, tv dramas d...  \n",
       "8804  zak storm kids' tv teen surfer zak storm is my...  \n",
       "8805  zindagi gulzar hai international tv shows, rom...  \n",
       "8806  zombie dumb kids' tv, korean tv shows, tv come...  \n",
       "\n",
       "[8807 rows x 17 columns]"
      ]
     },
     "execution_count": 132,
     "metadata": {},
     "output_type": "execute_result"
    }
   ],
   "source": [
    "df_clean"
   ]
  },
  {
   "cell_type": "code",
   "execution_count": 133,
   "id": "ee6bbec7",
   "metadata": {},
   "outputs": [],
   "source": [
    "# Label encoding for categorical columns\n",
    "from sklearn.preprocessing import LabelEncoder\n",
    "le_country =LabelEncoder()\n",
    "le_rating = LabelEncoder()\n"
   ]
  },
  {
   "cell_type": "code",
   "execution_count": 134,
   "id": "7e988f04",
   "metadata": {},
   "outputs": [],
   "source": [
    "df_clean['country'] = df_clean['country'].fillna('Unknown')\n",
    "df_clean['rating'] = df_clean['rating'].fillna('Unknown')\n",
    "\n",
    "df_clean['country'] = le_country.fit_transform(df_clean['country'])\n",
    "df_clean['rating'] =le_rating.fit_transform(df_clean['rating'])"
   ]
  },
  {
   "cell_type": "code",
   "execution_count": 135,
   "id": "2be932f9",
   "metadata": {},
   "outputs": [],
   "source": [
    "x = df_clean[['release_year', 'duration', 'country', 'rating']]\n",
    "y = df_clean['type'].map({'Movie':0, 'TV Show':1})"
   ]
  },
  {
   "cell_type": "code",
   "execution_count": 136,
   "id": "2ee8a964",
   "metadata": {},
   "outputs": [],
   "source": [
    "# train test split\n",
    "from sklearn.model_selection import train_test_split\n",
    "x_train, x_test, y_train, y_test = train_test_split(x,y, test_size=0.3, random_state=42)"
   ]
  },
  {
   "cell_type": "code",
   "execution_count": 138,
   "id": "e8e39eb9",
   "metadata": {},
   "outputs": [
    {
     "data": {
      "text/html": [
       "<div>\n",
       "<style scoped>\n",
       "    .dataframe tbody tr th:only-of-type {\n",
       "        vertical-align: middle;\n",
       "    }\n",
       "\n",
       "    .dataframe tbody tr th {\n",
       "        vertical-align: top;\n",
       "    }\n",
       "\n",
       "    .dataframe thead th {\n",
       "        text-align: right;\n",
       "    }\n",
       "</style>\n",
       "<table border=\"1\" class=\"dataframe\">\n",
       "  <thead>\n",
       "    <tr style=\"text-align: right;\">\n",
       "      <th></th>\n",
       "      <th>release_year</th>\n",
       "      <th>duration</th>\n",
       "      <th>country</th>\n",
       "      <th>rating</th>\n",
       "    </tr>\n",
       "  </thead>\n",
       "  <tbody>\n",
       "    <tr>\n",
       "      <th>2405</th>\n",
       "      <td>2019</td>\n",
       "      <td>109.0</td>\n",
       "      <td>402</td>\n",
       "      <td>11</td>\n",
       "    </tr>\n",
       "    <tr>\n",
       "      <th>7202</th>\n",
       "      <td>2020</td>\n",
       "      <td>1.0</td>\n",
       "      <td>603</td>\n",
       "      <td>11</td>\n",
       "    </tr>\n",
       "    <tr>\n",
       "      <th>2833</th>\n",
       "      <td>2008</td>\n",
       "      <td>135.0</td>\n",
       "      <td>251</td>\n",
       "      <td>11</td>\n",
       "    </tr>\n",
       "    <tr>\n",
       "      <th>621</th>\n",
       "      <td>2008</td>\n",
       "      <td>101.0</td>\n",
       "      <td>603</td>\n",
       "      <td>8</td>\n",
       "    </tr>\n",
       "    <tr>\n",
       "      <th>2126</th>\n",
       "      <td>2011</td>\n",
       "      <td>110.0</td>\n",
       "      <td>319</td>\n",
       "      <td>12</td>\n",
       "    </tr>\n",
       "  </tbody>\n",
       "</table>\n",
       "</div>"
      ],
      "text/plain": [
       "      release_year  duration  country  rating\n",
       "2405          2019     109.0      402      11\n",
       "7202          2020       1.0      603      11\n",
       "2833          2008     135.0      251      11\n",
       "621           2008     101.0      603       8\n",
       "2126          2011     110.0      319      12"
      ]
     },
     "execution_count": 138,
     "metadata": {},
     "output_type": "execute_result"
    }
   ],
   "source": [
    "x_train.head()"
   ]
  },
  {
   "cell_type": "code",
   "execution_count": 141,
   "id": "7131500e",
   "metadata": {},
   "outputs": [],
   "source": [
    "from sklearn.ensemble import RandomForestClassifier\n",
    "model =RandomForestClassifier()"
   ]
  },
  {
   "cell_type": "code",
   "execution_count": 142,
   "id": "f6d9a15c",
   "metadata": {},
   "outputs": [
    {
     "data": {
      "text/html": [
       "<style>#sk-container-id-1 {\n",
       "  /* Definition of color scheme common for light and dark mode */\n",
       "  --sklearn-color-text: black;\n",
       "  --sklearn-color-line: gray;\n",
       "  /* Definition of color scheme for unfitted estimators */\n",
       "  --sklearn-color-unfitted-level-0: #fff5e6;\n",
       "  --sklearn-color-unfitted-level-1: #f6e4d2;\n",
       "  --sklearn-color-unfitted-level-2: #ffe0b3;\n",
       "  --sklearn-color-unfitted-level-3: chocolate;\n",
       "  /* Definition of color scheme for fitted estimators */\n",
       "  --sklearn-color-fitted-level-0: #f0f8ff;\n",
       "  --sklearn-color-fitted-level-1: #d4ebff;\n",
       "  --sklearn-color-fitted-level-2: #b3dbfd;\n",
       "  --sklearn-color-fitted-level-3: cornflowerblue;\n",
       "\n",
       "  /* Specific color for light theme */\n",
       "  --sklearn-color-text-on-default-background: var(--sg-text-color, var(--theme-code-foreground, var(--jp-content-font-color1, black)));\n",
       "  --sklearn-color-background: var(--sg-background-color, var(--theme-background, var(--jp-layout-color0, white)));\n",
       "  --sklearn-color-border-box: var(--sg-text-color, var(--theme-code-foreground, var(--jp-content-font-color1, black)));\n",
       "  --sklearn-color-icon: #696969;\n",
       "\n",
       "  @media (prefers-color-scheme: dark) {\n",
       "    /* Redefinition of color scheme for dark theme */\n",
       "    --sklearn-color-text-on-default-background: var(--sg-text-color, var(--theme-code-foreground, var(--jp-content-font-color1, white)));\n",
       "    --sklearn-color-background: var(--sg-background-color, var(--theme-background, var(--jp-layout-color0, #111)));\n",
       "    --sklearn-color-border-box: var(--sg-text-color, var(--theme-code-foreground, var(--jp-content-font-color1, white)));\n",
       "    --sklearn-color-icon: #878787;\n",
       "  }\n",
       "}\n",
       "\n",
       "#sk-container-id-1 {\n",
       "  color: var(--sklearn-color-text);\n",
       "}\n",
       "\n",
       "#sk-container-id-1 pre {\n",
       "  padding: 0;\n",
       "}\n",
       "\n",
       "#sk-container-id-1 input.sk-hidden--visually {\n",
       "  border: 0;\n",
       "  clip: rect(1px 1px 1px 1px);\n",
       "  clip: rect(1px, 1px, 1px, 1px);\n",
       "  height: 1px;\n",
       "  margin: -1px;\n",
       "  overflow: hidden;\n",
       "  padding: 0;\n",
       "  position: absolute;\n",
       "  width: 1px;\n",
       "}\n",
       "\n",
       "#sk-container-id-1 div.sk-dashed-wrapped {\n",
       "  border: 1px dashed var(--sklearn-color-line);\n",
       "  margin: 0 0.4em 0.5em 0.4em;\n",
       "  box-sizing: border-box;\n",
       "  padding-bottom: 0.4em;\n",
       "  background-color: var(--sklearn-color-background);\n",
       "}\n",
       "\n",
       "#sk-container-id-1 div.sk-container {\n",
       "  /* jupyter's `normalize.less` sets `[hidden] { display: none; }`\n",
       "     but bootstrap.min.css set `[hidden] { display: none !important; }`\n",
       "     so we also need the `!important` here to be able to override the\n",
       "     default hidden behavior on the sphinx rendered scikit-learn.org.\n",
       "     See: https://github.com/scikit-learn/scikit-learn/issues/21755 */\n",
       "  display: inline-block !important;\n",
       "  position: relative;\n",
       "}\n",
       "\n",
       "#sk-container-id-1 div.sk-text-repr-fallback {\n",
       "  display: none;\n",
       "}\n",
       "\n",
       "div.sk-parallel-item,\n",
       "div.sk-serial,\n",
       "div.sk-item {\n",
       "  /* draw centered vertical line to link estimators */\n",
       "  background-image: linear-gradient(var(--sklearn-color-text-on-default-background), var(--sklearn-color-text-on-default-background));\n",
       "  background-size: 2px 100%;\n",
       "  background-repeat: no-repeat;\n",
       "  background-position: center center;\n",
       "}\n",
       "\n",
       "/* Parallel-specific style estimator block */\n",
       "\n",
       "#sk-container-id-1 div.sk-parallel-item::after {\n",
       "  content: \"\";\n",
       "  width: 100%;\n",
       "  border-bottom: 2px solid var(--sklearn-color-text-on-default-background);\n",
       "  flex-grow: 1;\n",
       "}\n",
       "\n",
       "#sk-container-id-1 div.sk-parallel {\n",
       "  display: flex;\n",
       "  align-items: stretch;\n",
       "  justify-content: center;\n",
       "  background-color: var(--sklearn-color-background);\n",
       "  position: relative;\n",
       "}\n",
       "\n",
       "#sk-container-id-1 div.sk-parallel-item {\n",
       "  display: flex;\n",
       "  flex-direction: column;\n",
       "}\n",
       "\n",
       "#sk-container-id-1 div.sk-parallel-item:first-child::after {\n",
       "  align-self: flex-end;\n",
       "  width: 50%;\n",
       "}\n",
       "\n",
       "#sk-container-id-1 div.sk-parallel-item:last-child::after {\n",
       "  align-self: flex-start;\n",
       "  width: 50%;\n",
       "}\n",
       "\n",
       "#sk-container-id-1 div.sk-parallel-item:only-child::after {\n",
       "  width: 0;\n",
       "}\n",
       "\n",
       "/* Serial-specific style estimator block */\n",
       "\n",
       "#sk-container-id-1 div.sk-serial {\n",
       "  display: flex;\n",
       "  flex-direction: column;\n",
       "  align-items: center;\n",
       "  background-color: var(--sklearn-color-background);\n",
       "  padding-right: 1em;\n",
       "  padding-left: 1em;\n",
       "}\n",
       "\n",
       "\n",
       "/* Toggleable style: style used for estimator/Pipeline/ColumnTransformer box that is\n",
       "clickable and can be expanded/collapsed.\n",
       "- Pipeline and ColumnTransformer use this feature and define the default style\n",
       "- Estimators will overwrite some part of the style using the `sk-estimator` class\n",
       "*/\n",
       "\n",
       "/* Pipeline and ColumnTransformer style (default) */\n",
       "\n",
       "#sk-container-id-1 div.sk-toggleable {\n",
       "  /* Default theme specific background. It is overwritten whether we have a\n",
       "  specific estimator or a Pipeline/ColumnTransformer */\n",
       "  background-color: var(--sklearn-color-background);\n",
       "}\n",
       "\n",
       "/* Toggleable label */\n",
       "#sk-container-id-1 label.sk-toggleable__label {\n",
       "  cursor: pointer;\n",
       "  display: block;\n",
       "  width: 100%;\n",
       "  margin-bottom: 0;\n",
       "  padding: 0.5em;\n",
       "  box-sizing: border-box;\n",
       "  text-align: center;\n",
       "}\n",
       "\n",
       "#sk-container-id-1 label.sk-toggleable__label-arrow:before {\n",
       "  /* Arrow on the left of the label */\n",
       "  content: \"▸\";\n",
       "  float: left;\n",
       "  margin-right: 0.25em;\n",
       "  color: var(--sklearn-color-icon);\n",
       "}\n",
       "\n",
       "#sk-container-id-1 label.sk-toggleable__label-arrow:hover:before {\n",
       "  color: var(--sklearn-color-text);\n",
       "}\n",
       "\n",
       "/* Toggleable content - dropdown */\n",
       "\n",
       "#sk-container-id-1 div.sk-toggleable__content {\n",
       "  max-height: 0;\n",
       "  max-width: 0;\n",
       "  overflow: hidden;\n",
       "  text-align: left;\n",
       "  /* unfitted */\n",
       "  background-color: var(--sklearn-color-unfitted-level-0);\n",
       "}\n",
       "\n",
       "#sk-container-id-1 div.sk-toggleable__content.fitted {\n",
       "  /* fitted */\n",
       "  background-color: var(--sklearn-color-fitted-level-0);\n",
       "}\n",
       "\n",
       "#sk-container-id-1 div.sk-toggleable__content pre {\n",
       "  margin: 0.2em;\n",
       "  border-radius: 0.25em;\n",
       "  color: var(--sklearn-color-text);\n",
       "  /* unfitted */\n",
       "  background-color: var(--sklearn-color-unfitted-level-0);\n",
       "}\n",
       "\n",
       "#sk-container-id-1 div.sk-toggleable__content.fitted pre {\n",
       "  /* unfitted */\n",
       "  background-color: var(--sklearn-color-fitted-level-0);\n",
       "}\n",
       "\n",
       "#sk-container-id-1 input.sk-toggleable__control:checked~div.sk-toggleable__content {\n",
       "  /* Expand drop-down */\n",
       "  max-height: 200px;\n",
       "  max-width: 100%;\n",
       "  overflow: auto;\n",
       "}\n",
       "\n",
       "#sk-container-id-1 input.sk-toggleable__control:checked~label.sk-toggleable__label-arrow:before {\n",
       "  content: \"▾\";\n",
       "}\n",
       "\n",
       "/* Pipeline/ColumnTransformer-specific style */\n",
       "\n",
       "#sk-container-id-1 div.sk-label input.sk-toggleable__control:checked~label.sk-toggleable__label {\n",
       "  color: var(--sklearn-color-text);\n",
       "  background-color: var(--sklearn-color-unfitted-level-2);\n",
       "}\n",
       "\n",
       "#sk-container-id-1 div.sk-label.fitted input.sk-toggleable__control:checked~label.sk-toggleable__label {\n",
       "  background-color: var(--sklearn-color-fitted-level-2);\n",
       "}\n",
       "\n",
       "/* Estimator-specific style */\n",
       "\n",
       "/* Colorize estimator box */\n",
       "#sk-container-id-1 div.sk-estimator input.sk-toggleable__control:checked~label.sk-toggleable__label {\n",
       "  /* unfitted */\n",
       "  background-color: var(--sklearn-color-unfitted-level-2);\n",
       "}\n",
       "\n",
       "#sk-container-id-1 div.sk-estimator.fitted input.sk-toggleable__control:checked~label.sk-toggleable__label {\n",
       "  /* fitted */\n",
       "  background-color: var(--sklearn-color-fitted-level-2);\n",
       "}\n",
       "\n",
       "#sk-container-id-1 div.sk-label label.sk-toggleable__label,\n",
       "#sk-container-id-1 div.sk-label label {\n",
       "  /* The background is the default theme color */\n",
       "  color: var(--sklearn-color-text-on-default-background);\n",
       "}\n",
       "\n",
       "/* On hover, darken the color of the background */\n",
       "#sk-container-id-1 div.sk-label:hover label.sk-toggleable__label {\n",
       "  color: var(--sklearn-color-text);\n",
       "  background-color: var(--sklearn-color-unfitted-level-2);\n",
       "}\n",
       "\n",
       "/* Label box, darken color on hover, fitted */\n",
       "#sk-container-id-1 div.sk-label.fitted:hover label.sk-toggleable__label.fitted {\n",
       "  color: var(--sklearn-color-text);\n",
       "  background-color: var(--sklearn-color-fitted-level-2);\n",
       "}\n",
       "\n",
       "/* Estimator label */\n",
       "\n",
       "#sk-container-id-1 div.sk-label label {\n",
       "  font-family: monospace;\n",
       "  font-weight: bold;\n",
       "  display: inline-block;\n",
       "  line-height: 1.2em;\n",
       "}\n",
       "\n",
       "#sk-container-id-1 div.sk-label-container {\n",
       "  text-align: center;\n",
       "}\n",
       "\n",
       "/* Estimator-specific */\n",
       "#sk-container-id-1 div.sk-estimator {\n",
       "  font-family: monospace;\n",
       "  border: 1px dotted var(--sklearn-color-border-box);\n",
       "  border-radius: 0.25em;\n",
       "  box-sizing: border-box;\n",
       "  margin-bottom: 0.5em;\n",
       "  /* unfitted */\n",
       "  background-color: var(--sklearn-color-unfitted-level-0);\n",
       "}\n",
       "\n",
       "#sk-container-id-1 div.sk-estimator.fitted {\n",
       "  /* fitted */\n",
       "  background-color: var(--sklearn-color-fitted-level-0);\n",
       "}\n",
       "\n",
       "/* on hover */\n",
       "#sk-container-id-1 div.sk-estimator:hover {\n",
       "  /* unfitted */\n",
       "  background-color: var(--sklearn-color-unfitted-level-2);\n",
       "}\n",
       "\n",
       "#sk-container-id-1 div.sk-estimator.fitted:hover {\n",
       "  /* fitted */\n",
       "  background-color: var(--sklearn-color-fitted-level-2);\n",
       "}\n",
       "\n",
       "/* Specification for estimator info (e.g. \"i\" and \"?\") */\n",
       "\n",
       "/* Common style for \"i\" and \"?\" */\n",
       "\n",
       ".sk-estimator-doc-link,\n",
       "a:link.sk-estimator-doc-link,\n",
       "a:visited.sk-estimator-doc-link {\n",
       "  float: right;\n",
       "  font-size: smaller;\n",
       "  line-height: 1em;\n",
       "  font-family: monospace;\n",
       "  background-color: var(--sklearn-color-background);\n",
       "  border-radius: 1em;\n",
       "  height: 1em;\n",
       "  width: 1em;\n",
       "  text-decoration: none !important;\n",
       "  margin-left: 1ex;\n",
       "  /* unfitted */\n",
       "  border: var(--sklearn-color-unfitted-level-1) 1pt solid;\n",
       "  color: var(--sklearn-color-unfitted-level-1);\n",
       "}\n",
       "\n",
       ".sk-estimator-doc-link.fitted,\n",
       "a:link.sk-estimator-doc-link.fitted,\n",
       "a:visited.sk-estimator-doc-link.fitted {\n",
       "  /* fitted */\n",
       "  border: var(--sklearn-color-fitted-level-1) 1pt solid;\n",
       "  color: var(--sklearn-color-fitted-level-1);\n",
       "}\n",
       "\n",
       "/* On hover */\n",
       "div.sk-estimator:hover .sk-estimator-doc-link:hover,\n",
       ".sk-estimator-doc-link:hover,\n",
       "div.sk-label-container:hover .sk-estimator-doc-link:hover,\n",
       ".sk-estimator-doc-link:hover {\n",
       "  /* unfitted */\n",
       "  background-color: var(--sklearn-color-unfitted-level-3);\n",
       "  color: var(--sklearn-color-background);\n",
       "  text-decoration: none;\n",
       "}\n",
       "\n",
       "div.sk-estimator.fitted:hover .sk-estimator-doc-link.fitted:hover,\n",
       ".sk-estimator-doc-link.fitted:hover,\n",
       "div.sk-label-container:hover .sk-estimator-doc-link.fitted:hover,\n",
       ".sk-estimator-doc-link.fitted:hover {\n",
       "  /* fitted */\n",
       "  background-color: var(--sklearn-color-fitted-level-3);\n",
       "  color: var(--sklearn-color-background);\n",
       "  text-decoration: none;\n",
       "}\n",
       "\n",
       "/* Span, style for the box shown on hovering the info icon */\n",
       ".sk-estimator-doc-link span {\n",
       "  display: none;\n",
       "  z-index: 9999;\n",
       "  position: relative;\n",
       "  font-weight: normal;\n",
       "  right: .2ex;\n",
       "  padding: .5ex;\n",
       "  margin: .5ex;\n",
       "  width: min-content;\n",
       "  min-width: 20ex;\n",
       "  max-width: 50ex;\n",
       "  color: var(--sklearn-color-text);\n",
       "  box-shadow: 2pt 2pt 4pt #999;\n",
       "  /* unfitted */\n",
       "  background: var(--sklearn-color-unfitted-level-0);\n",
       "  border: .5pt solid var(--sklearn-color-unfitted-level-3);\n",
       "}\n",
       "\n",
       ".sk-estimator-doc-link.fitted span {\n",
       "  /* fitted */\n",
       "  background: var(--sklearn-color-fitted-level-0);\n",
       "  border: var(--sklearn-color-fitted-level-3);\n",
       "}\n",
       "\n",
       ".sk-estimator-doc-link:hover span {\n",
       "  display: block;\n",
       "}\n",
       "\n",
       "/* \"?\"-specific style due to the `<a>` HTML tag */\n",
       "\n",
       "#sk-container-id-1 a.estimator_doc_link {\n",
       "  float: right;\n",
       "  font-size: 1rem;\n",
       "  line-height: 1em;\n",
       "  font-family: monospace;\n",
       "  background-color: var(--sklearn-color-background);\n",
       "  border-radius: 1rem;\n",
       "  height: 1rem;\n",
       "  width: 1rem;\n",
       "  text-decoration: none;\n",
       "  /* unfitted */\n",
       "  color: var(--sklearn-color-unfitted-level-1);\n",
       "  border: var(--sklearn-color-unfitted-level-1) 1pt solid;\n",
       "}\n",
       "\n",
       "#sk-container-id-1 a.estimator_doc_link.fitted {\n",
       "  /* fitted */\n",
       "  border: var(--sklearn-color-fitted-level-1) 1pt solid;\n",
       "  color: var(--sklearn-color-fitted-level-1);\n",
       "}\n",
       "\n",
       "/* On hover */\n",
       "#sk-container-id-1 a.estimator_doc_link:hover {\n",
       "  /* unfitted */\n",
       "  background-color: var(--sklearn-color-unfitted-level-3);\n",
       "  color: var(--sklearn-color-background);\n",
       "  text-decoration: none;\n",
       "}\n",
       "\n",
       "#sk-container-id-1 a.estimator_doc_link.fitted:hover {\n",
       "  /* fitted */\n",
       "  background-color: var(--sklearn-color-fitted-level-3);\n",
       "}\n",
       "</style><div id=\"sk-container-id-1\" class=\"sk-top-container\"><div class=\"sk-text-repr-fallback\"><pre>RandomForestClassifier()</pre><b>In a Jupyter environment, please rerun this cell to show the HTML representation or trust the notebook. <br />On GitHub, the HTML representation is unable to render, please try loading this page with nbviewer.org.</b></div><div class=\"sk-container\" hidden><div class=\"sk-item\"><div class=\"sk-estimator fitted sk-toggleable\"><input class=\"sk-toggleable__control sk-hidden--visually\" id=\"sk-estimator-id-1\" type=\"checkbox\" checked><label for=\"sk-estimator-id-1\" class=\"sk-toggleable__label fitted sk-toggleable__label-arrow fitted\">&nbsp;&nbsp;RandomForestClassifier<a class=\"sk-estimator-doc-link fitted\" rel=\"noreferrer\" target=\"_blank\" href=\"https://scikit-learn.org/1.5/modules/generated/sklearn.ensemble.RandomForestClassifier.html\">?<span>Documentation for RandomForestClassifier</span></a><span class=\"sk-estimator-doc-link fitted\">i<span>Fitted</span></span></label><div class=\"sk-toggleable__content fitted\"><pre>RandomForestClassifier()</pre></div> </div></div></div></div>"
      ],
      "text/plain": [
       "RandomForestClassifier()"
      ]
     },
     "execution_count": 142,
     "metadata": {},
     "output_type": "execute_result"
    }
   ],
   "source": [
    "model.fit(x_train, y_train)"
   ]
  },
  {
   "cell_type": "code",
   "execution_count": 143,
   "id": "0718a6ae",
   "metadata": {},
   "outputs": [],
   "source": [
    "# Prediction\n",
    "y_pred = model.predict(x_test)\n"
   ]
  },
  {
   "cell_type": "code",
   "execution_count": 147,
   "id": "18116b13",
   "metadata": {},
   "outputs": [
    {
     "name": "stdout",
     "output_type": "stream",
     "text": [
      "Accuracy: 0.9977298524404086\n",
      "\n",
      "Confusion Matrix:\n",
      " [[1836    2]\n",
      " [   4  801]]\n",
      "\n",
      "Classification Report:\n",
      "               precision    recall  f1-score   support\n",
      "\n",
      "           0       1.00      1.00      1.00      1838\n",
      "           1       1.00      1.00      1.00       805\n",
      "\n",
      "    accuracy                           1.00      2643\n",
      "   macro avg       1.00      1.00      1.00      2643\n",
      "weighted avg       1.00      1.00      1.00      2643\n",
      "\n"
     ]
    }
   ],
   "source": [
    "from sklearn.metrics import accuracy_score,confusion_matrix, classification_report\n",
    "print(\"Accuracy:\", accuracy_score(y_test, y_pred))\n",
    "print(\"\\nConfusion Matrix:\\n\", confusion_matrix(y_test, y_pred))\n",
    "print(\"\\nClassification Report:\\n\", classification_report(y_test, y_pred))\n"
   ]
  },
  {
   "cell_type": "code",
   "execution_count": null,
   "id": "42fac976",
   "metadata": {},
   "outputs": [],
   "source": []
  },
  {
   "cell_type": "code",
   "execution_count": 148,
   "id": "1cc4c747",
   "metadata": {},
   "outputs": [
    {
     "data": {
      "text/html": [
       "<div>\n",
       "<style scoped>\n",
       "    .dataframe tbody tr th:only-of-type {\n",
       "        vertical-align: middle;\n",
       "    }\n",
       "\n",
       "    .dataframe tbody tr th {\n",
       "        vertical-align: top;\n",
       "    }\n",
       "\n",
       "    .dataframe thead th {\n",
       "        text-align: right;\n",
       "    }\n",
       "</style>\n",
       "<table border=\"1\" class=\"dataframe\">\n",
       "  <thead>\n",
       "    <tr style=\"text-align: right;\">\n",
       "      <th></th>\n",
       "      <th>show_id</th>\n",
       "      <th>type</th>\n",
       "      <th>title</th>\n",
       "      <th>director</th>\n",
       "      <th>cast</th>\n",
       "      <th>country</th>\n",
       "      <th>date_added</th>\n",
       "      <th>release_year</th>\n",
       "      <th>rating</th>\n",
       "      <th>duration</th>\n",
       "      <th>listed_in</th>\n",
       "      <th>description</th>\n",
       "      <th>y_add</th>\n",
       "      <th>m_add</th>\n",
       "      <th>target_age</th>\n",
       "      <th>country_main</th>\n",
       "      <th>combined</th>\n",
       "    </tr>\n",
       "  </thead>\n",
       "  <tbody>\n",
       "    <tr>\n",
       "      <th>0</th>\n",
       "      <td>s1</td>\n",
       "      <td>Movie</td>\n",
       "      <td>Dick Johnson Is Dead</td>\n",
       "      <td>Kirsten Johnson</td>\n",
       "      <td>David Attenborough</td>\n",
       "      <td>United States</td>\n",
       "      <td>September 25, 2021</td>\n",
       "      <td>2020</td>\n",
       "      <td>PG-13</td>\n",
       "      <td>90 min</td>\n",
       "      <td>Documentaries</td>\n",
       "      <td>As her father nears the end of his life, filmm...</td>\n",
       "      <td>2021</td>\n",
       "      <td>September</td>\n",
       "      <td>Teens</td>\n",
       "      <td>United</td>\n",
       "      <td>dick johnson is dead documentaries as her fath...</td>\n",
       "    </tr>\n",
       "    <tr>\n",
       "      <th>1</th>\n",
       "      <td>s2</td>\n",
       "      <td>TV Show</td>\n",
       "      <td>Blood &amp; Water</td>\n",
       "      <td>Rajiv Chilaka</td>\n",
       "      <td>Ama Qamata, Khosi Ngema, Gail Mabalane, Thaban...</td>\n",
       "      <td>South Africa</td>\n",
       "      <td>September 24, 2021</td>\n",
       "      <td>2021</td>\n",
       "      <td>TV-MA</td>\n",
       "      <td>2 Seasons</td>\n",
       "      <td>International TV Shows, TV Dramas, TV Mysteries</td>\n",
       "      <td>After crossing paths at a party, a Cape Town t...</td>\n",
       "      <td>2021</td>\n",
       "      <td>September</td>\n",
       "      <td>Adults</td>\n",
       "      <td>South</td>\n",
       "      <td>blood &amp; water international tv shows, tv drama...</td>\n",
       "    </tr>\n",
       "    <tr>\n",
       "      <th>2</th>\n",
       "      <td>s3</td>\n",
       "      <td>TV Show</td>\n",
       "      <td>Ganglands</td>\n",
       "      <td>Julien Leclercq</td>\n",
       "      <td>Sami Bouajila, Tracy Gotoas, Samuel Jouy, Nabi...</td>\n",
       "      <td>United States</td>\n",
       "      <td>September 24, 2021</td>\n",
       "      <td>2021</td>\n",
       "      <td>TV-MA</td>\n",
       "      <td>1 Season</td>\n",
       "      <td>Crime TV Shows, International TV Shows, TV Act...</td>\n",
       "      <td>To protect his family from a powerful drug lor...</td>\n",
       "      <td>2021</td>\n",
       "      <td>September</td>\n",
       "      <td>Adults</td>\n",
       "      <td>United</td>\n",
       "      <td>ganglands crime tv shows, international tv sho...</td>\n",
       "    </tr>\n",
       "    <tr>\n",
       "      <th>3</th>\n",
       "      <td>s4</td>\n",
       "      <td>TV Show</td>\n",
       "      <td>Jailbirds New Orleans</td>\n",
       "      <td>Rajiv Chilaka</td>\n",
       "      <td>David Attenborough</td>\n",
       "      <td>United States</td>\n",
       "      <td>September 24, 2021</td>\n",
       "      <td>2021</td>\n",
       "      <td>TV-MA</td>\n",
       "      <td>1 Season</td>\n",
       "      <td>Docuseries, Reality TV</td>\n",
       "      <td>Feuds, flirtations and toilet talk go down amo...</td>\n",
       "      <td>2021</td>\n",
       "      <td>September</td>\n",
       "      <td>Adults</td>\n",
       "      <td>United</td>\n",
       "      <td>jailbirds new orleans docuseries, reality tv f...</td>\n",
       "    </tr>\n",
       "    <tr>\n",
       "      <th>4</th>\n",
       "      <td>s5</td>\n",
       "      <td>TV Show</td>\n",
       "      <td>Kota Factory</td>\n",
       "      <td>Rajiv Chilaka</td>\n",
       "      <td>Mayur More, Jitendra Kumar, Ranjan Raj, Alam K...</td>\n",
       "      <td>India</td>\n",
       "      <td>September 24, 2021</td>\n",
       "      <td>2021</td>\n",
       "      <td>TV-MA</td>\n",
       "      <td>2 Seasons</td>\n",
       "      <td>International TV Shows, Romantic TV Shows, TV ...</td>\n",
       "      <td>In a city of coaching centers known to train I...</td>\n",
       "      <td>2021</td>\n",
       "      <td>September</td>\n",
       "      <td>Adults</td>\n",
       "      <td>India</td>\n",
       "      <td>kota factory international tv shows, romantic ...</td>\n",
       "    </tr>\n",
       "    <tr>\n",
       "      <th>...</th>\n",
       "      <td>...</td>\n",
       "      <td>...</td>\n",
       "      <td>...</td>\n",
       "      <td>...</td>\n",
       "      <td>...</td>\n",
       "      <td>...</td>\n",
       "      <td>...</td>\n",
       "      <td>...</td>\n",
       "      <td>...</td>\n",
       "      <td>...</td>\n",
       "      <td>...</td>\n",
       "      <td>...</td>\n",
       "      <td>...</td>\n",
       "      <td>...</td>\n",
       "      <td>...</td>\n",
       "      <td>...</td>\n",
       "      <td>...</td>\n",
       "    </tr>\n",
       "    <tr>\n",
       "      <th>8802</th>\n",
       "      <td>s8803</td>\n",
       "      <td>Movie</td>\n",
       "      <td>Zodiac</td>\n",
       "      <td>David Fincher</td>\n",
       "      <td>Mark Ruffalo, Jake Gyllenhaal, Robert Downey J...</td>\n",
       "      <td>United States</td>\n",
       "      <td>November 20, 2019</td>\n",
       "      <td>2007</td>\n",
       "      <td>R</td>\n",
       "      <td>158 min</td>\n",
       "      <td>Cult Movies, Dramas, Thrillers</td>\n",
       "      <td>A political cartoonist, a crime reporter and a...</td>\n",
       "      <td>2019</td>\n",
       "      <td>November</td>\n",
       "      <td>Adults</td>\n",
       "      <td>United</td>\n",
       "      <td>zodiac cult movies, dramas, thrillers a politi...</td>\n",
       "    </tr>\n",
       "    <tr>\n",
       "      <th>8803</th>\n",
       "      <td>s8804</td>\n",
       "      <td>TV Show</td>\n",
       "      <td>Zombie Dumb</td>\n",
       "      <td>Rajiv Chilaka</td>\n",
       "      <td>David Attenborough</td>\n",
       "      <td>United States</td>\n",
       "      <td>July 1, 2019</td>\n",
       "      <td>2018</td>\n",
       "      <td>TV-Y7</td>\n",
       "      <td>2 Seasons</td>\n",
       "      <td>Kids' TV, Korean TV Shows, TV Comedies</td>\n",
       "      <td>While living alone in a spooky town, a young g...</td>\n",
       "      <td>2019</td>\n",
       "      <td>July</td>\n",
       "      <td>Older Kids</td>\n",
       "      <td>United</td>\n",
       "      <td>zombie dumb kids' tv, korean tv shows, tv come...</td>\n",
       "    </tr>\n",
       "    <tr>\n",
       "      <th>8804</th>\n",
       "      <td>s8805</td>\n",
       "      <td>Movie</td>\n",
       "      <td>Zombieland</td>\n",
       "      <td>Ruben Fleischer</td>\n",
       "      <td>Jesse Eisenberg, Woody Harrelson, Emma Stone, ...</td>\n",
       "      <td>United States</td>\n",
       "      <td>November 1, 2019</td>\n",
       "      <td>2009</td>\n",
       "      <td>R</td>\n",
       "      <td>88 min</td>\n",
       "      <td>Comedies, Horror Movies</td>\n",
       "      <td>Looking to survive in a world taken over by zo...</td>\n",
       "      <td>2019</td>\n",
       "      <td>November</td>\n",
       "      <td>Adults</td>\n",
       "      <td>United</td>\n",
       "      <td>zombieland comedies, horror movies looking to ...</td>\n",
       "    </tr>\n",
       "    <tr>\n",
       "      <th>8805</th>\n",
       "      <td>s8806</td>\n",
       "      <td>Movie</td>\n",
       "      <td>Zoom</td>\n",
       "      <td>Peter Hewitt</td>\n",
       "      <td>Tim Allen, Courteney Cox, Chevy Chase, Kate Ma...</td>\n",
       "      <td>United States</td>\n",
       "      <td>January 11, 2020</td>\n",
       "      <td>2006</td>\n",
       "      <td>PG</td>\n",
       "      <td>88 min</td>\n",
       "      <td>Children &amp; Family Movies, Comedies</td>\n",
       "      <td>Dragged from civilian life, a former superhero...</td>\n",
       "      <td>2020</td>\n",
       "      <td>January</td>\n",
       "      <td>Older Kids</td>\n",
       "      <td>United</td>\n",
       "      <td>zoom children &amp; family movies, comedies dragge...</td>\n",
       "    </tr>\n",
       "    <tr>\n",
       "      <th>8806</th>\n",
       "      <td>s8807</td>\n",
       "      <td>Movie</td>\n",
       "      <td>Zubaan</td>\n",
       "      <td>Mozez Singh</td>\n",
       "      <td>Vicky Kaushal, Sarah-Jane Dias, Raaghav Chanan...</td>\n",
       "      <td>India</td>\n",
       "      <td>March 2, 2019</td>\n",
       "      <td>2015</td>\n",
       "      <td>TV-14</td>\n",
       "      <td>111 min</td>\n",
       "      <td>Dramas, International Movies, Music &amp; Musicals</td>\n",
       "      <td>A scrappy but poor boy worms his way into a ty...</td>\n",
       "      <td>2019</td>\n",
       "      <td>March</td>\n",
       "      <td>Teens</td>\n",
       "      <td>India</td>\n",
       "      <td>zubaan dramas, international movies, music &amp; m...</td>\n",
       "    </tr>\n",
       "  </tbody>\n",
       "</table>\n",
       "<p>8807 rows × 17 columns</p>\n",
       "</div>"
      ],
      "text/plain": [
       "     show_id     type                  title         director  \\\n",
       "0         s1    Movie   Dick Johnson Is Dead  Kirsten Johnson   \n",
       "1         s2  TV Show          Blood & Water    Rajiv Chilaka   \n",
       "2         s3  TV Show              Ganglands  Julien Leclercq   \n",
       "3         s4  TV Show  Jailbirds New Orleans    Rajiv Chilaka   \n",
       "4         s5  TV Show           Kota Factory    Rajiv Chilaka   \n",
       "...      ...      ...                    ...              ...   \n",
       "8802   s8803    Movie                 Zodiac    David Fincher   \n",
       "8803   s8804  TV Show            Zombie Dumb    Rajiv Chilaka   \n",
       "8804   s8805    Movie             Zombieland  Ruben Fleischer   \n",
       "8805   s8806    Movie                   Zoom     Peter Hewitt   \n",
       "8806   s8807    Movie                 Zubaan      Mozez Singh   \n",
       "\n",
       "                                                   cast        country  \\\n",
       "0                                    David Attenborough  United States   \n",
       "1     Ama Qamata, Khosi Ngema, Gail Mabalane, Thaban...   South Africa   \n",
       "2     Sami Bouajila, Tracy Gotoas, Samuel Jouy, Nabi...  United States   \n",
       "3                                    David Attenborough  United States   \n",
       "4     Mayur More, Jitendra Kumar, Ranjan Raj, Alam K...          India   \n",
       "...                                                 ...            ...   \n",
       "8802  Mark Ruffalo, Jake Gyllenhaal, Robert Downey J...  United States   \n",
       "8803                                 David Attenborough  United States   \n",
       "8804  Jesse Eisenberg, Woody Harrelson, Emma Stone, ...  United States   \n",
       "8805  Tim Allen, Courteney Cox, Chevy Chase, Kate Ma...  United States   \n",
       "8806  Vicky Kaushal, Sarah-Jane Dias, Raaghav Chanan...          India   \n",
       "\n",
       "              date_added  release_year rating   duration  \\\n",
       "0     September 25, 2021          2020  PG-13     90 min   \n",
       "1     September 24, 2021          2021  TV-MA  2 Seasons   \n",
       "2     September 24, 2021          2021  TV-MA   1 Season   \n",
       "3     September 24, 2021          2021  TV-MA   1 Season   \n",
       "4     September 24, 2021          2021  TV-MA  2 Seasons   \n",
       "...                  ...           ...    ...        ...   \n",
       "8802   November 20, 2019          2007      R    158 min   \n",
       "8803        July 1, 2019          2018  TV-Y7  2 Seasons   \n",
       "8804    November 1, 2019          2009      R     88 min   \n",
       "8805    January 11, 2020          2006     PG     88 min   \n",
       "8806       March 2, 2019          2015  TV-14    111 min   \n",
       "\n",
       "                                              listed_in  \\\n",
       "0                                         Documentaries   \n",
       "1       International TV Shows, TV Dramas, TV Mysteries   \n",
       "2     Crime TV Shows, International TV Shows, TV Act...   \n",
       "3                                Docuseries, Reality TV   \n",
       "4     International TV Shows, Romantic TV Shows, TV ...   \n",
       "...                                                 ...   \n",
       "8802                     Cult Movies, Dramas, Thrillers   \n",
       "8803             Kids' TV, Korean TV Shows, TV Comedies   \n",
       "8804                            Comedies, Horror Movies   \n",
       "8805                 Children & Family Movies, Comedies   \n",
       "8806     Dramas, International Movies, Music & Musicals   \n",
       "\n",
       "                                            description y_add      m_add  \\\n",
       "0     As her father nears the end of his life, filmm...  2021  September   \n",
       "1     After crossing paths at a party, a Cape Town t...  2021  September   \n",
       "2     To protect his family from a powerful drug lor...  2021  September   \n",
       "3     Feuds, flirtations and toilet talk go down amo...  2021  September   \n",
       "4     In a city of coaching centers known to train I...  2021  September   \n",
       "...                                                 ...   ...        ...   \n",
       "8802  A political cartoonist, a crime reporter and a...  2019   November   \n",
       "8803  While living alone in a spooky town, a young g...  2019       July   \n",
       "8804  Looking to survive in a world taken over by zo...  2019   November   \n",
       "8805  Dragged from civilian life, a former superhero...  2020    January   \n",
       "8806  A scrappy but poor boy worms his way into a ty...  2019      March   \n",
       "\n",
       "      target_age country_main  \\\n",
       "0          Teens       United   \n",
       "1         Adults        South   \n",
       "2         Adults       United   \n",
       "3         Adults       United   \n",
       "4         Adults        India   \n",
       "...          ...          ...   \n",
       "8802      Adults       United   \n",
       "8803  Older Kids       United   \n",
       "8804      Adults       United   \n",
       "8805  Older Kids       United   \n",
       "8806       Teens        India   \n",
       "\n",
       "                                               combined  \n",
       "0     dick johnson is dead documentaries as her fath...  \n",
       "1     blood & water international tv shows, tv drama...  \n",
       "2     ganglands crime tv shows, international tv sho...  \n",
       "3     jailbirds new orleans docuseries, reality tv f...  \n",
       "4     kota factory international tv shows, romantic ...  \n",
       "...                                                 ...  \n",
       "8802  zodiac cult movies, dramas, thrillers a politi...  \n",
       "8803  zombie dumb kids' tv, korean tv shows, tv come...  \n",
       "8804  zombieland comedies, horror movies looking to ...  \n",
       "8805  zoom children & family movies, comedies dragge...  \n",
       "8806  zubaan dramas, international movies, music & m...  \n",
       "\n",
       "[8807 rows x 17 columns]"
      ]
     },
     "execution_count": 148,
     "metadata": {},
     "output_type": "execute_result"
    }
   ],
   "source": [
    "df"
   ]
  },
  {
   "cell_type": "markdown",
   "id": "4f384269",
   "metadata": {},
   "source": [
    " - Features: Release Year, Duration, Country, Rating.\n",
    "\n",
    " - ML Model: RandomForestClassifie\n",
    " - Accuracy Achieved: 99.77% (0.9977)\n",
    "\n",
    " - # insight :\n",
    "  Near-perfect Accuracy: \n",
    "\n",
    " - The model correctly predicted almost every instance in the test set, with only 6 misclassifications out of 2,643 samples.\n",
    " \n",
    "- Balanced Performance: Both classes (\"0\" and \"1\") achieved extremely high precision, recall, and F1-score, indicating no significant bias or imbalance.\n",
    "\n",
    "- Minimal Errors: Only 2 false positives (actual 0, predicted 1) and 4 false negatives (actual 1, predicted 0), which are negligible compared to overall sample size.\n",
    "\n",
    "Robust Generalization: The consistency between class metrics shows that the model generalizes well and doesn’t simply favor the majority class.\n",
    "\n",
    "- # Conclusion\n",
    "\n",
    "- Outstanding Model Effectiveness: With nearly 100% accuracy and consistently perfect metrics across both classes, the machine learning model demonstrates exceptional predictive power for this dataset.\n",
    "\n",
    "- Practical Readiness: Such high performance implies the model is ready for real-world deployment, assuming no data leakage or overfitting is present.\n",
    "\n",
    "- Deployment-Ready: The model’s outstanding accuracy and clean metrics strongly support use in production, provided testing on new, real-world data continues.\n",
    "\n",
    "- Very Low Risk: Business or analytic decisions made on this model’s output are highly reliable given the minimal error rates.\n",
    "\n",
    "- Recommended Actions: Conduct regular monitoring, consider external validation, and revisit data quality to maintain such strong results."
   ]
  },
  {
   "cell_type": "code",
   "execution_count": null,
   "id": "ab5ebfbc",
   "metadata": {},
   "outputs": [],
   "source": []
  }
 ],
 "metadata": {
  "kernelspec": {
   "display_name": "base",
   "language": "python",
   "name": "python3"
  },
  "language_info": {
   "codemirror_mode": {
    "name": "ipython",
    "version": 3
   },
   "file_extension": ".py",
   "mimetype": "text/x-python",
   "name": "python",
   "nbconvert_exporter": "python",
   "pygments_lexer": "ipython3",
   "version": "3.12.7"
  }
 },
 "nbformat": 4,
 "nbformat_minor": 5
}
